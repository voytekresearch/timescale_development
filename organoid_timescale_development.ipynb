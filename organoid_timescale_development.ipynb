{
 "cells": [
  {
   "cell_type": "markdown",
   "metadata": {},
   "source": [
    "# Setup"
   ]
  },
  {
   "cell_type": "code",
   "execution_count": 3,
   "metadata": {},
   "outputs": [
    {
     "ename": "AttributeError",
     "evalue": "module 'pandas' has no attribute '__version__'",
     "output_type": "error",
     "traceback": [
      "\u001b[0;31m---------------------------------------------------------------------------\u001b[0m",
      "\u001b[0;31mAttributeError\u001b[0m                            Traceback (most recent call last)",
      "Cell \u001b[0;32mIn[3], line 17\u001b[0m\n\u001b[1;32m     15\u001b[0m \u001b[38;5;28;01mfrom\u001b[39;00m \u001b[38;5;21;01mtqdm\u001b[39;00m\u001b[38;5;21;01m.\u001b[39;00m\u001b[38;5;21;01mnotebook\u001b[39;00m \u001b[38;5;28;01mimport\u001b[39;00m tqdm\n\u001b[1;32m     16\u001b[0m \u001b[38;5;28;01mfrom\u001b[39;00m \u001b[38;5;21;01mneurodsp\u001b[39;00m\u001b[38;5;21;01m.\u001b[39;00m\u001b[38;5;21;01mspectral\u001b[39;00m \u001b[38;5;28;01mimport\u001b[39;00m compute_spectrum\n\u001b[0;32m---> 17\u001b[0m \u001b[38;5;28;01mfrom\u001b[39;00m \u001b[38;5;21;01mtimescales\u001b[39;00m\u001b[38;5;21;01m.\u001b[39;00m\u001b[38;5;21;01mautoreg\u001b[39;00m \u001b[38;5;28;01mimport\u001b[39;00m compute_ar_spectrum\n\u001b[1;32m     18\u001b[0m \u001b[38;5;28;01mfrom\u001b[39;00m \u001b[38;5;21;01mtimescales\u001b[39;00m\u001b[38;5;21;01m.\u001b[39;00m\u001b[38;5;21;01mfit\u001b[39;00m \u001b[38;5;28;01mimport\u001b[39;00m PSD, ACF\n\u001b[1;32m     19\u001b[0m \u001b[38;5;28;01mfrom\u001b[39;00m \u001b[38;5;21;01mndspflow\u001b[39;00m\u001b[38;5;21;01m.\u001b[39;00m\u001b[38;5;21;01mworkflows\u001b[39;00m \u001b[38;5;28;01mimport\u001b[39;00m WorkFlow\n",
      "File \u001b[0;32m~/Desktop/Voytek_Lab/timescales/timescale-methods/timescales/autoreg/__init__.py:1\u001b[0m\n\u001b[0;32m----> 1\u001b[0m \u001b[38;5;28;01mfrom\u001b[39;00m \u001b[38;5;21;01m.\u001b[39;00m\u001b[38;5;21;01mspectral\u001b[39;00m \u001b[38;5;28;01mimport\u001b[39;00m compute_ar_spectrum\n",
      "File \u001b[0;32m~/Desktop/Voytek_Lab/timescales/timescale-methods/timescales/autoreg/spectral.py:10\u001b[0m\n\u001b[1;32m      7\u001b[0m \u001b[38;5;28;01mimport\u001b[39;00m \u001b[38;5;21;01mnumpy\u001b[39;00m \u001b[38;5;28;01mas\u001b[39;00m \u001b[38;5;21;01mnp\u001b[39;00m\n\u001b[1;32m      8\u001b[0m \u001b[38;5;28;01mfrom\u001b[39;00m \u001b[38;5;21;01mscipy\u001b[39;00m\u001b[38;5;21;01m.\u001b[39;00m\u001b[38;5;21;01mfft\u001b[39;00m \u001b[38;5;28;01mimport\u001b[39;00m fftfreq\n\u001b[0;32m---> 10\u001b[0m \u001b[38;5;28;01mfrom\u001b[39;00m \u001b[38;5;21;01mstatsmodels\u001b[39;00m\u001b[38;5;21;01m.\u001b[39;00m\u001b[38;5;21;01mregression\u001b[39;00m\u001b[38;5;21;01m.\u001b[39;00m\u001b[38;5;21;01mlinear_model\u001b[39;00m \u001b[38;5;28;01mimport\u001b[39;00m yule_walker, burg\n\u001b[1;32m     11\u001b[0m \u001b[38;5;28;01mfrom\u001b[39;00m \u001b[38;5;21;01mspectrum\u001b[39;00m \u001b[38;5;28;01mimport\u001b[39;00m arma2psd\n\u001b[1;32m     14\u001b[0m \u001b[38;5;28;01mdef\u001b[39;00m \u001b[38;5;21mcompute_ar_spectrum\u001b[39m(sig, fs, order, f_range\u001b[38;5;241m=\u001b[39m\u001b[38;5;28;01mNone\u001b[39;00m, method\u001b[38;5;241m=\u001b[39m\u001b[38;5;124m'\u001b[39m\u001b[38;5;124mburg\u001b[39m\u001b[38;5;124m'\u001b[39m, nfft\u001b[38;5;241m=\u001b[39m\u001b[38;5;241m4096\u001b[39m, n_jobs\u001b[38;5;241m=\u001b[39m\u001b[38;5;241m1\u001b[39m):\n",
      "File \u001b[0;32m~/opt/anaconda3/lib/python3.9/site-packages/statsmodels/regression/__init__.py:1\u001b[0m\n\u001b[0;32m----> 1\u001b[0m \u001b[38;5;28;01mfrom\u001b[39;00m \u001b[38;5;21;01m.\u001b[39;00m\u001b[38;5;21;01mlinear_model\u001b[39;00m \u001b[38;5;28;01mimport\u001b[39;00m yule_walker\n\u001b[1;32m      3\u001b[0m \u001b[38;5;28;01mfrom\u001b[39;00m \u001b[38;5;21;01mstatsmodels\u001b[39;00m\u001b[38;5;21;01m.\u001b[39;00m\u001b[38;5;21;01mtools\u001b[39;00m\u001b[38;5;21;01m.\u001b[39;00m\u001b[38;5;21;01m_testing\u001b[39;00m \u001b[38;5;28;01mimport\u001b[39;00m PytestTester\n\u001b[1;32m      5\u001b[0m __all__ \u001b[38;5;241m=\u001b[39m [\u001b[38;5;124m'\u001b[39m\u001b[38;5;124myule_walker\u001b[39m\u001b[38;5;124m'\u001b[39m, \u001b[38;5;124m'\u001b[39m\u001b[38;5;124mtest\u001b[39m\u001b[38;5;124m'\u001b[39m]\n",
      "File \u001b[0;32m~/opt/anaconda3/lib/python3.9/site-packages/statsmodels/regression/linear_model.py:35\u001b[0m\n\u001b[1;32m      6\u001b[0m \u001b[38;5;124;03m\"\"\"\u001b[39;00m\n\u001b[1;32m      7\u001b[0m \u001b[38;5;124;03mThis module implements standard regression models:\u001b[39;00m\n\u001b[1;32m      8\u001b[0m \n\u001b[0;32m   (...)\u001b[0m\n\u001b[1;32m     31\u001b[0m \u001b[38;5;124;03mW. Green.  \"Econometric Analysis,\" 5th ed., Pearson, 2003.\u001b[39;00m\n\u001b[1;32m     32\u001b[0m \u001b[38;5;124;03m\"\"\"\u001b[39;00m\n\u001b[1;32m     33\u001b[0m \u001b[38;5;28;01mfrom\u001b[39;00m \u001b[38;5;21;01m__future__\u001b[39;00m \u001b[38;5;28;01mimport\u001b[39;00m annotations\n\u001b[0;32m---> 35\u001b[0m \u001b[38;5;28;01mfrom\u001b[39;00m \u001b[38;5;21;01mstatsmodels\u001b[39;00m\u001b[38;5;21;01m.\u001b[39;00m\u001b[38;5;21;01mcompat\u001b[39;00m\u001b[38;5;21;01m.\u001b[39;00m\u001b[38;5;21;01mpandas\u001b[39;00m \u001b[38;5;28;01mimport\u001b[39;00m Appender\n\u001b[1;32m     36\u001b[0m \u001b[38;5;28;01mfrom\u001b[39;00m \u001b[38;5;21;01mstatsmodels\u001b[39;00m\u001b[38;5;21;01m.\u001b[39;00m\u001b[38;5;21;01mcompat\u001b[39;00m\u001b[38;5;21;01m.\u001b[39;00m\u001b[38;5;21;01mpython\u001b[39;00m \u001b[38;5;28;01mimport\u001b[39;00m Literal, lrange, lzip\n\u001b[1;32m     38\u001b[0m \u001b[38;5;28;01mfrom\u001b[39;00m \u001b[38;5;21;01mtyping\u001b[39;00m \u001b[38;5;28;01mimport\u001b[39;00m Sequence\n",
      "File \u001b[0;32m~/opt/anaconda3/lib/python3.9/site-packages/statsmodels/compat/pandas.py:36\u001b[0m\n\u001b[1;32m      6\u001b[0m \u001b[38;5;28;01mfrom\u001b[39;00m \u001b[38;5;21;01mpandas\u001b[39;00m\u001b[38;5;21;01m.\u001b[39;00m\u001b[38;5;21;01mutil\u001b[39;00m\u001b[38;5;21;01m.\u001b[39;00m\u001b[38;5;21;01m_decorators\u001b[39;00m \u001b[38;5;28;01mimport\u001b[39;00m (\n\u001b[1;32m      7\u001b[0m     Appender,\n\u001b[1;32m      8\u001b[0m     Substitution,\n\u001b[1;32m      9\u001b[0m     cache_readonly,\n\u001b[1;32m     10\u001b[0m     deprecate_kwarg,\n\u001b[1;32m     11\u001b[0m )\n\u001b[1;32m     13\u001b[0m __all__ \u001b[38;5;241m=\u001b[39m [\n\u001b[1;32m     14\u001b[0m     \u001b[38;5;124m\"\u001b[39m\u001b[38;5;124massert_frame_equal\u001b[39m\u001b[38;5;124m\"\u001b[39m,\n\u001b[1;32m     15\u001b[0m     \u001b[38;5;124m\"\u001b[39m\u001b[38;5;124massert_index_equal\u001b[39m\u001b[38;5;124m\"\u001b[39m,\n\u001b[0;32m   (...)\u001b[0m\n\u001b[1;32m     33\u001b[0m     \u001b[38;5;124m\"\u001b[39m\u001b[38;5;124mPD_LT_1_4\u001b[39m\u001b[38;5;124m\"\u001b[39m,\n\u001b[1;32m     34\u001b[0m ]\n\u001b[0;32m---> 36\u001b[0m version \u001b[38;5;241m=\u001b[39m parse(\u001b[43mpd\u001b[49m\u001b[38;5;241;43m.\u001b[39;49m\u001b[43m__version__\u001b[49m)\n\u001b[1;32m     38\u001b[0m PD_LT_1_0_0 \u001b[38;5;241m=\u001b[39m version \u001b[38;5;241m<\u001b[39m Version(\u001b[38;5;124m\"\u001b[39m\u001b[38;5;124m1.0.0\u001b[39m\u001b[38;5;124m\"\u001b[39m)\n\u001b[1;32m     39\u001b[0m PD_LT_1_4 \u001b[38;5;241m=\u001b[39m version \u001b[38;5;241m<\u001b[39m Version(\u001b[38;5;124m\"\u001b[39m\u001b[38;5;124m1.3.99\u001b[39m\u001b[38;5;124m\"\u001b[39m)\n",
      "\u001b[0;31mAttributeError\u001b[0m: module 'pandas' has no attribute '__version__'"
     ]
    }
   ],
   "source": [
    "# %load_ext autoreload ##### autoreload conflicts with workflow\n",
    "# %autoreload 2\n",
    "import warnings\n",
    "warnings.filterwarnings('once')\n",
    "warnings.filterwarnings(\"ignore\", category=DeprecationWarning)\n",
    "import os\n",
    "import numpy as np\n",
    "import pandas as pd\n",
    "from scipy.stats import zscore, pearsonr, spearmanr\n",
    "from scipy.optimize import curve_fit\n",
    "import matplotlib.pyplot as plt\n",
    "from datetime import datetime\n",
    "import pickle\n",
    "import hdf5storage\n",
    "from tqdm.notebook import tqdm\n",
    "from neurodsp.spectral import compute_spectrum\n",
    "from timescales.autoreg import compute_ar_spectrum\n",
    "from timescales.fit import PSD, ACF\n",
    "from ndspflow.workflows import WorkFlow\n",
    "import timescale_development_hf as hf"
   ]
  },
  {
   "cell_type": "code",
   "execution_count": null,
   "metadata": {},
   "outputs": [],
   "source": [
    "def h_line(x_data, b):\n",
    "    y = [b]*len(x_data)\n",
    "    return y\n",
    "\n",
    "\n",
    "def sf(x,amplitude,offset,gain,midpoint):\n",
    "    return amplitude / (1 + np.exp((-gain * x) - midpoint)) + offset\n",
    "\n",
    "\n",
    "def gaus(x,a,x0,sigma,c):\n",
    "    return a*np.exp(-(x-x0)**2/(2*sigma**2)) + c\n",
    "\n",
    "\n",
    "def fig2_timescales(time, timescales, fit_method = None, sig_func_type=sf, guess_h1=None, guess_h2=None, top_axis=False):\n",
    "    sorted_index = np.argsort(time)\n",
    "    time = time[np.argsort(time)]\n",
    "    timescales = timescales[sorted_index]\n",
    "    \n",
    "    # plot data points\n",
    "    plt.figure(figsize=(6,5))\n",
    "    plt.plot(time, timescales,'.',color=\"dimgrey\")\n",
    "    plt.xticks(size=13)\n",
    "    plt.yticks(size=13)\n",
    "    \n",
    "    # fit straight line model - yellow\n",
    "    guess_h0 = np.mean(timescales)\n",
    "    params_h0,_ = curve_fit(h_line,time,timescales,method=fit_method,p0=guess_h0)\n",
    "    y_h0 = h_line(time, params_h0)\n",
    "    plt.plot(time,y_h0,'-.',color='#FDAE61',linewidth=5,dashes=(5,2))\n",
    "    \n",
    "    # fit sigmoid model - blue\n",
    "    params_h1,_ = curve_fit(sig_func_type,time,timescales,method=fit_method,p0=guess_h1,maxfev = 10000)\n",
    "    y_h1 = sig_func_type(time, *params_h1)\n",
    "    plt.plot(time,y_h1,'-.',color='#2D7BB6',linewidth=5,dashes=(4,2))\n",
    "    \n",
    "    # fit inverted u gaussian model - red\n",
    "    params_h2,_ = curve_fit(gaus,time,timescales,method=fit_method,p0=guess_h2,bounds=((0,min(time),-np.inf,-np.inf),(1,max(time),np.inf,np.inf)))\n",
    "    y_h2 = gaus(time,*params_h2)\n",
    "    plt.plot(time,y_h2,'-.',color='#D7191D',linewidth=5,dashes=(2,2))\n",
    "    \n",
    "    \n",
    "    months = ['3.3', '4.1', '4.9', '5.8','6.6','7.4','8.2','9.0']\n",
    "    \n",
    "    locs, labels = plt.xticks()\n",
    "    print(locs)\n",
    "    labels = months\n",
    "    plt.xticks(locs[1:-1], labels) \n",
    "    \n",
    "    return [params_h0, params_h1, params_h2]"
   ]
  },
  {
   "cell_type": "code",
   "execution_count": null,
   "metadata": {},
   "outputs": [],
   "source": [
    "# data directory\n",
    "data_dir = '/Users/trevormcpherson/Desktop/PhD/Voytek/Organoids/organoidData/CTC/'\n",
    "#'/Users/blancamartin/Desktop/Voytek_Lab/timescales/organoid_data/CTC_data/'\n",
    "\n",
    "# file type, constant, for each recording there is a directory that is the name of the recording, and then this file name within it\n",
    "file_type = 'LFP_Sp.mat'\n",
    "\n",
    "# all recording folders have this string in their name\n",
    "recording_string = 'CTC'\n",
    "\n",
    "# string to screen out drug manipulation recordings\n",
    "drug_recording_string = 'Drugs'\n",
    "\n",
    "# get recording directories\n",
    "recording_directories = os.listdir(data_dir)\n",
    "\n",
    "# only keep recording directories\n",
    "recording_directories = [s for s in recording_directories if (recording_string in s) & (drug_recording_string not in s)]\n",
    "\n",
    "# number of recordings\n",
    "n_recordings = len(recording_directories)\n",
    "\n",
    "# total number of wells\n",
    "total_n_wells = 12\n",
    "\n",
    "# no data in first 4 wells, if not specifying specific ones to analyze, skip these first 4\n",
    "wells_to_skip = 4\n",
    "\n",
    "# number of wells\n",
    "n_wells = total_n_wells - wells_to_skip\n",
    "\n",
    "# number of channels\n",
    "n_channels = 64\n",
    "\n",
    "# spike recording sample rate\n",
    "spike_sample_rate = 12500 # samp per sec\n",
    "\n",
    "# length of time bins using to separate spikes (seconds)\n",
    "bin_length = 0.05\n",
    "\n",
    "# binned data sample rate\n",
    "bin_sample_rate = 1 / bin_length\n",
    "\n",
    "# bin length in ms\n",
    "bin_length_ms = int(bin_length * 1000)\n",
    "\n",
    "# param for determining network spiking events, floor division of the maximum spikes found in a bin by this number\n",
    "max_spike_floor_division = 2\n",
    "\n",
    "# analysis window kernel (seconds, total of 3)\n",
    "kernel_window_sec = [-0.5,2.5]\n",
    "\n",
    "# length of kernel window\n",
    "kernel_window_length = np.abs(kernel_window_sec[0]) + kernel_window_sec[1]\n",
    "\n",
    "# convert to bins\n",
    "kernel_window_idx = np.divide(kernel_window_sec,bin_length).astype(int)\n",
    "\n",
    "num_bins_kernel = np.abs(kernel_window_idx[0]) + kernel_window_idx[1]\n",
    "# get sequential times of bins in kernel\n",
    "\n",
    "kernel_times = np.linspace(0,kernel_window_length,num_bins_kernel)\n",
    "\n",
    "# day for organoid differentation as a time object\n",
    "day_diff = datetime.strptime(\"081116\",'%m%d%y')\n",
    "\n",
    "# AR spectrum calculation order\n",
    "ar_spec_order = [3] # [1,2,3,4,5]\n",
    "\n",
    "# spike threshold (in step 3)\n",
    "skp_thresh = 0 # remove electrodes with less than 200 spikes\n",
    "\n",
    "# Analysis date\n",
    "date_str = datetime.now().strftime('%Y-%m-%d_%H%M')\n",
    "print(date_str)"
   ]
  },
  {
   "cell_type": "code",
   "execution_count": null,
   "metadata": {},
   "outputs": [],
   "source": [
    "# Update this with anaysis date printed from previous cell to save out a new version of the results\n",
    "# or load a previously run version later in the script if visualizing\n",
    "date_str = '2023-08-14_1423'# 2023-07-26_1521_double 2023-04-14_1050 2023-02-23_1019 2023-02-03_1012"
   ]
  },
  {
   "cell_type": "code",
   "execution_count": null,
   "metadata": {},
   "outputs": [],
   "source": [
    "work_flow_dir = '/Users/trevormcpherson/Desktop/PhD/Voytek/Organoids/work_flow_analysis/'\n",
    "metadata_file = work_flow_dir + 'organoid_metadata.pkl'\n",
    "kernel_bins_all_recordings_file = work_flow_dir + 'kernel_bins_all_recordings.pkl'\n",
    "metadata_clean_file = work_flow_dir + 'organoid_metadata_clean.pkl'\n",
    "\n",
    "fit_method = 'fooof' # fooof huber\n",
    "workflow_file = work_flow_dir + 'workflow_run_' + fit_method + '_' + date_str + '.pkl'\n",
    "workflow_file"
   ]
  },
  {
   "cell_type": "markdown",
   "metadata": {},
   "source": [
    "# Processing"
   ]
  },
  {
   "cell_type": "markdown",
   "metadata": {},
   "source": [
    "## Step 1: Collect meta data"
   ]
  },
  {
   "cell_type": "code",
   "execution_count": null,
   "metadata": {},
   "outputs": [],
   "source": [
    "# metadata column labels\n",
    "metadata_column_labels = ['recording','day_postdiff','well','channel']\n",
    "# initialise metadata dataframe\n",
    "organoid_metadata = pd.DataFrame(columns=metadata_column_labels, dtype=object)\n",
    "\n",
    "# loop through recordings\n",
    "for this_recording_directory in recording_directories:\n",
    "    # get date string\n",
    "    date_string = this_recording_directory[4:10]\n",
    "    \n",
    "    # convert to date time object\n",
    "    date_object = datetime.strptime(date_string,'%m%d%y')\n",
    "    \n",
    "    #convert data time object to days post differentiation\n",
    "    dfdf = hf.get_dpdf(date_object, day_diff)\n",
    "\n",
    "    # loop through wells\n",
    "    for well_i in range(n_wells):\n",
    "        # loop through channels\n",
    "        for channel_i in range(n_channels):\n",
    "            # build row for matadata dataframe\n",
    "            df_row_list = [date_object, dfdf ,well_i,channel_i]\n",
    "            df_row = pd.DataFrame([df_row_list], columns=metadata_column_labels)\n",
    "            # add row to dataframe\n",
    "            organoid_metadata = pd.concat([organoid_metadata, df_row])"
   ]
  },
  {
   "cell_type": "code",
   "execution_count": null,
   "metadata": {},
   "outputs": [],
   "source": [
    "with open(metadata_file, 'wb') as f:\n",
    "    pickle.dump(organoid_metadata, f)"
   ]
  },
  {
   "cell_type": "code",
   "execution_count": null,
   "metadata": {},
   "outputs": [],
   "source": [
    "with open(metadata_file, 'rb') as f:\n",
    "    organoid_metadata = pickle.load(f)"
   ]
  },
  {
   "cell_type": "markdown",
   "metadata": {},
   "source": [
    "## Step 2: # Get network events kernels"
   ]
  },
  {
   "cell_type": "code",
   "execution_count": null,
   "metadata": {
    "scrolled": true
   },
   "outputs": [],
   "source": [
    "# initialize list for storing network event kernels for each recording\n",
    "network_event_kernels_all_recordings = []\n",
    "# initialize list for storing kernel bins for each recording\n",
    "kernel_bins_all_recordings = []\n",
    "# loop through recordings\n",
    "for this_recording_directory in recording_directories:\n",
    "    print(this_recording_directory)\n",
    "    # get mat file path\n",
    "    mat_file_path = data_dir + this_recording_directory + '/' + file_type\n",
    "    # load mat file\n",
    "    data = hdf5storage.loadmat(mat_file_path)\n",
    "    # get spikes\n",
    "    spikes = data['spikes']\n",
    "    # t_s - recording time in seconds\n",
    "    time_sec = data['t_s']\n",
    "    # get last time point in recording\n",
    "    recording_end_time = np.floor(time_sec[-1])\n",
    "    # number of time bins in this recording\n",
    "    num_bins_recording = np.floor(recording_end_time / bin_length).astype('int')\n",
    "\n",
    "    # loop through wells\n",
    "    for well_i in range(wells_to_skip,total_n_wells):\n",
    "        print(well_i)\n",
    "        # get spikes for this well\n",
    "        spikes_well = spikes[well_i]\n",
    "\n",
    "        # initialzie to store all spike timestamps, and binned spikes for channels\n",
    "        spike_times = np.array([])\n",
    "        binned_spikes_all_channels = []\n",
    "        # loop through channels\n",
    "        for channel_i in range(n_channels):\n",
    "            # get spikes for this channel\n",
    "            spikes_channel = spikes_well[channel_i]\n",
    "            # only bin if there are spikes\n",
    "            if spikes_channel.size > 0:\n",
    "                # get spike time stamps (seconds)\n",
    "                spike_times_channel = spikes_channel / spike_sample_rate\n",
    "                # store time stapms for this channel\n",
    "                spike_times = np.concatenate((spike_times_channel.flatten(), spike_times))\n",
    "                # binning function uses ms units, convert spike times to ms\n",
    "                spike_times_channel_ms = spike_times_channel * 1000\n",
    "                # binned spikes\n",
    "                binned_spikes_channel = hf.bin_spikes(spike_times_channel_ms,bin_length_ms,fs=spike_sample_rate,n_recording_bins=num_bins_recording)\n",
    "            else:\n",
    "                binned_spikes_channel = np.array([])\n",
    "            # store binned spikes for this channel\n",
    "            binned_spikes_all_channels.append(binned_spikes_channel)\n",
    "\n",
    "        # binning function uses ms units, convert spike times to ms\n",
    "        spike_times_ms = spike_times * 1000\n",
    "        # bin all spikes together\n",
    "        binned_spikes_all = hf.bin_spikes(spike_times_ms,bin_length_ms,fs=spike_sample_rate,n_recording_bins=num_bins_recording)\n",
    "        # get max number of spikes across all bins\n",
    "        max_bin_spikes = max(binned_spikes_all)\n",
    "        # set threshold for detecting large number of spikes\n",
    "        network_event_thresh = max_bin_spikes // max_spike_floor_division\n",
    "        # get indexes that are greater than threshold\n",
    "        net_event_idxs = np.where(binned_spikes_all > network_event_thresh)[0]\n",
    "        # number of network events\n",
    "        num_net_events = len(net_event_idxs)\n",
    "\n",
    "        # initialize list of total kernels we will be collecting - used to ensure there isnt overlap between kernels\n",
    "        other_kernels = np.zeros((1,2))\n",
    "        # initialize network events we will be storing\n",
    "        network_kernels = np.zeros((1,2))\n",
    "        # initialize and loop through network events\n",
    "        for event in net_event_idxs:\n",
    "            # define windows around each event onset\n",
    "            kernel_start = event + kernel_window_idx[0]\n",
    "            kernel_stop = event + kernel_window_idx[1]\n",
    "            # assume we will store this kernel\n",
    "            store_kernel = 1\n",
    "            # only store if start and stop are both within the range of bins we have\n",
    "            if kernel_start < 0 or kernel_stop > num_bins_recording:\n",
    "                store_kernel = 0\n",
    "            # only store if there is no overlap with previous kernels\n",
    "            for previous_kernel in other_kernels:\n",
    "                if previous_kernel[0] <= kernel_start <= previous_kernel[1] or previous_kernel[0] <= kernel_stop <= previous_kernel[1]:\n",
    "                    store_kernel = 0\n",
    "            # only store if mean firing rate is above 0\n",
    "            net_spikes_this_kernel = binned_spikes_all[kernel_start:kernel_stop]\n",
    "            mean_spiking_this_kernel = np.sum(net_spikes_this_kernel) / num_bins_kernel\n",
    "            if mean_spiking_this_kernel <= 0:\n",
    "                store_kernel = 0\n",
    "            # store unless one of our conditions is not met\n",
    "            if store_kernel:\n",
    "                network_kernels = np.vstack((network_kernels, [kernel_start, kernel_stop])).astype(int)\n",
    "                # also update total list of kernels\n",
    "                other_kernels = np.vstack(\n",
    "                    (other_kernels, [kernel_start, kernel_stop])).astype(int)\n",
    "        # remove initializing zero row\n",
    "        network_kernels = network_kernels[1:]\n",
    "        # number of network kernels\n",
    "        n_network_kernels = len(network_kernels)\n",
    "\n",
    "        # loop through channels\n",
    "        for channel_i in range(n_channels):\n",
    "            # get binned spikes for this channel\n",
    "            binned_spikes_channel = binned_spikes_all_channels[channel_i]\n",
    "            # initialize list for kernels for this channel\n",
    "            kernel_bins_all = []\n",
    "            # loop though network kernels\n",
    "            for kernel_i in range(n_network_kernels):\n",
    "                # get kernel start and stop\n",
    "                kernel_start = network_kernels[kernel_i][0]\n",
    "                kernel_stop = network_kernels[kernel_i][1]\n",
    "                # get bins for this kernel\n",
    "                kernel_bins = binned_spikes_channel[kernel_start:kernel_stop]\n",
    "                # store kernel for this channel\n",
    "                kernel_bins_all.append(kernel_bins)\n",
    "            # store kernel binned data\n",
    "            kernel_bins_all_recordings.append(kernel_bins_all)\n",
    "            # store network event kernels for this well\n",
    "            network_event_kernels_all_recordings.append(network_kernels)"
   ]
  },
  {
   "cell_type": "code",
   "execution_count": null,
   "metadata": {},
   "outputs": [],
   "source": [
    "with open(kernel_bins_all_recordings_file, 'wb') as f:\n",
    "    pickle.dump(kernel_bins_all_recordings, f)"
   ]
  },
  {
   "cell_type": "code",
   "execution_count": null,
   "metadata": {},
   "outputs": [],
   "source": [
    "with open(kernel_bins_all_recordings_file, 'rb') as f:\n",
    "    kernel_bins_all_recordings = pickle.load(f)"
   ]
  },
  {
   "cell_type": "markdown",
   "metadata": {},
   "source": [
    "## Step 3: Remove electrodes with no spikes"
   ]
  },
  {
   "cell_type": "code",
   "execution_count": null,
   "metadata": {},
   "outputs": [],
   "source": [
    "spiking_electrode_idxs  = [i for i in range(len(kernel_bins_all_recordings)) if np.array(kernel_bins_all_recordings[i]).sum() > skp_thresh]\n",
    "kernel_bins_all_recordings_clean  = [kernel_bins_all_recordings[i] for i in spiking_electrode_idxs]\n",
    "organoid_metadata_clean = organoid_metadata.iloc[spiking_electrode_idxs]\n",
    "print(len(kernel_bins_all_recordings),len(kernel_bins_all_recordings_clean))"
   ]
  },
  {
   "cell_type": "code",
   "execution_count": null,
   "metadata": {},
   "outputs": [],
   "source": [
    "with open(metadata_clean_file, 'wb') as f:\n",
    "    pickle.dump(organoid_metadata_clean, f)"
   ]
  },
  {
   "cell_type": "code",
   "execution_count": null,
   "metadata": {},
   "outputs": [],
   "source": [
    "with open(metadata_clean_file, 'rb') as f:\n",
    "    organoid_metadata_clean = pickle.load(f)"
   ]
  },
  {
   "cell_type": "markdown",
   "metadata": {},
   "source": [
    "## Step 4: Analysis with WorkFlow"
   ]
  },
  {
   "cell_type": "code",
   "execution_count": null,
   "metadata": {},
   "outputs": [],
   "source": [
    "# initialize work flow\n",
    "wf = WorkFlow(y_array=kernel_bins_all_recordings_clean)\n",
    "\n",
    "# set initial fork\n",
    "wf.fork(0)\n",
    "# compute kernel averaged power spectra - welch\n",
    "wf.transform(hf.trial_average_spectrum_welch,bin_sample_rate,f_range=(.001, 200))\n",
    "# spec param fit - welch\n",
    "wf.fit(PSD(),method=fit_method,ap_mode='single')\n",
    "\n",
    "# run for multiple AR spec orders\n",
    "for this_ar_order in ar_spec_order:\n",
    "    # reset fork\n",
    "    wf.fork(0)\n",
    "    # compute kernel averaged power spectra - ar\n",
    "    wf.transform(hf.trial_average_spectrum_ar,bin_sample_rate,this_ar_order,f_range=(.001,200))\n",
    "    # spec param fit - ar\n",
    "    wf.fit(PSD(),method=fit_method,ap_mode='single')"
   ]
  },
  {
   "cell_type": "code",
   "execution_count": null,
   "metadata": {
    "scrolled": true
   },
   "outputs": [],
   "source": [
    "%%time\n",
    "# run work flow\n",
    "wf.run(n_jobs=-1,progress=tqdm)"
   ]
  },
  {
   "cell_type": "code",
   "execution_count": null,
   "metadata": {},
   "outputs": [],
   "source": [
    "with open(workflow_file, 'wb') as f:\n",
    "    pickle.dump(wf, f)"
   ]
  },
  {
   "cell_type": "code",
   "execution_count": null,
   "metadata": {},
   "outputs": [],
   "source": [
    "with open(workflow_file, 'rb') as f:\n",
    "    wf = pickle.load(f)"
   ]
  },
  {
   "cell_type": "code",
   "execution_count": null,
   "metadata": {},
   "outputs": [],
   "source": [
    "workflow_file"
   ]
  },
  {
   "cell_type": "code",
   "execution_count": 2,
   "metadata": {},
   "outputs": [],
   "source": [
    "workflow_file = '/Users/blancamartin/Desktop/Voytek_Lab/timescales/organoid_pickle_files/workflow_run_fooof_2023-08-14_1423.pkl'"
   ]
  },
  {
   "cell_type": "code",
   "execution_count": 3,
   "metadata": {},
   "outputs": [],
   "source": [
    "metadata_clean_file = '/Users/blancamartin/Desktop/Voytek_Lab/timescales/organoid_pickle_files/organoid_metadata_clean.pkl'"
   ]
  },
  {
   "cell_type": "markdown",
   "metadata": {},
   "source": [
    "# Results"
   ]
  },
  {
   "cell_type": "code",
   "execution_count": 4,
   "metadata": {},
   "outputs": [],
   "source": [
    "\n",
    "# load metadata\n",
    "with open(metadata_clean_file, 'rb') as f:\n",
    "    organoid_metadata_clean = pickle.load(f)\n",
    "    \n",
    "# load results\n",
    "with open(workflow_file, 'rb') as f:\n",
    "    wf = pickle.load(f)"
   ]
  },
  {
   "cell_type": "code",
   "execution_count": 5,
   "metadata": {},
   "outputs": [
    {
     "data": {
      "text/html": [
       "<div>\n",
       "<style scoped>\n",
       "    .dataframe tbody tr th:only-of-type {\n",
       "        vertical-align: middle;\n",
       "    }\n",
       "\n",
       "    .dataframe tbody tr th {\n",
       "        vertical-align: top;\n",
       "    }\n",
       "\n",
       "    .dataframe thead th {\n",
       "        text-align: right;\n",
       "    }\n",
       "</style>\n",
       "<table border=\"1\" class=\"dataframe\">\n",
       "  <thead>\n",
       "    <tr style=\"text-align: right;\">\n",
       "      <th></th>\n",
       "      <th>recording</th>\n",
       "      <th>day_postdiff</th>\n",
       "      <th>well</th>\n",
       "      <th>channel</th>\n",
       "    </tr>\n",
       "  </thead>\n",
       "  <tbody>\n",
       "    <tr>\n",
       "      <th>0</th>\n",
       "      <td>2016-12-06</td>\n",
       "      <td>173</td>\n",
       "      <td>0</td>\n",
       "      <td>0</td>\n",
       "    </tr>\n",
       "    <tr>\n",
       "      <th>0</th>\n",
       "      <td>2016-12-06</td>\n",
       "      <td>173</td>\n",
       "      <td>0</td>\n",
       "      <td>1</td>\n",
       "    </tr>\n",
       "    <tr>\n",
       "      <th>0</th>\n",
       "      <td>2016-12-06</td>\n",
       "      <td>173</td>\n",
       "      <td>0</td>\n",
       "      <td>2</td>\n",
       "    </tr>\n",
       "    <tr>\n",
       "      <th>0</th>\n",
       "      <td>2016-12-06</td>\n",
       "      <td>173</td>\n",
       "      <td>0</td>\n",
       "      <td>3</td>\n",
       "    </tr>\n",
       "    <tr>\n",
       "      <th>0</th>\n",
       "      <td>2016-12-06</td>\n",
       "      <td>173</td>\n",
       "      <td>0</td>\n",
       "      <td>4</td>\n",
       "    </tr>\n",
       "    <tr>\n",
       "      <th>...</th>\n",
       "      <td>...</td>\n",
       "      <td>...</td>\n",
       "      <td>...</td>\n",
       "      <td>...</td>\n",
       "    </tr>\n",
       "    <tr>\n",
       "      <th>0</th>\n",
       "      <td>2016-09-02</td>\n",
       "      <td>78</td>\n",
       "      <td>7</td>\n",
       "      <td>58</td>\n",
       "    </tr>\n",
       "    <tr>\n",
       "      <th>0</th>\n",
       "      <td>2016-09-02</td>\n",
       "      <td>78</td>\n",
       "      <td>7</td>\n",
       "      <td>59</td>\n",
       "    </tr>\n",
       "    <tr>\n",
       "      <th>0</th>\n",
       "      <td>2016-09-02</td>\n",
       "      <td>78</td>\n",
       "      <td>7</td>\n",
       "      <td>60</td>\n",
       "    </tr>\n",
       "    <tr>\n",
       "      <th>0</th>\n",
       "      <td>2016-09-02</td>\n",
       "      <td>78</td>\n",
       "      <td>7</td>\n",
       "      <td>61</td>\n",
       "    </tr>\n",
       "    <tr>\n",
       "      <th>0</th>\n",
       "      <td>2016-09-02</td>\n",
       "      <td>78</td>\n",
       "      <td>7</td>\n",
       "      <td>62</td>\n",
       "    </tr>\n",
       "  </tbody>\n",
       "</table>\n",
       "<p>19255 rows × 4 columns</p>\n",
       "</div>"
      ],
      "text/plain": [
       "    recording day_postdiff well channel\n",
       "0  2016-12-06          173    0       0\n",
       "0  2016-12-06          173    0       1\n",
       "0  2016-12-06          173    0       2\n",
       "0  2016-12-06          173    0       3\n",
       "0  2016-12-06          173    0       4\n",
       "..        ...          ...  ...     ...\n",
       "0  2016-09-02           78    7      58\n",
       "0  2016-09-02           78    7      59\n",
       "0  2016-09-02           78    7      60\n",
       "0  2016-09-02           78    7      61\n",
       "0  2016-09-02           78    7      62\n",
       "\n",
       "[19255 rows x 4 columns]"
      ]
     },
     "execution_count": 5,
     "metadata": {},
     "output_type": "execute_result"
    }
   ],
   "source": [
    "organoid_metadata_clean "
   ]
  },
  {
   "cell_type": "code",
   "execution_count": 6,
   "metadata": {},
   "outputs": [],
   "source": [
    "knee_freq_range = (0.01,9.99)\n",
    "zscore_thresh = 4\n",
    "spec_type =  'Welch' # 'Welch' or 'AR_3'\n",
    "spec_type_i = 0 # parallels spec_types to index the data\n",
    "knee_no_2 = False # for summary plots, if single knee leave false, if double use false/true for knee 1/2"
   ]
  },
  {
   "cell_type": "code",
   "execution_count": 7,
   "metadata": {},
   "outputs": [],
   "source": [
    "n_fits,n_spec_types = wf.results.shape\n",
    "days = [organoid_metadata_clean['day_postdiff'].iloc[i] for i in range(n_fits)]\n",
    "if knee_no_2:\n",
    "    taus = [wf.results[i][spec_type_i].tau_double for i in range(n_fits)]\n",
    "    knee_freqs = [wf.results[i][spec_type_i].knee_freq_double for i in range(n_fits)]\n",
    "    rsqs = [wf.results[i][spec_type_i].rsq for i in range(n_fits)]\n",
    "else:\n",
    "    taus = [wf.results[i][spec_type_i].tau for i in range(n_fits)]\n",
    "    knee_freqs = [wf.results[i][spec_type_i].knee_freq for i in range(n_fits)]\n",
    "    rsqs = [wf.results[i][spec_type_i].rsq for i in range(n_fits)]\n",
    "\n",
    "unique_recordings = np.unique(organoid_metadata_clean['day_postdiff'])\n",
    "unique_wells = np.unique(organoid_metadata_clean['well'].values)\n",
    "unique_channels = np.unique(organoid_metadata_clean['channel'])\n",
    "n_recordings = len(unique_recordings); n_wells = len(unique_wells); n_channels = len(unique_channels)\n",
    "compiled_data_taus = np.full((n_recordings,n_wells,n_channels),np.nan)\n",
    "compiled_data_knee_freqs = np.full((n_recordings,n_wells,n_channels),np.nan)\n",
    "compiled_data_days = np.full((n_recordings,n_wells,n_channels),np.nan)\n",
    "compiled_data_rsqs = np.full((n_recordings,n_wells,n_channels),np.nan)\n",
    "for rec_i,recording in enumerate(unique_recordings):\n",
    "    for well_i,well in enumerate(unique_wells):\n",
    "        for channel_i,channel in enumerate(unique_channels):\n",
    "            this_idx_np = np.where((organoid_metadata_clean['day_postdiff'] == recording) & (organoid_metadata_clean['well'].values == well) & (organoid_metadata_clean['channel'].values == channel))[0]\n",
    "            if np.size(this_idx_np) > 0:\n",
    "                if len(this_idx_np) > 1:\n",
    "                    breakme\n",
    "                this_idx = this_idx_np[0]\n",
    "                compiled_data_taus[rec_i,well_i,channel_i] = taus[this_idx]\n",
    "                compiled_data_knee_freqs[rec_i,well_i,channel_i] = knee_freqs[this_idx]\n",
    "                compiled_data_days[rec_i,well_i,channel_i] = days[this_idx]\n",
    "                compiled_data_rsqs[rec_i,well_i,channel_i] = rsqs[this_idx]\n",
    "\n",
    "knee_freq_mask = (compiled_data_knee_freqs < knee_freq_range[0]) | (compiled_data_knee_freqs > knee_freq_range[1])\n",
    "compiled_data_taus_kfm = np.copy(compiled_data_taus); compiled_data_taus_kfm[knee_freq_mask] = np.nan\n",
    "compiled_data_knee_freqs_kfm = np.copy(compiled_data_knee_freqs); compiled_data_knee_freqs_kfm[knee_freq_mask] = np.nan\n",
    "compiled_data_days_kfm = np.copy(compiled_data_days); compiled_data_days_kfm[knee_freq_mask] = np.nan\n",
    "compiled_data_rsqs_kfm = np.copy(compiled_data_rsqs); compiled_data_rsqs_kfm[knee_freq_mask] = np.nan\n",
    "\n",
    "rsq_mask = compiled_data_rsqs < 0.9\n",
    "compiled_data_taus_kfm_rsq = np.copy(compiled_data_taus_kfm); compiled_data_taus_kfm_rsq[rsq_mask] = np.nan\n",
    "compiled_data_rsqs_kfm_rsq = np.copy(compiled_data_rsqs_kfm); compiled_data_rsqs_kfm_rsq[rsq_mask] = np.nan\n",
    "\n",
    "dims_compiled = compiled_data_taus_kfm_rsq.shape\n",
    "compiled_data_taus_kfm_rsq_vec = np.reshape(compiled_data_taus_kfm_rsq, (dims_compiled[0], np.product(dims_compiled[1:])))\n",
    "\n",
    "compiled_data_taus_kfm_rsq_vec[np.abs(zscore(compiled_data_taus_kfm_rsq_vec,axis=1,nan_policy='omit')) >= zscore_thresh] = np.nan"
   ]
  },
  {
   "cell_type": "code",
   "execution_count": 10,
   "metadata": {},
   "outputs": [
    {
     "name": "stdout",
     "output_type": "stream",
     "text": [
      "[ 75. 100. 125. 150. 175. 200. 225. 250. 275. 300.]\n"
     ]
    },
    {
     "data": {
      "text/plain": [
       "[array([-1.23171047]),\n",
       " array([ 194.53002176, -195.76173223,   27.3       ,  273.        ]),\n",
       " array([  0.2718787 , 249.98867854,  18.16864842,  -1.36343242])]"
      ]
     },
     "execution_count": 10,
     "metadata": {},
     "output_type": "execute_result"
    },
    {
     "data": {
      "image/png": "[encoded data removed]",
      "text/plain": [
       "<Figure size 432x360 with 1 Axes>"
      ]
     },
     "metadata": {
      "needs_background": "light"
     },
     "output_type": "display_data"
    }
   ],
   "source": [
    "# I RUN THIS BLOCK TO GET THE X AXES IN THE CORRECT \"DAYS POST DIFF\" AND MONTHS CONVENTION \n",
    "\n",
    "days_in = compiled_data_days_kfm.ravel()\n",
    "data_in = np.log10(compiled_data_taus_kfm_rsq_vec.ravel())\n",
    "\n",
    "\n",
    "\n",
    "# remove nans\n",
    "days_in = days_in[~np.isnan(data_in)]\n",
    "data_in = data_in[~np.isnan(data_in)]\n",
    "\n",
    "# normalize days\n",
    "#days_np = np.array(days_in)\n",
    "#days_in = (days_np - days_np.min()) / (days_np - days_np.min()).max()\n",
    "\n",
    "# Create a mask based on the condition (time >= 0.2)\n",
    "\n",
    "mask = [t >= 80 for t in days_in]\n",
    "\n",
    "# Use the mask to filter both time and data\n",
    "days_in = np.asarray([t for i, t in enumerate(days_in) if mask[i]])\n",
    "data_in = np.asarray([d for i, d in enumerate(data_in) if mask[i]])\n",
    "\n",
    "\n",
    "# guesses\n",
    "guess_h1 = [\n",
    "    np.max(data_in), # amplitude\n",
    "    np.min(data_in), # offset\n",
    "    np.max(days_in)/10, # gain\n",
    "    np.max(days_in) # midpoint\n",
    "]\n",
    "guess_h2 = [\n",
    "    np.max(data_in), # amplitude\n",
    "    np.max(days_in), # mean\n",
    "    np.max(days_in)/10, # standard deviation\n",
    "    np.min(data_in) # offset\n",
    "]\n",
    "fit_method = 'trf' # 'lm', 'trf', 'dogbox'\n",
    "\n",
    "# run fit\n",
    "fig2_timescales(days_in,data_in,\n",
    "                fit_method=fit_method,sig_func_type=sf,\n",
    "                guess_h1=guess_h1,guess_h2=guess_h2, top_axis=True)"
   ]
  },
  {
   "cell_type": "code",
   "execution_count": 11,
   "metadata": {},
   "outputs": [
    {
     "name": "stdout",
     "output_type": "stream",
     "text": [
      "[0.1 0.2 0.3 0.4 0.5 0.6 0.7 0.8 0.9 1.  1.1]\n"
     ]
    },
    {
     "ename": "ValueError",
     "evalue": "The number of FixedLocator locations (9), usually from a call to set_ticks, does not match the number of labels (8).",
     "output_type": "error",
     "traceback": [
      "\u001b[0;31m---------------------------------------------------------------------------\u001b[0m",
      "\u001b[0;31mValueError\u001b[0m                                Traceback (most recent call last)",
      "\u001b[0;32m/var/folders/rr/tk8wmt7x4xlgzgmcy768y1rm0000gn/T/ipykernel_44194/111362506.py\u001b[0m in \u001b[0;36m<module>\u001b[0;34m\u001b[0m\n\u001b[1;32m     37\u001b[0m \u001b[0;34m\u001b[0m\u001b[0m\n\u001b[1;32m     38\u001b[0m \u001b[0;31m# run fit\u001b[0m\u001b[0;34m\u001b[0m\u001b[0;34m\u001b[0m\u001b[0m\n\u001b[0;32m---> 39\u001b[0;31m fig2_timescales(days_in,data_in,\n\u001b[0m\u001b[1;32m     40\u001b[0m                 \u001b[0mfit_method\u001b[0m\u001b[0;34m=\u001b[0m\u001b[0mfit_method\u001b[0m\u001b[0;34m,\u001b[0m\u001b[0msig_func_type\u001b[0m\u001b[0;34m=\u001b[0m\u001b[0msf\u001b[0m\u001b[0;34m,\u001b[0m\u001b[0;34m\u001b[0m\u001b[0;34m\u001b[0m\u001b[0m\n\u001b[1;32m     41\u001b[0m                 guess_h1=guess_h1,guess_h2=guess_h2)\n",
      "\u001b[0;32m/var/folders/rr/tk8wmt7x4xlgzgmcy768y1rm0000gn/T/ipykernel_44194/4026715407.py\u001b[0m in \u001b[0;36mfig2_timescales\u001b[0;34m(time, timescales, fit_method, sig_func_type, guess_h1, guess_h2, top_axis)\u001b[0m\n\u001b[1;32m     45\u001b[0m     \u001b[0mprint\u001b[0m\u001b[0;34m(\u001b[0m\u001b[0mlocs\u001b[0m\u001b[0;34m)\u001b[0m\u001b[0;34m\u001b[0m\u001b[0;34m\u001b[0m\u001b[0m\n\u001b[1;32m     46\u001b[0m     \u001b[0mlabels\u001b[0m \u001b[0;34m=\u001b[0m \u001b[0mmonths\u001b[0m\u001b[0;34m\u001b[0m\u001b[0;34m\u001b[0m\u001b[0m\n\u001b[0;32m---> 47\u001b[0;31m     \u001b[0mplt\u001b[0m\u001b[0;34m.\u001b[0m\u001b[0mxticks\u001b[0m\u001b[0;34m(\u001b[0m\u001b[0mlocs\u001b[0m\u001b[0;34m[\u001b[0m\u001b[0;36m1\u001b[0m\u001b[0;34m:\u001b[0m\u001b[0;34m-\u001b[0m\u001b[0;36m1\u001b[0m\u001b[0;34m]\u001b[0m\u001b[0;34m,\u001b[0m \u001b[0mlabels\u001b[0m\u001b[0;34m)\u001b[0m\u001b[0;34m\u001b[0m\u001b[0;34m\u001b[0m\u001b[0m\n\u001b[0m\u001b[1;32m     48\u001b[0m \u001b[0;34m\u001b[0m\u001b[0m\n\u001b[1;32m     49\u001b[0m     \u001b[0;32mreturn\u001b[0m \u001b[0;34m[\u001b[0m\u001b[0mparams_h0\u001b[0m\u001b[0;34m,\u001b[0m \u001b[0mparams_h1\u001b[0m\u001b[0;34m,\u001b[0m \u001b[0mparams_h2\u001b[0m\u001b[0;34m]\u001b[0m\u001b[0;34m\u001b[0m\u001b[0;34m\u001b[0m\u001b[0m\n",
      "\u001b[0;32m~/opt/anaconda3/lib/python3.9/site-packages/matplotlib-3.7.0rc1-py3.9-macosx-10.9-x86_64.egg/matplotlib/pyplot.py\u001b[0m in \u001b[0;36mxticks\u001b[0;34m(ticks, labels, minor, **kwargs)\u001b[0m\n\u001b[1;32m   1864\u001b[0m             \u001b[0ml\u001b[0m\u001b[0;34m.\u001b[0m\u001b[0m_internal_update\u001b[0m\u001b[0;34m(\u001b[0m\u001b[0mkwargs\u001b[0m\u001b[0;34m)\u001b[0m\u001b[0;34m\u001b[0m\u001b[0;34m\u001b[0m\u001b[0m\n\u001b[1;32m   1865\u001b[0m     \u001b[0;32melse\u001b[0m\u001b[0;34m:\u001b[0m\u001b[0;34m\u001b[0m\u001b[0;34m\u001b[0m\u001b[0m\n\u001b[0;32m-> 1866\u001b[0;31m         \u001b[0mlabels\u001b[0m \u001b[0;34m=\u001b[0m \u001b[0max\u001b[0m\u001b[0;34m.\u001b[0m\u001b[0mset_xticklabels\u001b[0m\u001b[0;34m(\u001b[0m\u001b[0mlabels\u001b[0m\u001b[0;34m,\u001b[0m \u001b[0mminor\u001b[0m\u001b[0;34m=\u001b[0m\u001b[0mminor\u001b[0m\u001b[0;34m,\u001b[0m \u001b[0;34m**\u001b[0m\u001b[0mkwargs\u001b[0m\u001b[0;34m)\u001b[0m\u001b[0;34m\u001b[0m\u001b[0;34m\u001b[0m\u001b[0m\n\u001b[0m\u001b[1;32m   1867\u001b[0m \u001b[0;34m\u001b[0m\u001b[0m\n\u001b[1;32m   1868\u001b[0m     \u001b[0;32mreturn\u001b[0m \u001b[0mlocs\u001b[0m\u001b[0;34m,\u001b[0m \u001b[0mlabels\u001b[0m\u001b[0;34m\u001b[0m\u001b[0;34m\u001b[0m\u001b[0m\n",
      "\u001b[0;32m~/opt/anaconda3/lib/python3.9/site-packages/matplotlib-3.7.0rc1-py3.9-macosx-10.9-x86_64.egg/matplotlib/axes/_base.py\u001b[0m in \u001b[0;36mwrapper\u001b[0;34m(self, *args, **kwargs)\u001b[0m\n\u001b[1;32m     72\u001b[0m \u001b[0;34m\u001b[0m\u001b[0m\n\u001b[1;32m     73\u001b[0m         \u001b[0;32mdef\u001b[0m \u001b[0mwrapper\u001b[0m\u001b[0;34m(\u001b[0m\u001b[0mself\u001b[0m\u001b[0;34m,\u001b[0m \u001b[0;34m*\u001b[0m\u001b[0margs\u001b[0m\u001b[0;34m,\u001b[0m \u001b[0;34m**\u001b[0m\u001b[0mkwargs\u001b[0m\u001b[0;34m)\u001b[0m\u001b[0;34m:\u001b[0m\u001b[0;34m\u001b[0m\u001b[0;34m\u001b[0m\u001b[0m\n\u001b[0;32m---> 74\u001b[0;31m             \u001b[0;32mreturn\u001b[0m \u001b[0mget_method\u001b[0m\u001b[0;34m(\u001b[0m\u001b[0mself\u001b[0m\u001b[0;34m)\u001b[0m\u001b[0;34m(\u001b[0m\u001b[0;34m*\u001b[0m\u001b[0margs\u001b[0m\u001b[0;34m,\u001b[0m \u001b[0;34m**\u001b[0m\u001b[0mkwargs\u001b[0m\u001b[0;34m)\u001b[0m\u001b[0;34m\u001b[0m\u001b[0;34m\u001b[0m\u001b[0m\n\u001b[0m\u001b[1;32m     75\u001b[0m \u001b[0;34m\u001b[0m\u001b[0m\n\u001b[1;32m     76\u001b[0m         \u001b[0mwrapper\u001b[0m\u001b[0;34m.\u001b[0m\u001b[0m__module__\u001b[0m \u001b[0;34m=\u001b[0m \u001b[0mowner\u001b[0m\u001b[0;34m.\u001b[0m\u001b[0m__module__\u001b[0m\u001b[0;34m\u001b[0m\u001b[0;34m\u001b[0m\u001b[0m\n",
      "\u001b[0;32m~/opt/anaconda3/lib/python3.9/site-packages/matplotlib-3.7.0rc1-py3.9-macosx-10.9-x86_64.egg/matplotlib/_api/deprecation.py\u001b[0m in \u001b[0;36mwrapper\u001b[0;34m(*args, **kwargs)\u001b[0m\n\u001b[1;32m    295\u001b[0m                 f\"for the old name will be dropped %(removal)s.\")\n\u001b[1;32m    296\u001b[0m             \u001b[0mkwargs\u001b[0m\u001b[0;34m[\u001b[0m\u001b[0mnew\u001b[0m\u001b[0;34m]\u001b[0m \u001b[0;34m=\u001b[0m \u001b[0mkwargs\u001b[0m\u001b[0;34m.\u001b[0m\u001b[0mpop\u001b[0m\u001b[0;34m(\u001b[0m\u001b[0mold\u001b[0m\u001b[0;34m)\u001b[0m\u001b[0;34m\u001b[0m\u001b[0;34m\u001b[0m\u001b[0m\n\u001b[0;32m--> 297\u001b[0;31m         \u001b[0;32mreturn\u001b[0m \u001b[0mfunc\u001b[0m\u001b[0;34m(\u001b[0m\u001b[0;34m*\u001b[0m\u001b[0margs\u001b[0m\u001b[0;34m,\u001b[0m \u001b[0;34m**\u001b[0m\u001b[0mkwargs\u001b[0m\u001b[0;34m)\u001b[0m\u001b[0;34m\u001b[0m\u001b[0;34m\u001b[0m\u001b[0m\n\u001b[0m\u001b[1;32m    298\u001b[0m \u001b[0;34m\u001b[0m\u001b[0m\n\u001b[1;32m    299\u001b[0m     \u001b[0;31m# wrapper() must keep the same documented signature as func(): if we\u001b[0m\u001b[0;34m\u001b[0m\u001b[0;34m\u001b[0m\u001b[0m\n",
      "\u001b[0;32m~/opt/anaconda3/lib/python3.9/site-packages/matplotlib-3.7.0rc1-py3.9-macosx-10.9-x86_64.egg/matplotlib/axis.py\u001b[0m in \u001b[0;36mset_ticklabels\u001b[0;34m(self, labels, minor, fontdict, **kwargs)\u001b[0m\n\u001b[1;32m   1975\u001b[0m             \u001b[0;31m# remove all tick labels, so only error for > 0 labels\u001b[0m\u001b[0;34m\u001b[0m\u001b[0;34m\u001b[0m\u001b[0m\n\u001b[1;32m   1976\u001b[0m             \u001b[0;32mif\u001b[0m \u001b[0mlen\u001b[0m\u001b[0;34m(\u001b[0m\u001b[0mlocator\u001b[0m\u001b[0;34m.\u001b[0m\u001b[0mlocs\u001b[0m\u001b[0;34m)\u001b[0m \u001b[0;34m!=\u001b[0m \u001b[0mlen\u001b[0m\u001b[0;34m(\u001b[0m\u001b[0mlabels\u001b[0m\u001b[0;34m)\u001b[0m \u001b[0;32mand\u001b[0m \u001b[0mlen\u001b[0m\u001b[0;34m(\u001b[0m\u001b[0mlabels\u001b[0m\u001b[0;34m)\u001b[0m \u001b[0;34m!=\u001b[0m \u001b[0;36m0\u001b[0m\u001b[0;34m:\u001b[0m\u001b[0;34m\u001b[0m\u001b[0;34m\u001b[0m\u001b[0m\n\u001b[0;32m-> 1977\u001b[0;31m                 raise ValueError(\n\u001b[0m\u001b[1;32m   1978\u001b[0m                     \u001b[0;34m\"The number of FixedLocator locations\"\u001b[0m\u001b[0;34m\u001b[0m\u001b[0;34m\u001b[0m\u001b[0m\n\u001b[1;32m   1979\u001b[0m                     \u001b[0;34mf\" ({len(locator.locs)}), usually from a call to\"\u001b[0m\u001b[0;34m\u001b[0m\u001b[0;34m\u001b[0m\u001b[0m\n",
      "\u001b[0;31mValueError\u001b[0m: The number of FixedLocator locations (9), usually from a call to set_ticks, does not match the number of labels (8)."
     ]
    },
    {
     "data": {
      "image/png": "[encoded data removed]",
      "text/plain": [
       "<Figure size 432x360 with 1 Axes>"
      ]
     },
     "metadata": {
      "needs_background": "light"
     },
     "output_type": "display_data"
    }
   ],
   "source": [
    "days_in = compiled_data_days_kfm.ravel()\n",
    "data_in = np.log10(compiled_data_taus_kfm_rsq_vec.ravel())\n",
    "\n",
    "\n",
    "\n",
    "# remove nans\n",
    "days_in = days_in[~np.isnan(data_in)]\n",
    "data_in = data_in[~np.isnan(data_in)]\n",
    "\n",
    "# normalize days\n",
    "days_np = np.array(days_in)\n",
    "days_in = (days_np - days_np.min()) / (days_np - days_np.min()).max()\n",
    "\n",
    "# Create a mask based on the condition (time >= 0.2)\n",
    "\n",
    "mask = [t >= 0.2 for t in days_in]\n",
    "\n",
    "# Use the mask to filter both time and data\n",
    "days_in = np.asarray([t for i, t in enumerate(days_in) if mask[i]])\n",
    "data_in = np.asarray([d for i, d in enumerate(data_in) if mask[i]])\n",
    "\n",
    "\n",
    "# guesses\n",
    "guess_h1 = [\n",
    "    np.max(data_in), # amplitude\n",
    "    np.min(data_in), # offset\n",
    "    np.max(days_in)/10, # gain\n",
    "    np.max(days_in) # midpoint\n",
    "]\n",
    "guess_h2 = [\n",
    "    np.max(data_in), # amplitude\n",
    "    np.max(days_in), # mean\n",
    "    np.max(days_in)/10, # standard deviation\n",
    "    np.min(data_in) # offset\n",
    "]\n",
    "fit_method = 'trf' # 'lm', 'trf', 'dogbox'\n",
    "\n",
    "# run fit\n",
    "fig2_timescales(days_in,data_in,\n",
    "                fit_method=fit_method,sig_func_type=sf,\n",
    "                guess_h1=guess_h1,guess_h2=guess_h2)"
   ]
  },
  {
   "cell_type": "code",
   "execution_count": null,
   "metadata": {},
   "outputs": [],
   "source": [
    "np.sort(days_in)[0]\n"
   ]
  },
  {
   "cell_type": "code",
   "execution_count": null,
   "metadata": {},
   "outputs": [],
   "source": [
    "days_in = compiled_data_days_kfm.ravel()\n",
    "data_in = np.log10(compiled_data_taus_kfm_rsq_vec.ravel())\n",
    "\n",
    "\n",
    "\n",
    "# remove nans\n",
    "days_in = days_in[~np.isnan(data_in)]\n",
    "data_in = data_in[~np.isnan(data_in)]\n",
    "\n",
    "# normalize days\n",
    "days_np = np.array(days_in)\n",
    "days_in = (days_np - days_np.min()) / (days_np - days_np.min()).max()\n",
    "\n",
    "# Create a mask based on the condition (time >= 0.2)\n",
    "mask = [t >= 0.2 for t in days_in]\n",
    "\n",
    "# Use the mask to filter both time and data\n",
    "days_in = np.asarray([t for i, t in enumerate(days_in) if mask[i]])\n",
    "data_in = np.asarray([d for i, d in enumerate(data_in) if mask[i]])\n",
    "\n",
    "\n",
    "# guesses\n",
    "guess_h1 = [\n",
    "    np.max(data_in), # amplitude\n",
    "    np.min(data_in), # offset\n",
    "    np.max(days_in)/10, # gain\n",
    "    np.max(days_in) # midpoint\n",
    "]\n",
    "guess_h2 = [\n",
    "    np.max(data_in), # amplitude\n",
    "    np.max(days_in), # mean\n",
    "    np.max(days_in)/10, # standard deviation\n",
    "    np.min(data_in) # offset\n",
    "]\n",
    "fit_method = 'trf' # 'lm', 'trf', 'dogbox'\n",
    "\n",
    "# run fit\n",
    "fig2_timescales(days_in,data_in,\n",
    "                fit_method=fit_method,sig_func_type=sf,\n",
    "                guess_h1=guess_h1,guess_h2=guess_h2)"
   ]
  },
  {
   "cell_type": "code",
   "execution_count": null,
   "metadata": {},
   "outputs": [],
   "source": [
    "#linear version\n",
    "\n",
    "days_in = compiled_data_days_kfm.ravel()\n",
    "data_in = compiled_data_taus_kfm_rsq_vec.ravel()\n",
    "\n",
    "# remove nans\n",
    "days_in = days_in[~np.isnan(data_in)]\n",
    "data_in = data_in[~np.isnan(data_in)]\n",
    "\n",
    "# normalize days\n",
    "days_np = np.array(days_in)\n",
    "days_in = (days_np - days_np.min()) / (days_np - days_np.min()).max()\n",
    "\n",
    "# Create a mask based on the condition (time >= 0.2)\n",
    "mask = [t >= 0.2 for t in days_in]\n",
    "\n",
    "# Use the mask to filter both time and data\n",
    "days_in = np.asarray([t for i, t in enumerate(days_in) if mask[i]])\n",
    "data_in = np.asarray([d for i, d in enumerate(data_in) if mask[i]])\n",
    "\n",
    "# guesses\n",
    "guess_h1 = [\n",
    "    np.max(data_in), # amplitude\n",
    "    np.min(data_in), # offset\n",
    "    np.max(days_in)/10, # gain\n",
    "    np.max(days_in) # midpoint\n",
    "]\n",
    "guess_h2 = [\n",
    "    np.max(data_in), # amplitude\n",
    "    0.9, # mean\n",
    "    np.max(days_in)/10, # standard deviation\n",
    "    np.min(data_in) # offset\n",
    "]\n",
    "fit_method = 'trf' # 'lm', 'trf', 'dogbox'\n",
    "\n",
    "# run fit\n",
    "fig2_timescales(days_in,data_in,\n",
    "                fit_method=fit_method,sig_func_type=sf,\n",
    "                guess_h1=guess_h1,guess_h2=None)"
   ]
  },
  {
   "cell_type": "code",
   "execution_count": null,
   "metadata": {},
   "outputs": [],
   "source": []
  },
  {
   "cell_type": "code",
   "execution_count": null,
   "metadata": {},
   "outputs": [],
   "source": []
  },
  {
   "cell_type": "code",
   "execution_count": null,
   "metadata": {},
   "outputs": [],
   "source": []
  },
  {
   "cell_type": "code",
   "execution_count": null,
   "metadata": {},
   "outputs": [],
   "source": []
  }
 ],
 "metadata": {
  "kernelspec": {
   "display_name": "Python 3 (ipykernel)",
   "language": "python",
   "name": "python3"
  },
  "language_info": {
   "codemirror_mode": {
    "name": "ipython",
    "version": 3
   },
   "file_extension": ".py",
   "mimetype": "text/x-python",
   "name": "python",
   "nbconvert_exporter": "python",
   "pygments_lexer": "ipython3",
   "version": "3.9.7"
  },
  "vscode": {
   "interpreter": {
    "hash": "2c464c225fdcc9707dbfe5f8601ecdb4fece2817f3535537e7ef0601ec8664ee"
   }
  }
 },
 "nbformat": 4,
 "nbformat_minor": 2
}
