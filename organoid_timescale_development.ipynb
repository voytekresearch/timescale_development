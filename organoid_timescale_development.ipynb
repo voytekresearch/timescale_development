{
 "cells": [
  {
   "cell_type": "markdown",
   "metadata": {},
   "source": [
    "# Import"
   ]
  },
  {
   "cell_type": "code",
   "execution_count": 16,
   "metadata": {},
   "outputs": [
    {
     "name": "stdout",
     "output_type": "stream",
     "text": [
      "The autoreload extension is already loaded. To reload it, use:\n",
      "  %reload_ext autoreload\n"
     ]
    }
   ],
   "source": [
    "%load_ext autoreload\n",
    "%autoreload 2\n",
    "import warnings\n",
    "warnings.filterwarnings('once')\n",
    "warnings.filterwarnings(\"ignore\", category=DeprecationWarning)\n",
    "import os\n",
    "import numpy as np\n",
    "import pandas as pd\n",
    "from datetime import datetime\n",
    "import hdf5storage"
   ]
  },
  {
   "cell_type": "markdown",
   "metadata": {},
   "source": [
    "# Params"
   ]
  },
  {
   "cell_type": "code",
   "execution_count": 6,
   "metadata": {},
   "outputs": [],
   "source": [
    "# data directory\n",
    "data_dir = '/Users/trevormcpherson/Desktop/Voytek/Organoids/organoidData/CTC/'\n",
    "#'/Users/blancamartin/Desktop/Voytek_Lab/timescales/organoid_data/CTC_data/'\n",
    "# file type, constant, for each recording there is a directory that is the name of the recording, and then this file name within it\n",
    "file_type = 'LFP_Sp.mat'\n",
    "# all recording folders have this string in their name\n",
    "recording_string = 'CTC'\n",
    "# get recording directories\n",
    "recording_directories = os.listdir(data_dir)\n",
    "# only keep recoring directories\n",
    "recording_directories = [s for s in recording_directories if recording_string in s]\n",
    "# number of recordings\n",
    "n_recordings = len(recording_directories)\n",
    "# total number of wells\n",
    "total_n_wells = 12\n",
    "# no data in first 4 wells, if not specifying specific ones to analyze, skip these first 4\n",
    "wells_to_skip = 4\n",
    "# number of wells\n",
    "n_wells = total_n_wells - wells_to_skip\n",
    "# number of channels\n",
    "n_channels = 64\n",
    "# spike recording sample rate\n",
    "spike_sample_rate = 12500 # samp per sec\n",
    "# length of time bins using to separate spikes (seconds)\n",
    "bin_length = 0.05\n",
    "# bin length in ms\n",
    "bin_length_ms = int(bin_length * 1000)\n",
    "# param for determining network spiking events, floor division of the maximum spikes found in a bin by this number\n",
    "max_spike_floor_division = 2\n",
    "# analysis window kernel (seconds, total of 3)\n",
    "kernel_window_sec = [-0.5,2.5]\n",
    "# length of kernel window\n",
    "kernel_window_length = np.abs(kernel_window_sec[0]) + kernel_window_sec[1]\n",
    "# convert to bins\n",
    "kernel_window_idx = np.divide(kernel_window_sec,bin_length).astype(int)\n",
    "num_bins_kernel = np.abs(kernel_window_idx[0]) + kernel_window_idx[1]\n",
    "# get sequential times of bins in kernel\n",
    "kernel_times = np.linspace(0,kernel_window_length,num_bins_kernel)\n",
    "#day fo organoid differentation as a time object\n",
    "day_diff = datetime.strptime(\"011917\",'%m%d%y')"
   ]
  },
  {
   "cell_type": "code",
   "execution_count": 7,
   "metadata": {},
   "outputs": [],
   "source": [
    "def get_dpdf(time_object, day_diff):\n",
    "    \"\"\" Converts data time object into days post differentiation int value\"\"\"\n",
    "    duration = time_object - day_diff         \n",
    "    duration_in_s = duration.total_seconds() \n",
    "    #days post differentiation in days\n",
    "    days  = duration.days                        \n",
    "    dpdf  = int(divmod(duration_in_s, 86400)[0] )      # Seconds in a day = 86400\n",
    "    \n",
    "    return dpdf\n",
    "\n",
    "def bin_spikes(spike_times, bin_size, bins_per_window=None, fs=20000):\n",
    "    \n",
    "    # Convert from ms to samples\n",
    "    bin_size = round((bin_size / 1000) * fs)\n",
    "    samples = (spike_times / 1000 * fs).astype(int)\n",
    "\n",
    "    # Init spike counts\n",
    "    spikes = np.zeros(samples[-1] // bin_size, dtype=int)\n",
    "    # Bin spikes\n",
    "    bin_ind = 0\n",
    "    for i in samples:\n",
    "        bin_ind = i // bin_size\n",
    "        if bin_ind > len(spikes)-1:\n",
    "            break\n",
    "        spikes[bin_ind] += 1\n",
    "        \n",
    "    # Create windows from binned counts\n",
    "    if bins_per_window is not None:\n",
    "        max_bin = int((len(spikes) // bins_per_window) * bins_per_window)\n",
    "        spikes = spikes[:max_bin]\n",
    "        spikes = spikes.reshape(-1, bins_per_window)\n",
    "        \n",
    "    return spikes"
   ]
  },
  {
   "cell_type": "markdown",
   "metadata": {},
   "source": [
    "# Step 1: Collect meta data"
   ]
  },
  {
   "cell_type": "code",
   "execution_count": 8,
   "metadata": {},
   "outputs": [],
   "source": [
    "# metadata column labels\n",
    "metadata_column_labels = ['recording','day_postdiff','well','channel']\n",
    "# initialise metadata dataframe\n",
    "organoid_metadata = pd.DataFrame(columns=metadata_column_labels, dtype=object)\n",
    "\n",
    "# loop through recordings\n",
    "for this_recording_directory in recording_directories:\n",
    "    # get date string\n",
    "    date_string = this_recording_directory[4:10]\n",
    "    \n",
    "    # convert to date time object\n",
    "    date_object = datetime.strptime(date_string,'%m%d%y')\n",
    "    \n",
    "    #convert data time object to days post differentiation\n",
    "    dfdf = get_dpdf(date_object, day_diff)\n",
    "\n",
    "    # loop through wells\n",
    "    for well_i in range(n_wells):\n",
    "        # loop through channels\n",
    "        for channel_i in range(n_channels):\n",
    "            # build row for matadata dataframe\n",
    "            df_row_list = [date_object, dfdf ,well_i,channel_i]\n",
    "            df_row = pd.DataFrame([df_row_list], columns=metadata_column_labels)\n",
    "            # add row to dataframe\n",
    "            organoid_metadata = pd.concat([organoid_metadata, df_row])"
   ]
  },
  {
   "cell_type": "code",
   "execution_count": 9,
   "metadata": {},
   "outputs": [
    {
     "data": {
      "text/html": [
       "<div>\n",
       "<style scoped>\n",
       "    .dataframe tbody tr th:only-of-type {\n",
       "        vertical-align: middle;\n",
       "    }\n",
       "\n",
       "    .dataframe tbody tr th {\n",
       "        vertical-align: top;\n",
       "    }\n",
       "\n",
       "    .dataframe thead th {\n",
       "        text-align: right;\n",
       "    }\n",
       "</style>\n",
       "<table border=\"1\" class=\"dataframe\">\n",
       "  <thead>\n",
       "    <tr style=\"text-align: right;\">\n",
       "      <th></th>\n",
       "      <th>recording</th>\n",
       "      <th>day_postdiff</th>\n",
       "      <th>well</th>\n",
       "      <th>channel</th>\n",
       "    </tr>\n",
       "  </thead>\n",
       "  <tbody>\n",
       "    <tr>\n",
       "      <th>0</th>\n",
       "      <td>2016-12-06</td>\n",
       "      <td>-44</td>\n",
       "      <td>0</td>\n",
       "      <td>0</td>\n",
       "    </tr>\n",
       "    <tr>\n",
       "      <th>0</th>\n",
       "      <td>2016-12-06</td>\n",
       "      <td>-44</td>\n",
       "      <td>0</td>\n",
       "      <td>1</td>\n",
       "    </tr>\n",
       "    <tr>\n",
       "      <th>0</th>\n",
       "      <td>2016-12-06</td>\n",
       "      <td>-44</td>\n",
       "      <td>0</td>\n",
       "      <td>2</td>\n",
       "    </tr>\n",
       "    <tr>\n",
       "      <th>0</th>\n",
       "      <td>2016-12-06</td>\n",
       "      <td>-44</td>\n",
       "      <td>0</td>\n",
       "      <td>3</td>\n",
       "    </tr>\n",
       "    <tr>\n",
       "      <th>0</th>\n",
       "      <td>2016-12-06</td>\n",
       "      <td>-44</td>\n",
       "      <td>0</td>\n",
       "      <td>4</td>\n",
       "    </tr>\n",
       "  </tbody>\n",
       "</table>\n",
       "</div>"
      ],
      "text/plain": [
       "   recording day_postdiff well channel\n",
       "0 2016-12-06          -44    0       0\n",
       "0 2016-12-06          -44    0       1\n",
       "0 2016-12-06          -44    0       2\n",
       "0 2016-12-06          -44    0       3\n",
       "0 2016-12-06          -44    0       4"
      ]
     },
     "execution_count": 9,
     "metadata": {},
     "output_type": "execute_result"
    }
   ],
   "source": [
    "organoid_metadata.head()"
   ]
  },
  {
   "cell_type": "markdown",
   "metadata": {},
   "source": [
    "# Step 2: # Get network events kernels"
   ]
  },
  {
   "cell_type": "code",
   "execution_count": 10,
   "metadata": {},
   "outputs": [
    {
     "name": "stderr",
     "output_type": "stream",
     "text": [
      "/Users/trevormcpherson/anaconda3/lib/python3.7/importlib/_bootstrap.py:219: RuntimeWarning: numpy.ufunc size changed, may indicate binary incompatibility. Expected 192 from C header, got 216 from PyObject\n",
      "  return f(*args, **kwds)\n",
      "/Users/trevormcpherson/anaconda3/lib/python3.7/importlib/_bootstrap.py:219: RuntimeWarning: numpy.ufunc size changed, may indicate binary incompatibility. Expected 192 from C header, got 216 from PyObject\n",
      "  return f(*args, **kwds)\n"
     ]
    }
   ],
   "source": [
    "# initialize list for storing network event kernels for each recording\n",
    "network_event_kernels_all_recordings = []\n",
    "# initialize list for storing kernel bins for each recording\n",
    "kernel_bins_all_recordings = []\n",
    "# loop through recordings\n",
    "for this_recording_directory in recording_directories:\n",
    "    # get mat file path\n",
    "    mat_file_path = data_dir + this_recording_directory + '/' + file_type\n",
    "    # load mat file\n",
    "    data = hdf5storage.loadmat(mat_file_path)\n",
    "    # get spikes\n",
    "    spikes = data['spikes']\n",
    "    # t_s - recording time in seconds\n",
    "    time_sec = data['t_s']\n",
    "    # get last time point in recording\n",
    "    recording_end_time = np.floor(time_sec[-1])\n",
    "    # number of time bins in this recording\n",
    "    num_bins_recording = np.floor(recording_end_time / bin_length).astype('int')\n",
    "\n",
    "    # initialize list for storing network event kernels for each well\n",
    "    network_event_kernels_all_wells = []\n",
    "    # initialize list for storing kernel bins for each well\n",
    "    kernel_bins_all_wells = []\n",
    "    # loop through wells\n",
    "    for well_i in range(wells_to_skip,total_n_wells):\n",
    "        # get spikes for this well\n",
    "        spikes_well = spikes[well_i]\n",
    "\n",
    "        # initialzie to store all spike timestamps, and binned spikes for channels\n",
    "        spike_times = np.array([])\n",
    "        binned_spikes_all_channels = []\n",
    "        # loop through channels\n",
    "        for channel_i in range(n_channels):\n",
    "            # get spikes for this channel\n",
    "            spikes_channel = spikes_well[channel_i]\n",
    "            # only bin if there are spikes\n",
    "            if spikes_channel.size > 0:\n",
    "                # get spike time stamps (seconds)\n",
    "                spike_times_channel = spikes_channel / spike_sample_rate\n",
    "                # store time stapms for this channel\n",
    "                spike_times = np.concatenate((spike_times_channel.flatten(), spike_times))\n",
    "                # binning function uses ms units, convert spike times to ms\n",
    "                spike_times_channel_ms = spike_times_channel * 1000\n",
    "                # binned spikes\n",
    "                binned_spikes_channel = bin_spikes(spike_times_channel_ms,bin_length_ms,fs=spike_sample_rate)\n",
    "            else:\n",
    "                binned_spikes_channel = np.array([])\n",
    "            # store binned spikes for this channel\n",
    "            binned_spikes_all_channels.append(binned_spikes_channel)\n",
    "\n",
    "        # binning function uses ms units, convert spike times to ms\n",
    "        spike_times_ms = spike_times * 1000\n",
    "        # bin all spikes together\n",
    "        binned_spikes_all = bin_spikes(spike_times_ms,bin_length_ms,fs=spike_sample_rate)\n",
    "        # get max number of spikes across all bins\n",
    "        max_bin_spikes = max(binned_spikes_all)\n",
    "        # set threshold for detecting large number of spikes\n",
    "        network_event_thresh = max_bin_spikes // max_spike_floor_division\n",
    "        # get indexes that are greater than threshold\n",
    "        net_event_idxs = np.where(binned_spikes_all > network_event_thresh)[0]\n",
    "        # number of network events\n",
    "        num_net_events = len(net_event_idxs)\n",
    "\n",
    "        # initialize list of total kernels we will be collecting - used to ensure there isnt overlap between kernels\n",
    "        other_kernels = np.zeros((1,2))\n",
    "        # initialize network events we will be storing\n",
    "        network_kernels = np.zeros((1,2))\n",
    "        # initialize and loop through network events\n",
    "        for event in net_event_idxs:\n",
    "            # define windows around each event onset\n",
    "            kernel_start = event + kernel_window_idx[0]\n",
    "            kernel_stop = event + kernel_window_idx[1]\n",
    "            # assume we will store this kernel\n",
    "            store_kernel = 1\n",
    "            # only store if start and stop are both within the range of bins we have\n",
    "            if kernel_start < 0 or kernel_stop > num_bins_recording:\n",
    "                store_kernel = 0\n",
    "            # only store if there is no overlap with previous kernels\n",
    "            for previous_kernel in other_kernels:\n",
    "                if previous_kernel[0] <= kernel_start <= previous_kernel[1] or previous_kernel[0] <= kernel_stop <= previous_kernel[1]:\n",
    "                    store_kernel = 0\n",
    "            # only store if mean firing rate is above 0\n",
    "            net_spikes_this_kernel = binned_spikes_all[kernel_start:kernel_stop]\n",
    "            mean_spiking_this_kernel = np.sum(net_spikes_this_kernel) / num_bins_kernel\n",
    "            if mean_spiking_this_kernel <= 0:\n",
    "                store_kernel = 0\n",
    "            # store unless one of our conditions is not met\n",
    "            if store_kernel:\n",
    "                network_kernels = np.vstack((network_kernels, [kernel_start, kernel_stop])).astype(int)\n",
    "                # also update total list of kernels\n",
    "                other_kernels = np.vstack(\n",
    "                    (other_kernels, [kernel_start, kernel_stop])).astype(int)\n",
    "        # remove initializing zero row\n",
    "        network_kernels = network_kernels[1:]\n",
    "        # number of network kernels\n",
    "        n_network_kernels = len(network_kernels)\n",
    "        # store network event kernels for this well\n",
    "        network_event_kernels_all_wells.append(network_kernels)\n",
    "\n",
    "        # initialize list for kernels for this well\n",
    "        kernel_bins_all_channel = []\n",
    "        # loop through channels\n",
    "        for channel_i in range(n_channels):\n",
    "            # get binned spikes for this channel\n",
    "            binned_spikes_channel = binned_spikes_all_channels[channel_i]\n",
    "            # initialize list for kernels for this channel\n",
    "            kernel_bins_all = []\n",
    "            # loop though network kernels\n",
    "            for kernel_i in range(n_network_kernels):\n",
    "                # get kernel start and stop\n",
    "                kernel_start = network_kernels[kernel_i][0]\n",
    "                kernel_stop = network_kernels[kernel_i][1]\n",
    "                # get bins for this kernel\n",
    "                kernel_bins = binned_spikes_channel[kernel_start:kernel_stop]\n",
    "                # store kernel for this channel\n",
    "                kernel_bins_all.append(kernel_bins)\n",
    "            # store kernels for this well\n",
    "            kernel_bins_all_channel.append(kernel_bins_all)\n",
    "\n",
    "        # store kernels for this well\n",
    "        kernel_bins_all_wells.append(kernel_bins_all_channel)\n",
    "\n",
    "    # store network event kernels for this recording\n",
    "    network_event_kernels_all_recordings.append(network_event_kernels_all_wells)\n",
    "    # store kernel bins for this recording\n",
    "    kernel_bins_all_recordings.append(kernel_bins_all_wells)"
   ]
  },
  {
   "cell_type": "code",
   "execution_count": 20,
   "metadata": {},
   "outputs": [
    {
     "data": {
      "text/plain": [
       "[<matplotlib.lines.Line2D at 0x7f7bc0f5a208>]"
      ]
     },
     "execution_count": 20,
     "metadata": {},
     "output_type": "execute_result"
    },
    {
     "data": {
      "image/png": "[encoded data removed]",
      "text/plain": [
       "<Figure size 432x288 with 1 Axes>"
      ]
     },
     "metadata": {
      "needs_background": "light"
     },
     "output_type": "display_data"
    }
   ],
   "source": [
    "import matplotlib.pyplot as plt\n",
    "plt.plot(kernel_bins_all_recordings[41][6][34][4])"
   ]
  },
  {
   "cell_type": "code",
   "execution_count": 3,
   "metadata": {},
   "outputs": [
    {
     "ename": "ModuleNotFoundError",
     "evalue": "No module named 'ndspflow'",
     "output_type": "error",
     "traceback": [
      "\u001b[0;31m---------------------------------------------------------------------------\u001b[0m",
      "\u001b[0;31mModuleNotFoundError\u001b[0m                       Traceback (most recent call last)",
      "\u001b[0;32m<ipython-input-3-3bcd96bbcc65>\u001b[0m in \u001b[0;36m<module>\u001b[0;34m\u001b[0m\n\u001b[1;32m      1\u001b[0m \u001b[0;31m# Workflow\u001b[0m\u001b[0;34m\u001b[0m\u001b[0;34m\u001b[0m\u001b[0;34m\u001b[0m\u001b[0m\n\u001b[0;32m----> 2\u001b[0;31m \u001b[0;32mfrom\u001b[0m \u001b[0mndspflow\u001b[0m\u001b[0;34m.\u001b[0m\u001b[0mworkflows\u001b[0m \u001b[0;32mimport\u001b[0m \u001b[0mWorkFlow\u001b[0m\u001b[0;34m\u001b[0m\u001b[0;34m\u001b[0m\u001b[0m\n\u001b[0m",
      "\u001b[0;31mModuleNotFoundError\u001b[0m: No module named 'ndspflow'"
     ]
    }
   ],
   "source": [
    "# Workflow\n",
    "from ndspflow.workflows import WorkFlow  "
   ]
  },
  {
   "cell_type": "code",
   "execution_count": null,
   "metadata": {},
   "outputs": [],
   "source": []
  },
  {
   "cell_type": "code",
   "execution_count": null,
   "metadata": {},
   "outputs": [],
   "source": []
  },
  {
   "cell_type": "code",
   "execution_count": null,
   "metadata": {},
   "outputs": [],
   "source": []
  },
  {
   "cell_type": "code",
   "execution_count": null,
   "metadata": {},
   "outputs": [],
   "source": []
  }
 ],
 "metadata": {
  "kernelspec": {
   "display_name": "Python 3 (ipykernel)",
   "language": "python",
   "name": "python3"
  },
  "language_info": {
   "codemirror_mode": {
    "name": "ipython",
    "version": 3
   },
   "file_extension": ".py",
   "mimetype": "text/x-python",
   "name": "python",
   "nbconvert_exporter": "python",
   "pygments_lexer": "ipython3",
   "version": "3.7.3"
  },
  "vscode": {
   "interpreter": {
    "hash": "1ed36d979e2df41889b831d48d61fb87f64a44f8f18ed3f3d8a9de8d77873a49"
   }
  }
 },
 "nbformat": 4,
 "nbformat_minor": 2
}
