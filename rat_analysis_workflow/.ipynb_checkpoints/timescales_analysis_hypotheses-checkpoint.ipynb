{
 "cells": [
  {
   "cell_type": "code",
   "execution_count": 1,
   "id": "aa86ec3b",
   "metadata": {},
   "outputs": [],
   "source": [
    "# OPTIONAL: Load the \"autoreload\" extension so that code can change\n",
    "%load_ext autoreload\n",
    "\n",
    "# OPTIONAL: always reload modules so that as you change code in src, it gets loaded\n",
    "%autoreload 2"
   ]
  },
  {
   "cell_type": "code",
   "execution_count": 2,
   "id": "e7b54386",
   "metadata": {},
   "outputs": [
    {
     "name": "stderr",
     "output_type": "stream",
     "text": [
      "/var/folders/rr/tk8wmt7x4xlgzgmcy768y1rm0000gn/T/ipykernel_41059/4169410026.py:21: DeprecationWarning: \n",
      "The `fooof` package is being deprecated and replaced by the `specparam` (spectral parameterization) package.\n",
      "This version of `fooof` (1.1) is fully functional, but will not be further updated.\n",
      "New projects are recommended to update to using `specparam` (see Changelog for details).\n",
      "  from fooof import FOOOF\n"
     ]
    }
   ],
   "source": [
    "\"\"\" %matplotlib inline\n",
    "%config InlineBackend.figure_format = 'retina'\"\"\"\n",
    "\n",
    "import warnings\n",
    "\n",
    "from tqdm.notebook import tqdm\n",
    "from multiprocessing import Pool, cpu_count\n",
    "from functools import partial\n",
    "\n",
    "import numpy as np\n",
    "import pandas as pd\n",
    "import scipy.stats as ss\n",
    "import os\n",
    "import pickle\n",
    "\n",
    "from scipy.optimize import curve_fit\n",
    "\n",
    "import statsmodels.formula.api as smf\n",
    "\n",
    "from neurodsp.spectral import compute_spectrum\n",
    "from fooof import FOOOF\n",
    "\n",
    "\"\"\" import seaborn as sns\n",
    "sns.set_style('whitegrid')\"\"\"\n",
    "\n",
    "import matplotlib.pyplot as plt\n",
    "#from matplotlib import cm, rc\n",
    "\n"
   ]
  },
  {
   "cell_type": "markdown",
   "id": "8c9b52d9",
   "metadata": {},
   "source": [
    "### Read pickle files  - rat single knee results after removing outliers "
   ]
  },
  {
   "cell_type": "code",
   "execution_count": 3,
   "id": "e53779c1",
   "metadata": {},
   "outputs": [],
   "source": [
    "#loop through pickle results in folder\n",
    "\n",
    "pickle_dir_taus = '/Users/blancamartin/Desktop/Voytek_Lab/timescales/rat_pickle_files/rats_singleknee_timescales.pickle'\n",
    "pickle_dir_divs  = '/Users/blancamartin/Desktop/Voytek_Lab/timescales/rat_pickle_files/rats_singleknee_divs.pickle'\n"
   ]
  },
  {
   "cell_type": "code",
   "execution_count": 4,
   "id": "ae1b3c01",
   "metadata": {},
   "outputs": [],
   "source": [
    "#load pickle files\n",
    "with open(pickle_dir_taus, 'rb') as f:\n",
    "    rat_taus = pickle.load(f)\n",
    "    \n",
    "with open(pickle_dir_divs, 'rb') as f:\n",
    "    rat_divs = pickle.load(f)"
   ]
  },
  {
   "cell_type": "code",
   "execution_count": 5,
   "id": "a44de25f",
   "metadata": {},
   "outputs": [
    {
     "data": {
      "text/plain": [
       "Text(0.5, 0, 'DIVS')"
      ]
     },
     "execution_count": 5,
     "metadata": {},
     "output_type": "execute_result"
    },
    {
     "data": {
      "image/png": "[encoded data removed]",
      "text/plain": [
       "<Figure size 432x288 with 1 Axes>"
      ]
     },
     "metadata": {
      "needs_background": "light"
     },
     "output_type": "display_data"
    }
   ],
   "source": [
    "plt.plot(rat_divs, rat_taus, '.')\n",
    "plt.ylabel(\"Unit timescales\")\n",
    "plt.xlabel(\"DIVS\")"
   ]
  },
  {
   "cell_type": "markdown",
   "id": "f7f427c7",
   "metadata": {},
   "source": [
    "##### It looks like the early divs have very few timepoints after outlier removal"
   ]
  },
  {
   "cell_type": "code",
   "execution_count": 6,
   "id": "d04bbdae",
   "metadata": {},
   "outputs": [
    {
     "name": "stdout",
     "output_type": "stream",
     "text": [
      "div: 6, Count: 1\n",
      "div: 7, Count: 1\n",
      "div: 9, Count: 2\n",
      "div: 10, Count: 1\n",
      "div: 11, Count: 29\n",
      "div: 12, Count: 9\n",
      "div: 13, Count: 44\n",
      "div: 14, Count: 54\n",
      "div: 15, Count: 70\n",
      "div: 16, Count: 19\n",
      "div: 17, Count: 92\n",
      "div: 18, Count: 81\n",
      "div: 19, Count: 40\n",
      "div: 20, Count: 32\n",
      "div: 21, Count: 42\n",
      "div: 22, Count: 10\n",
      "div: 23, Count: 30\n",
      "div: 24, Count: 42\n",
      "div: 25, Count: 14\n",
      "div: 26, Count: 18\n",
      "div: 27, Count: 26\n",
      "div: 28, Count: 13\n",
      "div: 29, Count: 4\n",
      "div: 30, Count: 14\n",
      "div: 31, Count: 10\n",
      "div: 32, Count: 13\n",
      "div: 33, Count: 6\n",
      "div: 34, Count: 20\n",
      "div: 35, Count: 33\n"
     ]
    }
   ],
   "source": [
    "\n",
    "# Assuming you have 'divs' as your numpy array\n",
    "unique_divs, divs_counts = np.unique(rat_divs, return_counts=True)\n",
    "\n",
    "# Now, 'unique_divs' contains unique values in 'divs', and 'divs_counts' contains their respective counts\n",
    "for div, count in zip(unique_divs, divs_counts):\n",
    "    print(f\"div: {div}, Count: {count}\")"
   ]
  },
  {
   "cell_type": "markdown",
   "id": "57643eeb",
   "metadata": {},
   "source": [
    "#### Remove divs before DIV 11 - not enough datapoints"
   ]
  },
  {
   "cell_type": "code",
   "execution_count": 21,
   "id": "7c362b61",
   "metadata": {},
   "outputs": [],
   "source": [
    "\n",
    "# Assuming you have 'divs' and 'taus' as your numpy arrays\n",
    "threshold = 11  # Set your desired threshold value\n",
    "\n",
    "# Create a mask to filter data points where divs are greater than or equal to the threshold\n",
    "mask = (rat_divs >= threshold)\n",
    "\n",
    "# Apply the mask to both 'divs' and 'taus' arrays\n",
    "filtered_divs = rat_divs[mask]\n",
    "filtered_taus = rat_taus[mask]"
   ]
  },
  {
   "cell_type": "code",
   "execution_count": 22,
   "id": "32ce7b2e",
   "metadata": {},
   "outputs": [
    {
     "data": {
      "text/plain": [
       "Text(0.5, 0, 'DIVS')"
      ]
     },
     "execution_count": 22,
     "metadata": {},
     "output_type": "execute_result"
    },
    {
     "data": {
      "image/png": "[encoded data removed]",
      "text/plain": [
       "<Figure size 432x288 with 1 Axes>"
      ]
     },
     "metadata": {
      "needs_background": "light"
     },
     "output_type": "display_data"
    }
   ],
   "source": [
    "plt.plot(filtered_divs, filtered_taus, '.')\n",
    "plt.ylabel(\"Unit timescales\")\n",
    "plt.xlabel(\"DIVS\")"
   ]
  },
  {
   "cell_type": "markdown",
   "id": "cb5c87ad",
   "metadata": {},
   "source": [
    "## Hypotheses fitting (for figure 2 for timescale dev paper)"
   ]
  },
  {
   "cell_type": "code",
   "execution_count": 23,
   "id": "9d92d9bd",
   "metadata": {},
   "outputs": [],
   "source": [
    "def rsq(xdata, ydata, popt, f):\n",
    "    \n",
    "    #residual sum of squares\n",
    "    residuals = ydata- f(xdata, *popt)\n",
    "    ss_res = np.sum(residuals**2)\n",
    "    #total sum of squares\n",
    "    ss_tot = np.sum((ydata-np.mean(ydata))**2)\n",
    "    \n",
    "    r_squared = 1 - (ss_res / ss_tot)\n",
    "    \n",
    "    return r_squared\n",
    "    "
   ]
  },
  {
   "cell_type": "code",
   "execution_count": 59,
   "id": "96af8b7b",
   "metadata": {},
   "outputs": [],
   "source": [
    "def f_test(xdata, ydata, model0, model1, popt0, popt1, p0, p1):\n",
    "\n",
    "    yfit0 = model0(xdata, *popt0)\n",
    "    yfit1 = model1(xdata, *popt1)\n",
    "\n",
    "    ssq0 = ((yfit0-ydata)**2).sum()\n",
    "    ssq1 = ((yfit1-ydata)**2).sum()\n",
    "    \n",
    "    param_diff = p1 - p0\n",
    "    print(param_diff)\n",
    "    \n",
    "    if param_diff == 0:\n",
    "        df_0 = len(xdata) - p0\n",
    "        df_1 = len(xdata) - p1\n",
    "        f_ratio = ssq1/ssq0\n",
    "        p = 1 - ss.f.cdf(f_ratio, df_0, df_1)\n",
    "    else:\n",
    "        df = len(xdata) - p1\n",
    "        print(\"df\", df)\n",
    "        f_ratio = ((ssq0 - ssq1) / param_diff) / (ssq1 / df)\n",
    "        p = 1 - ss.f.cdf(f_ratio, param_diff, df)\n",
    "\n",
    "    return f_ratio, p"
   ]
  },
  {
   "cell_type": "code",
   "execution_count": 25,
   "id": "8edd4d8f",
   "metadata": {},
   "outputs": [],
   "source": [
    "# Define the Gaussian function\n",
    "def gaussian(x,a,x0,sigma):\n",
    "    return a*np.exp(-(x-x0)**2/(2*sigma**2)) \n",
    "# Define the sigmoid function\n",
    "def sigmoid(x, A, B, C, D):\n",
    "    return A / (1 + np.exp(-C * (x - B))) + D\n",
    "\n",
    "# Define the horizontal line function (constant)\n",
    "def horizontal_line(x, A):\n",
    "    return A"
   ]
  },
  {
   "cell_type": "code",
   "execution_count": 26,
   "id": "067d2bf1",
   "metadata": {},
   "outputs": [],
   "source": [
    "def fit_hyp(divs, taus, guess_gaussian, bounds_gaussian, guess_sigmoid, bounds_sigmoid):\n",
    "    \n",
    "    \n",
    "    # Fit the Gaussian function to your data\n",
    "    params_gaussian, _ = curve_fit(gaussian, divs, taus, p0=guess_gaussian, bounds=bounds_gaussian, maxfev=2000)\n",
    "\n",
    "    # Fit the sigmoid function to your data\n",
    "    params_sigmoid, _ = curve_fit(sigmoid, divs, taus, p0=guess_sigmoid,bounds=bounds_sigmoid, maxfev=2000)\n",
    "\n",
    "    # Fit the horizontal line to your data\n",
    "    params_horizontal_line, _ = curve_fit(horizontal_line, divs, taus)\n",
    "\n",
    "\n",
    "    return params_horizontal_line, params_sigmoid, params_gaussian"
   ]
  },
  {
   "cell_type": "code",
   "execution_count": 27,
   "id": "687eed41",
   "metadata": {},
   "outputs": [],
   "source": [
    "def plt_hyp(divs, taus, params_horizontal_line, params_sigmoid, params_gaussian, ylim=None ):\n",
    "    \n",
    "    # Create a range of x values for plotting\n",
    "    x_fit = np.linspace(min(divs), max(divs), 100)\n",
    "\n",
    "    # Calculate the corresponding y values using the fitted parameters for each function\n",
    "    y_fit_gaussian = gaussian(x_fit, *params_gaussian)\n",
    "    y_fit_sigmoid = sigmoid(x_fit, *params_sigmoid)\n",
    "    y_fit_horizontal_line = horizontal_line(x_fit, params_horizontal_line[0])\n",
    "\n",
    "    # Plot the data and the fitted functions\n",
    "    plt.figure(figsize =  (6,5))\n",
    "    # Create the scatter plot of the data\n",
    "    plt.plot(divs, taus, '.', color = \"dimgrey\")\n",
    "    #plt.ylabel(\"Log(timescales)\", size = 18)\n",
    "    #plt.xlabel(\"Days \", size = 18)\n",
    "    plt.xticks(size = 13)\n",
    "    plt.yticks(size = 13)\n",
    "\n",
    "    plt.axhline(y=params_horizontal_line[0], xmin = 0.04, xmax = 0.98, color='#FDAE61', linestyle='-.', linewidth=5,dashes=(5,2))\n",
    "    plt.plot(x_fit, y_fit_sigmoid, '-.', color='#2D7BB6', linewidth=5, dashes=(4,2))\n",
    "    plt.plot(x_fit, y_fit_gaussian, '-.',color='#D7191D', linewidth=5, dashes=(2, 2))\n",
    "    \n",
    "    if ylim:\n",
    "        plt.ylim(ylim[0],ylim[1])\n",
    "\n",
    "    \n",
    "    \"\"\"\n",
    "    days_pn = ['6', '11', '16', '21','26','31']\n",
    "    \n",
    "    locs, labels = plt.xticks()\n",
    "    print(locs)\n",
    "    labels = days_pn\n",
    "    plt.xticks(locs[1:-1], labels)\"\"\"\n",
    "    plt.show()"
   ]
  },
  {
   "cell_type": "markdown",
   "id": "196840cb",
   "metadata": {},
   "source": [
    "### Linear version"
   ]
  },
  {
   "cell_type": "code",
   "execution_count": 28,
   "id": "341257d3",
   "metadata": {},
   "outputs": [
    {
     "data": {
      "image/png": "[encoded data removed]",
      "text/plain": [
       "<Figure size 432x360 with 1 Axes>"
      ]
     },
     "metadata": {
      "needs_background": "light"
     },
     "output_type": "display_data"
    }
   ],
   "source": [
    "#guess gaussian - [initial_A, initial_mu, initial_sigma]\n",
    "#bounds gaussian - ([min_A, min_mu, min_sigma], [max_A, max_mu, max_sigma])\n",
    "#A: Amplitude\n",
    "#mu: Mean (center)\n",
    "#sigms: Standard Deviation\n",
    "    \n",
    "\n",
    "# Guess and bounds for Gaussian fit\n",
    "guess_gaussian = [0.4, 17, 5]\n",
    "bounds_gaussian = ([0.13, 0, 5], [10, 17, 20])\n",
    "\n",
    "#guess sigmoid - [initial_A, initial_x0, initial_k, initial_b]\n",
    "#bounds sigmoid  - ([min_A, min_x0, min_k, min_b], [max_A, max_x0, max_k, max_b])\n",
    "#A: Amplitude\n",
    "#x0: Midpoint\n",
    "#k: Slope\n",
    "#b: Offset\n",
    "\n",
    "# Guess and bounds for Sigmoid fit\n",
    "guess_sigmoid = (2.0, 10.0, 1.0, 1.0)\n",
    "bounds_sigmoid = ([-np.inf, 10, -np.inf, -np.inf], [np.inf, 30, np.inf, np.inf])\n",
    "\n",
    "params_horizontal_line, params_sigmoid, params_gaussian = fit_hyp(filtered_divs, filtered_taus, guess_gaussian, bounds_gaussian, guess_sigmoid, bounds_sigmoid)\n",
    "\n",
    "#plot\n",
    "plt_hyp(filtered_divs, filtered_taus, params_horizontal_line, params_sigmoid, params_gaussian, ylim=None )"
   ]
  },
  {
   "cell_type": "markdown",
   "id": "ea754782",
   "metadata": {},
   "source": [
    "### Logged version"
   ]
  },
  {
   "cell_type": "code",
   "execution_count": 29,
   "id": "c4cffc9a",
   "metadata": {},
   "outputs": [
    {
     "data": {
      "image/png": "[encoded data removed]",
      "text/plain": [
       "<Figure size 432x360 with 1 Axes>"
      ]
     },
     "metadata": {
      "needs_background": "light"
     },
     "output_type": "display_data"
    }
   ],
   "source": [
    "filtered_taus_log = np.log10(filtered_taus)\n",
    "\n",
    "# Guess and bounds for Gaussian fit\n",
    "guess_gaussian = [0.6, 15, 0.5\n",
    "                 ]\n",
    "bounds_gaussian = ([0.2, 10,0], [0.9,20, 10])\n",
    "bounds_gaussian = ([-np.inf, -np.inf,-np.inf], [np.inf,np.inf, np.inf])\n",
    "\n",
    "# Guess and bounds for Sigmoid fit\n",
    "guess_sigmoid = (0.0, 15.0, 3.0, 1.0)\n",
    "bounds_sigmoid = ([-np.inf, -np.inf, -np.inf, -np.inf], [np.inf, np.inf, np.inf, np.inf])\n",
    "\n",
    "params_horizontal_line_log, params_sigmoid_log, params_gaussian_log = fit_hyp(filtered_divs, filtered_taus_log, guess_gaussian, bounds_gaussian, guess_sigmoid, bounds_sigmoid)\n",
    "\n",
    "#plot\n",
    "plt_hyp(filtered_divs, filtered_taus_log, params_horizontal_line_log, params_sigmoid_log, params_gaussian_log, ylim=None )"
   ]
  },
  {
   "cell_type": "markdown",
   "id": "d987d666",
   "metadata": {},
   "source": [
    "### Normalized divs linear "
   ]
  },
  {
   "cell_type": "code",
   "execution_count": 32,
   "id": "80203a5d",
   "metadata": {},
   "outputs": [
    {
     "data": {
      "image/png": "[encoded data removed]",
      "text/plain": [
       "<Figure size 432x360 with 1 Axes>"
      ]
     },
     "metadata": {
      "needs_background": "light"
     },
     "output_type": "display_data"
    }
   ],
   "source": [
    "\n",
    "# Normalize the divs data to the range [0, 1]\n",
    "divs_normalized = (filtered_divs - filtered_divs.min()) / (filtered_divs.max() - filtered_divs.min())\n",
    "\n",
    "# Guess and bounds for Gaussian fit\n",
    "guess_gaussian = [0.1, 0.4, 0.25]\n",
    "bounds_gaussian = ([0.05, 0.2, 0], [10, 0.5, 0.3])\n",
    "bounds_gaussian = ([-np.inf, -np.inf, -np.inf], [np.inf, np.inf, np.inf])\n",
    "#guess sigmoid - [initial_A, initial_x0, initial_k, initial_b]\n",
    "#bounds sigmoid  - ([min_A, min_x0, min_k, min_b], [max_A, max_x0, max_k, max_b])\n",
    "#A: Amplitude\n",
    "#x0: Midpoint\n",
    "#k: Slope\n",
    "#b: Offset\n",
    "\n",
    "# Guess and bounds for Sigmoid fit\n",
    "guess_sigmoid = (0.1, 0.2, 6, 0.5)\n",
    "bounds_sigmoid = ([0.05, 0.1, 5, -np.inf], [np.inf, 0.6, np.inf, np.inf])\n",
    "\n",
    "params_horizontal_line_norm, params_sigmoid_norm, params_gaussian_norm = fit_hyp(divs_normalized, filtered_taus, guess_gaussian, bounds_gaussian, guess_sigmoid, bounds_sigmoid)\n",
    "\n",
    "#plot\n",
    "plt_hyp(divs_normalized, filtered_taus, params_horizontal_line_norm, params_sigmoid_norm, params_gaussian_norm, ylim=None )\n"
   ]
  },
  {
   "cell_type": "markdown",
   "id": "13d99351",
   "metadata": {},
   "source": [
    "### Compute rsqs for fits - log version"
   ]
  },
  {
   "cell_type": "code",
   "execution_count": 46,
   "id": "908ec90e",
   "metadata": {},
   "outputs": [
    {
     "name": "stdout",
     "output_type": "stream",
     "text": [
      "rsq rat h0: 0.0\n",
      "rsq rat h1: 0.026266138744954537\n",
      "rsq rat h2: 0.023134263021238888\n"
     ]
    }
   ],
   "source": [
    "#get r-squared values\n",
    "\n",
    "rsqs_rat_h0 = rsq(filtered_divs,  filtered_taus_log, params_horizontal_line_log, horizontal_line) \n",
    "rsqs_rat_h1 = rsq(filtered_divs,  filtered_taus_log, params_sigmoid_log, sigmoid) \n",
    "rsqs_rat_h2 = rsq(filtered_divs,  filtered_taus_log, params_gaussian_log, gaussian) \n",
    "\n",
    "print(\"rsq rat h0:\", rsqs_rat_h0)\n",
    "print(\"rsq rat h1:\", rsqs_rat_h1)\n",
    "print(\"rsq rat h2:\", rsqs_rat_h2)"
   ]
  },
  {
   "cell_type": "markdown",
   "id": "55857e75",
   "metadata": {},
   "source": [
    "### f-tests"
   ]
  },
  {
   "cell_type": "code",
   "execution_count": 60,
   "id": "b03c7bdf",
   "metadata": {},
   "outputs": [
    {
     "name": "stdout",
     "output_type": "stream",
     "text": [
      "3\n",
      "df 761\n",
      "2\n",
      "df 762\n",
      "1\n",
      "df 761\n",
      "f_test rat h0 vs h1: (6.842571801959368, 0.00014928831312988056)\n",
      "f_test rat h0 vs h2: (9.022892171806872, 0.00013399488673415672)\n",
      "f_test rat h1 vs h2: (2.4476476792905917, 0.11811685643293923)\n"
     ]
    }
   ],
   "source": [
    "\n",
    "#f-tests\n",
    "f_test_h0_h1 = f_test(filtered_divs, filtered_taus_log, horizontal_line, sigmoid,\n",
    "                      params_horizontal_line_log, params_sigmoid_log, 1, 4)\n",
    "f_test_h0_h2 = f_test(filtered_divs, filtered_taus_log, horizontal_line, gaussian, \n",
    "                      params_horizontal_line_log, params_gaussian_log,1,3)\n",
    "f_test_h2_h1 = f_test(filtered_divs, filtered_taus_log, gaussian, sigmoid, \n",
    "                      params_gaussian_log, params_sigmoid_log,3,4)\n",
    "\n",
    "print(\"f_test rat h0 vs h1:\", f_test_h0_h1)\n",
    "print(\"f_test rat h0 vs h2:\", f_test_h0_h2)\n",
    "print(\"f_test rat h1 vs h2:\", f_test_h2_h1)"
   ]
  },
  {
   "cell_type": "markdown",
   "id": "236ddf8b",
   "metadata": {},
   "source": [
    "## Mean analysis"
   ]
  },
  {
   "cell_type": "markdown",
   "id": "dc4eea20",
   "metadata": {},
   "source": [
    "### Get mean days and timescales"
   ]
  },
  {
   "cell_type": "code",
   "execution_count": 33,
   "id": "a63dc6e3",
   "metadata": {},
   "outputs": [],
   "source": [
    "def get_mean_std_recday (taus, divs):\n",
    "    days = sorted(set(divs))\n",
    "    all_indices = []\n",
    "    days_taus = []\n",
    "    mean_taus = []\n",
    "    std_taus = []\n",
    "\n",
    "    #get indices for each day\n",
    "\n",
    "    for d in days:\n",
    "   \n",
    "        indices = [i for i, x in enumerate(divs) if x == d]\n",
    "\n",
    "        \n",
    "        all_indices.append(indices)\n",
    "        #get taus for those indices\n",
    "        day_taus = taus[indices]\n",
    "        days_taus.append(day_taus)\n",
    "        #get means and stds\n",
    "        mean_taus.append(np.mean(day_taus))\n",
    "        std_taus.append(np.std(day_taus))\n",
    "        \n",
    "    return [days, all_indices, days_taus, mean_taus, std_taus]"
   ]
  },
  {
   "cell_type": "code",
   "execution_count": 34,
   "id": "2763d78a",
   "metadata": {},
   "outputs": [],
   "source": [
    "days, all_indices,days_taus_filt, mean_taus_filt, std_filt = get_mean_std_recday(filtered_taus, filtered_divs)"
   ]
  },
  {
   "cell_type": "code",
   "execution_count": 35,
   "id": "08014c05",
   "metadata": {},
   "outputs": [
    {
     "data": {
      "text/plain": [
       "Text(0.5, 1.0, 'Mean day taus')"
      ]
     },
     "execution_count": 35,
     "metadata": {},
     "output_type": "execute_result"
    },
    {
     "data": {
      "image/png": "[encoded data removed]",
      "text/plain": [
       "<Figure size 432x288 with 1 Axes>"
      ]
     },
     "metadata": {
      "needs_background": "light"
     },
     "output_type": "display_data"
    }
   ],
   "source": [
    "#plot the mean\n",
    "plt.plot(days, np.log10(mean_taus_filt), '.')\n",
    "plt.title(\"Mean day taus\")"
   ]
  },
  {
   "cell_type": "markdown",
   "id": "86121ace",
   "metadata": {},
   "source": [
    "### Fit the mean "
   ]
  },
  {
   "cell_type": "code",
   "execution_count": 37,
   "id": "ad4a7796",
   "metadata": {},
   "outputs": [
    {
     "data": {
      "image/png": "[encoded data removed]",
      "text/plain": [
       "<Figure size 432x360 with 1 Axes>"
      ]
     },
     "metadata": {
      "needs_background": "light"
     },
     "output_type": "display_data"
    }
   ],
   "source": [
    "#Linear\n",
    "\n",
    "# Guess and bounds for Gaussian fit\n",
    "guess_gaussian = [0.6, 15, 0.5\n",
    "                 ]\n",
    "bounds_gaussian = ([0.2, 10,0], [0.9,20, 10])\n",
    "bounds_gaussian = ([-np.inf, -np.inf,-np.inf], [np.inf,np.inf, np.inf])\n",
    "\n",
    "# Guess and bounds for Sigmoid fit\n",
    "guess_sigmoid = (0.0, 15.0, 0.12, 0.06)\n",
    "bounds_sigmoid = ([-np.inf, -np.inf, -np.inf, -np.inf], [np.inf, np.inf, np.inf, np.inf])\n",
    "\n",
    "params_horizontal_line_mean, params_sigmoid_mean, params_gaussian_mean = fit_hyp(days, mean_taus_filt, guess_gaussian, bounds_gaussian, guess_sigmoid, bounds_sigmoid)\n",
    "\n",
    "#plot\n",
    "plt_hyp(days,  mean_taus_filt, params_horizontal_line_mean, params_sigmoid_mean, params_gaussian_mean, ylim=None )\n"
   ]
  },
  {
   "cell_type": "code",
   "execution_count": 47,
   "id": "545b8cef",
   "metadata": {},
   "outputs": [
    {
     "data": {
      "image/png": "[encoded data removed]",
      "text/plain": [
       "<Figure size 432x360 with 1 Axes>"
      ]
     },
     "metadata": {
      "needs_background": "light"
     },
     "output_type": "display_data"
    }
   ],
   "source": [
    "#Log\n",
    "\n",
    "# Guess and bounds for Gaussian fit\n",
    "guess_gaussian = [0.6, 15, 0.5\n",
    "                 ]\n",
    "bounds_gaussian = ([0.2, 10,0], [0.9,20, 10])\n",
    "bounds_gaussian = ([-np.inf, -np.inf,-np.inf], [np.inf,np.inf, np.inf])\n",
    "\n",
    "# Guess and bounds for Sigmoid fit\n",
    "guess_sigmoid = (0.0, 15.0, -1.0, -1.25)\n",
    "bounds_sigmoid = ([-np.inf, -np.inf, -np.inf, -np.inf], [np.inf, np.inf, np.inf, np.inf])\n",
    "\n",
    "params_horizontal_line_mean_log, params_sigmoid_mean_log, params_gaussian_mean_log = fit_hyp(days, np.log10(mean_taus_filt), guess_gaussian, bounds_gaussian, guess_sigmoid, bounds_sigmoid)\n",
    "\n",
    "#plot\n",
    "plt_hyp(days, np.log10(mean_taus_filt), params_horizontal_line_mean_log, params_sigmoid_mean_log,params_gaussian_mean_log, ylim=None )\n"
   ]
  },
  {
   "cell_type": "markdown",
   "id": "3084409c",
   "metadata": {},
   "source": [
    "### Calculate rsq for mean"
   ]
  },
  {
   "cell_type": "code",
   "execution_count": 48,
   "id": "05b8dac8",
   "metadata": {},
   "outputs": [
    {
     "name": "stdout",
     "output_type": "stream",
     "text": [
      "rsq rat h0: 0.0\n",
      "rsq rat h1: 0.4475037890124409\n",
      "rsq rat h2: 0.3331052192558781\n"
     ]
    }
   ],
   "source": [
    "#get r-squared values\n",
    "\n",
    "rsqs_rat_h0 = rsq(days,  np.log10(mean_taus_filt),params_horizontal_line_mean_log, horizontal_line) \n",
    "rsqs_rat_h1 = rsq(days,  np.log10(mean_taus_filt),  params_sigmoid_mean_log, sigmoid) \n",
    "rsqs_rat_h2 = rsq(days,  np.log10(mean_taus_filt), params_gaussian_mean_log, gaussian) \n",
    "\n",
    "print(\"rsq rat h0:\", rsqs_rat_h0)\n",
    "print(\"rsq rat h1:\", rsqs_rat_h1)\n",
    "print(\"rsq rat h2:\", rsqs_rat_h2)"
   ]
  },
  {
   "cell_type": "markdown",
   "id": "19e55496",
   "metadata": {},
   "source": [
    "### f-tests for mean"
   ]
  },
  {
   "cell_type": "code",
   "execution_count": 57,
   "id": "2847206a",
   "metadata": {},
   "outputs": [
    {
     "name": "stdout",
     "output_type": "stream",
     "text": [
      "3\n",
      "2\n",
      "1\n",
      "f_test rat h0 vs h1: (5.669770146455582, 0.005244212131310544)\n",
      "f_test rat h0 vs h2: (5.4943561077598915, 0.011604608785157788)\n",
      "f_test rat h1 vs h2: (4.348210751696747, 0.04943778052513015)\n"
     ]
    }
   ],
   "source": [
    "\n",
    "#f-tests\n",
    "f_test_h0_h1 = f_test(days, np.log10(mean_taus_filt), horizontal_line, sigmoid,\n",
    "                      params_horizontal_line_mean_log, params_sigmoid_mean_log, 1, 4)\n",
    "f_test_h0_h2 = f_test(days, np.log10(mean_taus_filt), horizontal_line, gaussian, \n",
    "                      params_horizontal_line_mean_log, params_gaussian_mean_log,1,3)\n",
    "f_test_h2_h1 = f_test(days, np.log10(mean_taus_filt), gaussian, sigmoid, \n",
    "                      params_gaussian_mean_log, params_sigmoid_mean_log,3,4)\n",
    "\n",
    "print(\"f_test rat h0 vs h1:\", f_test_h0_h1)\n",
    "print(\"f_test rat h0 vs h2:\", f_test_h0_h2)\n",
    "print(\"f_test rat h1 vs h2:\", f_test_h2_h1)"
   ]
  },
  {
   "cell_type": "code",
   "execution_count": null,
   "id": "12aaaec7",
   "metadata": {},
   "outputs": [],
   "source": []
  },
  {
   "cell_type": "code",
   "execution_count": null,
   "id": "214797fa",
   "metadata": {},
   "outputs": [],
   "source": []
  },
  {
   "cell_type": "code",
   "execution_count": null,
   "id": "49941ef6",
   "metadata": {},
   "outputs": [],
   "source": []
  },
  {
   "cell_type": "code",
   "execution_count": null,
   "id": "6582ab07",
   "metadata": {},
   "outputs": [],
   "source": []
  }
 ],
 "metadata": {
  "kernelspec": {
   "display_name": "Python 3 (ipykernel)",
   "language": "python",
   "name": "python3"
  },
  "language_info": {
   "codemirror_mode": {
    "name": "ipython",
    "version": 3
   },
   "file_extension": ".py",
   "mimetype": "text/x-python",
   "name": "python",
   "nbconvert_exporter": "python",
   "pygments_lexer": "ipython3",
   "version": "3.9.7"
  }
 },
 "nbformat": 4,
 "nbformat_minor": 5
}
