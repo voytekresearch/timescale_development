{
 "cells": [
  {
   "cell_type": "code",
   "execution_count": 1,
   "id": "aa86ec3b",
   "metadata": {},
   "outputs": [],
   "source": [
    "# OPTIONAL: Load the \"autoreload\" extension so that code can change\n",
    "%load_ext autoreload\n",
    "\n",
    "# OPTIONAL: always reload modules so that as you change code in src, it gets loaded\n",
    "%autoreload 2"
   ]
  },
  {
   "cell_type": "code",
   "execution_count": 2,
   "id": "e7b54386",
   "metadata": {},
   "outputs": [
    {
     "ename": "ModuleNotFoundError",
     "evalue": "No module named 'timescales.psd'",
     "output_type": "error",
     "traceback": [
      "\u001b[0;31m---------------------------------------------------------------------------\u001b[0m",
      "\u001b[0;31mModuleNotFoundError\u001b[0m                       Traceback (most recent call last)",
      "\u001b[0;32m/var/folders/rr/tk8wmt7x4xlgzgmcy768y1rm0000gn/T/ipykernel_9372/3080889040.py\u001b[0m in \u001b[0;36m<module>\u001b[0;34m\u001b[0m\n\u001b[1;32m     34\u001b[0m rc('figure', **figure)\"\"\"\n\u001b[1;32m     35\u001b[0m \u001b[0;34m\u001b[0m\u001b[0m\n\u001b[0;32m---> 36\u001b[0;31m \u001b[0;32mfrom\u001b[0m \u001b[0mtimescales\u001b[0m\u001b[0;34m.\u001b[0m\u001b[0mpsd\u001b[0m \u001b[0;32mimport\u001b[0m \u001b[0mall_neurons_psd_and_rate\u001b[0m\u001b[0;34m,\u001b[0m \u001b[0mconvert_knee_val\u001b[0m\u001b[0;34m\u001b[0m\u001b[0;34m\u001b[0m\u001b[0m\n\u001b[0m\u001b[1;32m     37\u001b[0m \u001b[0;32mfrom\u001b[0m \u001b[0mtimescales\u001b[0m\u001b[0;34m.\u001b[0m\u001b[0macf\u001b[0m \u001b[0;32mimport\u001b[0m \u001b[0mall_neurons_acf\u001b[0m\u001b[0;34m,\u001b[0m \u001b[0mexp_decay_func\u001b[0m\u001b[0;34m\u001b[0m\u001b[0;34m\u001b[0m\u001b[0m\n\u001b[1;32m     38\u001b[0m \u001b[0;32mfrom\u001b[0m \u001b[0mtimescales\u001b[0m\u001b[0;34m.\u001b[0m\u001b[0mplts\u001b[0m \u001b[0;32mimport\u001b[0m \u001b[0mplot_rsq\u001b[0m\u001b[0;34m,\u001b[0m \u001b[0mplot_fits\u001b[0m\u001b[0;34m\u001b[0m\u001b[0;34m\u001b[0m\u001b[0m\n",
      "\u001b[0;31mModuleNotFoundError\u001b[0m: No module named 'timescales.psd'"
     ]
    }
   ],
   "source": [
    "\"\"\" %matplotlib inline\n",
    "%config InlineBackend.figure_format = 'retina'\"\"\"\n",
    "\n",
    "import warnings\n",
    "\n",
    "from tqdm.notebook import tqdm\n",
    "from multiprocessing import Pool, cpu_count\n",
    "from functools import partial\n",
    "\n",
    "import numpy as np\n",
    "import pandas as pd\n",
    "import scipy.stats as ss\n",
    "import os\n",
    "import hdf5storage\n",
    "\n",
    "from scipy.optimize import curve_fit\n",
    "\n",
    "import statsmodels.formula.api as smf\n",
    "\n",
    "from neurodsp.spectral import compute_spectrum\n",
    "from fooof import FOOOF\n",
    "\n",
    "\"\"\" import seaborn as sns\n",
    "sns.set_style('whitegrid')\"\"\"\n",
    "\n",
    "import matplotlib.pyplot as plt\n",
    "#from matplotlib import cm, rc\n",
    "\n",
    "\"\"\" font = {'family' : 'DejaVu Sans',\n",
    "        'weight' : 'light',\n",
    "        'size'   : 13}\n",
    "figure = {'figsize' : (10,8)}\n",
    "rc('font', **font)\n",
    "rc('figure', **figure)\"\"\"\n",
    "\n",
    "from timescales.psd import all_neurons_psd_and_rate, convert_knee_val\n",
    "from timescales.acf import all_neurons_acf, exp_decay_func\n",
    "from timescales.plts import plot_rsq, plot_fits\n",
    "from timescales.utils import get_divs_list, load_spiketimes, compute_rsq\n",
    "\n",
    "import traceback"
   ]
  },
  {
   "cell_type": "code",
   "execution_count": null,
   "id": "9b284ed1",
   "metadata": {},
   "outputs": [],
   "source": [
    "def get_mean_std (taus, divs):\n",
    "    days = sorted(set(divs))\n",
    "    all_indices = []\n",
    "    days_taus = []\n",
    "    mean_taus = []\n",
    "    std_taus = []\n",
    "\n",
    "    #get indices for each day\n",
    "\n",
    "    for d in days:\n",
    "   \n",
    "        indices = [i for i, x in enumerate(divs) if x == d]\n",
    "        \n",
    "        all_indices.append(indices)\n",
    "        #get taus for those indices\n",
    "        day_taus = taus[indices]\n",
    "        days_taus.append(day_taus)\n",
    "        #get means and stds\n",
    "        mean_taus.append(np.mean(day_taus))\n",
    "        std_taus.append(np.std(day_taus))\n",
    "        \n",
    "    return [days, all_indices, days_taus, mean_taus, std_taus]\n",
    "    \n",
    "\n"
   ]
  },
  {
   "cell_type": "code",
   "execution_count": null,
   "id": "4fa2823d",
   "metadata": {},
   "outputs": [],
   "source": [
    "def get_median_std (taus, divs):\n",
    "    days = sorted(set(divs))\n",
    "    all_indices = []\n",
    "    days_taus = []\n",
    "    median_taus = []\n",
    "    std_taus = []\n",
    "\n",
    "    #get indices for each day\n",
    "\n",
    "    for d in days:\n",
    "   \n",
    "        indices = [i for i, x in enumerate(divs) if x == d]\n",
    "        \n",
    "        all_indices.append(indices)\n",
    "        #get taus for those indices\n",
    "        day_taus = taus[indices]\n",
    "        days_taus.append(day_taus)\n",
    "        #get means and stds\n",
    "        median_taus.append(np.median(day_taus))\n",
    "        std_taus.append(np.std(day_taus))\n",
    "        \n",
    "    return [days, all_indices, days_taus, median_taus, std_taus]\n",
    "    \n",
    "\n"
   ]
  },
  {
   "cell_type": "code",
   "execution_count": null,
   "id": "f20ec795",
   "metadata": {},
   "outputs": [],
   "source": [
    "def remove_nans(taus, divs, cultures, objs):\n",
    "    #remove NaNs\n",
    "    divs = divs[~np.isnan(taus)]\n",
    "    cultures = cultures[~np.isnan(taus)]\n",
    "    objs = objs[~np.isnan(taus)]\n",
    "    taus = taus[~np.isnan(taus)]\n",
    "    \n",
    "    \n",
    "    return [taus, divs, cultures, objs]"
   ]
  },
  {
   "cell_type": "markdown",
   "id": "8c9b52d9",
   "metadata": {},
   "source": [
    "### Read pickle files "
   ]
  },
  {
   "cell_type": "code",
   "execution_count": 3,
   "id": "e53779c1",
   "metadata": {},
   "outputs": [],
   "source": [
    "#loop through pickle results in folder\n",
    "\n",
    "pickle_dir_w_opt = '/Users/blancamartin/Desktop/Voytek_Lab/timescales/organoid-tango/organoid-tango/wPSD_fits_pkl_opt'\n",
    "\n",
    "wf_w_tau = []\n",
    "wf_w= []\n",
    "\n",
    "for filename in sorted(os.listdir(pickle_dir_w_opt)):\n",
    "    f = os.path.join(pickle_dir_w_opt, filename)\n",
    "    obj = pd.read_pickle(f)\n",
    "    wf_w_tau.append(obj.tau)\n",
    "    wf_w.append(obj)\n",
    "    \n"
   ]
  },
  {
   "cell_type": "code",
   "execution_count": 4,
   "id": "02c29765",
   "metadata": {},
   "outputs": [
    {
     "ename": "NameError",
     "evalue": "name 'remove_nans' is not defined",
     "output_type": "error",
     "traceback": [
      "\u001b[0;31m---------------------------------------------------------------------------\u001b[0m",
      "\u001b[0;31mNameError\u001b[0m                                 Traceback (most recent call last)",
      "\u001b[0;32m/var/folders/rr/tk8wmt7x4xlgzgmcy768y1rm0000gn/T/ipykernel_9372/1896748991.py\u001b[0m in \u001b[0;36m<module>\u001b[0;34m\u001b[0m\n\u001b[1;32m      1\u001b[0m \u001b[0;31m#remove NaNs\u001b[0m\u001b[0;34m\u001b[0m\u001b[0;34m\u001b[0m\u001b[0m\n\u001b[0;32m----> 2\u001b[0;31m \u001b[0mwf_w_tau\u001b[0m\u001b[0;34m,\u001b[0m \u001b[0mwdivs\u001b[0m\u001b[0;34m,\u001b[0m \u001b[0mwcultures\u001b[0m\u001b[0;34m,\u001b[0m\u001b[0mwf_w\u001b[0m \u001b[0;34m=\u001b[0m \u001b[0mremove_nans\u001b[0m\u001b[0;34m(\u001b[0m\u001b[0mnp\u001b[0m\u001b[0;34m.\u001b[0m\u001b[0masarray\u001b[0m\u001b[0;34m(\u001b[0m\u001b[0mwf_w_tau\u001b[0m\u001b[0;34m)\u001b[0m\u001b[0;34m,\u001b[0m \u001b[0mnp\u001b[0m\u001b[0;34m.\u001b[0m\u001b[0masarray\u001b[0m\u001b[0;34m(\u001b[0m\u001b[0mdivs\u001b[0m\u001b[0;34m)\u001b[0m\u001b[0;34m,\u001b[0m \u001b[0mnp\u001b[0m\u001b[0;34m.\u001b[0m\u001b[0masarray\u001b[0m\u001b[0;34m(\u001b[0m\u001b[0mcultures\u001b[0m\u001b[0;34m)\u001b[0m\u001b[0;34m,\u001b[0m \u001b[0mnp\u001b[0m\u001b[0;34m.\u001b[0m\u001b[0masarray\u001b[0m\u001b[0;34m(\u001b[0m\u001b[0mwf_w\u001b[0m\u001b[0;34m)\u001b[0m\u001b[0;34m)\u001b[0m\u001b[0;34m\u001b[0m\u001b[0;34m\u001b[0m\u001b[0m\n\u001b[0m",
      "\u001b[0;31mNameError\u001b[0m: name 'remove_nans' is not defined"
     ]
    }
   ],
   "source": [
    "#remove NaNs\n",
    "wf_w_tau, wdivs, wcultures,wf_w = remove_nans(np.asarray(wf_w_tau), np.asarray(divs), np.asarray(cultures), np.asarray(wf_w))\n"
   ]
  },
  {
   "cell_type": "code",
   "execution_count": null,
   "id": "6bcdadfc",
   "metadata": {},
   "outputs": [],
   "source": [
    "#convert matlab files to pickle - comment out after running\n",
    "\"\"\"\n",
    "directory_mat = '/Users/blancamartin/Downloads/Data_hc8/'\n",
    "directory_pck = os.getcwd() + '/hc8_data/'\n",
    "\n",
    "for filename in os.listdir(directory_mat):\n",
    "    data = hdf5storage.loadmat(directory_mat + filename)\n",
    "    spikes = data['data']['spikes'][0][0]* .05 #convert to ms\n",
    "    \n",
    "    np.save(directory_pck+filename[:-4], spikes , allow_pickle=True)\"\"\"\n",
    "    \n"
   ]
  },
  {
   "cell_type": "code",
   "execution_count": null,
   "id": "7ba39435",
   "metadata": {},
   "outputs": [],
   "source": [
    "## Unpack results\n",
    "# each culture was recorded at different days in vitro, so this finds those days\n",
    "all_culture_divs = [result['divs'] for result in results_ac]\n",
    "\n",
    "# array of timescale estimates\n",
    "exp_decay_params = np.vstack([result['exp_decay_params'] for result in results_ac])\n",
    "all_taus = [result['exp_decay_params'][:, 1] for result in results_ac]\n",
    "rsqs = np.array([rsq for result in results_ac for rsq in result['rsqs']])\n",
    "\n",
    "# Bins and windows\n",
    "windows = [win for result in results_ac for win in result['windows']]\n",
    "bins = [bins for result in results_ac for bins in result['bins']]\n",
    "\n",
    "\n",
    "# Average cuves and fit parameters\n",
    "avg_curves = [curve for result in results_ac for curve in result['average_curves']]\n",
    "\n",
    "exp_decay_params = np.vstack([params for result in results_ac\n",
    "                              for params in result['exp_decay_params']])\n",
    "\n",
    "\n",
    "\n",
    "all_flat_taus_ac = np.array([item for sublist in all_taus for item in sublist])\n",
    "all_flat_divs_ac = np.array([item for sublist in all_culture_divs for item in sublist])\n",
    "#remove extreme outliers\n",
    "outliers = 100*np.median(all_flat_taus_ac)\n",
    "all_flat_divs_ac = all_flat_divs_ac[all_flat_taus_ac<=outliers]\n",
    "all_flat_taus_ac = all_flat_taus_ac[all_flat_taus_ac<=outliers]\n"
   ]
  },
  {
   "cell_type": "code",
   "execution_count": null,
   "id": "cb0d8dd8",
   "metadata": {},
   "outputs": [],
   "source": [
    "plt.plot(all_flat_divs_ac, all_flat_taus_ac/1000, '.')"
   ]
  },
  {
   "cell_type": "code",
   "execution_count": null,
   "id": "d3794b10",
   "metadata": {},
   "outputs": [],
   "source": [
    "# Unpack results\n",
    "all_culture_divs_spec = [result['divs'] for result in results_spec]\n",
    "all_rates_spec = [result['rate_by_div'] for result in results_spec]\n",
    "all_timescales_spec = [result['timescales_by_div'] for result in results_spec]\n",
    "all_cfs_spec = [result['cf_by_div'] for result in results_spec]\n",
    "all_pws_spec = [result['pw_by_div'] for result in results_spec]\n",
    "all_fms =  [result['fms'] for result in results_spec]\n",
    "flat_all_fms = [item for sublist in all_fms for item in sublist]"
   ]
  },
  {
   "cell_type": "code",
   "execution_count": null,
   "id": "607446ca",
   "metadata": {},
   "outputs": [],
   "source": [
    "flat_divs_tau_spec = [item for sublist in all_culture_divs_spec for item in sublist]\n",
    "flat_taus_spec = [item for sublist in all_timescales_spec for item in sublist]\n",
    "flat_divs_tau_spec = np.asarray(flat_divs_tau_spec)\n",
    "flat_taus_spec = np.asarray(flat_taus_spec)\n",
    "flat_divs_tau_spec = flat_divs_tau_spec[~np.isnan(flat_taus_spec)]\n",
    "flat_taus_spec = flat_taus_spec[~np.isnan(flat_taus_spec)]\n",
    "#remove extreme outliers\n",
    "outliers = 100*np.median(flat_taus_spec)\n",
    "\n",
    "flat_divs_tau_spec = flat_divs_tau_spec[flat_taus_spec<=outliers]\n",
    "flat_taus_spec = flat_taus_spec[flat_taus_spec<=outliers]"
   ]
  },
  {
   "cell_type": "code",
   "execution_count": null,
   "id": "a44de25f",
   "metadata": {},
   "outputs": [],
   "source": [
    "plt.plot(flat_divs_tau_spec, flat_taus_spec, '.')"
   ]
  },
  {
   "cell_type": "markdown",
   "id": "cb5c87ad",
   "metadata": {},
   "source": [
    "# Figure 2 for timescale dev paper"
   ]
  },
  {
   "cell_type": "markdown",
   "id": "dfb3d8ff",
   "metadata": {},
   "source": [
    "## Autocorrelation  and Specparam single unit figures"
   ]
  },
  {
   "cell_type": "code",
   "execution_count": null,
   "id": "5928ed30",
   "metadata": {},
   "outputs": [],
   "source": [
    "def h_line(x_data, b):\n",
    "    \n",
    "\n",
    "    y = [b]*len(x_data)\n",
    "    return y"
   ]
  },
  {
   "cell_type": "code",
   "execution_count": null,
   "id": "2dafe501",
   "metadata": {},
   "outputs": [],
   "source": [
    "def sig_func(x, a, b, k, c):\n",
    "    y = (a/(1+b*np.exp(-k*x)))+c\n",
    "    return y\n",
    "   "
   ]
  },
  {
   "cell_type": "code",
   "execution_count": null,
   "id": "0c19c33c",
   "metadata": {},
   "outputs": [],
   "source": [
    "def sigmoid(x, L ,x0, k, b):\n",
    "    y = L / (1 + np.exp(-k*(x-x0)))+b\n",
    "    return (y)"
   ]
  },
  {
   "cell_type": "code",
   "execution_count": null,
   "id": "bbacf51b",
   "metadata": {},
   "outputs": [],
   "source": [
    "def gaus(x,a,x0,sigma,c):\n",
    "    return a*np.exp(-(x-x0)**2/(2*sigma**2)) + c"
   ]
  },
  {
   "cell_type": "code",
   "execution_count": 2,
   "id": "30ac5954",
   "metadata": {},
   "outputs": [],
   "source": [
    "def linear_fit(x,y, m, c):\n",
    "    y = m*x + c\n",
    "    return y"
   ]
  },
  {
   "cell_type": "code",
   "execution_count": null,
   "id": "ce214d78",
   "metadata": {},
   "outputs": [],
   "source": [
    "def fig2_timescales(time, timescales, sig_method = None, sig_func_type=sig_func, guess_h1=None, guess_h2=None):\n",
    "    \n",
    "\n",
    "    sorted_index = np.argsort(time)\n",
    "\n",
    "\n",
    "    time = time[sorted_index]\n",
    "    timescales = timescales[sorted_index]\n",
    "    \n",
    "    \n",
    "    #plot data points\n",
    "    plt.figure(figsize =  (6,5))\n",
    "    plt.plot(time, timescales, '.', color = \"dimgrey\")\n",
    "    #plt.ylabel(\"Log(timescales)\", size = 18)\n",
    "    #plt.xlabel(\"Days \", size = 18)\n",
    "    plt.xticks(size = 13)\n",
    "    plt.yticks(size = 13)\n",
    "    \n",
    "    #fit straight line model - yellow\n",
    "    guess_h0 = np.mean(timescales)\n",
    "    params_h0, _ = curve_fit(h_line, time, timescales, p0 = guess_h0)\n",
    "    y_h0 = h_line(time, params_h0)\n",
    "    rsq_h0 = rsq(time, timescales, params_h0, h_line)\n",
    "    plt.plot(time, y_h0,'-.', color='#FFC125', linewidth=5, dashes=(5, 2))\n",
    "    \n",
    "    \n",
    "    #fit sigmoid model - blue\n",
    "    params_h1, _ = curve_fit(sig_func_type, time, timescales, method = sig_method, p0=guess_h1)\n",
    "    \n",
    "    y_h1 = sig_func_type(time, *params_h1)\n",
    "    rsq_h1 = rsq(time, timescales, params_h1, sig_func)\n",
    "    plt.plot(time, y_h1,'-.', color='darkgreen', linewidth=5, dashes=(4, 2))\n",
    "    \n",
    "    #fit inverted u gaussian model - red\n",
    "    #initial guess\n",
    "\n",
    "    \n",
    "    params_h2, _ = curve_fit(gaus, time, timescales, p0=guess_h2, bounds=((0, min(time), -np.inf, -np.inf), (1, max(time), np.inf, np.inf)))\n",
    "    y_h2 = gaus(time, *params_h2)\n",
    "    \n",
    "    plt.plot(time, y_h2,'-.',color='#B22222', linewidth=5, dashes=(2, 2))\n",
    "    \n",
    "    #h3 linear git \n",
    "    \n",
    "    params_h3, _ = curve_fit(linear_fit, time, timescales)\n",
    "    y_h3 = linear_fit(time, params_h3)\n",
    "    \n",
    "    plt.plot(time, y_h3,'-.',color='#B32222', linewidth=5, dashes=(2, 2))\n",
    "    \n",
    "    return [params_h0, params_h1, params_h2]\n",
    "    \n",
    "  \n"
   ]
  },
  {
   "cell_type": "code",
   "execution_count": null,
   "id": "9d92d9bd",
   "metadata": {},
   "outputs": [],
   "source": [
    "def rsq(xdata, ydata, popt, f):\n",
    "    \n",
    "    #residual sum of squares\n",
    "    residuals = ydata- f(xdata, *popt)\n",
    "    ss_res = np.sum(residuals**2)\n",
    "    #total sum of squares\n",
    "    ss_tot = np.sum((ydata-np.mean(ydata))**2)\n",
    "    \n",
    "    r_squared = 1 - (ss_res / ss_tot)\n",
    "    \n",
    "    return r_squared\n",
    "    "
   ]
  },
  {
   "cell_type": "code",
   "execution_count": null,
   "id": "96af8b7b",
   "metadata": {},
   "outputs": [],
   "source": [
    "def f_test(xdata, ydata, model0, model1, popt0, popt1, p0, p1):\n",
    "\n",
    "    yfit0 = model0(xdata, *popt0)\n",
    "    yfit1 = model1(xdata, *popt1)\n",
    "\n",
    "    ssq0 = ((yfit0-ydata)**2).sum()\n",
    "    ssq1 = ((yfit1-ydata)**2).sum()\n",
    "    \n",
    "    param_diff = p1 - p0\n",
    "    \n",
    "    if param_diff == 0:\n",
    "        df_0 = len(xdata) - p0\n",
    "        df_1 = len(xdata) - p1\n",
    "        f_ratio = ssq1/ssq0\n",
    "        p = 1 - ss.f.cdf(f_ratio, df_0, df_1)\n",
    "    else:\n",
    "        df = len(xdata) - p1\n",
    "        f_ratio = ((ssq0 - ssq1) / param_diff) / (ssq1 / df)\n",
    "        p = 1 - ss.f.cdf(f_ratio, param_diff, df)\n",
    "\n",
    "    return f_ratio, p"
   ]
  },
  {
   "cell_type": "markdown",
   "id": "7927ccc3",
   "metadata": {},
   "source": [
    "## Specparam single units"
   ]
  },
  {
   "cell_type": "code",
   "execution_count": null,
   "id": "7601edaa",
   "metadata": {},
   "outputs": [],
   "source": [
    "#fits for single units specparama timescale estimation\n",
    "guess_h1 = [max(flat_taus_spec), 4*np.median(flat_divs_tau_spec)/2,1.15,min(flat_taus_spec)]\n",
    "n = max(flat_divs_tau_spec)                          \n",
    "mean = (n/4) \n",
    "\n",
    "guess_h2 = [0.1, 2*mean, 10,0]\n",
    "\n",
    "model_params = fig2_timescales(flat_divs_tau_spec,np.log10(flat_taus_spec), sig_method='dogbox', \n",
    "                guess_h1=guess_h1, guess_h2=guess_h2)\n"
   ]
  },
  {
   "cell_type": "code",
   "execution_count": null,
   "id": "e8aed501",
   "metadata": {},
   "outputs": [],
   "source": [
    "#rerun on mean taus\n",
    "days, all_indices, days_taus, mean_taus, std_taus = get_mean_std(np.log10(flat_taus_spec), flat_divs_tau_spec)\n",
    "days = np.asarray(days)\n",
    "mean_taus = np.asarray(mean_taus)\n",
    "days_taus = np.asarray(days_taus)\n",
    "\n",
    "guess_h1_mean = [max(mean_taus), 4*np.mean(days)/2,1.15,min(mean_taus)]\n",
    "n_mean = max(flat_divs_tau_spec)                          \n",
    "mean_mean = (n/4) \n",
    "\n",
    "guess_h2 = [0.1, 2*mean_mean, 10,0]\n",
    "\n",
    "model_params_mean = fig2_timescales(days,mean_taus, sig_method='dogbox', \n",
    "                guess_h1=guess_h1, guess_h2=guess_h2)\n",
    "\n",
    "#plot with all datapoints\n",
    "plt.figure(figsize =  (6,5))\n",
    "plt.plot(days, mean_taus, '.', color='k', linewidth=5)\n",
    "plt.plot(flat_divs_tau_spec, np.log10(flat_taus_spec), '.', color = \"dimgrey\")\n",
    "plt.plot(days, h_line(days, *model_params_mean[0]),'-.', color='#FFC125', linewidth=5, dashes=(5, 2))\n",
    "plt.plot(days, sig_func(days, *model_params_mean[1]),'-.', color='darkgreen', linewidth=5, dashes=(4, 2))\n",
    "plt.plot(days, gaus(days, *model_params_mean[2]),'-.',color='#B22222', linewidth=5, dashes=(2, 2))\n",
    "\n",
    "#plot with all datapoints\n",
    "fig, ax = plt.subplots(figsize =  (6,5))\n",
    "ax.plot(flat_divs_tau_spec, np.log10(flat_taus_spec), '.', color = \"dimgrey\")\n",
    "ax.tick_params(axis='both', which='major', labelsize=13)\n",
    "ax.set_xticks(list(plt.xticks()[0][1:]))\n",
    "x_ticks = list(plt.xticks()[0])\n",
    "new_top_labels = [int(i-4) for i in x_ticks]\n",
    "\n",
    "#top axis\n",
    "ax2 = ax.secondary_xaxis(\"top\")\n",
    "ax2.tick_params(axis='both', which='major', labelsize=13)\n",
    "ax2.set_xticklabels([0] +new_top_labels )\n",
    "\n",
    "ax.plot(days, h_line(days, *model_params_mean[0]),'-.', color='#FFC125', linewidth=5, dashes=(5, 2))\n",
    "ax.plot(days, sig_func(days, *model_params_mean[1]),'-.', color='darkgreen', linewidth=5, dashes=(4, 2))\n",
    "ax.plot(days, gaus(days, *model_params_mean[2]),'-.',color='#B22222', linewidth=5, dashes=(2, 2))\n",
    "\n",
    "\n",
    "\n"
   ]
  },
  {
   "cell_type": "code",
   "execution_count": null,
   "id": "05b8dac8",
   "metadata": {},
   "outputs": [],
   "source": [
    "#get r-squared values\n",
    "\n",
    "rsqs_rat_h0 = rsq(days, mean_taus, model_params_mean[0], h_line) \n",
    "rsqs_rat_h1 = rsq(days, mean_taus, model_params_mean[1], sig_func) \n",
    "rsqs_rat_h2 = rsq(days, mean_taus, model_params_mean[2], gaus) \n",
    "\n",
    "print(\"rsq rat h0:\", rsqs_rat_h0)\n",
    "print(\"rsq rat h1:\", rsqs_rat_h1)\n",
    "print(\"rsq rat h2:\", rsqs_rat_h2)"
   ]
  },
  {
   "cell_type": "code",
   "execution_count": null,
   "id": "2847206a",
   "metadata": {},
   "outputs": [],
   "source": [
    "#f-tests\n",
    "f_test_h0_h1 = f_test(days, mean_taus, h_line, sig_func,\n",
    "                      model_params_mean[0], model_params_mean[1], 1, 4)\n",
    "f_test_h0_h2 = f_test(days, mean_taus, h_line, gaus, \n",
    "                      model_params_mean[0], model_params_mean[2],1,4)\n",
    "f_test_h2_h1 = f_test(days, mean_taus, gaus, sig_func, \n",
    "                      model_params_mean[2], model_params_mean[1],4,4)\n",
    "\n",
    "print(\"f_test rat h0 vs h1:\", f_test_h0_h1)\n",
    "print(\"f_test rat h0 vs h2:\", f_test_h0_h2)\n",
    "print(\"f_test rat h1 vs h2:\", f_test_h2_h1)"
   ]
  },
  {
   "cell_type": "markdown",
   "id": "27dd4703",
   "metadata": {},
   "source": [
    "## Autocorrelation single units"
   ]
  },
  {
   "cell_type": "code",
   "execution_count": null,
   "id": "b08b92af",
   "metadata": {},
   "outputs": [],
   "source": [
    "#single units autocorrelation timescale estimation\n",
    "#plot data points\n",
    "plt.figure(figsize =  (6,5))\n",
    "plt.plot(all_flat_divs_ac,np.log10(all_flat_taus_ac/1000), '.', color = \"dimgrey\")\n",
    "#plt.ylabel(\"Log(timescales)\", size = 18)\n",
    "#plt.xlabel(\"Days \", size = 18)\n",
    "plt.xticks(size = 13)\n",
    "plt.yticks(size = 13)"
   ]
  },
  {
   "cell_type": "markdown",
   "id": "53d3a8e8",
   "metadata": {},
   "source": [
    "## Organoid autocorrelation timescales"
   ]
  },
  {
   "cell_type": "code",
   "execution_count": null,
   "id": "e6f816eb",
   "metadata": {},
   "outputs": [],
   "source": [
    "#read data from pickles\n",
    "org_divs = pd.read_pickle(r'/Users/blancamartin/Downloads/development_plot_x_days.pickle')\n",
    "org_ac_taus = pd.read_pickle(r'/Users/blancamartin/Downloads/development_plot_y_tau.pickle')"
   ]
  },
  {
   "cell_type": "code",
   "execution_count": null,
   "id": "0f3b8157",
   "metadata": {},
   "outputs": [],
   "source": [
    "all_org_divs = []\n",
    "for i in range(len(org_divs)):\n",
    "    all_org_divs.append([org_divs[i]]*len(org_ac_taus[0]))\n",
    "    "
   ]
  },
  {
   "cell_type": "code",
   "execution_count": null,
   "id": "487319d4",
   "metadata": {},
   "outputs": [],
   "source": [
    "flat_org_ac_divs = [item for sublist in all_org_divs for item in sublist]\n",
    "flat_org_ac_taus = [item for sublist in org_ac_taus for item in sublist]\n",
    "flat_org_ac_divs = np.asarray(flat_org_ac_divs)\n",
    "flat_org_ac_taus = np.asarray(flat_org_ac_taus)\n",
    "flat_org_ac_divs = flat_org_ac_divs[~np.isnan(flat_org_ac_taus)]\n",
    "flat_org_ac_taus = flat_org_ac_taus[~np.isnan(flat_org_ac_taus)]\n"
   ]
  },
  {
   "cell_type": "code",
   "execution_count": null,
   "id": "da68633d",
   "metadata": {},
   "outputs": [],
   "source": [
    "fig2_timescales(flat_org_ac_divs,flat_org_ac_taus)\n"
   ]
  },
  {
   "cell_type": "code",
   "execution_count": null,
   "id": "f9b9b6be",
   "metadata": {},
   "outputs": [],
   "source": [
    "# Rerun fits on mean taus\n",
    "days, all_indices, days_taus, mean_taus, std_taus = get_mean_std(flat_org_ac_taus, flat_org_ac_divs)\n",
    "days = np.asarray(days)\n",
    "\n",
    "mean_taus = np.asarray(mean_taus)\n",
    "\n",
    "guess_h1_mean = [max(mean_taus), 4*np.mean(days)/2,1.15,min(mean_taus)]\n",
    "n_mean = max(flat_divs_tau_spec)                          \n",
    "mean_mean = (n/4) \n",
    "\n",
    "guess_h2 = [0.1, 2*mean_mean, 10,0]\n",
    "\n",
    "model_params_mean = fig2_timescales(days,mean_taus)\n",
    "\n",
    "#plot with all datapoints\n",
    "plt.figure(figsize =  (6,5))\n",
    "plt.plot(days, mean_taus, '.', color='k', linewidth=5)\n",
    "plt.plot( flat_org_ac_divs, flat_org_ac_taus, '.', color = \"dimgrey\")\n",
    "plt.plot(days, h_line(days, *model_params_mean[0]),'-.', color='#FFC125', linewidth=5, dashes=(5, 2))\n",
    "plt.plot(days, sig_func(days, *model_params_mean[1]),'-.', color='darkgreen', linewidth=5, dashes=(4, 2))\n",
    "plt.plot(days, gaus(days, *model_params_mean[2]),'-.',color='#B22222', linewidth=5, dashes=(2, 2))\n"
   ]
  },
  {
   "cell_type": "code",
   "execution_count": null,
   "id": "06ef3ac4",
   "metadata": {},
   "outputs": [],
   "source": [
    "#get r-squared values\n",
    "\n",
    "rsqs_rat_h0 = rsq(days, mean_taus, model_params_mean[0], h_line) \n",
    "rsqs_rat_h1 = rsq(days, mean_taus, model_params_mean[1], sig_func) \n",
    "rsqs_rat_h2 = rsq(days, mean_taus, model_params_mean[2], gaus) \n",
    "\n",
    "print(rsqs_rat_h0)\n",
    "print(rsqs_rat_h1)\n",
    "print(rsqs_rat_h2)"
   ]
  },
  {
   "cell_type": "code",
   "execution_count": null,
   "id": "5926bf0f",
   "metadata": {},
   "outputs": [],
   "source": [
    "plt.figure(figsize =  (6,5))\n",
    "plt.plot(flat_org_ac_divs,flat_org_ac_taus, '.', color = \"dimgrey\")\n",
    "#plt.ylabel(\"Log(timescales)\", size = 18)\n",
    "#plt.xlabel(\"Days \", size = 18)\n",
    "plt.xticks(size = 13)\n",
    "plt.yticks(size = 13)\n",
    "x_ticks = list(plt.xticks()[0][1:])\n",
    "new_x_labels = [int(i+56) for i in x_ticks]\n",
    "plt.xticks(list(plt.xticks()[0][1:]), labels= new_x_labels)\n",
    "\n",
    "fig, ax = plt.subplots(figsize =  (6,5))\n",
    "ax.plot(flat_org_ac_divs,flat_org_ac_taus, '.', color = \"dimgrey\")\n",
    "ax.tick_params(axis='both', which='major', labelsize=13)\n",
    "ax.set_xticks(list(plt.xticks()[0][1:]))\n",
    "ax.set_xticklabels(new_x_labels)\n",
    "\n",
    "#top axis\n",
    "ax2 = ax.secondary_xaxis(\"top\")\n",
    "ax2.tick_params(axis='both', which='major', labelsize=13)\n",
    "top_x_labels = [round(i/30.4167,2) for i in new_x_labels]\n",
    "\n",
    "ax2.set_xticklabels([0] +top_x_labels)\n"
   ]
  },
  {
   "cell_type": "markdown",
   "id": "498b0cb4",
   "metadata": {},
   "source": [
    "## Organoid specparam timescales"
   ]
  },
  {
   "cell_type": "code",
   "execution_count": null,
   "id": "47a0bd00",
   "metadata": {},
   "outputs": [],
   "source": [
    "#read data from pickles\n",
    "org_spec_taus = pd.read_pickle(r'/Users/blancamartin/Downloads/development_plot_y_kneeTau.pickle')"
   ]
  },
  {
   "cell_type": "code",
   "execution_count": null,
   "id": "aaa4563e",
   "metadata": {},
   "outputs": [],
   "source": [
    "flat_org_spec_divs = [item for sublist in all_org_divs for item in sublist]\n",
    "flat_org_spec_taus = [item for sublist in org_spec_taus for item in sublist]\n",
    "flat_org_spec_divs = np.asarray(flat_org_spec_divs)\n",
    "flat_org_spec_taus = np.asarray(flat_org_spec_taus)\n",
    "flat_org_spec_divs = flat_org_spec_divs[~np.isnan(flat_org_spec_taus)]\n",
    "flat_org_spec_taus = flat_org_spec_taus[~np.isnan(flat_org_spec_taus)]"
   ]
  },
  {
   "cell_type": "code",
   "execution_count": null,
   "id": "47a0c4af",
   "metadata": {},
   "outputs": [],
   "source": [
    "guess_h1 = [max(flat_taus_spec), 4*np.median(flat_divs_tau_spec)/2,0.9,min(flat_taus_spec)]\n",
    "n = max(flat_divs_tau_spec)                          \n",
    "mean = (n/2) \n",
    "\n",
    "guess_h2 = [0.15, 2/3*mean, 20,0]\n",
    "\n",
    "fig2_timescales(flat_org_spec_divs,flat_org_spec_taus, sig_method='dogbox', sig_func_type=sigmoid,\n",
    "                guess_h1 =guess_h1, guess_h2=guess_h2 )\n",
    "\n"
   ]
  },
  {
   "cell_type": "code",
   "execution_count": null,
   "id": "64841498",
   "metadata": {},
   "outputs": [],
   "source": [
    "#rerun firts on mean taus\n",
    "\n",
    "days, all_indices, days_taus, mean_taus, std_taus = get_mean_std(flat_org_spec_taus, flat_org_spec_divs)\n",
    "days = np.asarray(days)\n",
    "\n",
    "mean_taus = np.asarray(mean_taus)\n",
    "\n",
    "\n",
    "guess_h1 = [max(days), 4*np.median(days)/2,0.9,min(mean_taus)]\n",
    "n = max(flat_divs_tau_spec)                          \n",
    "mean = (n/2) \n",
    "\n",
    "guess_h2 = [0.15, 2/3*mean, 20,0]\n",
    "\n",
    "model_params_mean = fig2_timescales(days,mean_taus, sig_method='dogbox', sig_func_type=sigmoid,\n",
    "                guess_h1 =guess_h1, guess_h2=guess_h2 )\n",
    "\n",
    "#plot with all datapoints\n",
    "fig, ax = plt.subplots(figsize =  (6,5))\n",
    "ax.plot( flat_org_spec_divs, flat_org_spec_taus, '.', color = \"dimgrey\")\n",
    "ax.tick_params(axis='both', which='major', labelsize=13)\n",
    "ax.set_xticks(list(plt.xticks()[0][1:]))\n",
    "ax.set_xticklabels(new_x_labels)\n",
    "\n",
    "#top axis\n",
    "ax2 = ax.secondary_xaxis(\"top\")\n",
    "ax2.tick_params(axis='both', which='major', labelsize=13)\n",
    "top_x_labels = [round(i/30.4167,1) for i in new_x_labels]\n",
    "\n",
    "ax2.set_xticklabels([0] +top_x_labels)\n",
    "\n",
    "ax.plot(days, h_line(days, *model_params_mean[0]),'-.', color='#FFC125', linewidth=5, dashes=(5, 2))\n",
    "ax.plot(days, sigmoid(days, *model_params_mean[1]),'-.', color='darkgreen', linewidth=5, dashes=(4, 2))\n",
    "ax.plot(days, gaus(days, *model_params_mean[2]),'-.',color='#B22222', linewidth=5, dashes=(2, 2))\n",
    "\n",
    "\n"
   ]
  },
  {
   "cell_type": "code",
   "execution_count": null,
   "id": "2cb47bba",
   "metadata": {},
   "outputs": [],
   "source": [
    "#get r-squared values\n",
    "\n",
    "rsqs_rat_h0 = rsq(days, mean_taus, model_params_mean[0], h_line) \n",
    "rsqs_rat_h1 = rsq(days, mean_taus, model_params_mean[1], sigmoid) \n",
    "rsqs_rat_h2 = rsq(days, mean_taus, model_params_mean[2], gaus) \n",
    "\n",
    "print(rsqs_rat_h0)\n",
    "print(rsqs_rat_h1)\n",
    "print(rsqs_rat_h2)"
   ]
  },
  {
   "cell_type": "code",
   "execution_count": null,
   "id": "5a913b2f",
   "metadata": {},
   "outputs": [],
   "source": [
    "\n",
    "#f-tests\n",
    "f_test_h0_h1 = f_test(days, mean_taus, h_line, sigmoid,\n",
    "                      model_params_mean[0], model_params_mean[1], 1, 4)\n",
    "f_test_h0_h2 = f_test(days, mean_taus, h_line, gaus, \n",
    "                      model_params_mean[0], model_params_mean[2],1,4)\n",
    "f_test_h2_h1 = f_test(days, mean_taus, gaus, sigmoid, \n",
    "                      model_params_mean[2], model_params_mean[1],4,4)\n",
    "\n",
    "print(\"f_test org h0 vs h1:\", f_test_h0_h1)\n",
    "print(\"f_test org h0 vs h2:\", f_test_h0_h2)\n",
    "print(\"f_test org h1 vs h2:\", f_test_h2_h1)"
   ]
  }
 ],
 "metadata": {
  "kernelspec": {
   "display_name": "Python 3 (ipykernel)",
   "language": "python",
   "name": "python3"
  },
  "language_info": {
   "codemirror_mode": {
    "name": "ipython",
    "version": 3
   },
   "file_extension": ".py",
   "mimetype": "text/x-python",
   "name": "python",
   "nbconvert_exporter": "python",
   "pygments_lexer": "ipython3",
   "version": "3.9.7"
  }
 },
 "nbformat": 4,
 "nbformat_minor": 5
}
