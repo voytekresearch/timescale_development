{
 "cells": [
  {
   "cell_type": "code",
   "execution_count": 2,
   "id": "df53d4ee",
   "metadata": {},
   "outputs": [],
   "source": [
    "import warnings\n",
    "import os\n",
    "from tqdm.notebook import tqdm\n",
    "\n",
    "\n",
    "import matplotlib.pyplot as plt\n",
    "\n",
    "import numpy as np\n",
    "from scipy.io import loadmat\n",
    "import hdf5storage\n",
    "\n",
    "import pandas as pd\n",
    "import re\n",
    "import pickle\n",
    "\n",
    "# Transformations\n",
    "from timescales.sim import bin_spikes\n",
    "from neurodsp.spectral import compute_spectrum\n",
    "from timescales.autoreg import compute_ar_spectrum\n",
    "from statsmodels.tsa.stattools import acf\n",
    "\n",
    "# Workflow\n",
    "from ndspflow.workflows import WorkFlow\n",
    "\n",
    "# Models\n",
    "from timescales.fit import PSD, ACF\n",
    "\n",
    "#import functions for ndsp workflow\n",
    "\n",
    "from timescale_ndsp_func import reader\n",
    "from timescale_ndsp_func import compute_acf\n",
    "from timescale_ndsp_func import bin_spikes\n",
    "from timescale_ndsp_func import bin_spikes\n",
    "from timescale_ndsp_func import compute_ar_spectrum_\n",
    "from timescale_ndsp_func import mean"
   ]
  },
  {
   "cell_type": "code",
   "execution_count": 3,
   "id": "6b23becf",
   "metadata": {},
   "outputs": [],
   "source": [
    "def remove_nans(taus, divs, cultures, objs):\n",
    "    #remove NaNs\n",
    "    divs = divs[~np.isnan(taus)]\n",
    "    cultures = cultures[~np.isnan(taus)]\n",
    "    objs = objs[~np.isnan(taus)]\n",
    "    taus = taus[~np.isnan(taus)]\n",
    "    \n",
    "    \n",
    "    return [taus, divs, cultures, objs]"
   ]
  },
  {
   "cell_type": "code",
   "execution_count": 4,
   "id": "49b6281f",
   "metadata": {},
   "outputs": [],
   "source": [
    "def remove_outliers(taus, divs, cultures, objs):\n",
    "    \n",
    "    \n",
    "    \n",
    "    \n",
    "    #remove extreme outliers\n",
    "    outliers = 100*np.median(taus)\n",
    "    print(outliers)\n",
    "\n",
    "    divs = divs[taus<=outliers]\n",
    "    cultures = cultures[taus<=outliers]\n",
    "    objs = objs[taus<=outliers]\n",
    "    \n",
    "    taus = taus[taus<=outliers]\n",
    "    \n",
    "    \n",
    "    \n",
    "    return [taus, divs, cultures, objs]"
   ]
  },
  {
   "cell_type": "code",
   "execution_count": 5,
   "id": "537c3d01",
   "metadata": {},
   "outputs": [],
   "source": [
    "def get_mean_std_well(taus, divs, cultures):\n",
    "    \n",
    "  \n",
    "    \n",
    "    sort_cultures = sorted(set(cultures))\n",
    "\n",
    "    all_cults  = []\n",
    "    all_divs = []\n",
    "    all_mean_taus = []\n",
    "    all_std_taus = []\n",
    "\n",
    "    #get indices for each culture\n",
    "\n",
    "    for c in sort_cultures:\n",
    "   \n",
    "        indices = [i for i, x in enumerate(cultures) if x == c]\n",
    "  \n",
    "    \n",
    "        \n",
    "        #get divs for each culture \n",
    "        cult_divs = divs[indices]\n",
    "        \n",
    "        #get mean tau for each div in culture\n",
    "        \n",
    "        sort_divs = sorted(set(cult_divs))\n",
    "        \n",
    "        for d in sort_divs:\n",
    "            indices_d = [i for i, x in enumerate(cult_divs) if x == d]\n",
    "            \n",
    "            #get taus for that day \n",
    "            taus_dc = taus[indices_d]\n",
    "            \n",
    "            \n",
    "            #get mean and standard deviation for that day \n",
    "            mean_taus = np.mean(taus_dc)\n",
    "            std_taus = np.std(taus_dc)\n",
    "            \n",
    "            all_cults.append(c)\n",
    "            all_divs.append(d)\n",
    "            all_mean_taus.append(mean_taus)\n",
    "            all_std_taus.append(std_taus)\n",
    "     \n",
    "        \n",
    "        \n",
    "       \n",
    "        \n",
    "    return [all_cults, all_divs, all_mean_taus, all_std_taus]"
   ]
  },
  {
   "cell_type": "code",
   "execution_count": 6,
   "id": "5c65a38a",
   "metadata": {},
   "outputs": [],
   "source": [
    "def get_mean_std_recday (taus, divs):\n",
    "    days = sorted(set(divs))\n",
    "    all_indices = []\n",
    "    days_taus = []\n",
    "    mean_taus = []\n",
    "    std_taus = []\n",
    "\n",
    "    #get indices for each day\n",
    "\n",
    "    for d in days:\n",
    "   \n",
    "        indices = [i for i, x in enumerate(divs) if x == d]\n",
    "        \n",
    "        all_indices.append(indices)\n",
    "        #get taus for those indices\n",
    "        day_taus = taus[indices]\n",
    "        days_taus.append(day_taus)\n",
    "        #get means and stds\n",
    "        mean_taus.append(np.mean(day_taus))\n",
    "        std_taus.append(np.std(day_taus))\n",
    "        \n",
    "    return [days, all_indices, days_taus, mean_taus, std_taus]"
   ]
  },
  {
   "cell_type": "code",
   "execution_count": 7,
   "id": "588e3d3e",
   "metadata": {},
   "outputs": [],
   "source": [
    "def rem_nans(x,y):\n",
    "    nans = ~np.isnan(x)\n",
    "    x = x[nans ]\n",
    "    y = y[nans ]\n",
    "    \n",
    "    return x,y"
   ]
  },
  {
   "cell_type": "code",
   "execution_count": 8,
   "id": "a9b1437d",
   "metadata": {},
   "outputs": [],
   "source": [
    "# Paths\n",
    "dirpath = '/Users/blancamartin/Desktop/Voytek_Lab/timescales/organoid-tango/hc-8/rat_organoid_timescale_development_paper/hc8_data/'\n",
    "files = [f for f in sorted(os.listdir(dirpath)) if f.endswith('.npy')]"
   ]
  },
  {
   "cell_type": "code",
   "execution_count": 9,
   "id": "61e2f5e8",
   "metadata": {},
   "outputs": [],
   "source": [
    "# Settings\n",
    "fs = 20000\n",
    "bin_size = 200\n",
    "fs_bin = fs / bin_size\n",
    "bins_per_window = 1000\n",
    "\n",
    "# Get indices of all files + neurons\n",
    "n_neurons = np.array([len(reader(i)) for i in range(len(files))])\n",
    "\n",
    "cultures = []\n",
    "divs = []\n",
    "\n",
    "for f in range(len(files)):\n",
    "    #get div and culture number for each recording\n",
    "    splt = files[f].split('Culture')[1]\n",
    "    splt = splt.split('DIV')\n",
    "    culture = int(splt[0])\n",
    "    div = int(splt[1].split('.')[0])\n",
    "    \n",
    "    for n in range(n_neurons[f]):\n",
    "\n",
    "        cultures.append(culture)\n",
    "        divs.append(div)\n",
    "\n",
    "indices = np.array(\n",
    "    [[i_file, i_neuron] for i_file in range(len(files))\n",
    "     for i_neuron in range(n_neurons[i_file])]\n",
    ")"
   ]
  },
  {
   "cell_type": "code",
   "execution_count": null,
   "id": "8ec34176",
   "metadata": {},
   "outputs": [],
   "source": [
    "# Welch PSD directory\n",
    "pickle_dir_w = \"/Users/blancamartin/Desktop/Voytek_Lab/timescales/organoid-tango/organoid-tango/wPSD_fits_pkl_new/\"\n",
    "# AR PSD directory\n",
    "pickle_dir_ar = \"/Users/blancamartin/Desktop/Voytek_Lab/timescales/organoid-tango/organoid-tango/arPSD_fits_pkl_new/\"\n",
    "\n",
    "fit_method = 'fooof' # fooof huber\n",
    "n_pts_welch = 10\n",
    "n_pts_ar = 2047\n",
    "welch_sigma = np.linspace(1, 10, n_pts_welch) / 10\n",
    "ar_sigma = np.linspace(1, 10, n_pts_ar) / 10\n",
    "welch_sigma_flip = np.flip(welch_sigma)\n",
    "ar_sigma_flip = np.flip(ar_sigma)\n",
    "\n",
    "# Init workflow\n",
    "wf = WorkFlow()\n",
    "\n",
    "# Read .mat files\n",
    "wf.read_raw(reader, indices)\n",
    "\n",
    "# Bin spikes and window\n",
    "wf.transform(bin_spikes, bin_size, bins_per_window)\n",
    "\n",
    "\n",
    "# PSD (Welch's)\n",
    "wf.fork(0)\n",
    "wf.transform(compute_spectrum, fs_bin, axis=1, f_range=(.001, 200))\n",
    "wf.transform(mean, axis=0)\n",
    "wf.fit(PSD(),sigma=welch_sigma,method=fit_method,pickle=True, pickle_dir=pickle_dir_w)\n",
    "\n",
    "\n",
    "\n",
    "\n",
    "# reset fork\n",
    "wf.fork(0)\n",
    "# compute power spectra - ar\n",
    "wf.transform(compute_ar_spectrum_, fs_bin, 10, axis=1, f_range=(.001, 200))\n",
    "wf.transform(mean, axis=0)\n",
    "#     # spec param fit - ar\n",
    "wf.fit(PSD(),sigma=ar_sigma,method=fit_method,this_ar_order, pickle=True, pickle_dir=pickle_dir_ar)\n",
    "\n",
    "wf.run(n_jobs=-1, progress=tqdm)"
   ]
  },
  {
   "cell_type": "code",
   "execution_count": null,
   "id": "a689380c",
   "metadata": {},
   "outputs": [],
   "source": [
    "# Welch PSD directory\n",
    "pickle_dir_w_opt = \"/Users/blancamartin/Desktop/Voytek_Lab/timescales/organoid-tango/organoid-tango/wPSD_fits_pkl_opt_/\"\n",
    "# AR PSD directory\n",
    "pickle_dir_ar_opt = \"/Users/blancamartin/Desktop/Voytek_Lab/timescales/organoid-tango/organoid-tango/arPSD_fits_pkl_opt/\"\n",
    "\n",
    "pickle_dir_w_opt_flip = \"/Users/blancamartin/Desktop/Voytek_Lab/timescales/organoid-tango/organoid-tango/wPSD_fits_pkl_opt_flip/\"\n",
    "# AR PSD directory\n",
    "pickle_dir_ar_opt_flip = \"/Users/blancamartin/Desktop/Voytek_Lab/timescales/organoid-tango/organoid-tango/arPSD_fits_pkl_opt_flip/\"\n",
    "\n",
    "# Init workflow\n",
    "wf = WorkFlow()\n",
    "\n",
    "# Read .mat files\n",
    "wf.read_raw(reader, indices)\n",
    "\n",
    "# Bin spikes and window\n",
    "wf.transform(bin_spikes, bin_size, bins_per_window)\n",
    "\n",
    "\n",
    "fit_method = 'fooof' # fooof huber\n",
    "# AR spectrum calculation order\n",
    "ar_spec_order = [1,2,3,4,5]\n",
    "\n",
    "# # Set up workflow analyses with r^2 weighting \"sigma\" input\n",
    "# # Only works with \"huber\"/robustregression not spec param\n",
    "# # Just run this block in addition to the previous to add the extra workflow analyses to the previous ones\n",
    "n_pts_welch = 10\n",
    "n_pts_ar = 2047\n",
    "welch_sigma = np.linspace(1, 10, n_pts_welch) / 10\n",
    "ar_sigma = np.linspace(1, 10, n_pts_ar) / 10\n",
    "welch_sigma_flip = np.flip(welch_sigma)\n",
    "ar_sigma_flip = np.flip(ar_sigma)\n",
    "\n",
    "# # set initial fork - this time different weighting\n",
    "wf.fork(0)\n",
    "# # compute  power spectra - welch\n",
    "wf.transform(compute_spectrum, fs_bin, axis=1, f_range=(.001, 200))\n",
    "wf.transform(mean, axis=0)\n",
    "# # spec param fit - welch\n",
    "wf.fit(PSD(),sigma=welch_sigma,method=fit_method,pickle=True, pickle_dir=pickle_dir_w_opt )\n",
    "\n",
    "# # run for multiple AR spec orders - this time different weighting\n",
    "for this_ar_order in ar_spec_order:\n",
    "    \n",
    "#     # reset fork\n",
    "    wf.fork(0)\n",
    "#     # compute power spectra - ar\n",
    "    wf.transform(compute_ar_spectrum_, fs_bin, 10, axis=1, f_range=(.001, 200))\n",
    "    wf.transform(mean, axis=0)\n",
    "#     # spec param fit - ar\n",
    "    wf.fit(PSD(),sigma=ar_sigma,method=fit_method, pickle=True, pickle_dir=pickle_dir_ar_opt)\n",
    "\n",
    "# # set initial fork - this time different weighting FLIP\n",
    "wf.fork(0)\n",
    "# # compute kernel averaged power spectra - welch\n",
    "wf.transform(compute_spectrum, fs_bin, axis=1, f_range=(.001, 200))\n",
    "wf.transform(mean, axis=0)\n",
    "# # spec param fit - welch\n",
    "wf.fit(PSD(),sigma=welch_sigma_flip,method=fit_method, pickle=True, pickle_dir=pickle_dir_w_opt_flip)\n",
    "\n",
    "# # run for multiple AR spec orders - this time different weighting FLIP\n",
    "for this_ar_order in ar_spec_order:\n",
    "#     # reset fork\n",
    "    wf.fork(0)\n",
    "#     # compute kernel averaged power spectra - ar\n",
    "    wf.transform(compute_ar_spectrum_, fs_bin, 10, axis=1, f_range=(.001, 200))\n",
    "    wf.transform(mean, axis=0)\n",
    "#     # spec param fit - ar\n",
    "    wf.fit(PSD(),sigma=ar_sigma_flip,method=fit_method, pickle=True, pickle_dir=pickle_dir_ar_opt_flip)"
   ]
  },
  {
   "cell_type": "markdown",
   "id": "641da004",
   "metadata": {},
   "source": [
    "#### Run with AR spec order = 1 and save pickle output  - had to redo beacuse of pickle error :/ "
   ]
  },
  {
   "cell_type": "code",
   "execution_count": null,
   "id": "b8dc71f8",
   "metadata": {},
   "outputs": [],
   "source": [
    "\n",
    "# AR PSD directory\n",
    "pickle_dir_ar_opt_o1 = \"/Users/blancamartin/Desktop/Voytek_Lab/timescales/organoid-tango/organoid-tango/arPSD_fits_pkl_opt_o1/\"\n",
    "\n",
    "\n",
    "# AR PSD directory\n",
    "pickle_dir_ar_opt_flip_o1 = \"/Users/blancamartin/Desktop/Voytek_Lab/timescales/organoid-tango/organoid-tango/arPSD_fits_pkl_opt_flip_o1/\"\n",
    "\n",
    "# Init workflow\n",
    "wf = WorkFlow()\n",
    "\n",
    "# Read .mat files\n",
    "wf.read_raw(reader, indices)\n",
    "\n",
    "# Bin spikes and window\n",
    "wf.transform(bin_spikes, bin_size, bins_per_window)\n",
    "\n",
    "\n",
    "fit_method = 'fooof' # fooof huber\n",
    "# AR spectrum calculation order\n",
    "ar_spec_order = [1]\n",
    "\n",
    "# # Set up workflow analyses with r^2 weighting \"sigma\" input\n",
    "# # Only works with \"huber\"/robustregression not spec param\n",
    "# # Just run this block in addition to the previous to add the extra workflow analyses to the previous ones\n",
    "n_pts_welch = 10\n",
    "n_pts_ar = 2047\n",
    "welch_sigma = np.linspace(1, 10, n_pts_welch) / 10\n",
    "ar_sigma = np.linspace(1, 10, n_pts_ar) / 10\n",
    "welch_sigma_flip = np.flip(welch_sigma)\n",
    "ar_sigma_flip = np.flip(ar_sigma)\n",
    "\n",
    "\n",
    "# # run for multiple AR spec orders - this time different weighting\n",
    "for this_ar_order in ar_spec_order:\n",
    "    \n",
    "#     # reset fork\n",
    "    wf.fork(0)\n",
    "#     # compute power spectra - ar\n",
    "    wf.transform(compute_ar_spectrum_, fs_bin, this_ar_order, axis=1, f_range=(.001, 200))\n",
    "    wf.transform(mean, axis=0)\n",
    "#     # spec param fit - ar\n",
    "    wf.fit(PSD(),sigma=ar_sigma,method=fit_method, pickle=True, pickle_dir=pickle_dir_ar_opt_o1)\n",
    "\n",
    "\n",
    "\n",
    "# # run for multiple AR spec orders - this time different weighting FLIP\n",
    "for this_ar_order in ar_spec_order:\n",
    "#     # reset fork\n",
    "    wf.fork(0)\n",
    "#     # compute kernel averaged power spectra - ar\n",
    "    wf.transform(compute_ar_spectrum_, fs_bin, this_ar_order, axis=1, f_range=(.001, 200))\n",
    "    wf.transform(mean, axis=0)\n",
    "#     # spec param fit - ar\n",
    "    wf.fit(PSD(),sigma=ar_sigma_flip,method=fit_method, pickle=True, pickle_dir=pickle_dir_ar_opt_flip_o1)\n",
    "    "
   ]
  },
  {
   "cell_type": "code",
   "execution_count": null,
   "id": "1f0379f2",
   "metadata": {},
   "outputs": [],
   "source": [
    "%%time\n",
    "# run work flow\n",
    "wf.run(n_jobs=-1,progress=tqdm)"
   ]
  },
  {
   "cell_type": "markdown",
   "id": "2cddb72d",
   "metadata": {},
   "source": [
    "#### Run with AR spec order = 2 and save pickle output  - had to redo beacuse of pickle error :/ "
   ]
  },
  {
   "cell_type": "code",
   "execution_count": null,
   "id": "19c6deaf",
   "metadata": {},
   "outputs": [],
   "source": [
    "\n",
    "# AR PSD directory\n",
    "pickle_dir_ar_opt_o2 = \"/Users/blancamartin/Desktop/Voytek_Lab/timescales/organoid-tango/organoid-tango/arPSD_fits_pkl_opt_o2/\"\n",
    "\n",
    "\n",
    "# AR PSD directory\n",
    "pickle_dir_ar_opt_flip_o2 = \"/Users/blancamartin/Desktop/Voytek_Lab/timescales/organoid-tango/organoid-tango/arPSD_fits_pkl_opt_flip_o2/\"\n",
    "\n",
    "# Init workflow\n",
    "wf = WorkFlow()\n",
    "\n",
    "# Read .mat files\n",
    "wf.read_raw(reader, indices)\n",
    "\n",
    "# Bin spikes and window\n",
    "wf.transform(bin_spikes, bin_size, bins_per_window)\n",
    "\n",
    "\n",
    "fit_method = 'fooof' # fooof huber\n",
    "# AR spectrum calculation order\n",
    "ar_spec_order = [2]\n",
    "\n",
    "# # Set up workflow analyses with r^2 weighting \"sigma\" input\n",
    "# # Only works with \"huber\"/robustregression not spec param\n",
    "# # Just run this block in addition to the previous to add the extra workflow analyses to the previous ones\n",
    "n_pts_welch = 10\n",
    "n_pts_ar = 2047\n",
    "welch_sigma = np.linspace(1, 10, n_pts_welch) / 10\n",
    "ar_sigma = np.linspace(1, 10, n_pts_ar) / 10\n",
    "welch_sigma_flip = np.flip(welch_sigma)\n",
    "ar_sigma_flip = np.flip(ar_sigma)\n",
    "\n",
    "\n",
    "# # run for multiple AR spec orders - this time different weighting\n",
    "for this_ar_order in ar_spec_order:\n",
    "    \n",
    "#     # reset fork\n",
    "    wf.fork(0)\n",
    "#     # compute power spectra - ar\n",
    "    wf.transform(compute_ar_spectrum_, fs_bin, this_ar_order, axis=1, f_range=(.001, 200))\n",
    "    wf.transform(mean, axis=0)\n",
    "#     # spec param fit - ar\n",
    "    wf.fit(PSD(),sigma=ar_sigma,method=fit_method,  pickle=True, pickle_dir=pickle_dir_ar_opt_o2)\n",
    "\n",
    "\n",
    "\n",
    "# # run for multiple AR spec orders - this time different weighting FLIP\n",
    "for this_ar_order in ar_spec_order:\n",
    "#     # reset fork\n",
    "    wf.fork(0)\n",
    "#     # compute kernel averaged power spectra - ar\n",
    "    wf.transform(compute_ar_spectrum_, fs_bin, this_ar_order, axis=1, f_range=(.001, 200))\n",
    "    wf.transform(mean, axis=0)\n",
    "#     # spec param fit - ar\n",
    "    wf.fit(PSD(),sigma=ar_sigma_flip,method=fit_method,  pickle=True, pickle_dir=pickle_dir_ar_opt_flip_o2)\n",
    "    "
   ]
  },
  {
   "cell_type": "code",
   "execution_count": null,
   "id": "e657a839",
   "metadata": {},
   "outputs": [],
   "source": [
    "%%time\n",
    "# run work flow\n",
    "wf.run(n_jobs=-1,progress=tqdm)"
   ]
  },
  {
   "cell_type": "markdown",
   "id": "42a8963e",
   "metadata": {},
   "source": [
    "#### Run with AR spec order = 3 and save pickle output  - had to redo beacuse of pickle error :/ "
   ]
  },
  {
   "cell_type": "code",
   "execution_count": null,
   "id": "c27d0810",
   "metadata": {},
   "outputs": [],
   "source": [
    "\n",
    "# AR PSD directory\n",
    "pickle_dir_ar_opt_o3 = \"/Users/blancamartin/Desktop/Voytek_Lab/timescales/organoid-tango/organoid-tango/arPSD_fits_pkl_opt_o3/\"\n",
    "\n",
    "\n",
    "# AR PSD directory\n",
    "pickle_dir_ar_opt_flip_o3 = \"/Users/blancamartin/Desktop/Voytek_Lab/timescales/organoid-tango/organoid-tango/arPSD_fits_pkl_opt_flip_o3/\"\n",
    "\n",
    "# Init workflow\n",
    "wf = WorkFlow()\n",
    "\n",
    "# Read .mat files\n",
    "wf.read_raw(reader, indices)\n",
    "\n",
    "# Bin spikes and window\n",
    "wf.transform(bin_spikes, bin_size, bins_per_window)\n",
    "\n",
    "\n",
    "fit_method = 'fooof' # fooof huber\n",
    "# AR spectrum calculation order\n",
    "ar_spec_order = [3]\n",
    "\n",
    "# # Set up workflow analyses with r^2 weighting \"sigma\" input\n",
    "# # Only works with \"huber\"/robustregression not spec param\n",
    "# # Just run this block in addition to the previous to add the extra workflow analyses to the previous ones\n",
    "n_pts_welch = 10\n",
    "n_pts_ar = 2047\n",
    "welch_sigma = np.linspace(1, 10, n_pts_welch) / 10\n",
    "ar_sigma = np.linspace(1, 10, n_pts_ar) / 10\n",
    "welch_sigma_flip = np.flip(welch_sigma)\n",
    "ar_sigma_flip = np.flip(ar_sigma)\n",
    "\n",
    "\n",
    "# # run for multiple AR spec orders - this time different weighting\n",
    "for this_ar_order in ar_spec_order:\n",
    "    \n",
    "#     # reset fork\n",
    "    wf.fork(0)\n",
    "#     # compute power spectra - ar\n",
    "    wf.transform(compute_ar_spectrum_, fs_bin, this_ar_order, axis=1, f_range=(.001, 200))\n",
    "    wf.transform(mean, axis=0)\n",
    "#     # spec param fit - ar\n",
    "    wf.fit(PSD(),sigma=ar_sigma,method=fit_method,  pickle=True, pickle_dir=pickle_dir_ar_opt_o3)\n",
    "\n",
    "\n",
    "\n",
    "# # run for multiple AR spec orders - this time different weighting FLIP\n",
    "for this_ar_order in ar_spec_order:\n",
    "#     # reset fork\n",
    "    wf.fork(0)\n",
    "#     # compute kernel averaged power spectra - ar\n",
    "    wf.transform(compute_ar_spectrum_, fs_bin, this_ar_order, axis=1, f_range=(.001, 200))\n",
    "    wf.transform(mean, axis=0)\n",
    "#     # spec param fit - ar\n",
    "    wf.fit(PSD(),sigma=ar_sigma_flip,method=fit_method, pickle=True, pickle_dir=pickle_dir_ar_opt_flip_o3)\n",
    "    "
   ]
  },
  {
   "cell_type": "code",
   "execution_count": null,
   "id": "5eb865a3",
   "metadata": {},
   "outputs": [],
   "source": [
    "%%time\n",
    "# run work flow\n",
    "wf.run(n_jobs=-1,progress=tqdm)"
   ]
  },
  {
   "cell_type": "markdown",
   "id": "1f685e23",
   "metadata": {},
   "source": [
    "#### Run with AR spec order = 4 and save pickle output  - had to redo beacuse of pickle error :/ "
   ]
  },
  {
   "cell_type": "code",
   "execution_count": null,
   "id": "da3e6281",
   "metadata": {},
   "outputs": [],
   "source": [
    "\n",
    "# AR PSD directory\n",
    "pickle_dir_ar_opt_o4 = \"/Users/blancamartin/Desktop/Voytek_Lab/timescales/organoid-tango/organoid-tango/arPSD_fits_pkl_opt_o4/\"\n",
    "\n",
    "\n",
    "# AR PSD directory\n",
    "pickle_dir_ar_opt_flip_o4 = \"/Users/blancamartin/Desktop/Voytek_Lab/timescales/organoid-tango/organoid-tango/arPSD_fits_pkl_opt_flip_o4/\"\n",
    "\n",
    "# Init workflow\n",
    "wf = WorkFlow()\n",
    "\n",
    "# Read .mat files\n",
    "wf.read_raw(reader, indices)\n",
    "\n",
    "# Bin spikes and window\n",
    "wf.transform(bin_spikes, bin_size, bins_per_window)\n",
    "\n",
    "\n",
    "fit_method = 'fooof' # fooof huber\n",
    "# AR spectrum calculation order\n",
    "ar_spec_order = [4]\n",
    "\n",
    "# # Set up workflow analyses with r^2 weighting \"sigma\" input\n",
    "# # Only works with \"huber\"/robustregression not spec param\n",
    "# # Just run this block in addition to the previous to add the extra workflow analyses to the previous ones\n",
    "n_pts_welch = 10\n",
    "n_pts_ar = 2047\n",
    "welch_sigma = np.linspace(1, 10, n_pts_welch) / 10\n",
    "ar_sigma = np.linspace(1, 10, n_pts_ar) / 10\n",
    "welch_sigma_flip = np.flip(welch_sigma)\n",
    "ar_sigma_flip = np.flip(ar_sigma)\n",
    "\n",
    "\n",
    "# # run for multiple AR spec orders - this time different weighting\n",
    "for this_ar_order in ar_spec_order:\n",
    "    \n",
    "#     # reset fork\n",
    "    wf.fork(0)\n",
    "#     # compute power spectra - ar\n",
    "    wf.transform(compute_ar_spectrum_, fs_bin, this_ar_order, axis=1, f_range=(.001, 200))\n",
    "    wf.transform(mean, axis=0)\n",
    "#     # spec param fit - ar\n",
    "    wf.fit(PSD(),sigma=ar_sigma,method=fit_method, pickle=True, pickle_dir=pickle_dir_ar_opt_o4)\n",
    "\n",
    "\n",
    "\n",
    "# # run for multiple AR spec orders - this time different weighting FLIP\n",
    "for this_ar_order in ar_spec_order:\n",
    "#     # reset fork\n",
    "    wf.fork(0)\n",
    "#     # compute kernel averaged power spectra - ar\n",
    "    wf.transform(compute_ar_spectrum_, fs_bin, this_ar_order, axis=1, f_range=(.001, 200))\n",
    "    wf.transform(mean, axis=0)\n",
    "#     # spec param fit - ar\n",
    "    wf.fit(PSD(),sigma=ar_sigma_flip,method=fit_method,  pickle=True, pickle_dir=pickle_dir_ar_opt_flip_o4)\n",
    "    "
   ]
  },
  {
   "cell_type": "code",
   "execution_count": null,
   "id": "f644b9f9",
   "metadata": {},
   "outputs": [],
   "source": [
    "%%time\n",
    "# run work flow\n",
    "wf.run(n_jobs=-1,progress=tqdm)"
   ]
  },
  {
   "cell_type": "markdown",
   "id": "a3a7f35a",
   "metadata": {},
   "source": [
    "#### Run with AR spec order = 5 and save pickle output  - had to redo beacuse of pickle error :/ "
   ]
  },
  {
   "cell_type": "code",
   "execution_count": null,
   "id": "05d5474d",
   "metadata": {},
   "outputs": [],
   "source": [
    "\n",
    "# AR PSD directory\n",
    "pickle_dir_ar_opt_o5 = \"/Users/blancamartin/Desktop/Voytek_Lab/timescales/organoid-tango/organoid-tango/arPSD_fits_pkl_opt_o5/\"\n",
    "\n",
    "\n",
    "# AR PSD directory\n",
    "pickle_dir_ar_opt_flip_o5 = \"/Users/blancamartin/Desktop/Voytek_Lab/timescales/organoid-tango/organoid-tango/arPSD_fits_pkl_opt_flip_o5/\"\n",
    "\n",
    "# Init workflow\n",
    "wf = WorkFlow()\n",
    "\n",
    "# Read .mat files\n",
    "wf.read_raw(reader, indices)\n",
    "\n",
    "# Bin spikes and window\n",
    "wf.transform(bin_spikes, bin_size, bins_per_window)\n",
    "\n",
    "\n",
    "fit_method = 'fooof' # fooof huber\n",
    "# AR spectrum calculation order\n",
    "ar_spec_order = [5]\n",
    "\n",
    "# # Set up workflow analyses with r^2 weighting \"sigma\" input\n",
    "# # Only works with \"huber\"/robustregression not spec param\n",
    "# # Just run this block in addition to the previous to add the extra workflow analyses to the previous ones\n",
    "n_pts_welch = 10\n",
    "n_pts_ar = 2047\n",
    "welch_sigma = np.linspace(1, 10, n_pts_welch) / 10\n",
    "ar_sigma = np.linspace(1, 10, n_pts_ar) / 10\n",
    "welch_sigma_flip = np.flip(welch_sigma)\n",
    "ar_sigma_flip = np.flip(ar_sigma)\n",
    "\n",
    "\n",
    "# # run for multiple AR spec orders - this time different weighting\n",
    "for this_ar_order in ar_spec_order:\n",
    "    \n",
    "#     # reset fork\n",
    "    wf.fork(0)\n",
    "#     # compute power spectra - ar\n",
    "    wf.transform(compute_ar_spectrum_, fs_bin, this_ar_order, axis=1, f_range=(.001, 200))\n",
    "    wf.transform(mean, axis=0)\n",
    "#     # spec param fit - ar\n",
    "    wf.fit(PSD(),sigma=ar_sigma,method=fit_method,  pickle=True, pickle_dir=pickle_dir_ar_opt_o5)\n",
    "\n",
    "\n",
    "\n",
    "# # run for multiple AR spec orders - this time different weighting FLIP\n",
    "for this_ar_order in ar_spec_order:\n",
    "#     # reset fork\n",
    "    wf.fork(0)\n",
    "#     # compute kernel averaged power spectra - ar\n",
    "    wf.transform(compute_ar_spectrum_, fs_bin, this_ar_order, axis=1, f_range=(.001, 200))\n",
    "    wf.transform(mean, axis=0)\n",
    "#     # spec param fit - ar\n",
    "    wf.fit(PSD(),sigma=ar_sigma_flip,method=fit_method,  pickle=True, pickle_dir=pickle_dir_ar_opt_flip_o5)\n",
    "    "
   ]
  },
  {
   "cell_type": "code",
   "execution_count": null,
   "id": "0fb064cc",
   "metadata": {},
   "outputs": [],
   "source": [
    "%%time\n",
    "# run work flow\n",
    "wf.run(n_jobs=-1,progress=tqdm)"
   ]
  },
  {
   "cell_type": "markdown",
   "id": "4fd8bce9",
   "metadata": {},
   "source": [
    "#### Run with AR spec order = 6"
   ]
  },
  {
   "cell_type": "code",
   "execution_count": null,
   "id": "ac1b334b",
   "metadata": {},
   "outputs": [],
   "source": [
    "\n",
    "# AR PSD directory\n",
    "pickle_dir_ar_opt_o6 = \"/Users/blancamartin/Desktop/Voytek_Lab/timescales/organoid-tango/organoid-tango/arPSD_fits_pkl_opt_o6/\"\n",
    "\n",
    "\n",
    "# AR PSD directory\n",
    "pickle_dir_ar_opt_flip_o6 = \"/Users/blancamartin/Desktop/Voytek_Lab/timescales/organoid-tango/organoid-tango/arPSD_fits_pkl_opt_flip_o6/\"\n",
    "\n",
    "# Init workflow\n",
    "wf = WorkFlow()\n",
    "\n",
    "# Read .mat files\n",
    "wf.read_raw(reader, indices)\n",
    "\n",
    "# Bin spikes and window\n",
    "wf.transform(bin_spikes, bin_size, bins_per_window)\n",
    "\n",
    "\n",
    "fit_method = 'fooof' # fooof huber\n",
    "# AR spectrum calculation order\n",
    "ar_spec_order = [6]\n",
    "\n",
    "# # Set up workflow analyses with r^2 weighting \"sigma\" input\n",
    "# # Only works with \"huber\"/robustregression not spec param\n",
    "# # Just run this block in addition to the previous to add the extra workflow analyses to the previous ones\n",
    "n_pts_welch = 10\n",
    "n_pts_ar = 2047\n",
    "welch_sigma = np.linspace(1, 10, n_pts_welch) / 10\n",
    "ar_sigma = np.linspace(1, 10, n_pts_ar) / 10\n",
    "welch_sigma_flip = np.flip(welch_sigma)\n",
    "ar_sigma_flip = np.flip(ar_sigma)\n",
    "\n",
    "\n",
    "# # run for multiple AR spec orders - this time different weighting\n",
    "for this_ar_order in ar_spec_order:\n",
    "    \n",
    "#     # reset fork\n",
    "    wf.fork(0)\n",
    "#     # compute power spectra - ar\n",
    "    wf.transform(compute_ar_spectrum_, fs_bin, this_ar_order, axis=1, f_range=(.001, 200))\n",
    "    wf.transform(mean, axis=0)\n",
    "#     # spec param fit - ar\n",
    "    wf.fit(PSD(),sigma=ar_sigma,method=fit_method,  pickle=True, pickle_dir=pickle_dir_ar_opt_o6)\n",
    "\n",
    "\n",
    "\n",
    "# # run for multiple AR spec orders - this time different weighting FLIP\n",
    "for this_ar_order in ar_spec_order:\n",
    "#     # reset fork\n",
    "    wf.fork(0)\n",
    "#     # compute kernel averaged power spectra - ar\n",
    "    wf.transform(compute_ar_spectrum_, fs_bin, this_ar_order, axis=1, f_range=(.001, 200))\n",
    "    wf.transform(mean, axis=0)\n",
    "#     # spec param fit - ar\n",
    "    wf.fit(PSD(),sigma=ar_sigma_flip,method=fit_method,  pickle=True, pickle_dir=pickle_dir_ar_opt_flip_o6)\n",
    "    "
   ]
  },
  {
   "cell_type": "code",
   "execution_count": null,
   "id": "e02e77ea",
   "metadata": {},
   "outputs": [],
   "source": [
    "%%time\n",
    "# run work flow\n",
    "wf.run(n_jobs=-1,progress=tqdm)"
   ]
  },
  {
   "cell_type": "markdown",
   "id": "ca6b5faf",
   "metadata": {},
   "source": [
    "#### Run with AR spec order = 7"
   ]
  },
  {
   "cell_type": "code",
   "execution_count": null,
   "id": "ced53a9e",
   "metadata": {},
   "outputs": [],
   "source": [
    "\n",
    "# AR PSD directory\n",
    "pickle_dir_ar_opt_o7 = \"/Users/blancamartin/Desktop/Voytek_Lab/timescales/organoid-tango/organoid-tango/arPSD_fits_pkl_opt_o7/\"\n",
    "\n",
    "\n",
    "# AR PSD directory\n",
    "pickle_dir_ar_opt_flip_o7 = \"/Users/blancamartin/Desktop/Voytek_Lab/timescales/organoid-tango/organoid-tango/arPSD_fits_pkl_opt_flip_o7/\"\n",
    "\n",
    "# Init workflow\n",
    "wf = WorkFlow()\n",
    "\n",
    "# Read .mat files\n",
    "wf.read_raw(reader, indices)\n",
    "\n",
    "# Bin spikes and window\n",
    "wf.transform(bin_spikes, bin_size, bins_per_window)\n",
    "\n",
    "\n",
    "fit_method = 'fooof' # fooof huber\n",
    "# AR spectrum calculation order\n",
    "ar_spec_order = [7]\n",
    "\n",
    "# # Set up workflow analyses with r^2 weighting \"sigma\" input\n",
    "# # Only works with \"huber\"/robustregression not spec param\n",
    "# # Just run this block in addition to the previous to add the extra workflow analyses to the previous ones\n",
    "n_pts_welch = 10\n",
    "n_pts_ar = 2047\n",
    "welch_sigma = np.linspace(1, 10, n_pts_welch) / 10\n",
    "ar_sigma = np.linspace(1, 10, n_pts_ar) / 10\n",
    "welch_sigma_flip = np.flip(welch_sigma)\n",
    "ar_sigma_flip = np.flip(ar_sigma)\n",
    "\n",
    "\n",
    "# # run for multiple AR spec orders - this time different weighting\n",
    "for this_ar_order in ar_spec_order:\n",
    "    \n",
    "#     # reset fork\n",
    "    wf.fork(0)\n",
    "#     # compute power spectra - ar\n",
    "    wf.transform(compute_ar_spectrum_, fs_bin, this_ar_order, axis=1, f_range=(.001, 200))\n",
    "    wf.transform(mean, axis=0)\n",
    "#     # spec param fit - ar\n",
    "    wf.fit(PSD(),sigma=ar_sigma,method=fit_method,  pickle=True, pickle_dir=pickle_dir_ar_opt_o7)\n",
    "\n",
    "\n",
    "\n",
    "# # run for multiple AR spec orders - this time different weighting FLIP\n",
    "for this_ar_order in ar_spec_order:\n",
    "#     # reset fork\n",
    "    wf.fork(0)\n",
    "#     # compute kernel averaged power spectra - ar\n",
    "    wf.transform(compute_ar_spectrum_, fs_bin, this_ar_order, axis=1, f_range=(.001, 200))\n",
    "    wf.transform(mean, axis=0)\n",
    "#     # spec param fit - ar\n",
    "    wf.fit(PSD(),sigma=ar_sigma_flip,method=fit_method,  pickle=True, pickle_dir=pickle_dir_ar_opt_flip_o7)\n",
    "    "
   ]
  },
  {
   "cell_type": "code",
   "execution_count": null,
   "id": "c6688ab5",
   "metadata": {},
   "outputs": [],
   "source": [
    "%%time\n",
    "# run work flow\n",
    "wf.run(n_jobs=-1,progress=tqdm)"
   ]
  },
  {
   "cell_type": "markdown",
   "id": "553d21fb",
   "metadata": {},
   "source": [
    "#### Run with AR spec order = 8"
   ]
  },
  {
   "cell_type": "code",
   "execution_count": null,
   "id": "3fd18afb",
   "metadata": {},
   "outputs": [],
   "source": [
    "\n",
    "# AR PSD directory\n",
    "pickle_dir_ar_opt_o8 = \"/Users/blancamartin/Desktop/Voytek_Lab/timescales/organoid-tango/organoid-tango/arPSD_fits_pkl_opt_o8/\"\n",
    "\n",
    "\n",
    "# AR PSD directory\n",
    "pickle_dir_ar_opt_flip_o8 = \"/Users/blancamartin/Desktop/Voytek_Lab/timescales/organoid-tango/organoid-tango/arPSD_fits_pkl_opt_flip_o8/\"\n",
    "\n",
    "# Init workflow\n",
    "wf = WorkFlow()\n",
    "\n",
    "# Read .mat files\n",
    "wf.read_raw(reader, indices)\n",
    "\n",
    "# Bin spikes and window\n",
    "wf.transform(bin_spikes, bin_size, bins_per_window)\n",
    "\n",
    "\n",
    "fit_method = 'fooof' # fooof huber\n",
    "# AR spectrum calculation order\n",
    "ar_spec_order = [8]\n",
    "\n",
    "# # Set up workflow analyses with r^2 weighting \"sigma\" input\n",
    "# # Only works with \"huber\"/robustregression not spec param\n",
    "# # Just run this block in addition to the previous to add the extra workflow analyses to the previous ones\n",
    "n_pts_welch = 10\n",
    "n_pts_ar = 2047\n",
    "welch_sigma = np.linspace(1, 10, n_pts_welch) / 10\n",
    "ar_sigma = np.linspace(1, 10, n_pts_ar) / 10\n",
    "welch_sigma_flip = np.flip(welch_sigma)\n",
    "ar_sigma_flip = np.flip(ar_sigma)\n",
    "\n",
    "\n",
    "# # run for multiple AR spec orders - this time different weighting\n",
    "for this_ar_order in ar_spec_order:\n",
    "    \n",
    "#     # reset fork\n",
    "    wf.fork(0)\n",
    "#     # compute power spectra - ar\n",
    "    wf.transform(compute_ar_spectrum_, fs_bin, this_ar_order, axis=1, f_range=(.001, 200))\n",
    "    wf.transform(mean, axis=0)\n",
    "#     # spec param fit - ar\n",
    "    wf.fit(PSD(),sigma=ar_sigma,method=fit_method,  pickle=True, pickle_dir=pickle_dir_ar_opt_o8)\n",
    "\n",
    "\n",
    "\n",
    "# # run for multiple AR spec orders - this time different weighting FLIP\n",
    "for this_ar_order in ar_spec_order:\n",
    "#     # reset fork\n",
    "    wf.fork(0)\n",
    "#     # compute kernel averaged power spectra - ar\n",
    "    wf.transform(compute_ar_spectrum_, fs_bin, this_ar_order, axis=1, f_range=(.001, 200))\n",
    "    wf.transform(mean, axis=0)\n",
    "#     # spec param fit - ar\n",
    "    wf.fit(PSD(),sigma=ar_sigma_flip,method=fit_method,  pickle=True, pickle_dir=pickle_dir_ar_opt_flip_o8)\n",
    "    "
   ]
  },
  {
   "cell_type": "code",
   "execution_count": null,
   "id": "4158aace",
   "metadata": {},
   "outputs": [],
   "source": [
    "%%time\n",
    "# run work flow\n",
    "wf.run(n_jobs=-1,progress=tqdm)"
   ]
  },
  {
   "cell_type": "markdown",
   "id": "5efb567d",
   "metadata": {},
   "source": [
    "#### Run with AR spec order = 9"
   ]
  },
  {
   "cell_type": "code",
   "execution_count": null,
   "id": "264055fd",
   "metadata": {},
   "outputs": [],
   "source": [
    "\n",
    "# AR PSD directory\n",
    "pickle_dir_ar_opt_o9 = \"/Users/blancamartin/Desktop/Voytek_Lab/timescales/organoid-tango/organoid-tango/arPSD_fits_pkl_opt_o9/\"\n",
    "\n",
    "\n",
    "# AR PSD directory\n",
    "pickle_dir_ar_opt_flip_o9 = \"/Users/blancamartin/Desktop/Voytek_Lab/timescales/organoid-tango/organoid-tango/arPSD_fits_pkl_opt_flip_o9/\"\n",
    "\n",
    "# Init workflow\n",
    "wf = WorkFlow()\n",
    "\n",
    "# Read .mat files\n",
    "wf.read_raw(reader, indices)\n",
    "\n",
    "# Bin spikes and window\n",
    "wf.transform(bin_spikes, bin_size, bins_per_window)\n",
    "\n",
    "\n",
    "fit_method = 'fooof' # fooof huber\n",
    "# AR spectrum calculation order\n",
    "ar_spec_order = [9]\n",
    "\n",
    "# # Set up workflow analyses with r^2 weighting \"sigma\" input\n",
    "# # Only works with \"huber\"/robustregression not spec param\n",
    "# # Just run this block in addition to the previous to add the extra workflow analyses to the previous ones\n",
    "n_pts_welch = 10\n",
    "n_pts_ar = 2047\n",
    "welch_sigma = np.linspace(1, 10, n_pts_welch) / 10\n",
    "ar_sigma = np.linspace(1, 10, n_pts_ar) / 10\n",
    "welch_sigma_flip = np.flip(welch_sigma)\n",
    "ar_sigma_flip = np.flip(ar_sigma)\n",
    "\n",
    "\n",
    "# # run for multiple AR spec orders - this time different weighting\n",
    "for this_ar_order in ar_spec_order:\n",
    "    \n",
    "#     # reset fork\n",
    "    wf.fork(0)\n",
    "#     # compute power spectra - ar\n",
    "    wf.transform(compute_ar_spectrum_, fs_bin, this_ar_order, axis=1, f_range=(.001, 200))\n",
    "    wf.transform(mean, axis=0)\n",
    "#     # spec param fit - ar\n",
    "    wf.fit(PSD(),sigma=ar_sigma,method=fit_method,  pickle=True, pickle_dir=pickle_dir_ar_opt_o9)\n",
    "\n",
    "\n",
    "\n",
    "# # run for multiple AR spec orders - this time different weighting FLIP\n",
    "for this_ar_order in ar_spec_order:\n",
    "#     # reset fork\n",
    "    wf.fork(0)\n",
    "#     # compute kernel averaged power spectra - ar\n",
    "    wf.transform(compute_ar_spectrum_, fs_bin, this_ar_order, axis=1, f_range=(.001, 200))\n",
    "    wf.transform(mean, axis=0)\n",
    "#     # spec param fit - ar\n",
    "    wf.fit(PSD(),sigma=ar_sigma_flip,method=fit_method,  pickle=True, pickle_dir=pickle_dir_ar_opt_flip_o9)\n",
    "    "
   ]
  },
  {
   "cell_type": "code",
   "execution_count": null,
   "id": "2fcb36ca",
   "metadata": {},
   "outputs": [],
   "source": [
    "%%time\n",
    "# run work flow\n",
    "wf.run(n_jobs=-1,progress=tqdm)"
   ]
  },
  {
   "cell_type": "markdown",
   "id": "25982521",
   "metadata": {},
   "source": [
    "#### Run with AR spec order = 10"
   ]
  },
  {
   "cell_type": "code",
   "execution_count": null,
   "id": "d3544c9f",
   "metadata": {},
   "outputs": [],
   "source": [
    "\n",
    "# AR PSD directory\n",
    "pickle_dir_ar_opt_o10 = \"/Users/blancamartin/Desktop/Voytek_Lab/timescales/organoid-tango/organoid-tango/arPSD_fits_pkl_opt_o10/\"\n",
    "\n",
    "\n",
    "# AR PSD directory\n",
    "pickle_dir_ar_opt_flip_o10 = \"/Users/blancamartin/Desktop/Voytek_Lab/timescales/organoid-tango/organoid-tango/arPSD_fits_pkl_opt_flip_o10/\"\n",
    "\n",
    "# Init workflow\n",
    "wf = WorkFlow()\n",
    "\n",
    "# Read .mat files\n",
    "wf.read_raw(reader, indices)\n",
    "\n",
    "# Bin spikes and window\n",
    "wf.transform(bin_spikes, bin_size, bins_per_window)\n",
    "\n",
    "\n",
    "fit_method = 'fooof' # fooof huber\n",
    "# AR spectrum calculation order\n",
    "ar_spec_order = [10]\n",
    "\n",
    "# # Set up workflow analyses with r^2 weighting \"sigma\" input\n",
    "# # Only works with \"huber\"/robustregression not spec param\n",
    "# # Just run this block in addition to the previous to add the extra workflow analyses to the previous ones\n",
    "n_pts_welch = 10\n",
    "n_pts_ar = 2047\n",
    "welch_sigma = np.linspace(1, 10, n_pts_welch) / 10\n",
    "ar_sigma = np.linspace(1, 10, n_pts_ar) / 10\n",
    "welch_sigma_flip = np.flip(welch_sigma)\n",
    "ar_sigma_flip = np.flip(ar_sigma)\n",
    "\n",
    "\n",
    "# # run for multiple AR spec orders - this time different weighting\n",
    "for this_ar_order in ar_spec_order:\n",
    "    \n",
    "#     # reset fork\n",
    "    wf.fork(0)\n",
    "#     # compute power spectra - ar\n",
    "    wf.transform(compute_ar_spectrum_, fs_bin, this_ar_order, axis=1, f_range=(.001, 200))\n",
    "    wf.transform(mean, axis=0)\n",
    "#     # spec param fit - ar\n",
    "    wf.fit(PSD(),sigma=ar_sigma,method=fit_method,  pickle=True, pickle_dir=pickle_dir_ar_opt_o10)\n",
    "\n",
    "\n",
    "\n",
    "# # run for multiple AR spec orders - this time different weighting FLIP\n",
    "for this_ar_order in ar_spec_order:\n",
    "#     # reset fork\n",
    "    wf.fork(0)\n",
    "#     # compute kernel averaged power spectra - ar\n",
    "    wf.transform(compute_ar_spectrum_, fs_bin, this_ar_order, axis=1, f_range=(.001, 200))\n",
    "    wf.transform(mean, axis=0)\n",
    "#     # spec param fit - ar\n",
    "    wf.fit(PSD(),sigma=ar_sigma_flip,method=fit_method,  pickle=True, pickle_dir=pickle_dir_ar_opt_flip_o10)\n",
    "    "
   ]
  },
  {
   "cell_type": "code",
   "execution_count": null,
   "id": "eae215a5",
   "metadata": {},
   "outputs": [],
   "source": [
    "%%time\n",
    "# run work flow\n",
    "wf.run(n_jobs=-1,progress=tqdm)"
   ]
  },
  {
   "cell_type": "markdown",
   "id": "ba949083",
   "metadata": {},
   "source": [
    "#### Run with AR spec order = 11"
   ]
  },
  {
   "cell_type": "code",
   "execution_count": null,
   "id": "5475307e",
   "metadata": {},
   "outputs": [],
   "source": [
    "\n",
    "# AR PSD directory\n",
    "pickle_dir_ar_opt_o11 = \"/Users/blancamartin/Desktop/Voytek_Lab/timescales/organoid-tango/organoid-tango/arPSD_fits_pkl_opt_o11/\"\n",
    "\n",
    "\n",
    "# AR PSD directory\n",
    "pickle_dir_ar_opt_flip_o11 = \"/Users/blancamartin/Desktop/Voytek_Lab/timescales/organoid-tango/organoid-tango/arPSD_fits_pkl_opt_flip_o11/\"\n",
    "\n",
    "# Init workflow\n",
    "wf = WorkFlow()\n",
    "\n",
    "# Read .mat files\n",
    "wf.read_raw(reader, indices)\n",
    "\n",
    "# Bin spikes and window\n",
    "wf.transform(bin_spikes, bin_size, bins_per_window)\n",
    "\n",
    "\n",
    "fit_method = 'fooof' # fooof huber\n",
    "# AR spectrum calculation order\n",
    "ar_spec_order = [11]\n",
    "\n",
    "# # Set up workflow analyses with r^2 weighting \"sigma\" input\n",
    "# # Only works with \"huber\"/robustregression not spec param\n",
    "# # Just run this block in addition to the previous to add the extra workflow analyses to the previous ones\n",
    "n_pts_welch = 10\n",
    "n_pts_ar = 2047\n",
    "welch_sigma = np.linspace(1, 10, n_pts_welch) / 10\n",
    "ar_sigma = np.linspace(1, 10, n_pts_ar) / 10\n",
    "welch_sigma_flip = np.flip(welch_sigma)\n",
    "ar_sigma_flip = np.flip(ar_sigma)\n",
    "\n",
    "\n",
    "# # run for multiple AR spec orders - this time different weighting\n",
    "for this_ar_order in ar_spec_order:\n",
    "    \n",
    "#     # reset fork\n",
    "    wf.fork(0)\n",
    "#     # compute power spectra - ar\n",
    "    wf.transform(compute_ar_spectrum_, fs_bin, this_ar_order, axis=1, f_range=(.001, 200))\n",
    "    wf.transform(mean, axis=0)\n",
    "#     # spec param fit - ar\n",
    "    wf.fit(PSD(),sigma=ar_sigma,method=fit_method,  pickle=True, pickle_dir=pickle_dir_ar_opt_o11)\n",
    "\n",
    "\n",
    "\n",
    "# # run for multiple AR spec orders - this time different weighting FLIP\n",
    "for this_ar_order in ar_spec_order:\n",
    "#     # reset fork\n",
    "    wf.fork(0)\n",
    "#     # compute kernel averaged power spectra - ar\n",
    "    wf.transform(compute_ar_spectrum_, fs_bin, this_ar_order, axis=1, f_range=(.001, 200))\n",
    "    wf.transform(mean, axis=0)\n",
    "#     # spec param fit - ar\n",
    "    wf.fit(PSD(),sigma=ar_sigma_flip,method=fit_method,  pickle=True, pickle_dir=pickle_dir_ar_opt_flip_o11)\n",
    "    "
   ]
  },
  {
   "cell_type": "code",
   "execution_count": null,
   "id": "269356a1",
   "metadata": {},
   "outputs": [],
   "source": [
    "%%time\n",
    "# run work flow\n",
    "wf.run(n_jobs=-1,progress=tqdm)"
   ]
  },
  {
   "cell_type": "markdown",
   "id": "cc3c5d77",
   "metadata": {},
   "source": [
    "#### Run with AR spec order = 12"
   ]
  },
  {
   "cell_type": "code",
   "execution_count": null,
   "id": "6f5476f0",
   "metadata": {},
   "outputs": [],
   "source": [
    "\n",
    "# AR PSD directory\n",
    "pickle_dir_ar_opt_o12 = \"/Users/blancamartin/Desktop/Voytek_Lab/timescales/organoid-tango/organoid-tango/arPSD_fits_pkl_opt_o12/\"\n",
    "\n",
    "\n",
    "# AR PSD directory\n",
    "pickle_dir_ar_opt_flip_o12 = \"/Users/blancamartin/Desktop/Voytek_Lab/timescales/organoid-tango/organoid-tango/arPSD_fits_pkl_opt_flip_o12/\"\n",
    "\n",
    "# Init workflow\n",
    "wf = WorkFlow()\n",
    "\n",
    "# Read .mat files\n",
    "wf.read_raw(reader, indices)\n",
    "\n",
    "# Bin spikes and window\n",
    "wf.transform(bin_spikes, bin_size, bins_per_window)\n",
    "\n",
    "\n",
    "fit_method = 'fooof' # fooof huber\n",
    "# AR spectrum calculation order\n",
    "ar_spec_order = [12]\n",
    "\n",
    "# # Set up workflow analyses with r^2 weighting \"sigma\" input\n",
    "# # Only works with \"huber\"/robustregression not spec param\n",
    "# # Just run this block in addition to the previous to add the extra workflow analyses to the previous ones\n",
    "n_pts_welch = 10\n",
    "n_pts_ar = 2047\n",
    "welch_sigma = np.linspace(1, 10, n_pts_welch) / 10\n",
    "ar_sigma = np.linspace(1, 10, n_pts_ar) / 10\n",
    "welch_sigma_flip = np.flip(welch_sigma)\n",
    "ar_sigma_flip = np.flip(ar_sigma)\n",
    "\n",
    "\n",
    "# # run for multiple AR spec orders - this time different weighting\n",
    "for this_ar_order in ar_spec_order:\n",
    "    \n",
    "#     # reset fork\n",
    "    wf.fork(0)\n",
    "#     # compute power spectra - ar\n",
    "    wf.transform(compute_ar_spectrum_, fs_bin, this_ar_order, axis=1, f_range=(.001, 200))\n",
    "    wf.transform(mean, axis=0)\n",
    "#     # spec param fit - ar\n",
    "    wf.fit(PSD(),sigma=ar_sigma,method=fit_method,  pickle=True, pickle_dir=pickle_dir_ar_opt_o12)\n",
    "\n",
    "\n",
    "\n",
    "# # run for multiple AR spec orders - this time different weighting FLIP\n",
    "for this_ar_order in ar_spec_order:\n",
    "#     # reset fork\n",
    "    wf.fork(0)\n",
    "#     # compute kernel averaged power spectra - ar\n",
    "    wf.transform(compute_ar_spectrum_, fs_bin, this_ar_order, axis=1, f_range=(.001, 200))\n",
    "    wf.transform(mean, axis=0)\n",
    "#     # spec param fit - ar\n",
    "    wf.fit(PSD(),sigma=ar_sigma_flip,method=fit_method,  pickle=True, pickle_dir=pickle_dir_ar_opt_flip_o12)\n",
    "    "
   ]
  },
  {
   "cell_type": "code",
   "execution_count": null,
   "id": "7835f31d",
   "metadata": {},
   "outputs": [],
   "source": [
    "%%time\n",
    "# run work flow\n",
    "wf.run(n_jobs=-1,progress=tqdm)"
   ]
  },
  {
   "cell_type": "markdown",
   "id": "1c2d5f89",
   "metadata": {},
   "source": [
    "#### Run with AR spec order = 13"
   ]
  },
  {
   "cell_type": "code",
   "execution_count": null,
   "id": "cca0c6f5",
   "metadata": {},
   "outputs": [],
   "source": [
    "\n",
    "# AR PSD directory\n",
    "pickle_dir_ar_opt_o13 = \"/Users/blancamartin/Desktop/Voytek_Lab/timescales/organoid-tango/organoid-tango/arPSD_fits_pkl_opt_o13/\"\n",
    "\n",
    "\n",
    "# AR PSD directory\n",
    "pickle_dir_ar_opt_flip_o13 = \"/Users/blancamartin/Desktop/Voytek_Lab/timescales/organoid-tango/organoid-tango/arPSD_fits_pkl_opt_flip_o13/\"\n",
    "\n",
    "# Init workflow\n",
    "wf = WorkFlow()\n",
    "\n",
    "# Read .mat files\n",
    "wf.read_raw(reader, indices)\n",
    "\n",
    "# Bin spikes and window\n",
    "wf.transform(bin_spikes, bin_size, bins_per_window)\n",
    "\n",
    "\n",
    "fit_method = 'fooof' # fooof huber\n",
    "# AR spectrum calculation order\n",
    "ar_spec_order = [13]\n",
    "\n",
    "# # Set up workflow analyses with r^2 weighting \"sigma\" input\n",
    "# # Only works with \"huber\"/robustregression not spec param\n",
    "# # Just run this block in addition to the previous to add the extra workflow analyses to the previous ones\n",
    "n_pts_welch = 10\n",
    "n_pts_ar = 2047\n",
    "welch_sigma = np.linspace(1, 10, n_pts_welch) / 10\n",
    "ar_sigma = np.linspace(1, 10, n_pts_ar) / 10\n",
    "welch_sigma_flip = np.flip(welch_sigma)\n",
    "ar_sigma_flip = np.flip(ar_sigma)\n",
    "\n",
    "\n",
    "# # run for multiple AR spec orders - this time different weighting\n",
    "for this_ar_order in ar_spec_order:\n",
    "    \n",
    "#     # reset fork\n",
    "    wf.fork(0)\n",
    "#     # compute power spectra - ar\n",
    "    wf.transform(compute_ar_spectrum_, fs_bin, this_ar_order, axis=1, f_range=(.001, 200))\n",
    "    wf.transform(mean, axis=0)\n",
    "#     # spec param fit - ar\n",
    "    wf.fit(PSD(),sigma=ar_sigma,method=fit_method,  pickle=True, pickle_dir=pickle_dir_ar_opt_o13)\n",
    "\n",
    "\n",
    "\n",
    "# # run for multiple AR spec orders - this time different weighting FLIP\n",
    "for this_ar_order in ar_spec_order:\n",
    "#     # reset fork\n",
    "    wf.fork(0)\n",
    "#     # compute kernel averaged power spectra - ar\n",
    "    wf.transform(compute_ar_spectrum_, fs_bin, this_ar_order, axis=1, f_range=(.001, 200))\n",
    "    wf.transform(mean, axis=0)\n",
    "#     # spec param fit - ar\n",
    "    wf.fit(PSD(),sigma=ar_sigma_flip,method=fit_method,  pickle=True, pickle_dir=pickle_dir_ar_opt_flip_o13)\n",
    "    "
   ]
  },
  {
   "cell_type": "code",
   "execution_count": null,
   "id": "d50d65a1",
   "metadata": {},
   "outputs": [],
   "source": [
    "%%time\n",
    "# run work flow\n",
    "wf.run(n_jobs=-1,progress=tqdm)"
   ]
  },
  {
   "cell_type": "markdown",
   "id": "687aeeb2",
   "metadata": {},
   "source": [
    "#### Run with AR spec order = 14"
   ]
  },
  {
   "cell_type": "code",
   "execution_count": null,
   "id": "82a97fd0",
   "metadata": {},
   "outputs": [],
   "source": [
    "\n",
    "# AR PSD directory\n",
    "pickle_dir_ar_opt_o14 = \"/Users/blancamartin/Desktop/Voytek_Lab/timescales/organoid-tango/organoid-tango/arPSD_fits_pkl_opt_o14/\"\n",
    "\n",
    "\n",
    "# AR PSD directory\n",
    "pickle_dir_ar_opt_flip_o14 = \"/Users/blancamartin/Desktop/Voytek_Lab/timescales/organoid-tango/organoid-tango/arPSD_fits_pkl_opt_flip_o14/\"\n",
    "\n",
    "# Init workflow\n",
    "wf = WorkFlow()\n",
    "\n",
    "# Read .mat files\n",
    "wf.read_raw(reader, indices)\n",
    "\n",
    "# Bin spikes and window\n",
    "wf.transform(bin_spikes, bin_size, bins_per_window)\n",
    "\n",
    "\n",
    "fit_method = 'fooof' # fooof huber\n",
    "# AR spectrum calculation order\n",
    "ar_spec_order = [14]\n",
    "\n",
    "# # Set up workflow analyses with r^2 weighting \"sigma\" input\n",
    "# # Only works with \"huber\"/robustregression not spec param\n",
    "# # Just run this block in addition to the previous to add the extra workflow analyses to the previous ones\n",
    "n_pts_welch = 10\n",
    "n_pts_ar = 2047\n",
    "welch_sigma = np.linspace(1, 10, n_pts_welch) / 10\n",
    "ar_sigma = np.linspace(1, 10, n_pts_ar) / 10\n",
    "welch_sigma_flip = np.flip(welch_sigma)\n",
    "ar_sigma_flip = np.flip(ar_sigma)\n",
    "\n",
    "\n",
    "# # run for multiple AR spec orders - this time different weighting\n",
    "for this_ar_order in ar_spec_order:\n",
    "    \n",
    "#     # reset fork\n",
    "    wf.fork(0)\n",
    "#     # compute power spectra - ar\n",
    "    wf.transform(compute_ar_spectrum_, fs_bin, this_ar_order, axis=1, f_range=(.001, 200))\n",
    "    wf.transform(mean, axis=0)\n",
    "#     # spec param fit - ar\n",
    "    wf.fit(PSD(),sigma=ar_sigma,method=fit_method,  pickle=True, pickle_dir=pickle_dir_ar_opt_o14)\n",
    "\n",
    "\n",
    "\n",
    "# # run for multiple AR spec orders - this time different weighting FLIP\n",
    "for this_ar_order in ar_spec_order:\n",
    "#     # reset fork\n",
    "    wf.fork(0)\n",
    "#     # compute kernel averaged power spectra - ar\n",
    "    wf.transform(compute_ar_spectrum_, fs_bin, this_ar_order, axis=1, f_range=(.001, 200))\n",
    "    wf.transform(mean, axis=0)\n",
    "#     # spec param fit - ar\n",
    "    wf.fit(PSD(),sigma=ar_sigma_flip,method=fit_method,  pickle=True, pickle_dir=pickle_dir_ar_opt_flip_o14)\n",
    "    "
   ]
  },
  {
   "cell_type": "code",
   "execution_count": null,
   "id": "5e4d232a",
   "metadata": {},
   "outputs": [],
   "source": [
    "%%time\n",
    "# run work flow\n",
    "wf.run(n_jobs=-1,progress=tqdm)"
   ]
  },
  {
   "cell_type": "markdown",
   "id": "4a91aeb4",
   "metadata": {},
   "source": [
    "#### Run with AR spec order = 15"
   ]
  },
  {
   "cell_type": "code",
   "execution_count": null,
   "id": "329fad85",
   "metadata": {},
   "outputs": [],
   "source": [
    "\n",
    "# AR PSD directory\n",
    "pickle_dir_ar_opt_o15 = \"/Users/blancamartin/Desktop/Voytek_Lab/timescales/organoid-tango/organoid-tango/arPSD_fits_pkl_opt_o15/\"\n",
    "\n",
    "\n",
    "# AR PSD directory\n",
    "pickle_dir_ar_opt_flip_o15 = \"/Users/blancamartin/Desktop/Voytek_Lab/timescales/organoid-tango/organoid-tango/arPSD_fits_pkl_opt_flip_o15/\"\n",
    "\n",
    "# Init workflow\n",
    "wf = WorkFlow()\n",
    "\n",
    "# Read .mat files\n",
    "wf.read_raw(reader, indices)\n",
    "\n",
    "# Bin spikes and window\n",
    "wf.transform(bin_spikes, bin_size, bins_per_window)\n",
    "\n",
    "\n",
    "fit_method = 'fooof' # fooof huber\n",
    "# AR spectrum calculation order\n",
    "ar_spec_order = [15]\n",
    "\n",
    "# # Set up workflow analyses with r^2 weighting \"sigma\" input\n",
    "# # Only works with \"huber\"/robustregression not spec param\n",
    "# # Just run this block in addition to the previous to add the extra workflow analyses to the previous ones\n",
    "n_pts_welch = 10\n",
    "n_pts_ar = 2047\n",
    "welch_sigma = np.linspace(1, 10, n_pts_welch) / 10\n",
    "ar_sigma = np.linspace(1, 10, n_pts_ar) / 10\n",
    "welch_sigma_flip = np.flip(welch_sigma)\n",
    "ar_sigma_flip = np.flip(ar_sigma)\n",
    "\n",
    "\n",
    "# # run for multiple AR spec orders - this time different weighting\n",
    "for this_ar_order in ar_spec_order:\n",
    "    \n",
    "#     # reset fork\n",
    "    wf.fork(0)\n",
    "#     # compute power spectra - ar\n",
    "    wf.transform(compute_ar_spectrum_, fs_bin, this_ar_order, axis=1, f_range=(.001, 200))\n",
    "    wf.transform(mean, axis=0)\n",
    "#     # spec param fit - ar\n",
    "    wf.fit(PSD(),sigma=ar_sigma,method=fit_method,  pickle=True, pickle_dir=pickle_dir_ar_opt_o15)\n",
    "\n",
    "\n",
    "\n",
    "# # run for multiple AR spec orders - this time different weighting FLIP\n",
    "for this_ar_order in ar_spec_order:\n",
    "#     # reset fork\n",
    "    wf.fork(0)\n",
    "#     # compute kernel averaged power spectra - ar\n",
    "    wf.transform(compute_ar_spectrum_, fs_bin, this_ar_order, axis=1, f_range=(.001, 200))\n",
    "    wf.transform(mean, axis=0)\n",
    "#     # spec param fit - ar\n",
    "    wf.fit(PSD(),sigma=ar_sigma_flip,method=fit_method,  pickle=True, pickle_dir=pickle_dir_ar_opt_flip_o15)\n",
    "    "
   ]
  },
  {
   "cell_type": "code",
   "execution_count": null,
   "id": "0a3c4c3b",
   "metadata": {},
   "outputs": [],
   "source": [
    "%%time\n",
    "# run work flow\n",
    "wf.run(n_jobs=-1,progress=tqdm)"
   ]
  },
  {
   "cell_type": "markdown",
   "id": "7a51f6e2",
   "metadata": {},
   "source": [
    "### Read saved pickle files "
   ]
  },
  {
   "cell_type": "code",
   "execution_count": 10,
   "id": "52abf1ee",
   "metadata": {},
   "outputs": [],
   "source": [
    "pickle_dir_ar_opt_o1 = \"/Users/blancamartin/Desktop/Voytek_Lab/timescales/organoid-tango/organoid-tango/arPSD_fits_pkl_opt_o1/\"\n",
    "\n",
    "pickle_dir_ar_opt_flip_o1 = \"/Users/blancamartin/Desktop/Voytek_Lab/timescales/organoid-tango/organoid-tango/arPSD_fits_pkl_opt_flip_o1/\"\n",
    "\n",
    "pickle_dir_ar_opt_o2 = \"/Users/blancamartin/Desktop/Voytek_Lab/timescales/organoid-tango/organoid-tango/arPSD_fits_pkl_opt_o2/\"\n",
    "\n",
    "pickle_dir_ar_opt_flip_o2 = \"/Users/blancamartin/Desktop/Voytek_Lab/timescales/organoid-tango/organoid-tango/arPSD_fits_pkl_opt_flip_o2/\"\n",
    "\n",
    "pickle_dir_ar_opt_o3 = \"/Users/blancamartin/Desktop/Voytek_Lab/timescales/organoid-tango/organoid-tango/arPSD_fits_pkl_opt_o3/\"\n",
    "\n",
    "pickle_dir_ar_opt_flip_o3 = \"/Users/blancamartin/Desktop/Voytek_Lab/timescales/organoid-tango/organoid-tango/arPSD_fits_pkl_opt_flip_o3/\"\n",
    "\n",
    "pickle_dir_ar_opt_o4 = \"/Users/blancamartin/Desktop/Voytek_Lab/timescales/organoid-tango/organoid-tango/arPSD_fits_pkl_opt_o4/\"\n",
    "\n",
    "pickle_dir_ar_opt_flip_o4 = \"/Users/blancamartin/Desktop/Voytek_Lab/timescales/organoid-tango/organoid-tango/arPSD_fits_pkl_opt_flip_o4/\"\n",
    "\n",
    "\n",
    "\n",
    "pickle_dir_ar_opt_o5 = \"/Users/blancamartin/Desktop/Voytek_Lab/timescales/organoid-tango/organoid-tango/arPSD_fits_pkl_opt_o5/\"\n",
    "\n",
    "pickle_dir_ar_opt_flip_o5 = \"/Users/blancamartin/Desktop/Voytek_Lab/timescales/organoid-tango/organoid-tango/arPSD_fits_pkl_opt_flip_o5/\"\n",
    "\n",
    "pickle_dir_ar_opt_o6 = \"/Users/blancamartin/Desktop/Voytek_Lab/timescales/organoid-tango/organoid-tango/arPSD_fits_pkl_opt_o6/\"\n",
    "\n",
    "pickle_dir_ar_opt_o7 = \"/Users/blancamartin/Desktop/Voytek_Lab/timescales/organoid-tango/organoid-tango/arPSD_fits_pkl_opt_o7/\"\n",
    "\n",
    "pickle_dir_ar_opt_o8 = \"/Users/blancamartin/Desktop/Voytek_Lab/timescales/organoid-tango/organoid-tango/arPSD_fits_pkl_opt_o8/\"\n",
    "\n",
    "pickle_dir_ar_opt_o9 = \"/Users/blancamartin/Desktop/Voytek_Lab/timescales/organoid-tango/organoid-tango/arPSD_fits_pkl_opt_o9/\"\n",
    "\n",
    "pickle_dir_ar_opt_o10 = \"/Users/blancamartin/Desktop/Voytek_Lab/timescales/organoid-tango/organoid-tango/arPSD_fits_pkl_opt_o10/\"\n",
    "\n",
    "pickle_dir_ar_opt_o11 = \"/Users/blancamartin/Desktop/Voytek_Lab/timescales/organoid-tango/organoid-tango/arPSD_fits_pkl_opt_o11/\"\n",
    "\n",
    "pickle_dir_ar_opt_o12 = \"/Users/blancamartin/Desktop/Voytek_Lab/timescales/organoid-tango/organoid-tango/arPSD_fits_pkl_opt_o12/\"\n",
    "\n",
    "pickle_dir_ar_opt_o13 = \"/Users/blancamartin/Desktop/Voytek_Lab/timescales/organoid-tango/organoid-tango/arPSD_fits_pkl_opt_o13/\"\n",
    "\n",
    "pickle_dir_ar_opt_o14 = \"/Users/blancamartin/Desktop/Voytek_Lab/timescales/organoid-tango/organoid-tango/arPSD_fits_pkl_opt_o14/\"\n",
    "\n",
    "pickle_dir_ar_opt_o15 = \"/Users/blancamartin/Desktop/Voytek_Lab/timescales/organoid-tango/organoid-tango/arPSD_fits_pkl_opt_o15/\"\n",
    "\n"
   ]
  },
  {
   "cell_type": "code",
   "execution_count": 11,
   "id": "953deff7",
   "metadata": {},
   "outputs": [
    {
     "ename": "KeyboardInterrupt",
     "evalue": "",
     "output_type": "error",
     "traceback": [
      "\u001b[0;31m---------------------------------------------------------------------------\u001b[0m",
      "\u001b[0;31mKeyboardInterrupt\u001b[0m                         Traceback (most recent call last)",
      "\u001b[0;32m/var/folders/rr/tk8wmt7x4xlgzgmcy768y1rm0000gn/T/ipykernel_4284/55613171.py\u001b[0m in \u001b[0;36m<module>\u001b[0;34m\u001b[0m\n\u001b[1;32m      6\u001b[0m \u001b[0;32mfor\u001b[0m \u001b[0mfilename\u001b[0m \u001b[0;32min\u001b[0m \u001b[0msorted\u001b[0m\u001b[0;34m(\u001b[0m\u001b[0mos\u001b[0m\u001b[0;34m.\u001b[0m\u001b[0mlistdir\u001b[0m\u001b[0;34m(\u001b[0m\u001b[0mpickle_dir_ar_opt_o1\u001b[0m\u001b[0;34m)\u001b[0m\u001b[0;34m)\u001b[0m\u001b[0;34m:\u001b[0m\u001b[0;34m\u001b[0m\u001b[0;34m\u001b[0m\u001b[0m\n\u001b[1;32m      7\u001b[0m     \u001b[0mf\u001b[0m \u001b[0;34m=\u001b[0m \u001b[0mos\u001b[0m\u001b[0;34m.\u001b[0m\u001b[0mpath\u001b[0m\u001b[0;34m.\u001b[0m\u001b[0mjoin\u001b[0m\u001b[0;34m(\u001b[0m\u001b[0mpickle_dir_ar_opt_o1\u001b[0m\u001b[0;34m,\u001b[0m \u001b[0mfilename\u001b[0m\u001b[0;34m)\u001b[0m\u001b[0;34m\u001b[0m\u001b[0;34m\u001b[0m\u001b[0m\n\u001b[0;32m----> 8\u001b[0;31m     \u001b[0mobj\u001b[0m \u001b[0;34m=\u001b[0m \u001b[0mpd\u001b[0m\u001b[0;34m.\u001b[0m\u001b[0mread_pickle\u001b[0m\u001b[0;34m(\u001b[0m\u001b[0mf\u001b[0m\u001b[0;34m)\u001b[0m\u001b[0;34m\u001b[0m\u001b[0;34m\u001b[0m\u001b[0m\n\u001b[0m\u001b[1;32m      9\u001b[0m     \u001b[0mwf_o1_tau\u001b[0m\u001b[0;34m.\u001b[0m\u001b[0mappend\u001b[0m\u001b[0;34m(\u001b[0m\u001b[0mobj\u001b[0m\u001b[0;34m.\u001b[0m\u001b[0mtau\u001b[0m\u001b[0;34m)\u001b[0m\u001b[0;34m\u001b[0m\u001b[0;34m\u001b[0m\u001b[0m\n\u001b[1;32m     10\u001b[0m     \u001b[0mwf_o1\u001b[0m\u001b[0;34m.\u001b[0m\u001b[0mappend\u001b[0m\u001b[0;34m(\u001b[0m\u001b[0mobj\u001b[0m\u001b[0;34m)\u001b[0m\u001b[0;34m\u001b[0m\u001b[0;34m\u001b[0m\u001b[0m\n",
      "\u001b[0;32m~/opt/anaconda3/lib/python3.9/site-packages/pandas/io/pickle.py\u001b[0m in \u001b[0;36mread_pickle\u001b[0;34m(filepath_or_buffer, compression, storage_options)\u001b[0m\n\u001b[1;32m    203\u001b[0m                     \u001b[0;31m# We want to silence any warnings about, e.g. moved modules.\u001b[0m\u001b[0;34m\u001b[0m\u001b[0;34m\u001b[0m\u001b[0m\n\u001b[1;32m    204\u001b[0m                     \u001b[0mwarnings\u001b[0m\u001b[0;34m.\u001b[0m\u001b[0msimplefilter\u001b[0m\u001b[0;34m(\u001b[0m\u001b[0;34m\"ignore\"\u001b[0m\u001b[0;34m,\u001b[0m \u001b[0mWarning\u001b[0m\u001b[0;34m)\u001b[0m\u001b[0;34m\u001b[0m\u001b[0;34m\u001b[0m\u001b[0m\n\u001b[0;32m--> 205\u001b[0;31m                     \u001b[0;32mreturn\u001b[0m \u001b[0mpickle\u001b[0m\u001b[0;34m.\u001b[0m\u001b[0mload\u001b[0m\u001b[0;34m(\u001b[0m\u001b[0mhandles\u001b[0m\u001b[0;34m.\u001b[0m\u001b[0mhandle\u001b[0m\u001b[0;34m)\u001b[0m\u001b[0;34m\u001b[0m\u001b[0;34m\u001b[0m\u001b[0m\n\u001b[0m\u001b[1;32m    206\u001b[0m             \u001b[0;32mexcept\u001b[0m \u001b[0mexcs_to_catch\u001b[0m\u001b[0;34m:\u001b[0m\u001b[0;34m\u001b[0m\u001b[0;34m\u001b[0m\u001b[0m\n\u001b[1;32m    207\u001b[0m                 \u001b[0;31m# e.g.\u001b[0m\u001b[0;34m\u001b[0m\u001b[0;34m\u001b[0m\u001b[0m\n",
      "\u001b[0;31mKeyboardInterrupt\u001b[0m: "
     ]
    }
   ],
   "source": [
    "#AR results\n",
    "\n",
    "wf_o1_tau = []\n",
    "wf_o1= []\n",
    "\n",
    "for filename in sorted(os.listdir(pickle_dir_ar_opt_o1)):\n",
    "    f = os.path.join(pickle_dir_ar_opt_o1, filename)\n",
    "    obj = pd.read_pickle(f)\n",
    "    wf_o1_tau.append(obj.tau)\n",
    "    wf_o1.append(obj)\n",
    "    \n",
    "wf_o2_tau = []\n",
    "wf_o2= []\n",
    "\n",
    "for filename in sorted(os.listdir(pickle_dir_ar_opt_o2)):\n",
    "    f = os.path.join(pickle_dir_ar_opt_o2, filename)\n",
    "    obj = pd.read_pickle(f)\n",
    "    wf_o2_tau.append(obj.tau)\n",
    "    wf_o2.append(obj)\n",
    "    \n",
    "wf_o3_tau = []\n",
    "wf_o3= []\n",
    "\n",
    "for filename in sorted(os.listdir(pickle_dir_ar_opt_o3)):\n",
    "    f = os.path.join(pickle_dir_ar_opt_o3, filename)\n",
    "    obj = pd.read_pickle(f)\n",
    "    wf_o3_tau.append(obj.tau)\n",
    "    wf_o3.append(obj)\n",
    "    \n",
    "wf_o4_tau = []\n",
    "wf_o4= []\n",
    "\n",
    "for filename in sorted(os.listdir(pickle_dir_ar_opt_o4)):\n",
    "    f = os.path.join(pickle_dir_ar_opt_o4, filename)\n",
    "    obj = pd.read_pickle(f)\n",
    "    wf_o4_tau.append(obj.tau)\n",
    "    wf_o4.append(obj)\n",
    "    \n",
    "wf_o5_tau = []\n",
    "wf_o5= []\n",
    "\n",
    "for filename in sorted(os.listdir(pickle_dir_ar_opt_o5)):\n",
    "    f = os.path.join(pickle_dir_ar_opt_o5, filename)\n",
    "    obj = pd.read_pickle(f)\n",
    "    wf_o5_tau.append(obj.tau)\n",
    "    wf_o5.append(obj)\n",
    "    \n"
   ]
  },
  {
   "cell_type": "code",
   "execution_count": 12,
   "id": "c7862884",
   "metadata": {},
   "outputs": [],
   "source": [
    "#AR results\n",
    "\n",
    "wf_o6_tau = []\n",
    "wf_o6= []\n",
    "\n",
    "for filename in sorted(os.listdir(pickle_dir_ar_opt_o6)):\n",
    "    f = os.path.join(pickle_dir_ar_opt_o6, filename)\n",
    "    obj = pd.read_pickle(f)\n",
    "    wf_o6_tau.append(obj.tau)\n",
    "    wf_o6.append(obj)\n",
    "    \n",
    "wf_o7_tau = []\n",
    "wf_o7= []\n",
    "\n",
    "for filename in sorted(os.listdir(pickle_dir_ar_opt_o7)):\n",
    "    f = os.path.join(pickle_dir_ar_opt_o7, filename)\n",
    "    obj = pd.read_pickle(f)\n",
    "    wf_o7_tau.append(obj.tau)\n",
    "    wf_o7.append(obj)\n",
    "    \n",
    "wf_o8_tau = []\n",
    "wf_o8= []\n",
    "\n",
    "for filename in sorted(os.listdir(pickle_dir_ar_opt_o8)):\n",
    "    f = os.path.join(pickle_dir_ar_opt_o8, filename)\n",
    "    obj = pd.read_pickle(f)\n",
    "    wf_o8_tau.append(obj.tau)\n",
    "    wf_o8.append(obj)\n",
    "    \n",
    "wf_o9_tau = []\n",
    "wf_o9= []\n",
    "\n",
    "for filename in sorted(os.listdir(pickle_dir_ar_opt_o9)):\n",
    "    f = os.path.join(pickle_dir_ar_opt_o9, filename)\n",
    "    obj = pd.read_pickle(f)\n",
    "    wf_o9_tau.append(obj.tau)\n",
    "    wf_o9.append(obj)\n",
    "    \n",
    "wf_o10_tau = []\n",
    "wf_o10= []\n",
    "\n",
    "for filename in sorted(os.listdir(pickle_dir_ar_opt_o10)):\n",
    "    f = os.path.join(pickle_dir_ar_opt_o10, filename)\n",
    "    obj = pd.read_pickle(f)\n",
    "    wf_o10_tau.append(obj.tau)\n",
    "    wf_o10.append(obj)\n",
    "    \n"
   ]
  },
  {
   "cell_type": "code",
   "execution_count": 13,
   "id": "3555aa41",
   "metadata": {},
   "outputs": [],
   "source": [
    "wf_o11_tau = []\n",
    "wf_o11= []\n",
    "\n",
    "for filename in sorted(os.listdir(pickle_dir_ar_opt_o11)):\n",
    "    f = os.path.join(pickle_dir_ar_opt_o11, filename)\n",
    "    obj = pd.read_pickle(f)\n",
    "    wf_o11_tau.append(obj.tau)\n",
    "    wf_o11.append(obj)\n",
    "    \n",
    "wf_o12_tau = []\n",
    "wf_o12= []\n",
    "\n",
    "for filename in sorted(os.listdir(pickle_dir_ar_opt_o12)):\n",
    "    f = os.path.join(pickle_dir_ar_opt_o12, filename)\n",
    "    obj = pd.read_pickle(f)\n",
    "    wf_o12_tau.append(obj.tau)\n",
    "    wf_o12.append(obj)\n",
    "    \n",
    "wf_o13_tau = []\n",
    "wf_o13= []\n",
    "\n",
    "for filename in sorted(os.listdir(pickle_dir_ar_opt_o13)):\n",
    "    f = os.path.join(pickle_dir_ar_opt_o13, filename)\n",
    "    obj = pd.read_pickle(f)\n",
    "    wf_o13_tau.append(obj.tau)\n",
    "    wf_o13.append(obj)\n",
    "    \n",
    "wf_o14_tau = []\n",
    "wf_o14= []\n",
    "\n",
    "for filename in sorted(os.listdir(pickle_dir_ar_opt_o14)):\n",
    "    f = os.path.join(pickle_dir_ar_opt_o14, filename)\n",
    "    obj = pd.read_pickle(f)\n",
    "    wf_o14_tau.append(obj.tau)\n",
    "    wf_o14.append(obj)\n",
    "    \n",
    "wf_o15_tau = []\n",
    "wf_o15= []\n",
    "\n",
    "for filename in sorted(os.listdir(pickle_dir_ar_opt_o15)):\n",
    "    f = os.path.join(pickle_dir_ar_opt_o15, filename)\n",
    "    obj = pd.read_pickle(f)\n",
    "    wf_o15_tau.append(obj.tau)\n",
    "    wf_o15.append(obj)\n",
    "    \n"
   ]
  },
  {
   "cell_type": "code",
   "execution_count": 12,
   "id": "d04f66ca",
   "metadata": {},
   "outputs": [],
   "source": [
    "#Welch results \n",
    "pickle_dir_w_opt = '/Users/blancamartin/Desktop/Voytek_Lab/timescales/organoid-tango/organoid-tango/wPSD_fits_pkl_opt'\n",
    "\n",
    "wf_w_tau = []\n",
    "wf_w= []\n",
    "\n",
    "for filename in sorted(os.listdir(pickle_dir_w_opt)):\n",
    "    f = os.path.join(pickle_dir_w_opt, filename)\n",
    "    obj = pd.read_pickle(f)\n",
    "    wf_w_tau.append(obj.tau)\n",
    "    wf_w.append(obj)\n",
    "    \n",
    "    \n",
    "pickle_dir_w_opt_flip = '/Users/blancamartin/Desktop/Voytek_Lab/timescales/organoid-tango/organoid-tango/wPSD_fits_pkl_opt_flip'\n",
    "wf_w_tau_flip  = []\n",
    "wf_w_flip = []\n",
    "\n",
    "for filename in sorted(os.listdir(pickle_dir_w_opt_flip )):\n",
    "    f = os.path.join(pickle_dir_w_opt_flip , filename)\n",
    "    obj = pd.read_pickle(f)\n",
    "    wf_w_tau_flip .append(obj.tau)\n",
    "    wf_w_flip .append(obj)"
   ]
  },
  {
   "cell_type": "markdown",
   "id": "26250eb5",
   "metadata": {},
   "source": [
    "### Analyze results "
   ]
  },
  {
   "cell_type": "markdown",
   "id": "f9b77d63",
   "metadata": {},
   "source": [
    "#### Remove NaNs in Welch results"
   ]
  },
  {
   "cell_type": "code",
   "execution_count": 13,
   "id": "0813338c",
   "metadata": {},
   "outputs": [],
   "source": [
    "wf_w_tau, wdivs, wcultures,wf_w = remove_nans(np.asarray(wf_w_tau), np.asarray(divs), np.asarray(cultures), np.asarray(wf_w))\n",
    "#wf_w_tau_flip, wdivs_flip, wcultures_flip,wf_w_flip = remove_nans(np.asarray(wf_w_tau_flip), np.asarray(divs), np.asarray(cultures), np.asarray(wf_w_flip))\n",
    "\n"
   ]
  },
  {
   "cell_type": "markdown",
   "id": "d04515ed",
   "metadata": {},
   "source": [
    "### Plot timescales over development "
   ]
  },
  {
   "cell_type": "markdown",
   "id": "ee5defd1",
   "metadata": {},
   "source": [
    "#### Before removing outliers"
   ]
  },
  {
   "cell_type": "code",
   "execution_count": 14,
   "id": "6cd3e206",
   "metadata": {},
   "outputs": [
    {
     "data": {
      "image/png": "[encoded data removed]",
      "text/plain": [
       "<Figure size 432x288 with 1 Axes>"
      ]
     },
     "metadata": {
      "needs_background": "light"
     },
     "output_type": "display_data"
    }
   ],
   "source": [
    "#Welch results \n",
    "plt.plot(wdivs, wf_w_tau, '.')\n",
    "plt.title(\"Welch results\")\n",
    "plt.ylabel('unit timescales', size=15)\n",
    "plt.xlabel('divs', size=15)\n",
    "plt.show()\n"
   ]
  },
  {
   "cell_type": "markdown",
   "id": "f184b0ad",
   "metadata": {},
   "source": [
    "### Get rsq values for the different fit conditions"
   ]
  },
  {
   "cell_type": "code",
   "execution_count": 15,
   "id": "4723579f",
   "metadata": {},
   "outputs": [],
   "source": [
    "rsq_wPSD = []\n",
    "\n",
    "\n",
    "for w in wf_w:\n",
    "    rsq_wPSD.append(w.rsq)\n",
    "    \n"
   ]
  },
  {
   "cell_type": "markdown",
   "id": "a2fbccf9",
   "metadata": {},
   "source": [
    "#### See distribution of rsq values"
   ]
  },
  {
   "cell_type": "code",
   "execution_count": 16,
   "id": "549a249c",
   "metadata": {},
   "outputs": [
    {
     "data": {
      "image/png": "[encoded data removed]",
      "text/plain": [
       "<Figure size 432x288 with 1 Axes>"
      ]
     },
     "metadata": {
      "needs_background": "light"
     },
     "output_type": "display_data"
    }
   ],
   "source": [
    "\n",
    "plt.hist(rsq_wPSD)\n",
    "plt.title(\"Welch\")\n",
    "plt.show()"
   ]
  },
  {
   "cell_type": "markdown",
   "id": "1846913b",
   "metadata": {},
   "source": [
    "### Plot timescales after removing bad (less than 0.8) rsq values"
   ]
  },
  {
   "cell_type": "code",
   "execution_count": 17,
   "id": "6669987a",
   "metadata": {},
   "outputs": [
    {
     "data": {
      "image/png": "[encoded data removed]",
      "text/plain": [
       "<Figure size 432x288 with 1 Axes>"
      ]
     },
     "metadata": {
      "needs_background": "light"
     },
     "output_type": "display_data"
    }
   ],
   "source": [
    "idx_rsq_w = [i for i in range(len(rsq_wPSD)) if rsq_wPSD[i] > 0.8]\n",
    "plt.plot(wdivs[idx_rsq_w], wf_w_tau[idx_rsq_w], '.')\n",
    "plt.title(\"Welch results without rsq outliers\")\n",
    "plt.ylabel('unit timescales', size=15)\n",
    "plt.xlabel('divs', size=15)\n",
    "plt.show()"
   ]
  },
  {
   "cell_type": "markdown",
   "id": "642d267c",
   "metadata": {},
   "source": [
    "### Plot plots without rsq outliers and extreme values outliers"
   ]
  },
  {
   "cell_type": "code",
   "execution_count": 18,
   "id": "22b73e50",
   "metadata": {},
   "outputs": [
    {
     "data": {
      "image/png": "[encoded data removed]",
      "text/plain": [
       "<Figure size 432x288 with 1 Axes>"
      ]
     },
     "metadata": {
      "needs_background": "light"
     },
     "output_type": "display_data"
    }
   ],
   "source": [
    "idx_rsq_w = [i for i in range(len(rsq_wPSD)) if rsq_wPSD[i] > 0.8]\n",
    "plt.plot(wdivs[idx_rsq_w], wf_w_tau[idx_rsq_w], '.')\n",
    "plt.title(\"Welch results without rsq outliers\")\n",
    "plt.ylabel('unit timescales', size=15)\n",
    "plt.xlabel('divs', size=15)\n",
    "plt.ylim(-1,10)\n",
    "plt.show()"
   ]
  },
  {
   "cell_type": "markdown",
   "id": "0203377b",
   "metadata": {},
   "source": [
    "### Look at spectra for different AR orders"
   ]
  },
  {
   "cell_type": "code",
   "execution_count": null,
   "id": "d5c20e0c",
   "metadata": {},
   "outputs": [],
   "source": []
  },
  {
   "cell_type": "markdown",
   "id": "537118a4",
   "metadata": {},
   "source": [
    "### Look at spectra for Welch's method"
   ]
  },
  {
   "cell_type": "markdown",
   "id": "117659ef",
   "metadata": {},
   "source": [
    "#### Look at outlier spectra"
   ]
  },
  {
   "cell_type": "code",
   "execution_count": 19,
   "id": "98aab2bc",
   "metadata": {},
   "outputs": [
    {
     "data": {
      "text/plain": [
       "'\\n\\n#Plot individual spectra\\n\\nfor w in range(len(wf_o1_tau)):\\n    \\n    if wf_o1_tau[w] > 155:\\n        #show fits for those indices\\n        plt.loglog(wf_o1[w].freqs, wf_o1[w].powers, color=\\'C0\\', alpha=.5)\\n        plt.loglog(wf_o1[w].freqs, wf_o1[w].powers_fit, color=\\'C1\\', alpha=.5)\\n        plt.title(\"AR order 1, model \" +str(w))\\n        plt.show()\\n        \\nfor w in range(len(wf_o2_tau)):\\n    \\n    if wf_o2_tau[w] > 155:\\n        #show fits for those indices\\n        plt.loglog(wf_o2[w].freqs, wf_o2[w].powers, color=\\'C0\\', alpha=.5)\\n        \\n        plt.loglog(wf_o2[w].freqs, wf_o2[w].powers_fit, color=\\'C1\\', alpha=.5)\\n        plt.title(\"AR order 2, model \" +str(w))\\n        plt.show()\\n        \\nfor w in range(len(wf_o3_tau)):\\n    \\n    if wf_o1_tau[w] > 155:\\n        #show fits for those indices\\n        plt.loglog(wf_o3[w].freqs, wf_o3[w].powers, color=\\'C0\\', alpha=.5)\\n        plt.loglog(wf_o3[w].freqs, wf_o3[w].powers_fit, color=\\'C1\\', alpha=.5)\\n        plt.title(\"AR order 3, model \" +str(w))\\n        plt.show()\\n        \\n        \\nfor w in range(len(wf_o4_tau)):\\n    \\n    if wf_o4_tau[w] > 155:\\n        #show fits for those indices\\n        plt.loglog(wf_o4[w].freqs, wf_o4[w].powers, color=\\'C0\\', alpha=.5)\\n        plt.loglog(wf_o4[w].freqs, wf_o4[w].powers_fit, color=\\'C1\\', alpha=.5)\\n        plt.title(\"AR order 4, model \" +str(w))\\n        plt.show()\\n        \\n\\nfor w in range(len(wf_o5_tau)):\\n    \\n    if wf_o5_tau[w] > 155:\\n        #show fits for those indices\\n        plt.loglog(wf_o5[w].freqs, wf_o5[w].powers, color=\\'C0\\', alpha=.5)\\n        plt.loglog(wf_o5[w].freqs, wf_o5[w].powers_fit, color=\\'C1\\', alpha=.5)\\n        plt.title(\"AR order 5, model \" +str(w))\\n        plt.show()\\n        \\n '"
      ]
     },
     "execution_count": 19,
     "metadata": {},
     "output_type": "execute_result"
    }
   ],
   "source": [
    "\"\"\"\n",
    "\n",
    "#Plot individual spectra\n",
    "\n",
    "for w in range(len(wf_o1_tau)):\n",
    "    \n",
    "    if wf_o1_tau[w] > 155:\n",
    "        #show fits for those indices\n",
    "        plt.loglog(wf_o1[w].freqs, wf_o1[w].powers, color='C0', alpha=.5)\n",
    "        plt.loglog(wf_o1[w].freqs, wf_o1[w].powers_fit, color='C1', alpha=.5)\n",
    "        plt.title(\"AR order 1, model \" +str(w))\n",
    "        plt.show()\n",
    "        \n",
    "for w in range(len(wf_o2_tau)):\n",
    "    \n",
    "    if wf_o2_tau[w] > 155:\n",
    "        #show fits for those indices\n",
    "        plt.loglog(wf_o2[w].freqs, wf_o2[w].powers, color='C0', alpha=.5)\n",
    "        \n",
    "        plt.loglog(wf_o2[w].freqs, wf_o2[w].powers_fit, color='C1', alpha=.5)\n",
    "        plt.title(\"AR order 2, model \" +str(w))\n",
    "        plt.show()\n",
    "        \n",
    "for w in range(len(wf_o3_tau)):\n",
    "    \n",
    "    if wf_o1_tau[w] > 155:\n",
    "        #show fits for those indices\n",
    "        plt.loglog(wf_o3[w].freqs, wf_o3[w].powers, color='C0', alpha=.5)\n",
    "        plt.loglog(wf_o3[w].freqs, wf_o3[w].powers_fit, color='C1', alpha=.5)\n",
    "        plt.title(\"AR order 3, model \" +str(w))\n",
    "        plt.show()\n",
    "        \n",
    "        \n",
    "for w in range(len(wf_o4_tau)):\n",
    "    \n",
    "    if wf_o4_tau[w] > 155:\n",
    "        #show fits for those indices\n",
    "        plt.loglog(wf_o4[w].freqs, wf_o4[w].powers, color='C0', alpha=.5)\n",
    "        plt.loglog(wf_o4[w].freqs, wf_o4[w].powers_fit, color='C1', alpha=.5)\n",
    "        plt.title(\"AR order 4, model \" +str(w))\n",
    "        plt.show()\n",
    "        \n",
    "\n",
    "for w in range(len(wf_o5_tau)):\n",
    "    \n",
    "    if wf_o5_tau[w] > 155:\n",
    "        #show fits for those indices\n",
    "        plt.loglog(wf_o5[w].freqs, wf_o5[w].powers, color='C0', alpha=.5)\n",
    "        plt.loglog(wf_o5[w].freqs, wf_o5[w].powers_fit, color='C1', alpha=.5)\n",
    "        plt.title(\"AR order 5, model \" +str(w))\n",
    "        plt.show()\n",
    "        \n",
    " \"\"\"       "
   ]
  },
  {
   "cell_type": "code",
   "execution_count": 20,
   "id": "007ed177",
   "metadata": {},
   "outputs": [
    {
     "data": {
      "text/plain": [
       "'\\n\\n# Welch\\'s results - outliers\\n\\nfor w in range(len(wf_w_tau)):\\n    \\n    if wf_w_tau[w] > 155:\\n        #show fits for those indices\\n        plt.loglog(wf_w[w].freqs, wf_w[w].powers, color=\\'C0\\', alpha=.5)\\n        plt.loglog(wf_w[w].freqs, wf_w[w].powers_fit, color=\\'C1\\', alpha=.5)\\n        plt.title(\"Welch\\'s, model \" +str(w))\\n        plt.show()\\n'"
      ]
     },
     "execution_count": 20,
     "metadata": {},
     "output_type": "execute_result"
    }
   ],
   "source": [
    "\"\"\"\n",
    "\n",
    "# Welch's results - outliers\n",
    "\n",
    "for w in range(len(wf_w_tau)):\n",
    "    \n",
    "    if wf_w_tau[w] > 155:\n",
    "        #show fits for those indices\n",
    "        plt.loglog(wf_w[w].freqs, wf_w[w].powers, color='C0', alpha=.5)\n",
    "        plt.loglog(wf_w[w].freqs, wf_w[w].powers_fit, color='C1', alpha=.5)\n",
    "        plt.title(\"Welch's, model \" +str(w))\n",
    "        plt.show()\n",
    "\"\"\"        "
   ]
  },
  {
   "cell_type": "code",
   "execution_count": 21,
   "id": "d171e4ef",
   "metadata": {},
   "outputs": [
    {
     "data": {
      "text/plain": [
       "'\\n#Plot all spectra for each condition on sample plot \\n\\nfor w in range(len(wf_o1_tau)):\\n    \\n    if rsq_arPSD1[w] > 0.8 and w<100:\\n        #show fits for those indices\\n        plt.loglog(wf_o1[w].freqs, wf_o1[w].powers, color=\\'C0\\', alpha=.5)\\n        plt.loglog(wf_o1[w].freqs, wf_o1[w].powers_fit, color=\\'C1\\', alpha=.5)\\nplt.title(\"PSD AR order 1\")\\nplt.show()\\n        \\nfor w in range(len(wf_o2_tau)):\\n    \\n    if rsq_arPSD2[w] > 0.8 and w<100:\\n        #show fits for those indices\\n        plt.loglog(wf_o2[w].freqs, wf_o2[w].powers, color=\\'C0\\', alpha=.5)\\n        \\n        plt.loglog(wf_o2[w].freqs, wf_o2[w].powers_fit, color=\\'C1\\', alpha=.5)\\nplt.title(\"PSD AR order 2\")\\nplt.show()\\n        \\n        \\nfor w in range(len(wf_o4_tau)):\\n    \\n    if rsq_arPSD4[w] > 0.8 and w<100:\\n        #show fits for those indices\\n        plt.loglog(wf_o4[w].freqs, wf_o4[w].powers, color=\\'C0\\', alpha=.5)\\n        plt.loglog(wf_o4[w].freqs, wf_o4[w].powers_fit, color=\\'C1\\', alpha=.5)\\nplt.title(\"Outliers for AR order 4\")\\nplt.show()\\n        \\n\\nfor w in range(len(wf_o5_tau)):\\n    \\n    if rsq_arPSD5[w] > 0.8 and w<100:\\n        #show fits for those indices\\n        plt.loglog(wf_o5[w].freqs, wf_o5[w].powers, color=\\'C0\\', alpha=.5)\\n        plt.loglog(wf_o5[w].freqs, wf_o5[w].powers_fit, color=\\'C1\\', alpha=.5)\\nplt.title(\"PSD  for AR order 5\")\\nplt.show()\\n\\nfor w in range(len(wf_o6_tau)):\\n    \\n    if rsq_arPSD6[w] > 0.8 and w<100:\\n        #show fits for those indices\\n        plt.loglog(wf_o6[w].freqs, wf_o6[w].powers, color=\\'C0\\', alpha=.5)\\n        plt.loglog(wf_o6[w].freqs, wf_o6[w].powers_fit, color=\\'C1\\', alpha=.5)\\nplt.title(\"PSD  for AR order 6\")\\nplt.show()\\n\\n\\nfor w in range(len(wf_o7_tau)):\\n    \\n    if rsq_arPSD7[w] > 0.8 and w<100:\\n        #show fits for those indices\\n        plt.loglog(wf_o7[w].freqs, wf_o7[w].powers, color=\\'C0\\', alpha=.5)\\n        plt.loglog(wf_o7[w].freqs, wf_o7[w].powers_fit, color=\\'C1\\', alpha=.5)\\nplt.title(\"PSD  for AR order 7\")\\nplt.show()\\n\\nfor w in range(len(wf_o8_tau)):\\n    \\n    if rsq_arPSD8[w] > 0.8 and w<100:\\n        #show fits for those indices\\n        plt.loglog(wf_o8[w].freqs, wf_o8[w].powers, color=\\'C0\\', alpha=.5)\\n        plt.loglog(wf_o8[w].freqs, wf_o8[w].powers_fit, color=\\'C1\\', alpha=.5)\\nplt.title(\"PSD  for AR order 8\")\\nplt.show()\\n\\n\\n\\nfor w in range(len(wf_o10_tau)):\\n    \\n    if rsq_arPSD10[w] > 0.8 and w<100:\\n        #show fits for those indices\\n        plt.loglog(wf_o10[w].freqs, wf_o10[w].powers, color=\\'C0\\', alpha=.5)\\n        plt.loglog(wf_o10[w].freqs, wf_o10[w].powers_fit, color=\\'C1\\', alpha=.5)\\nplt.title(\"PSD  for AR order 10\")\\nplt.show()\\n\\nfor w in range(len(wf_o11_tau)):\\n    \\n    if rsq_arPSD11[w] > 0.8 and w<100:\\n        #show fits for those indices\\n        plt.loglog(wf_o11[w].freqs, wf_o11[w].powers, color=\\'C0\\', alpha=.5)\\n        plt.loglog(wf_o11[w].freqs, wf_o11[w].powers_fit, color=\\'C1\\', alpha=.5)\\nplt.title(\"PSD  for AR order 11\")\\nplt.show()\\n\\nfor w in range(len(wf_o12_tau)):\\n    \\n    if rsq_arPSD12[w] > 0.8 and w<100:\\n        #show fits for those indices\\n        plt.loglog(wf_o12[w].freqs, wf_o12[w].powers, color=\\'C0\\', alpha=.5)\\n        plt.loglog(wf_o12[w].freqs, wf_o12[w].powers_fit, color=\\'C1\\', alpha=.5)\\nplt.title(\"PSD  for AR order 12\")\\nplt.show()\\n\\nfor w in range(len(wf_o13_tau)):\\n    \\n    if rsq_arPSD13[w] > 0.8 and w<100:\\n        #show fits for those indices\\n        plt.loglog(wf_o13[w].freqs, wf_o13[w].powers, color=\\'C0\\', alpha=.5)\\n        plt.loglog(wf_o13[w].freqs, wf_o13[w].powers_fit, color=\\'C1\\', alpha=.5)\\nplt.title(\"PSD  for AR order 13\")\\nplt.show()\\n\\n\\nfor w in range(len(wf_o14_tau)):\\n    \\n    if rsq_arPSD14[w] > 0.8 and w<100:\\n        #show fits for those indices\\n        plt.loglog(wf_o14[w].freqs, wf_o14[w].powers, color=\\'C0\\', alpha=.5)\\n        plt.loglog(wf_o14[w].freqs, wf_o14[w].powers_fit, color=\\'C1\\', alpha=.5)\\nplt.title(\"PSD  for AR order 14\")\\nplt.show()\\n\\nfor w in range(len(wf_o15_tau)):\\n    \\n    if rsq_arPSD15[w] > 0.8 and w<100:\\n        #show fits for those indices\\n        plt.loglog(wf_o15[w].freqs, wf_o15[w].powers, color=\\'C0\\', alpha=.5)\\n        plt.loglog(wf_o15[w].freqs, wf_o15[w].powers_fit, color=\\'C1\\', alpha=.5)\\nplt.title(\"PSD  for AR order 15\")\\nplt.show()\\n\\n\\n\\n\\n'"
      ]
     },
     "execution_count": 21,
     "metadata": {},
     "output_type": "execute_result"
    }
   ],
   "source": [
    "\"\"\"\n",
    "#Plot all spectra for each condition on sample plot \n",
    "\n",
    "for w in range(len(wf_o1_tau)):\n",
    "    \n",
    "    if rsq_arPSD1[w] > 0.8 and w<100:\n",
    "        #show fits for those indices\n",
    "        plt.loglog(wf_o1[w].freqs, wf_o1[w].powers, color='C0', alpha=.5)\n",
    "        plt.loglog(wf_o1[w].freqs, wf_o1[w].powers_fit, color='C1', alpha=.5)\n",
    "plt.title(\"PSD AR order 1\")\n",
    "plt.show()\n",
    "        \n",
    "for w in range(len(wf_o2_tau)):\n",
    "    \n",
    "    if rsq_arPSD2[w] > 0.8 and w<100:\n",
    "        #show fits for those indices\n",
    "        plt.loglog(wf_o2[w].freqs, wf_o2[w].powers, color='C0', alpha=.5)\n",
    "        \n",
    "        plt.loglog(wf_o2[w].freqs, wf_o2[w].powers_fit, color='C1', alpha=.5)\n",
    "plt.title(\"PSD AR order 2\")\n",
    "plt.show()\n",
    "        \n",
    "        \n",
    "for w in range(len(wf_o4_tau)):\n",
    "    \n",
    "    if rsq_arPSD4[w] > 0.8 and w<100:\n",
    "        #show fits for those indices\n",
    "        plt.loglog(wf_o4[w].freqs, wf_o4[w].powers, color='C0', alpha=.5)\n",
    "        plt.loglog(wf_o4[w].freqs, wf_o4[w].powers_fit, color='C1', alpha=.5)\n",
    "plt.title(\"Outliers for AR order 4\")\n",
    "plt.show()\n",
    "        \n",
    "\n",
    "for w in range(len(wf_o5_tau)):\n",
    "    \n",
    "    if rsq_arPSD5[w] > 0.8 and w<100:\n",
    "        #show fits for those indices\n",
    "        plt.loglog(wf_o5[w].freqs, wf_o5[w].powers, color='C0', alpha=.5)\n",
    "        plt.loglog(wf_o5[w].freqs, wf_o5[w].powers_fit, color='C1', alpha=.5)\n",
    "plt.title(\"PSD  for AR order 5\")\n",
    "plt.show()\n",
    "\n",
    "for w in range(len(wf_o6_tau)):\n",
    "    \n",
    "    if rsq_arPSD6[w] > 0.8 and w<100:\n",
    "        #show fits for those indices\n",
    "        plt.loglog(wf_o6[w].freqs, wf_o6[w].powers, color='C0', alpha=.5)\n",
    "        plt.loglog(wf_o6[w].freqs, wf_o6[w].powers_fit, color='C1', alpha=.5)\n",
    "plt.title(\"PSD  for AR order 6\")\n",
    "plt.show()\n",
    "\n",
    "\n",
    "for w in range(len(wf_o7_tau)):\n",
    "    \n",
    "    if rsq_arPSD7[w] > 0.8 and w<100:\n",
    "        #show fits for those indices\n",
    "        plt.loglog(wf_o7[w].freqs, wf_o7[w].powers, color='C0', alpha=.5)\n",
    "        plt.loglog(wf_o7[w].freqs, wf_o7[w].powers_fit, color='C1', alpha=.5)\n",
    "plt.title(\"PSD  for AR order 7\")\n",
    "plt.show()\n",
    "\n",
    "for w in range(len(wf_o8_tau)):\n",
    "    \n",
    "    if rsq_arPSD8[w] > 0.8 and w<100:\n",
    "        #show fits for those indices\n",
    "        plt.loglog(wf_o8[w].freqs, wf_o8[w].powers, color='C0', alpha=.5)\n",
    "        plt.loglog(wf_o8[w].freqs, wf_o8[w].powers_fit, color='C1', alpha=.5)\n",
    "plt.title(\"PSD  for AR order 8\")\n",
    "plt.show()\n",
    "\n",
    "\n",
    "\n",
    "for w in range(len(wf_o10_tau)):\n",
    "    \n",
    "    if rsq_arPSD10[w] > 0.8 and w<100:\n",
    "        #show fits for those indices\n",
    "        plt.loglog(wf_o10[w].freqs, wf_o10[w].powers, color='C0', alpha=.5)\n",
    "        plt.loglog(wf_o10[w].freqs, wf_o10[w].powers_fit, color='C1', alpha=.5)\n",
    "plt.title(\"PSD  for AR order 10\")\n",
    "plt.show()\n",
    "\n",
    "for w in range(len(wf_o11_tau)):\n",
    "    \n",
    "    if rsq_arPSD11[w] > 0.8 and w<100:\n",
    "        #show fits for those indices\n",
    "        plt.loglog(wf_o11[w].freqs, wf_o11[w].powers, color='C0', alpha=.5)\n",
    "        plt.loglog(wf_o11[w].freqs, wf_o11[w].powers_fit, color='C1', alpha=.5)\n",
    "plt.title(\"PSD  for AR order 11\")\n",
    "plt.show()\n",
    "\n",
    "for w in range(len(wf_o12_tau)):\n",
    "    \n",
    "    if rsq_arPSD12[w] > 0.8 and w<100:\n",
    "        #show fits for those indices\n",
    "        plt.loglog(wf_o12[w].freqs, wf_o12[w].powers, color='C0', alpha=.5)\n",
    "        plt.loglog(wf_o12[w].freqs, wf_o12[w].powers_fit, color='C1', alpha=.5)\n",
    "plt.title(\"PSD  for AR order 12\")\n",
    "plt.show()\n",
    "\n",
    "for w in range(len(wf_o13_tau)):\n",
    "    \n",
    "    if rsq_arPSD13[w] > 0.8 and w<100:\n",
    "        #show fits for those indices\n",
    "        plt.loglog(wf_o13[w].freqs, wf_o13[w].powers, color='C0', alpha=.5)\n",
    "        plt.loglog(wf_o13[w].freqs, wf_o13[w].powers_fit, color='C1', alpha=.5)\n",
    "plt.title(\"PSD  for AR order 13\")\n",
    "plt.show()\n",
    "\n",
    "\n",
    "for w in range(len(wf_o14_tau)):\n",
    "    \n",
    "    if rsq_arPSD14[w] > 0.8 and w<100:\n",
    "        #show fits for those indices\n",
    "        plt.loglog(wf_o14[w].freqs, wf_o14[w].powers, color='C0', alpha=.5)\n",
    "        plt.loglog(wf_o14[w].freqs, wf_o14[w].powers_fit, color='C1', alpha=.5)\n",
    "plt.title(\"PSD  for AR order 14\")\n",
    "plt.show()\n",
    "\n",
    "for w in range(len(wf_o15_tau)):\n",
    "    \n",
    "    if rsq_arPSD15[w] > 0.8 and w<100:\n",
    "        #show fits for those indices\n",
    "        plt.loglog(wf_o15[w].freqs, wf_o15[w].powers, color='C0', alpha=.5)\n",
    "        plt.loglog(wf_o15[w].freqs, wf_o15[w].powers_fit, color='C1', alpha=.5)\n",
    "plt.title(\"PSD  for AR order 15\")\n",
    "plt.show()\n",
    "\n",
    "\n",
    "\n",
    "\n",
    "\"\"\"        "
   ]
  },
  {
   "cell_type": "code",
   "execution_count": 37,
   "id": "e97b0067",
   "metadata": {},
   "outputs": [
    {
     "data": {
      "text/plain": [
       "'\\ncounter = 0\\nfor w in range(len(wf_w_tau)):\\n    \\n    if rsq_wPSD[w] > 0.9:\\n        counter = counter + 1\\n        if counter >100:\\n            break\\n        #show fits for those indices\\n        plt.loglog(wf_w[w].freqs, wf_w[w].powers, color=\\'C0\\', alpha=.5)\\n        plt.loglog(wf_w[w].freqs, wf_w[w].powers_fit, color=\\'C1\\', alpha=.5)\\nplt.title(\"PSD  for Welch\")\\nplt.show()\\n'"
      ]
     },
     "execution_count": 37,
     "metadata": {},
     "output_type": "execute_result"
    }
   ],
   "source": [
    "\"\"\"\n",
    "counter = 0\n",
    "for w in range(len(wf_w_tau)):\n",
    "    \n",
    "    if rsq_wPSD[w] > 0.9:\n",
    "        counter = counter + 1\n",
    "        if counter >100:\n",
    "            break\n",
    "        #show fits for those indices\n",
    "        plt.loglog(wf_w[w].freqs, wf_w[w].powers, color='C0', alpha=.5)\n",
    "        plt.loglog(wf_w[w].freqs, wf_w[w].powers_fit, color='C1', alpha=.5)\n",
    "plt.title(\"PSD  for Welch\")\n",
    "plt.show()\n",
    "\"\"\""
   ]
  },
  {
   "cell_type": "markdown",
   "id": "7e1e8221",
   "metadata": {},
   "source": [
    "#### Look at knee distributions for Welch"
   ]
  },
  {
   "cell_type": "code",
   "execution_count": 22,
   "id": "5fde5113",
   "metadata": {},
   "outputs": [
    {
     "data": {
      "text/plain": [
       "['freqs',\n",
       " 'powers',\n",
       " 'powers_fit',\n",
       " 'params',\n",
       " 'param_names',\n",
       " 'knee_freq',\n",
       " 'tau',\n",
       " 'rsq',\n",
       " 'rsq_full',\n",
       " 'guess',\n",
       " 'bounds',\n",
       " '__module__',\n",
       " '__doc__',\n",
       " '__init__',\n",
       " 'compute_spectrum',\n",
       " 'fit',\n",
       " 'plot',\n",
       " '__dict__',\n",
       " '__weakref__',\n",
       " '__repr__',\n",
       " '__hash__',\n",
       " '__str__',\n",
       " '__getattribute__',\n",
       " '__setattr__',\n",
       " '__delattr__',\n",
       " '__lt__',\n",
       " '__le__',\n",
       " '__eq__',\n",
       " '__ne__',\n",
       " '__gt__',\n",
       " '__ge__',\n",
       " '__new__',\n",
       " '__reduce_ex__',\n",
       " '__reduce__',\n",
       " '__subclasshook__',\n",
       " '__init_subclass__',\n",
       " '__format__',\n",
       " '__sizeof__',\n",
       " '__dir__',\n",
       " '__class__']"
      ]
     },
     "execution_count": 22,
     "metadata": {},
     "output_type": "execute_result"
    }
   ],
   "source": [
    "wf_w[0].__dir__()"
   ]
  },
  {
   "cell_type": "code",
   "execution_count": 27,
   "id": "dc130445",
   "metadata": {},
   "outputs": [
    {
     "data": {
      "text/plain": [
       "(array([ 3088.,  1714.,  2050.,  2104.,  1705.,  1816.,  2211.,  2922.,\n",
       "         4976., 15579.]),\n",
       " array([1.00000000e-06, 5.00000090e+00, 1.00000008e+01, 1.50000007e+01,\n",
       "        2.00000006e+01, 2.50000005e+01, 3.00000004e+01, 3.50000003e+01,\n",
       "        4.00000002e+01, 4.50000001e+01, 5.00000000e+01]),\n",
       " <BarContainer object of 10 artists>)"
      ]
     },
     "execution_count": 27,
     "metadata": {},
     "output_type": "execute_result"
    },
    {
     "data": {
      "image/png": "[encoded data removed]",
      "text/plain": [
       "<Figure size 432x288 with 1 Axes>"
      ]
     },
     "metadata": {
      "needs_background": "light"
     },
     "output_type": "display_data"
    }
   ],
   "source": [
    "plt.hist([i.knee_freq for i in wf_w])"
   ]
  },
  {
   "cell_type": "markdown",
   "id": "07f781ea",
   "metadata": {},
   "source": [
    "#### Afer removing outliers"
   ]
  },
  {
   "cell_type": "code",
   "execution_count": 36,
   "id": "cfa0a907",
   "metadata": {},
   "outputs": [
    {
     "name": "stdout",
     "output_type": "stream",
     "text": [
      "0.38036116880720827\n"
     ]
    },
    {
     "data": {
      "text/plain": [
       "Text(0.5, 0, 'divs')"
      ]
     },
     "execution_count": 36,
     "metadata": {},
     "output_type": "execute_result"
    },
    {
     "data": {
      "image/png": "[encoded data removed]",
      "text/plain": [
       "<Figure size 432x288 with 1 Axes>"
      ]
     },
     "metadata": {
      "needs_background": "light"
     },
     "output_type": "display_data"
    }
   ],
   "source": [
    "#remove outliers \n",
    "wPSD_tau_rem, wdivs_rem, wcultures_rem, wPSD_rem = remove_outliers(np.asarray(wf_w_tau), np.asarray(wdivs), np.asarray(wcultures), np.asarray(wf_w))\n",
    "\n",
    "plt.plot(wdivs_rem, wPSD_tau_rem, '.')\n",
    "plt.ylabel('unit timescales', size=15)\n",
    "plt.xlabel('divs', size=15)\n",
    "\n",
    "\n",
    "\n"
   ]
  },
  {
   "cell_type": "markdown",
   "id": "6084a3ee",
   "metadata": {},
   "source": [
    "### Get mean and stds for each culture"
   ]
  },
  {
   "cell_type": "code",
   "execution_count": 38,
   "id": "7f56076f",
   "metadata": {},
   "outputs": [],
   "source": [
    "meanstd_wPSD = get_mean_std_well(np.asarray(wPSD_tau_rem), np.asarray(wdivs_rem), np.asarray(wcultures_rem) \n",
    "                                 \n",
    "                                 \n",
    "                             )\n"
   ]
  },
  {
   "cell_type": "code",
   "execution_count": null,
   "id": "87fdac92",
   "metadata": {},
   "outputs": [],
   "source": [
    "#meanstd_arPSD = get_mean_std_well(np.asarray(arPSD_tau_rem), np.asarray(ardivs_rem), np.asarray(arcultures_rem) )\n"
   ]
  },
  {
   "cell_type": "markdown",
   "id": "0fedf0e3",
   "metadata": {},
   "source": [
    "#### Plot mean culture timescales in linear scale "
   ]
  },
  {
   "cell_type": "code",
   "execution_count": 39,
   "id": "5fe93cbe",
   "metadata": {},
   "outputs": [
    {
     "data": {
      "text/plain": [
       "Text(0.5, 1.0, \"Culture timescales Welch's PSD\")"
      ]
     },
     "execution_count": 39,
     "metadata": {},
     "output_type": "execute_result"
    },
    {
     "data": {
      "image/png": "[encoded data removed]",
      "text/plain": [
       "<Figure size 432x288 with 1 Axes>"
      ]
     },
     "metadata": {
      "needs_background": "light"
     },
     "output_type": "display_data"
    }
   ],
   "source": [
    "plt.plot(meanstd_wPSD[1], meanstd_wPSD[2], '.')\n",
    "plt.ylabel('culture timescales', size=15)\n",
    "plt.xlabel('divs', size=15)\n",
    "plt.title(\"Culture timescales Welch's PSD\")"
   ]
  },
  {
   "cell_type": "code",
   "execution_count": 31,
   "id": "5499e685",
   "metadata": {},
   "outputs": [
    {
     "data": {
      "text/plain": [
       "'\\nplt.plot(meanstd_arPSD[1], meanstd_arPSD[3], \\'.\\')\\n\\nplt.ylabel(\\'culture timescales\\', size=15)\\nplt.xlabel(\\'divs\\', size=15)\\nplt.ylim(0,0.3)\\nplt.title(\"Culture timescales AR PSD\")'"
      ]
     },
     "execution_count": 31,
     "metadata": {},
     "output_type": "execute_result"
    }
   ],
   "source": [
    "\"\"\"\n",
    "plt.plot(meanstd_arPSD[1], meanstd_arPSD[3], '.')\n",
    "\n",
    "plt.ylabel('culture timescales', size=15)\n",
    "plt.xlabel('divs', size=15)\n",
    "plt.ylim(0,0.3)\n",
    "plt.title(\"Culture timescales AR PSD\")\"\"\""
   ]
  },
  {
   "cell_type": "markdown",
   "id": "fa531e41",
   "metadata": {},
   "source": [
    "#### Plot mean culture timescales in log scale"
   ]
  },
  {
   "cell_type": "code",
   "execution_count": 40,
   "id": "c5e68c5d",
   "metadata": {},
   "outputs": [
    {
     "data": {
      "text/plain": [
       "Text(0.5, 1.0, \"Log culture timescales Welch's PSD\")"
      ]
     },
     "execution_count": 40,
     "metadata": {},
     "output_type": "execute_result"
    },
    {
     "data": {
      "image/png": "[encoded data removed]",
      "text/plain": [
       "<Figure size 432x288 with 1 Axes>"
      ]
     },
     "metadata": {
      "needs_background": "light"
     },
     "output_type": "display_data"
    }
   ],
   "source": [
    "plt.plot(meanstd_wPSD[1], np.log10(meanstd_wPSD[2]), '.')\n",
    "plt.ylabel('log culture timescales', size=15)\n",
    "plt.xlabel('divs', size=15)\n",
    "plt.title(\"Log culture timescales Welch's PSD\")"
   ]
  },
  {
   "cell_type": "code",
   "execution_count": 32,
   "id": "8076595f",
   "metadata": {},
   "outputs": [
    {
     "data": {
      "text/plain": [
       "'\\n\\nplt.plot(meanstd_arPSD[1], np.log10(meanstd_arPSD[2]), \\'.\\')\\nplt.ylabel(\\'log culture timescales\\', size=15)\\nplt.xlabel(\\'divs\\', size=15)\\nplt.title(\"Log culture timescales AR PSD\")'"
      ]
     },
     "execution_count": 32,
     "metadata": {},
     "output_type": "execute_result"
    }
   ],
   "source": [
    "\"\"\"\n",
    "\n",
    "plt.plot(meanstd_arPSD[1], np.log10(meanstd_arPSD[2]), '.')\n",
    "plt.ylabel('log culture timescales', size=15)\n",
    "plt.xlabel('divs', size=15)\n",
    "plt.title(\"Log culture timescales AR PSD\")\"\"\""
   ]
  },
  {
   "cell_type": "markdown",
   "id": "72a8cff7",
   "metadata": {},
   "source": [
    "#### Plot mean culture timescales with standard deviation error bars in linear scale"
   ]
  },
  {
   "cell_type": "code",
   "execution_count": 41,
   "id": "8dffa4ec",
   "metadata": {},
   "outputs": [
    {
     "data": {
      "text/plain": [
       "Text(0.5, 1.0, \"Linear culture timescales Welch's PSD\")"
      ]
     },
     "execution_count": 41,
     "metadata": {},
     "output_type": "execute_result"
    },
    {
     "data": {
      "image/png": "[encoded data removed]",
      "text/plain": [
       "<Figure size 432x288 with 1 Axes>"
      ]
     },
     "metadata": {
      "needs_background": "light"
     },
     "output_type": "display_data"
    }
   ],
   "source": [
    "plt.errorbar(meanstd_wPSD[1],meanstd_wPSD[2], meanstd_wPSD[3], linestyle='None', marker='.')\n",
    "plt.ylabel('culture timescales', size=15)\n",
    "plt.xlabel('divs', size=15)\n",
    "plt.title(\"Linear culture timescales Welch's PSD\")\n"
   ]
  },
  {
   "cell_type": "code",
   "execution_count": 33,
   "id": "bc245b4f",
   "metadata": {},
   "outputs": [
    {
     "data": {
      "text/plain": [
       "'\\n\\nplt.errorbar(meanstd_arPSD[1],meanstd_arPSD[2], meanstd_arPSD[3], linestyle=\\'None\\', marker=\\'.\\')\\nplt.ylabel(\\'culture timescales\\', size=15)\\nplt.xlabel(\\'divs\\', size=15)\\nplt.title(\"Linear culture timescales AR PSD\")'"
      ]
     },
     "execution_count": 33,
     "metadata": {},
     "output_type": "execute_result"
    }
   ],
   "source": [
    "\"\"\"\n",
    "\n",
    "plt.errorbar(meanstd_arPSD[1],meanstd_arPSD[2], meanstd_arPSD[3], linestyle='None', marker='.')\n",
    "plt.ylabel('culture timescales', size=15)\n",
    "plt.xlabel('divs', size=15)\n",
    "plt.title(\"Linear culture timescales AR PSD\")\"\"\""
   ]
  },
  {
   "cell_type": "code",
   "execution_count": 34,
   "id": "df613bb0",
   "metadata": {},
   "outputs": [
    {
     "data": {
      "text/plain": [
       "'\\n\\nplt.errorbar(meanstd_arPSD[1],np.log10(meanstd_arPSD[2]), np.log10(meanstd_arPSD[3]), linestyle=\\'None\\', marker=\\'.\\')\\nplt.ylabel(\\'log culture timescales\\', size=15)\\nplt.xlabel(\\'divs\\', size=15)\\nplt.title(\"Log culture timescales AR PSD\")'"
      ]
     },
     "execution_count": 34,
     "metadata": {},
     "output_type": "execute_result"
    }
   ],
   "source": [
    "\"\"\"\n",
    "\n",
    "plt.errorbar(meanstd_arPSD[1],np.log10(meanstd_arPSD[2]), np.log10(meanstd_arPSD[3]), linestyle='None', marker='.')\n",
    "plt.ylabel('log culture timescales', size=15)\n",
    "plt.xlabel('divs', size=15)\n",
    "plt.title(\"Log culture timescales AR PSD\")\"\"\"\n",
    "\n"
   ]
  },
  {
   "cell_type": "markdown",
   "id": "aea29c76",
   "metadata": {},
   "source": [
    "### Plot in paper figure format"
   ]
  },
  {
   "cell_type": "code",
   "execution_count": 45,
   "id": "c502d364",
   "metadata": {},
   "outputs": [
    {
     "ename": "NameError",
     "evalue": "name 'compiled_data_days_kfm_well_mean' is not defined",
     "output_type": "error",
     "traceback": [
      "\u001b[0;31m---------------------------------------------------------------------------\u001b[0m",
      "\u001b[0;31mNameError\u001b[0m                                 Traceback (most recent call last)",
      "\u001b[0;32m/var/folders/rr/tk8wmt7x4xlgzgmcy768y1rm0000gn/T/ipykernel_4284/2726582969.py\u001b[0m in \u001b[0;36m<module>\u001b[0;34m\u001b[0m\n\u001b[1;32m      1\u001b[0m \u001b[0max13\u001b[0m \u001b[0;34m=\u001b[0m \u001b[0mplt\u001b[0m\u001b[0;34m.\u001b[0m\u001b[0msubplot\u001b[0m\u001b[0;34m(\u001b[0m\u001b[0;36m4\u001b[0m\u001b[0;34m,\u001b[0m\u001b[0;36m4\u001b[0m\u001b[0;34m,\u001b[0m\u001b[0;36m13\u001b[0m\u001b[0;34m)\u001b[0m\u001b[0;34m\u001b[0m\u001b[0;34m\u001b[0m\u001b[0m\n\u001b[0;32m----> 2\u001b[0;31m \u001b[0max13\u001b[0m\u001b[0;34m.\u001b[0m\u001b[0mplot\u001b[0m\u001b[0;34m(\u001b[0m\u001b[0mcompiled_data_days_kfm_well_mean\u001b[0m\u001b[0;34m,\u001b[0m\u001b[0mcompiled_data_taus_well_mean\u001b[0m\u001b[0;34m,\u001b[0m\u001b[0mc\u001b[0m\u001b[0;34m=\u001b[0m\u001b[0;34m'b'\u001b[0m\u001b[0;34m,\u001b[0m\u001b[0mlinewidth\u001b[0m\u001b[0;34m=\u001b[0m\u001b[0;36m2\u001b[0m\u001b[0;34m)\u001b[0m\u001b[0;34m\u001b[0m\u001b[0;34m\u001b[0m\u001b[0m\n\u001b[0m\u001b[1;32m      3\u001b[0m \u001b[0max13\u001b[0m\u001b[0;34m.\u001b[0m\u001b[0mfill_between\u001b[0m\u001b[0;34m(\u001b[0m\u001b[0mcompiled_data_days_kfm_well_mean\u001b[0m\u001b[0;34m,\u001b[0m\u001b[0mtaus_lower_bound\u001b[0m\u001b[0;34m,\u001b[0m\u001b[0mtaus_upper_bound\u001b[0m\u001b[0;34m,\u001b[0m\u001b[0mcolor\u001b[0m\u001b[0;34m=\u001b[0m\u001b[0;34m'b'\u001b[0m\u001b[0;34m,\u001b[0m\u001b[0malpha\u001b[0m\u001b[0;34m=\u001b[0m\u001b[0;36m0.2\u001b[0m\u001b[0;34m)\u001b[0m\u001b[0;34m\u001b[0m\u001b[0;34m\u001b[0m\u001b[0m\n\u001b[1;32m      4\u001b[0m \u001b[0max13\u001b[0m\u001b[0;34m.\u001b[0m\u001b[0mset_title\u001b[0m\u001b[0;34m(\u001b[0m\u001b[0mspec_type\u001b[0m \u001b[0;34m+\u001b[0m \u001b[0;34m' chan avg taus over development'\u001b[0m\u001b[0;34m)\u001b[0m\u001b[0;34m\u001b[0m\u001b[0;34m\u001b[0m\u001b[0m\n\u001b[1;32m      5\u001b[0m \u001b[0;34m\u001b[0m\u001b[0m\n",
      "\u001b[0;31mNameError\u001b[0m: name 'compiled_data_days_kfm_well_mean' is not defined"
     ]
    },
    {
     "data": {
      "image/png": "[encoded data removed]",
      "text/plain": [
       "<Figure size 432x288 with 1 Axes>"
      ]
     },
     "metadata": {
      "needs_background": "light"
     },
     "output_type": "display_data"
    }
   ],
   "source": [
    "ax13 = plt.subplot(4,4,13)\n",
    "ax13.plot(compiled_data_days_kfm_well_mean,compiled_data_taus_well_mean,c='b',linewidth=2)\n",
    "ax13.fill_between(compiled_data_days_kfm_well_mean,taus_lower_bound,taus_upper_bound,color='b',alpha=0.2)\n",
    "ax13.set_title(spec_type + ' chan avg taus over development')\n",
    "\n"
   ]
  },
  {
   "cell_type": "markdown",
   "id": "05bc20fb",
   "metadata": {},
   "source": [
    "### Look at fits "
   ]
  },
  {
   "cell_type": "code",
   "execution_count": null,
   "id": "2caee62a",
   "metadata": {},
   "outputs": [],
   "source": [
    "## show attributes\n",
    "wPSD[0].__dir__()"
   ]
  },
  {
   "cell_type": "markdown",
   "id": "cbd9d037",
   "metadata": {},
   "source": [
    "#### Look into 160s wPSD artifacts"
   ]
  },
  {
   "cell_type": "code",
   "execution_count": null,
   "id": "81c2b4f8",
   "metadata": {},
   "outputs": [],
   "source": [
    "for w in range(len(wPSD_tau)):\n",
    "    \n",
    "    if wPSD_tau[w] > 155:\n",
    "        #show fits for those indices\n",
    "        plt.loglog(wPSD[w].freqs, wPSD[w].powers, color='C0', alpha=.5)\n",
    "        plt.loglog(wPSD[w].freqs, wPSD[w].powers_fit, color='C1', alpha=.5)\n",
    "        "
   ]
  },
  {
   "cell_type": "markdown",
   "id": "539c74ef",
   "metadata": {},
   "source": [
    "#### Get r-squared values of fits"
   ]
  },
  {
   "cell_type": "code",
   "execution_count": null,
   "id": "e51f5529",
   "metadata": {},
   "outputs": [],
   "source": [
    "rsq_wPSD = []\n",
    "rsq_arPSD = []\n",
    "\n",
    "rsq_full_wPSD = []\n",
    "rsq_full_arPSD = []\n",
    "\n",
    "\n",
    "for w in wPSD:\n",
    "    rsq_wPSD.append(w.rsq)\n",
    "    rsq_full_wPSD.append(w.rsq_full)\n",
    "    \n",
    "for ar in arPSD:\n",
    "    rsq_arPSD.append(ar.rsq)\n",
    "    rsq_full_arPSD.append(ar.rsq_full)\n",
    "    \n",
    "\n",
    "    "
   ]
  },
  {
   "cell_type": "markdown",
   "id": "b0d2bb35",
   "metadata": {},
   "source": [
    "#### plot distribution of r-squared values "
   ]
  },
  {
   "cell_type": "code",
   "execution_count": null,
   "id": "f3069c97",
   "metadata": {},
   "outputs": [],
   "source": [
    "#Welch's PSD\n",
    "plt.hist(rsq_wPSD)"
   ]
  },
  {
   "cell_type": "code",
   "execution_count": null,
   "id": "dc895641",
   "metadata": {},
   "outputs": [],
   "source": [
    "#AR PSD\n",
    "\n",
    "plt.hist(rsq_arPSD)"
   ]
  },
  {
   "cell_type": "markdown",
   "id": "bb2f2309",
   "metadata": {},
   "source": [
    "#### Look at bad fits (rsq < 0.8)"
   ]
  },
  {
   "cell_type": "code",
   "execution_count": null,
   "id": "cbf79587",
   "metadata": {},
   "outputs": [],
   "source": [
    "\"\"\"\n",
    "# Welch's PSD\n",
    "\n",
    "#plot in sets of 20 \n",
    "\n",
    "num = 0 \n",
    "\n",
    "for r in range(len(rsq_wPSD)):\n",
    "    \n",
    "    if rsq_wPSD[r] < 0.8:\n",
    "        #show fits for those indices\n",
    "        \"\"\"\n",
    "        plt.loglog(wPSD[r].freqs, wPSD[r].powers, color='C0', alpha=.5)\n",
    "        plt.loglog(wPSD[r].freqs, wPSD[r].powers_fit, color='C1', alpha=.5)\"\"\"\n",
    "        \n",
    "        if num == 20:\n",
    "            plt.show()\n",
    "            num = -1\n",
    "        \n",
    "        num = num + 1\"\"\"\n",
    "        "
   ]
  },
  {
   "cell_type": "code",
   "execution_count": null,
   "id": "6c78bdb1",
   "metadata": {},
   "outputs": [],
   "source": [
    "\"\"\"\n",
    "# AR PSD\n",
    "\n",
    "#plot in sets of 20 \n",
    "\n",
    "num = 0 \n",
    "\n",
    "for r in range(len(rsq_arPSD)):\n",
    "    \n",
    "    if rsq_arPSD[r] < 0.8:\n",
    "        #show fits for those indices\n",
    "        plt.loglog(arPSD[r].freqs, arPSD[r].powers, color='C0', alpha=.5)\n",
    "        plt.loglog(arPSD[r].freqs, arPSD[r].powers_fit, color='C1', alpha=.5)\n",
    "        \n",
    "        if num == 20:\n",
    "            plt.show()\n",
    "            num = -1\n",
    "        \n",
    "        num = num + 1\n",
    "        \"\"\""
   ]
  },
  {
   "cell_type": "markdown",
   "id": "08e9f8ad",
   "metadata": {},
   "source": [
    "#### Look at good fits (rsq >= 0.8)"
   ]
  },
  {
   "cell_type": "code",
   "execution_count": null,
   "id": "c436f358",
   "metadata": {},
   "outputs": [],
   "source": [
    "\"\"\" # Welch's PSD\n",
    "\n",
    "#plot in sets of 20 \n",
    "wdivs_gfits = []\n",
    "wcultures_gfits = []\n",
    "wPSD_gfits = []\n",
    "wtau_gfits = []\n",
    "wrsq_gfits = []\n",
    "\n",
    "num = 0 \n",
    "\n",
    "for r in range(len(rsq_wPSD)):\n",
    "    \n",
    "    if rsq_wPSD[r] >= 0.8:\n",
    "        \n",
    "        wdivs_gfits.append(wdivs[r])\n",
    "        wcultures_gfits.append(wcultures[r])\n",
    "        wPSD_gfits.append(wPSD[r])\n",
    "        wrsq_gfits.append(rsq_wPSD[r])\n",
    "        wtau_gfits.append(wPSD_tau[r])\n",
    "        \n",
    "\n",
    "        #show fits for those indices\n",
    "        plt.loglog(wPSD[r].freqs, wPSD[r].powers, color='C0', alpha=.5)\n",
    "        plt.loglog(wPSD[r].freqs, wPSD[r].powers_fit, color='C1', alpha=.5)\n",
    "        \n",
    "        if num == 20:\n",
    "            plt.show()\n",
    "            num = -1\n",
    "        \n",
    "        num = num + 1\"\"\"\n",
    "        \n",
    "        "
   ]
  },
  {
   "cell_type": "code",
   "execution_count": null,
   "id": "d9d829da",
   "metadata": {},
   "outputs": [],
   "source": [
    "\"\"\"# AR PSD\n",
    "ardivs_gfits = []\n",
    "arcultures_gfits = []\n",
    "arPSD_gfits = []\n",
    "artau_gfits = []\n",
    "arrsq_gfits = []\n",
    "\n",
    "#plot in sets of 20 \n",
    "\n",
    "num = 0 \n",
    "\n",
    "for r in range(len(rsq_arPSD)):\n",
    "    \n",
    "    if rsq_arPSD[r] >= 0.8:\n",
    "        #show fits for those indices\n",
    "        plt.loglog(arPSD[r].freqs, arPSD[r].powers, color='C0', alpha=.5)\n",
    "        plt.loglog(arPSD[r].freqs, arPSD[r].powers_fit, color='C1', alpha=.5)\n",
    "        \n",
    "        ardivs_gfits.append(ardivs[r])\n",
    "        arcultures_gfits.append(arcultures[r])\n",
    "        arPSD_gfits.append(arPSD[r])\n",
    "        arrsq_gfits.append(rsq_arPSD[r])\n",
    "        artau_gfits.append(arPSD_tau[r])\n",
    "        \n",
    "        \n",
    "        if num == 20:\n",
    "            plt.show()\n",
    "            num = -1\n",
    "        \n",
    "        num = num + 1\"\"\"\n",
    "        \n",
    "        \n",
    "        "
   ]
  },
  {
   "cell_type": "markdown",
   "id": "6d53fb80",
   "metadata": {},
   "source": [
    "#### Look at 20 worst fits for each method, and the corresponding fits in other method"
   ]
  },
  {
   "cell_type": "code",
   "execution_count": null,
   "id": "b0cfd3b2",
   "metadata": {},
   "outputs": [],
   "source": [
    "\"\"\"# worst fits Welch's PSD\n",
    "\n",
    "worst_fits_wPSD_idx = np.argpartition(rsq_wPSD, 20)[:20]\n",
    "\n",
    "worstf_wPSD = np.asarray(rsq_wPSD)[worst_fits_wPSD_idx]\n",
    "worstf_wPSD_corr_arPSD = np.asarray(rsq_arPSD)[worst_fits_wPSD_idx]\n",
    "\n",
    "#plot 20 worst Welch PSD fits and correspoding AR PSD fits\n",
    "\n",
    "for i in worst_fits_wPSD_idx:\n",
    "    plt.loglog(wPSD[i].freqs, wPSD[i].powers, color='C0', alpha=.5)\n",
    "    plt.loglog(wPSD[i].freqs, wPSD[i].powers_fit, color='C1', alpha=.5)\n",
    "    plt.title(\"Welch's PSD for index \" + str(i))\n",
    "    plt.show()\n",
    "    \n",
    "    plt.loglog(arPSD[i].freqs, arPSD[i].powers, color='C0', alpha=.5)\n",
    "    plt.loglog(arPSD[i].freqs, arPSD[i].powers_fit, color='C1', alpha=.5)\n",
    "    plt.title(\"AR PSD for index \" + str(i))\n",
    "    plt.show()\n",
    "    \n",
    "\"\"\"\n"
   ]
  },
  {
   "cell_type": "code",
   "execution_count": null,
   "id": "bb5d9572",
   "metadata": {},
   "outputs": [],
   "source": [
    "\"\"\"# worst fits AR PSD\n",
    "\n",
    "worst_fits_arPSD_idx = np.argpartition(rsq_arPSD, 20)[:20]\n",
    "\n",
    "worstf_arPSD = np.asarray(rsq_arPSD)[worst_fits_arPSD_idx]\n",
    "worstf_arPSD_corr_wPSD = np.asarray(rsq_wPSD)[worst_fits_arPSD_idx]\n",
    "\n",
    "#plot 20 worst Welch PSD fits and correspoding AR PSD fits\n",
    "\n",
    "for i in worst_fits_arPSD_idx:\n",
    "    plt.loglog(arPSD[i].freqs, arPSD[i].powers, color='C0', alpha=.5)\n",
    "    plt.loglog(arPSD[i].freqs, arPSD[i].powers_fit, color='C1', alpha=.5)\n",
    "    plt.title(\"AR PSD for index \" + str(i))\n",
    "    plt.show()\n",
    "    \n",
    "    plt.loglog(wPSD[i].freqs, wPSD[i].powers, color='C0', alpha=.5)\n",
    "    plt.loglog(wPSD[i].freqs, wPSD[i].powers_fit, color='C1', alpha=.5)\n",
    "    plt.title(\"Corresponding Welch's PSD for index \" + str(i))\n",
    "    plt.show()\n",
    "    \n",
    "\"\"\""
   ]
  },
  {
   "cell_type": "markdown",
   "id": "704cc653",
   "metadata": {},
   "source": [
    "#### Look at 20 best fits for each method, and the corresponding fits in other method - FIXXX "
   ]
  },
  {
   "cell_type": "code",
   "execution_count": null,
   "id": "e4336657",
   "metadata": {},
   "outputs": [],
   "source": [
    "~np.isnan(rsq_wPSD)"
   ]
  },
  {
   "cell_type": "code",
   "execution_count": null,
   "id": "58c42468",
   "metadata": {},
   "outputs": [],
   "source": [
    "np.argpartition(~np.isnan(rsq_wPSD), -20)[-20:]\n"
   ]
  },
  {
   "cell_type": "code",
   "execution_count": null,
   "id": "de268aba",
   "metadata": {},
   "outputs": [],
   "source": [
    "#get indices of 20 best fits\n",
    "\n",
    "not_nan_wPSD_idx = ~np.isnan(rsq_wPSD)\n",
    "\n",
    "best_fits_wPSD_idx = np.argpartition(rsq_wPSD, 40)\n",
    "\n",
    "best_fits_wPSD_idx_notnan = []\n",
    "\n",
    "for i in range(len(best_fits_wPSD_idx)):\n",
    "    if not_nan_wPSD_idx[best_fits_wPSD_idx[i]]:\n",
    "        \n",
    "        best_fits_wPSD_idx_notnan.append(best_fits_wPSD_idx[i])"
   ]
  },
  {
   "cell_type": "code",
   "execution_count": null,
   "id": "6bf6e2db",
   "metadata": {},
   "outputs": [],
   "source": [
    "wPSD_tau[best_fits_wPSD_idx_notnan[-20:]]"
   ]
  },
  {
   "cell_type": "code",
   "execution_count": null,
   "id": "620c537f",
   "metadata": {},
   "outputs": [],
   "source": [
    "# best fits Welch's PSD\n",
    "\"\"\"\n",
    "\n",
    "#plot 20 best Welch PSD fits and correspoding AR PSD fits\n",
    "\n",
    "for i in best_fits_wPSD_idx_notnan[-20:]:\n",
    "    \n",
    "    plt.loglog(wPSD[i].freqs, wPSD[i].powers, color='C0', alpha=.5)\n",
    "    plt.loglog(wPSD[i].freqs, wPSD[i].powers_fit, color='C1', alpha=.5)\n",
    "    plt.title(\"Welch's PSD for index \" + str(i))\n",
    "    plt.show()\n",
    "    \n",
    "    plt.loglog(arPSD[i].freqs, arPSD[i].powers, color='C0', alpha=.5)\n",
    "    plt.loglog(arPSD[i].freqs, arPSD[i].powers_fit, color='C1', alpha=.5)\n",
    "    plt.title(\"AR PSD for index \" + str(i))\n",
    "    plt.show()\n",
    "  \"\"\"  \n"
   ]
  },
  {
   "cell_type": "markdown",
   "id": "42604134",
   "metadata": {},
   "source": [
    "### Show results over development only with good fits (rsq > = 0.8)"
   ]
  },
  {
   "cell_type": "markdown",
   "id": "d01d5237",
   "metadata": {},
   "source": [
    "#### Before removing outliers "
   ]
  },
  {
   "cell_type": "code",
   "execution_count": null,
   "id": "606e1a32",
   "metadata": {},
   "outputs": [],
   "source": [
    "plt.plot(wdivs_gfits, wtau_gfits, '.')\n",
    "plt.ylabel('unit timescales', size=15)\n",
    "plt.xlabel('divs', size=15)\n",
    "plt.title(\"Welch's PSD good fits before removing outliers \")"
   ]
  },
  {
   "cell_type": "code",
   "execution_count": null,
   "id": "cc7aa3cd",
   "metadata": {},
   "outputs": [],
   "source": [
    "plt.plot(ardivs_gfits, artau_gfits, '.')\n",
    "plt.ylabel('unit timescales', size=15)\n",
    "plt.xlabel('divs', size=15)\n",
    "plt.title(\"AR PSD good fits before removing outliers \")"
   ]
  },
  {
   "cell_type": "markdown",
   "id": "ce3ad9f3",
   "metadata": {},
   "source": [
    "#### After removing outliers "
   ]
  },
  {
   "cell_type": "code",
   "execution_count": null,
   "id": "0fa00dff",
   "metadata": {},
   "outputs": [],
   "source": [
    "#remove outliers \n",
    "wtau_rem_gf, wdivs_rem_gf, wcultures_rem_gf, wPSD_rem_gf = remove_outliers(np.asarray(wtau_gfits), np.asarray(wdivs_gfits), np.asarray(wcultures_gfits), np.asarray(wPSD_gfits))\n",
    "\n",
    "plt.plot(wdivs_rem_gf, wtau_rem_gf, '.')\n",
    "plt.ylabel('unit timescales', size=15)\n",
    "plt.xlabel('divs', size=15)\n",
    "plt.title(\"Welch's PSD good fits after removing outliers \")\n"
   ]
  },
  {
   "cell_type": "code",
   "execution_count": null,
   "id": "4723db7e",
   "metadata": {},
   "outputs": [],
   "source": [
    "#remove outliers \n",
    "artau_rem_gf, ardivs_rem_gf, arcultures_rem_gf, arPSD_rem_gf = remove_outliers(np.asarray(artau_gfits), np.asarray(ardivs_gfits), np.asarray(arcultures_gfits), np.asarray(arPSD_gfits))\n",
    "\n",
    "plt.plot(ardivs_rem_gf, artau_rem_gf, '.')\n",
    "plt.ylabel('unit timescales', size=15)\n",
    "plt.xlabel('divs', size=15)\n",
    "plt.title(\"AR PSD good fits after removing outliers \")\n"
   ]
  },
  {
   "cell_type": "code",
   "execution_count": null,
   "id": "06ae608a",
   "metadata": {},
   "outputs": [],
   "source": [
    "# get rsq values after removing outliers \n",
    "\n",
    "rsq_wPSD_rem_gf = []\n",
    "rsq_arPSD_rem_gf = []\n",
    "\n",
    "\n",
    "for w in wPSD_rem_gf:\n",
    "    rsq_wPSD_rem_gf.append(w.rsq)\n",
    "    \n",
    "for ar in arPSD_rem_gf:\n",
    "    rsq_arPSD_rem_gf.append(ar.rsq)\n",
    "    \n"
   ]
  },
  {
   "cell_type": "markdown",
   "id": "06493a0d",
   "metadata": {},
   "source": [
    "#### Calculated mean for each culture "
   ]
  },
  {
   "cell_type": "code",
   "execution_count": null,
   "id": "66693175",
   "metadata": {},
   "outputs": [],
   "source": [
    "meanstd_wPSD_gf = get_mean_std_well(np.asarray(wtau_rem_gf), np.asarray(wdivs_rem_gf), np.asarray(wcultures_rem_gf) )"
   ]
  },
  {
   "cell_type": "code",
   "execution_count": null,
   "id": "a7d54851",
   "metadata": {},
   "outputs": [],
   "source": [
    "meanstd_arPSD_gf = get_mean_std_well(np.asarray(artau_rem_gf), np.asarray(ardivs_rem_gf), np.asarray(arcultures_rem_gf) )\n",
    "                                     "
   ]
  },
  {
   "cell_type": "markdown",
   "id": "ebb8258c",
   "metadata": {},
   "source": [
    "##### Plot in linear scale"
   ]
  },
  {
   "cell_type": "code",
   "execution_count": null,
   "id": "dd16ade9",
   "metadata": {},
   "outputs": [],
   "source": [
    "plt.plot(meanstd_wPSD_gf[1], meanstd_wPSD_gf[2], '.')\n",
    "plt.ylabel('culture timescales', size=15)\n",
    "plt.xlabel('divs', size=15)\n",
    "plt.title(\"Culture timescales Welch's PSD good fits\")"
   ]
  },
  {
   "cell_type": "code",
   "execution_count": null,
   "id": "62aa9637",
   "metadata": {},
   "outputs": [],
   "source": [
    "plt.plot(meanstd_arPSD_gf[1], meanstd_arPSD_gf[2], '.')\n",
    "plt.ylabel('culture timescales', size=15)\n",
    "plt.xlabel('divs', size=15)\n",
    "plt.title(\"Culture timescales AR PSD good fits\")"
   ]
  },
  {
   "cell_type": "markdown",
   "id": "a9ae54c7",
   "metadata": {},
   "source": [
    "##### Plot in log scale"
   ]
  },
  {
   "cell_type": "code",
   "execution_count": null,
   "id": "770771d6",
   "metadata": {},
   "outputs": [],
   "source": [
    "plt.plot(meanstd_wPSD_gf[1], np.log10(meanstd_wPSD_gf[2]), '.')\n",
    "plt.ylabel('log culture timescales', size=15)\n",
    "plt.xlabel('divs', size=15)\n",
    "plt.title(\"Log culture timescales Welch's PSD good fits\")"
   ]
  },
  {
   "cell_type": "code",
   "execution_count": null,
   "id": "693c7957",
   "metadata": {},
   "outputs": [],
   "source": [
    "plt.plot(meanstd_arPSD_gf[1], np.log10(meanstd_arPSD_gf[2]), '.')\n",
    "plt.ylabel('log culture timescales', size=15)\n",
    "plt.xlabel('divs', size=15)\n",
    "plt.title(\"Log culture timescales AR PSD good fits\")"
   ]
  },
  {
   "cell_type": "markdown",
   "id": "09d795bd",
   "metadata": {},
   "source": [
    "#### Mean and std for each culture "
   ]
  },
  {
   "cell_type": "markdown",
   "id": "dc17e28a",
   "metadata": {},
   "source": [
    "##### Plot in linear scale"
   ]
  },
  {
   "cell_type": "code",
   "execution_count": null,
   "id": "40f9e0bb",
   "metadata": {},
   "outputs": [],
   "source": [
    "plt.errorbar(meanstd_wPSD_gf[1],meanstd_wPSD_gf[2], meanstd_wPSD_gf[3], linestyle='None', marker='.')\n",
    "plt.ylabel('culture timescales', size=15)\n",
    "plt.xlabel('divs', size=15)\n",
    "plt.title(\"Linear culture timescales Welch's PSD good fits\")\n"
   ]
  },
  {
   "cell_type": "code",
   "execution_count": null,
   "id": "c42551cd",
   "metadata": {},
   "outputs": [],
   "source": [
    "plt.errorbar(meanstd_arPSD_gf[1],meanstd_arPSD_gf[2], meanstd_arPSD_gf[3], linestyle='None', marker='.')\n",
    "plt.ylabel('culture timescales', size=15)\n",
    "plt.xlabel('divs', size=15)\n",
    "plt.title(\"Linear culture timescales AR PSD good fits\")\n"
   ]
  },
  {
   "cell_type": "markdown",
   "id": "3d0dd98d",
   "metadata": {},
   "source": [
    "##### Plot in log scale"
   ]
  },
  {
   "cell_type": "code",
   "execution_count": null,
   "id": "6b954826",
   "metadata": {},
   "outputs": [],
   "source": [
    "plt.errorbar(meanstd_wPSD_gf[1],np.log10(meanstd_wPSD_gf[2]), np.log10(meanstd_wPSD_gf[3]), linestyle='None', marker='.')\n",
    "plt.ylabel('log culture timescales', size=15)\n",
    "plt.xlabel('divs', size=15)\n",
    "plt.title(\"Log culture timescales Welch's PSD good fits\")"
   ]
  },
  {
   "cell_type": "code",
   "execution_count": null,
   "id": "9d3a69b9",
   "metadata": {},
   "outputs": [],
   "source": [
    "plt.errorbar(meanstd_arPSD_gf[1],np.log10(meanstd_arPSD_gf[2]), np.log10(meanstd_arPSD_gf[3]), linestyle='None', marker='.')\n",
    "plt.ylabel('log culture timescales', size=15)\n",
    "plt.xlabel('divs', size=15)\n",
    "plt.title(\"Log culture timescales AR PSD good fits\")"
   ]
  },
  {
   "cell_type": "markdown",
   "id": "095f3026",
   "metadata": {},
   "source": [
    "### Look at 7-20 divs time range in more detail"
   ]
  },
  {
   "cell_type": "code",
   "execution_count": null,
   "id": "c77077eb",
   "metadata": {},
   "outputs": [],
   "source": [
    "#get indices for 7-20 divs \n",
    "windices_720 = [i for i, x in enumerate(wdivs_rem_gf) if 7<x<20]\n",
    "\n",
    "wcultures_720 = wcultures_rem_gf[indices_720]\n",
    "wPSD_720 = wPSD_rem_gf[indices_720]\n",
    "wtau_720 = wtau_rem_gf[indices_720]\n",
    "wrsq_720 = np.asarray(rsq_wPSD_rem_gf)[indices_720]\n",
    "wdivs_720 = wdivs_rem_gf[indices_720]\n",
    "\n",
    "arindices_720 = [i for i, x in enumerate(ardivs_rem_gf) if 7<x<20]\n",
    "\n",
    "arcultures_720 = arcultures_rem_gf[indices_720]\n",
    "arPSD_720 = arPSD_rem_gf[indices_720]\n",
    "artau_720 = artau_rem_gf[indices_720]\n",
    "arrsq_720 = np.asarray(rsq_arPSD_rem_gf)[indices_720]\n",
    "ardivs_720 = ardivs_rem_gf[indices_720]"
   ]
  },
  {
   "cell_type": "code",
   "execution_count": null,
   "id": "0212dd4b",
   "metadata": {},
   "outputs": [],
   "source": [
    "plt.plot(wdivs_720, wtau_720, '.')"
   ]
  },
  {
   "cell_type": "code",
   "execution_count": null,
   "id": "158dd1bd",
   "metadata": {},
   "outputs": [],
   "source": [
    "plt.plot(ardivs_720, artau_720, '.')"
   ]
  },
  {
   "cell_type": "markdown",
   "id": "32a7223a",
   "metadata": {},
   "source": [
    "#### Plot r-squared values for this time range"
   ]
  },
  {
   "cell_type": "code",
   "execution_count": null,
   "id": "bea1519d",
   "metadata": {},
   "outputs": [],
   "source": [
    "plt.hist(wrsq_720)\n",
    "plt.xlim(0,1)\n",
    "plt.title('Histogram of Welch PSD good (> 0.8) r-squared values in divs 7-20 after removing outliers')"
   ]
  },
  {
   "cell_type": "code",
   "execution_count": null,
   "id": "d48bef7c",
   "metadata": {},
   "outputs": [],
   "source": [
    "#plot rsq over divs\n",
    "plt.plot(wdivs_720, wrsq_720, '.')\n",
    "plt.ylim(0,1.01)"
   ]
  },
  {
   "cell_type": "code",
   "execution_count": null,
   "id": "fa2d7594",
   "metadata": {},
   "outputs": [],
   "source": [
    "plt.hist(arrsq_720)\n",
    "plt.xlim(0,1)\n",
    "plt.title('Histogram of AR PSD good (> 0.8) r-squared values in divs 7-20 after removing outliers')"
   ]
  },
  {
   "cell_type": "code",
   "execution_count": null,
   "id": "76037ece",
   "metadata": {},
   "outputs": [],
   "source": [
    "#plot rsq over divs\n",
    "plt.plot(ardivs_720, arrsq_720, '.')\n",
    "plt.ylim(0,1.01)"
   ]
  },
  {
   "cell_type": "markdown",
   "id": "c2c99948",
   "metadata": {},
   "source": [
    "#### Plot PSDs for this time range"
   ]
  },
  {
   "cell_type": "code",
   "execution_count": null,
   "id": "e10abbf0",
   "metadata": {},
   "outputs": [],
   "source": []
  }
 ],
 "metadata": {
  "kernelspec": {
   "display_name": "Python 3 (ipykernel)",
   "language": "python",
   "name": "python3"
  },
  "language_info": {
   "codemirror_mode": {
    "name": "ipython",
    "version": 3
   },
   "file_extension": ".py",
   "mimetype": "text/x-python",
   "name": "python",
   "nbconvert_exporter": "python",
   "pygments_lexer": "ipython3",
   "version": "3.9.7"
  },
  "vscode": {
   "interpreter": {
    "hash": "2c464c225fdcc9707dbfe5f8601ecdb4fece2817f3535537e7ef0601ec8664ee"
   }
  }
 },
 "nbformat": 4,
 "nbformat_minor": 5
}
