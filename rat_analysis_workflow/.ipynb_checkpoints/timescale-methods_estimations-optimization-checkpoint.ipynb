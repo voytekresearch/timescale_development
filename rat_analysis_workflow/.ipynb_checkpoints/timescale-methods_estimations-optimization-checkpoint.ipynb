{
 "cells": [
  {
   "cell_type": "code",
   "execution_count": 2,
   "id": "df53d4ee",
   "metadata": {},
   "outputs": [],
   "source": [
    "import warnings\n",
    "import os\n",
    "from tqdm.notebook import tqdm\n",
    "\n",
    "\n",
    "import matplotlib.pyplot as plt\n",
    "\n",
    "import numpy as np\n",
    "from scipy.io import loadmat\n",
    "import hdf5storage\n",
    "\n",
    "import pandas as pd\n",
    "import re\n",
    "import pickle\n",
    "\n",
    "# Transformations\n",
    "from timescales.sim import bin_spikes\n",
    "from neurodsp.spectral import compute_spectrum\n",
    "from timescales.autoreg import compute_ar_spectrum\n",
    "from statsmodels.tsa.stattools import acf\n",
    "\n",
    "# Workflow\n",
    "from ndspflow.workflows import WorkFlow\n",
    "\n",
    "# Models\n",
    "from timescales.fit import PSD, ACF\n",
    "\n",
    "#import functions for ndsp workflow\n",
    "\n",
    "from timescale_ndsp_func import reader\n",
    "from timescale_ndsp_func import compute_acf\n",
    "from timescale_ndsp_func import bin_spikes\n",
    "from timescale_ndsp_func import bin_spikes\n",
    "from timescale_ndsp_func import compute_ar_spectrum_\n",
    "from timescale_ndsp_func import mean"
   ]
  },
  {
   "cell_type": "code",
   "execution_count": 3,
   "id": "6b23becf",
   "metadata": {},
   "outputs": [],
   "source": [
    "def remove_nans(taus, divs, cultures, objs):\n",
    "    #remove NaNs\n",
    "    divs = divs[~np.isnan(taus)]\n",
    "    cultures = cultures[~np.isnan(taus)]\n",
    "    objs = objs[~np.isnan(taus)]\n",
    "    taus = taus[~np.isnan(taus)]\n",
    "    \n",
    "    \n",
    "    return [taus, divs, cultures, objs]"
   ]
  },
  {
   "cell_type": "code",
   "execution_count": 4,
   "id": "49b6281f",
   "metadata": {},
   "outputs": [],
   "source": [
    "def remove_outliers(taus, divs, cultures, objs):\n",
    "    \n",
    "    \n",
    "    \n",
    "    \n",
    "    #remove extreme outliers\n",
    "    outliers = 100*np.median(taus)\n",
    "    print(outliers)\n",
    "\n",
    "    divs = divs[taus<=outliers]\n",
    "    cultures = cultures[taus<=outliers]\n",
    "    objs = objs[taus<=outliers]\n",
    "    \n",
    "    taus = taus[taus<=outliers]\n",
    "    \n",
    "    \n",
    "    \n",
    "    return [taus, divs, cultures, objs]"
   ]
  },
  {
   "cell_type": "code",
   "execution_count": 5,
   "id": "537c3d01",
   "metadata": {},
   "outputs": [],
   "source": [
    "def get_mean_std_well(taus, divs, cultures):\n",
    "    \n",
    "  \n",
    "    \n",
    "    sort_cultures = sorted(set(cultures))\n",
    "\n",
    "    all_cults  = []\n",
    "    all_divs = []\n",
    "    all_mean_taus = []\n",
    "    all_std_taus = []\n",
    "\n",
    "    #get indices for each culture\n",
    "\n",
    "    for c in sort_cultures:\n",
    "   \n",
    "        indices = [i for i, x in enumerate(cultures) if x == c]\n",
    "  \n",
    "    \n",
    "        \n",
    "        #get divs for each culture \n",
    "        cult_divs = divs[indices]\n",
    "        \n",
    "        #get mean tau for each div in culture\n",
    "        \n",
    "        sort_divs = sorted(set(cult_divs))\n",
    "        \n",
    "        for d in sort_divs:\n",
    "            indices_d = [i for i, x in enumerate(cult_divs) if x == d]\n",
    "            \n",
    "            #get taus for that day \n",
    "            taus_dc = taus[indices_d]\n",
    "            \n",
    "            \n",
    "            #get mean and standard deviation for that day \n",
    "            mean_taus = np.mean(taus_dc)\n",
    "            std_taus = np.std(taus_dc)\n",
    "            \n",
    "            all_cults.append(c)\n",
    "            all_divs.append(d)\n",
    "            all_mean_taus.append(mean_taus)\n",
    "            all_std_taus.append(std_taus)\n",
    "     \n",
    "        \n",
    "        \n",
    "       \n",
    "        \n",
    "    return [all_cults, all_divs, all_mean_taus, all_std_taus]"
   ]
  },
  {
   "cell_type": "code",
   "execution_count": 6,
   "id": "5c65a38a",
   "metadata": {},
   "outputs": [],
   "source": [
    "def get_mean_std_recday (taus, divs):\n",
    "    days = sorted(set(divs))\n",
    "    all_indices = []\n",
    "    days_taus = []\n",
    "    mean_taus = []\n",
    "    std_taus = []\n",
    "\n",
    "    #get indices for each day\n",
    "\n",
    "    for d in days:\n",
    "   \n",
    "        indices = [i for i, x in enumerate(divs) if x == d]\n",
    "        \n",
    "        all_indices.append(indices)\n",
    "        #get taus for those indices\n",
    "        day_taus = taus[indices]\n",
    "        days_taus.append(day_taus)\n",
    "        #get means and stds\n",
    "        mean_taus.append(np.mean(day_taus))\n",
    "        std_taus.append(np.std(day_taus))\n",
    "        \n",
    "    return [days, all_indices, days_taus, mean_taus, std_taus]"
   ]
  },
  {
   "cell_type": "code",
   "execution_count": 7,
   "id": "588e3d3e",
   "metadata": {},
   "outputs": [],
   "source": [
    "def rem_nans(x,y):\n",
    "    nans = ~np.isnan(x)\n",
    "    x = x[nans ]\n",
    "    y = y[nans ]\n",
    "    \n",
    "    return x,y"
   ]
  },
  {
   "cell_type": "code",
   "execution_count": 8,
   "id": "a9b1437d",
   "metadata": {},
   "outputs": [],
   "source": [
    "# Paths\n",
    "dirpath = '/Users/blancamartin/Desktop/Voytek_Lab/timescales/organoid-tango/hc-8/rat_organoid_timescale_development_paper/hc8_data/'\n",
    "files = [f for f in sorted(os.listdir(dirpath)) if f.endswith('.npy')]"
   ]
  },
  {
   "cell_type": "code",
   "execution_count": 9,
   "id": "61e2f5e8",
   "metadata": {},
   "outputs": [],
   "source": [
    "# Settings\n",
    "fs = 20000\n",
    "bin_size = 200\n",
    "fs_bin = fs / bin_size\n",
    "bins_per_window = 1000\n",
    "\n",
    "# Get indices of all files + neurons\n",
    "n_neurons = np.array([len(reader(i)) for i in range(len(files))])\n",
    "\n",
    "cultures = []\n",
    "divs = []\n",
    "\n",
    "for f in range(len(files)):\n",
    "    #get div and culture number for each recording\n",
    "    splt = files[f].split('Culture')[1]\n",
    "    splt = splt.split('DIV')\n",
    "    culture = int(splt[0])\n",
    "    div = int(splt[1].split('.')[0])\n",
    "    \n",
    "    for n in range(n_neurons[f]):\n",
    "\n",
    "        cultures.append(culture)\n",
    "        divs.append(div)\n",
    "\n",
    "indices = np.array(\n",
    "    [[i_file, i_neuron] for i_file in range(len(files))\n",
    "     for i_neuron in range(n_neurons[i_file])]\n",
    ")"
   ]
  },
  {
   "cell_type": "code",
   "execution_count": null,
   "id": "8ec34176",
   "metadata": {},
   "outputs": [],
   "source": [
    "# Welch PSD directory\n",
    "pickle_dir_w = \"/Users/blancamartin/Desktop/Voytek_Lab/timescales/organoid-tango/organoid-tango/wPSD_fits_pkl_new/\"\n",
    "# AR PSD directory\n",
    "pickle_dir_ar = \"/Users/blancamartin/Desktop/Voytek_Lab/timescales/organoid-tango/organoid-tango/arPSD_fits_pkl_new/\"\n",
    "\n",
    "fit_method = 'fooof' # fooof huber\n",
    "n_pts_welch = 10\n",
    "n_pts_ar = 2047\n",
    "welch_sigma = np.linspace(1, 10, n_pts_welch) / 10\n",
    "ar_sigma = np.linspace(1, 10, n_pts_ar) / 10\n",
    "welch_sigma_flip = np.flip(welch_sigma)\n",
    "ar_sigma_flip = np.flip(ar_sigma)\n",
    "\n",
    "# Init workflow\n",
    "wf = WorkFlow()\n",
    "\n",
    "# Read .mat files\n",
    "wf.read_raw(reader, indices)\n",
    "\n",
    "# Bin spikes and window\n",
    "wf.transform(bin_spikes, bin_size, bins_per_window)\n",
    "\n",
    "\n",
    "# PSD (Welch's)\n",
    "wf.fork(0)\n",
    "wf.transform(compute_spectrum, fs_bin, axis=1, f_range=(.001, 200))\n",
    "wf.transform(mean, axis=0)\n",
    "wf.fit(PSD(),sigma=welch_sigma,method=fit_method,pickle=True, pickle_dir=pickle_dir_w)\n",
    "\n",
    "\n",
    "\n",
    "\n",
    "# reset fork\n",
    "wf.fork(0)\n",
    "# compute power spectra - ar\n",
    "wf.transform(compute_ar_spectrum_, fs_bin, 10, axis=1, f_range=(.001, 200))\n",
    "wf.transform(mean, axis=0)\n",
    "#     # spec param fit - ar\n",
    "wf.fit(PSD(),sigma=ar_sigma,method=fit_method,this_ar_order, pickle=True, pickle_dir=pickle_dir_ar)\n",
    "\n",
    "wf.run(n_jobs=-1, progress=tqdm)"
   ]
  },
  {
   "cell_type": "code",
   "execution_count": null,
   "id": "a689380c",
   "metadata": {},
   "outputs": [],
   "source": [
    "# Welch PSD directory\n",
    "pickle_dir_w_opt = \"/Users/blancamartin/Desktop/Voytek_Lab/timescales/organoid-tango/organoid-tango/wPSD_fits_pkl_opt_/\"\n",
    "# AR PSD directory\n",
    "pickle_dir_ar_opt = \"/Users/blancamartin/Desktop/Voytek_Lab/timescales/organoid-tango/organoid-tango/arPSD_fits_pkl_opt/\"\n",
    "\n",
    "pickle_dir_w_opt_flip = \"/Users/blancamartin/Desktop/Voytek_Lab/timescales/organoid-tango/organoid-tango/wPSD_fits_pkl_opt_flip/\"\n",
    "# AR PSD directory\n",
    "pickle_dir_ar_opt_flip = \"/Users/blancamartin/Desktop/Voytek_Lab/timescales/organoid-tango/organoid-tango/arPSD_fits_pkl_opt_flip/\"\n",
    "\n",
    "# Init workflow\n",
    "wf = WorkFlow()\n",
    "\n",
    "# Read .mat files\n",
    "wf.read_raw(reader, indices)\n",
    "\n",
    "# Bin spikes and window\n",
    "wf.transform(bin_spikes, bin_size, bins_per_window)\n",
    "\n",
    "\n",
    "fit_method = 'fooof' # fooof huber\n",
    "# AR spectrum calculation order\n",
    "ar_spec_order = [1,2,3,4,5]\n",
    "\n",
    "# # Set up workflow analyses with r^2 weighting \"sigma\" input\n",
    "# # Only works with \"huber\"/robustregression not spec param\n",
    "# # Just run this block in addition to the previous to add the extra workflow analyses to the previous ones\n",
    "n_pts_welch = 10\n",
    "n_pts_ar = 2047\n",
    "welch_sigma = np.linspace(1, 10, n_pts_welch) / 10\n",
    "ar_sigma = np.linspace(1, 10, n_pts_ar) / 10\n",
    "welch_sigma_flip = np.flip(welch_sigma)\n",
    "ar_sigma_flip = np.flip(ar_sigma)\n",
    "\n",
    "# # set initial fork - this time different weighting\n",
    "wf.fork(0)\n",
    "# # compute  power spectra - welch\n",
    "wf.transform(compute_spectrum, fs_bin, axis=1, f_range=(.001, 200))\n",
    "wf.transform(mean, axis=0)\n",
    "# # spec param fit - welch\n",
    "wf.fit(PSD(),sigma=welch_sigma,method=fit_method,pickle=True, pickle_dir=pickle_dir_w_opt )\n",
    "\n",
    "# # run for multiple AR spec orders - this time different weighting\n",
    "for this_ar_order in ar_spec_order:\n",
    "    \n",
    "#     # reset fork\n",
    "    wf.fork(0)\n",
    "#     # compute power spectra - ar\n",
    "    wf.transform(compute_ar_spectrum_, fs_bin, 10, axis=1, f_range=(.001, 200))\n",
    "    wf.transform(mean, axis=0)\n",
    "#     # spec param fit - ar\n",
    "    wf.fit(PSD(),sigma=ar_sigma,method=fit_method, pickle=True, pickle_dir=pickle_dir_ar_opt)\n",
    "\n",
    "# # set initial fork - this time different weighting FLIP\n",
    "wf.fork(0)\n",
    "# # compute kernel averaged power spectra - welch\n",
    "wf.transform(compute_spectrum, fs_bin, axis=1, f_range=(.001, 200))\n",
    "wf.transform(mean, axis=0)\n",
    "# # spec param fit - welch\n",
    "wf.fit(PSD(),sigma=welch_sigma_flip,method=fit_method, pickle=True, pickle_dir=pickle_dir_w_opt_flip)\n",
    "\n",
    "# # run for multiple AR spec orders - this time different weighting FLIP\n",
    "for this_ar_order in ar_spec_order:\n",
    "#     # reset fork\n",
    "    wf.fork(0)\n",
    "#     # compute kernel averaged power spectra - ar\n",
    "    wf.transform(compute_ar_spectrum_, fs_bin, 10, axis=1, f_range=(.001, 200))\n",
    "    wf.transform(mean, axis=0)\n",
    "#     # spec param fit - ar\n",
    "    wf.fit(PSD(),sigma=ar_sigma_flip,method=fit_method, pickle=True, pickle_dir=pickle_dir_ar_opt_flip)"
   ]
  },
  {
   "cell_type": "markdown",
   "id": "641da004",
   "metadata": {},
   "source": [
    "#### Run with AR spec order = 1 and save pickle output  - had to redo beacuse of pickle error :/ "
   ]
  },
  {
   "cell_type": "code",
   "execution_count": null,
   "id": "b8dc71f8",
   "metadata": {},
   "outputs": [],
   "source": [
    "\n",
    "# AR PSD directory\n",
    "pickle_dir_ar_opt_o1 = \"/Users/blancamartin/Desktop/Voytek_Lab/timescales/organoid-tango/organoid-tango/arPSD_fits_pkl_opt_o1/\"\n",
    "\n",
    "\n",
    "# AR PSD directory\n",
    "pickle_dir_ar_opt_flip_o1 = \"/Users/blancamartin/Desktop/Voytek_Lab/timescales/organoid-tango/organoid-tango/arPSD_fits_pkl_opt_flip_o1/\"\n",
    "\n",
    "# Init workflow\n",
    "wf = WorkFlow()\n",
    "\n",
    "# Read .mat files\n",
    "wf.read_raw(reader, indices)\n",
    "\n",
    "# Bin spikes and window\n",
    "wf.transform(bin_spikes, bin_size, bins_per_window)\n",
    "\n",
    "\n",
    "fit_method = 'fooof' # fooof huber\n",
    "# AR spectrum calculation order\n",
    "ar_spec_order = [1]\n",
    "\n",
    "# # Set up workflow analyses with r^2 weighting \"sigma\" input\n",
    "# # Only works with \"huber\"/robustregression not spec param\n",
    "# # Just run this block in addition to the previous to add the extra workflow analyses to the previous ones\n",
    "n_pts_welch = 10\n",
    "n_pts_ar = 2047\n",
    "welch_sigma = np.linspace(1, 10, n_pts_welch) / 10\n",
    "ar_sigma = np.linspace(1, 10, n_pts_ar) / 10\n",
    "welch_sigma_flip = np.flip(welch_sigma)\n",
    "ar_sigma_flip = np.flip(ar_sigma)\n",
    "\n",
    "\n",
    "# # run for multiple AR spec orders - this time different weighting\n",
    "for this_ar_order in ar_spec_order:\n",
    "    \n",
    "#     # reset fork\n",
    "    wf.fork(0)\n",
    "#     # compute power spectra - ar\n",
    "    wf.transform(compute_ar_spectrum_, fs_bin, this_ar_order, axis=1, f_range=(.001, 200))\n",
    "    wf.transform(mean, axis=0)\n",
    "#     # spec param fit - ar\n",
    "    wf.fit(PSD(),sigma=ar_sigma,method=fit_method, pickle=True, pickle_dir=pickle_dir_ar_opt_o1)\n",
    "\n",
    "\n",
    "\n",
    "# # run for multiple AR spec orders - this time different weighting FLIP\n",
    "for this_ar_order in ar_spec_order:\n",
    "#     # reset fork\n",
    "    wf.fork(0)\n",
    "#     # compute kernel averaged power spectra - ar\n",
    "    wf.transform(compute_ar_spectrum_, fs_bin, this_ar_order, axis=1, f_range=(.001, 200))\n",
    "    wf.transform(mean, axis=0)\n",
    "#     # spec param fit - ar\n",
    "    wf.fit(PSD(),sigma=ar_sigma_flip,method=fit_method, pickle=True, pickle_dir=pickle_dir_ar_opt_flip_o1)\n",
    "    "
   ]
  },
  {
   "cell_type": "code",
   "execution_count": null,
   "id": "1f0379f2",
   "metadata": {},
   "outputs": [],
   "source": [
    "%%time\n",
    "# run work flow\n",
    "wf.run(n_jobs=-1,progress=tqdm)"
   ]
  },
  {
   "cell_type": "markdown",
   "id": "2cddb72d",
   "metadata": {},
   "source": [
    "#### Run with AR spec order = 2 and save pickle output  - had to redo beacuse of pickle error :/ "
   ]
  },
  {
   "cell_type": "code",
   "execution_count": null,
   "id": "19c6deaf",
   "metadata": {},
   "outputs": [],
   "source": [
    "\n",
    "# AR PSD directory\n",
    "pickle_dir_ar_opt_o2 = \"/Users/blancamartin/Desktop/Voytek_Lab/timescales/organoid-tango/organoid-tango/arPSD_fits_pkl_opt_o2/\"\n",
    "\n",
    "\n",
    "# AR PSD directory\n",
    "pickle_dir_ar_opt_flip_o2 = \"/Users/blancamartin/Desktop/Voytek_Lab/timescales/organoid-tango/organoid-tango/arPSD_fits_pkl_opt_flip_o2/\"\n",
    "\n",
    "# Init workflow\n",
    "wf = WorkFlow()\n",
    "\n",
    "# Read .mat files\n",
    "wf.read_raw(reader, indices)\n",
    "\n",
    "# Bin spikes and window\n",
    "wf.transform(bin_spikes, bin_size, bins_per_window)\n",
    "\n",
    "\n",
    "fit_method = 'fooof' # fooof huber\n",
    "# AR spectrum calculation order\n",
    "ar_spec_order = [2]\n",
    "\n",
    "# # Set up workflow analyses with r^2 weighting \"sigma\" input\n",
    "# # Only works with \"huber\"/robustregression not spec param\n",
    "# # Just run this block in addition to the previous to add the extra workflow analyses to the previous ones\n",
    "n_pts_welch = 10\n",
    "n_pts_ar = 2047\n",
    "welch_sigma = np.linspace(1, 10, n_pts_welch) / 10\n",
    "ar_sigma = np.linspace(1, 10, n_pts_ar) / 10\n",
    "welch_sigma_flip = np.flip(welch_sigma)\n",
    "ar_sigma_flip = np.flip(ar_sigma)\n",
    "\n",
    "\n",
    "# # run for multiple AR spec orders - this time different weighting\n",
    "for this_ar_order in ar_spec_order:\n",
    "    \n",
    "#     # reset fork\n",
    "    wf.fork(0)\n",
    "#     # compute power spectra - ar\n",
    "    wf.transform(compute_ar_spectrum_, fs_bin, this_ar_order, axis=1, f_range=(.001, 200))\n",
    "    wf.transform(mean, axis=0)\n",
    "#     # spec param fit - ar\n",
    "    wf.fit(PSD(),sigma=ar_sigma,method=fit_method,  pickle=True, pickle_dir=pickle_dir_ar_opt_o2)\n",
    "\n",
    "\n",
    "\n",
    "# # run for multiple AR spec orders - this time different weighting FLIP\n",
    "for this_ar_order in ar_spec_order:\n",
    "#     # reset fork\n",
    "    wf.fork(0)\n",
    "#     # compute kernel averaged power spectra - ar\n",
    "    wf.transform(compute_ar_spectrum_, fs_bin, this_ar_order, axis=1, f_range=(.001, 200))\n",
    "    wf.transform(mean, axis=0)\n",
    "#     # spec param fit - ar\n",
    "    wf.fit(PSD(),sigma=ar_sigma_flip,method=fit_method,  pickle=True, pickle_dir=pickle_dir_ar_opt_flip_o2)\n",
    "    "
   ]
  },
  {
   "cell_type": "code",
   "execution_count": null,
   "id": "e657a839",
   "metadata": {},
   "outputs": [],
   "source": [
    "%%time\n",
    "# run work flow\n",
    "wf.run(n_jobs=-1,progress=tqdm)"
   ]
  },
  {
   "cell_type": "markdown",
   "id": "42a8963e",
   "metadata": {},
   "source": [
    "#### Run with AR spec order = 3 and save pickle output  - had to redo beacuse of pickle error :/ "
   ]
  },
  {
   "cell_type": "code",
   "execution_count": null,
   "id": "c27d0810",
   "metadata": {},
   "outputs": [],
   "source": [
    "\n",
    "# AR PSD directory\n",
    "pickle_dir_ar_opt_o3 = \"/Users/blancamartin/Desktop/Voytek_Lab/timescales/organoid-tango/organoid-tango/arPSD_fits_pkl_opt_o3/\"\n",
    "\n",
    "\n",
    "# AR PSD directory\n",
    "pickle_dir_ar_opt_flip_o3 = \"/Users/blancamartin/Desktop/Voytek_Lab/timescales/organoid-tango/organoid-tango/arPSD_fits_pkl_opt_flip_o3/\"\n",
    "\n",
    "# Init workflow\n",
    "wf = WorkFlow()\n",
    "\n",
    "# Read .mat files\n",
    "wf.read_raw(reader, indices)\n",
    "\n",
    "# Bin spikes and window\n",
    "wf.transform(bin_spikes, bin_size, bins_per_window)\n",
    "\n",
    "\n",
    "fit_method = 'fooof' # fooof huber\n",
    "# AR spectrum calculation order\n",
    "ar_spec_order = [3]\n",
    "\n",
    "# # Set up workflow analyses with r^2 weighting \"sigma\" input\n",
    "# # Only works with \"huber\"/robustregression not spec param\n",
    "# # Just run this block in addition to the previous to add the extra workflow analyses to the previous ones\n",
    "n_pts_welch = 10\n",
    "n_pts_ar = 2047\n",
    "welch_sigma = np.linspace(1, 10, n_pts_welch) / 10\n",
    "ar_sigma = np.linspace(1, 10, n_pts_ar) / 10\n",
    "welch_sigma_flip = np.flip(welch_sigma)\n",
    "ar_sigma_flip = np.flip(ar_sigma)\n",
    "\n",
    "\n",
    "# # run for multiple AR spec orders - this time different weighting\n",
    "for this_ar_order in ar_spec_order:\n",
    "    \n",
    "#     # reset fork\n",
    "    wf.fork(0)\n",
    "#     # compute power spectra - ar\n",
    "    wf.transform(compute_ar_spectrum_, fs_bin, this_ar_order, axis=1, f_range=(.001, 200))\n",
    "    wf.transform(mean, axis=0)\n",
    "#     # spec param fit - ar\n",
    "    wf.fit(PSD(),sigma=ar_sigma,method=fit_method,  pickle=True, pickle_dir=pickle_dir_ar_opt_o3)\n",
    "\n",
    "\n",
    "\n",
    "# # run for multiple AR spec orders - this time different weighting FLIP\n",
    "for this_ar_order in ar_spec_order:\n",
    "#     # reset fork\n",
    "    wf.fork(0)\n",
    "#     # compute kernel averaged power spectra - ar\n",
    "    wf.transform(compute_ar_spectrum_, fs_bin, this_ar_order, axis=1, f_range=(.001, 200))\n",
    "    wf.transform(mean, axis=0)\n",
    "#     # spec param fit - ar\n",
    "    wf.fit(PSD(),sigma=ar_sigma_flip,method=fit_method, pickle=True, pickle_dir=pickle_dir_ar_opt_flip_o3)\n",
    "    "
   ]
  },
  {
   "cell_type": "code",
   "execution_count": null,
   "id": "5eb865a3",
   "metadata": {},
   "outputs": [],
   "source": [
    "%%time\n",
    "# run work flow\n",
    "wf.run(n_jobs=-1,progress=tqdm)"
   ]
  },
  {
   "cell_type": "markdown",
   "id": "1f685e23",
   "metadata": {},
   "source": [
    "#### Run with AR spec order = 4 and save pickle output  - had to redo beacuse of pickle error :/ "
   ]
  },
  {
   "cell_type": "code",
   "execution_count": null,
   "id": "da3e6281",
   "metadata": {},
   "outputs": [],
   "source": [
    "\n",
    "# AR PSD directory\n",
    "pickle_dir_ar_opt_o4 = \"/Users/blancamartin/Desktop/Voytek_Lab/timescales/organoid-tango/organoid-tango/arPSD_fits_pkl_opt_o4/\"\n",
    "\n",
    "\n",
    "# AR PSD directory\n",
    "pickle_dir_ar_opt_flip_o4 = \"/Users/blancamartin/Desktop/Voytek_Lab/timescales/organoid-tango/organoid-tango/arPSD_fits_pkl_opt_flip_o4/\"\n",
    "\n",
    "# Init workflow\n",
    "wf = WorkFlow()\n",
    "\n",
    "# Read .mat files\n",
    "wf.read_raw(reader, indices)\n",
    "\n",
    "# Bin spikes and window\n",
    "wf.transform(bin_spikes, bin_size, bins_per_window)\n",
    "\n",
    "\n",
    "fit_method = 'fooof' # fooof huber\n",
    "# AR spectrum calculation order\n",
    "ar_spec_order = [4]\n",
    "\n",
    "# # Set up workflow analyses with r^2 weighting \"sigma\" input\n",
    "# # Only works with \"huber\"/robustregression not spec param\n",
    "# # Just run this block in addition to the previous to add the extra workflow analyses to the previous ones\n",
    "n_pts_welch = 10\n",
    "n_pts_ar = 2047\n",
    "welch_sigma = np.linspace(1, 10, n_pts_welch) / 10\n",
    "ar_sigma = np.linspace(1, 10, n_pts_ar) / 10\n",
    "welch_sigma_flip = np.flip(welch_sigma)\n",
    "ar_sigma_flip = np.flip(ar_sigma)\n",
    "\n",
    "\n",
    "# # run for multiple AR spec orders - this time different weighting\n",
    "for this_ar_order in ar_spec_order:\n",
    "    \n",
    "#     # reset fork\n",
    "    wf.fork(0)\n",
    "#     # compute power spectra - ar\n",
    "    wf.transform(compute_ar_spectrum_, fs_bin, this_ar_order, axis=1, f_range=(.001, 200))\n",
    "    wf.transform(mean, axis=0)\n",
    "#     # spec param fit - ar\n",
    "    wf.fit(PSD(),sigma=ar_sigma,method=fit_method, pickle=True, pickle_dir=pickle_dir_ar_opt_o4)\n",
    "\n",
    "\n",
    "\n",
    "# # run for multiple AR spec orders - this time different weighting FLIP\n",
    "for this_ar_order in ar_spec_order:\n",
    "#     # reset fork\n",
    "    wf.fork(0)\n",
    "#     # compute kernel averaged power spectra - ar\n",
    "    wf.transform(compute_ar_spectrum_, fs_bin, this_ar_order, axis=1, f_range=(.001, 200))\n",
    "    wf.transform(mean, axis=0)\n",
    "#     # spec param fit - ar\n",
    "    wf.fit(PSD(),sigma=ar_sigma_flip,method=fit_method,  pickle=True, pickle_dir=pickle_dir_ar_opt_flip_o4)\n",
    "    "
   ]
  },
  {
   "cell_type": "code",
   "execution_count": null,
   "id": "f644b9f9",
   "metadata": {},
   "outputs": [],
   "source": [
    "%%time\n",
    "# run work flow\n",
    "wf.run(n_jobs=-1,progress=tqdm)"
   ]
  },
  {
   "cell_type": "markdown",
   "id": "a3a7f35a",
   "metadata": {},
   "source": [
    "#### Run with AR spec order = 5 and save pickle output  - had to redo beacuse of pickle error :/ "
   ]
  },
  {
   "cell_type": "code",
   "execution_count": null,
   "id": "05d5474d",
   "metadata": {},
   "outputs": [],
   "source": [
    "\n",
    "# AR PSD directory\n",
    "pickle_dir_ar_opt_o5 = \"/Users/blancamartin/Desktop/Voytek_Lab/timescales/organoid-tango/organoid-tango/arPSD_fits_pkl_opt_o5/\"\n",
    "\n",
    "\n",
    "# AR PSD directory\n",
    "pickle_dir_ar_opt_flip_o5 = \"/Users/blancamartin/Desktop/Voytek_Lab/timescales/organoid-tango/organoid-tango/arPSD_fits_pkl_opt_flip_o5/\"\n",
    "\n",
    "# Init workflow\n",
    "wf = WorkFlow()\n",
    "\n",
    "# Read .mat files\n",
    "wf.read_raw(reader, indices)\n",
    "\n",
    "# Bin spikes and window\n",
    "wf.transform(bin_spikes, bin_size, bins_per_window)\n",
    "\n",
    "\n",
    "fit_method = 'fooof' # fooof huber\n",
    "# AR spectrum calculation order\n",
    "ar_spec_order = [5]\n",
    "\n",
    "# # Set up workflow analyses with r^2 weighting \"sigma\" input\n",
    "# # Only works with \"huber\"/robustregression not spec param\n",
    "# # Just run this block in addition to the previous to add the extra workflow analyses to the previous ones\n",
    "n_pts_welch = 10\n",
    "n_pts_ar = 2047\n",
    "welch_sigma = np.linspace(1, 10, n_pts_welch) / 10\n",
    "ar_sigma = np.linspace(1, 10, n_pts_ar) / 10\n",
    "welch_sigma_flip = np.flip(welch_sigma)\n",
    "ar_sigma_flip = np.flip(ar_sigma)\n",
    "\n",
    "\n",
    "# # run for multiple AR spec orders - this time different weighting\n",
    "for this_ar_order in ar_spec_order:\n",
    "    \n",
    "#     # reset fork\n",
    "    wf.fork(0)\n",
    "#     # compute power spectra - ar\n",
    "    wf.transform(compute_ar_spectrum_, fs_bin, this_ar_order, axis=1, f_range=(.001, 200))\n",
    "    wf.transform(mean, axis=0)\n",
    "#     # spec param fit - ar\n",
    "    wf.fit(PSD(),sigma=ar_sigma,method=fit_method,  pickle=True, pickle_dir=pickle_dir_ar_opt_o5)\n",
    "\n",
    "\n",
    "\n",
    "# # run for multiple AR spec orders - this time different weighting FLIP\n",
    "for this_ar_order in ar_spec_order:\n",
    "#     # reset fork\n",
    "    wf.fork(0)\n",
    "#     # compute kernel averaged power spectra - ar\n",
    "    wf.transform(compute_ar_spectrum_, fs_bin, this_ar_order, axis=1, f_range=(.001, 200))\n",
    "    wf.transform(mean, axis=0)\n",
    "#     # spec param fit - ar\n",
    "    wf.fit(PSD(),sigma=ar_sigma_flip,method=fit_method,  pickle=True, pickle_dir=pickle_dir_ar_opt_flip_o5)\n",
    "    "
   ]
  },
  {
   "cell_type": "code",
   "execution_count": null,
   "id": "db10e834",
   "metadata": {},
   "outputs": [],
   "source": [
    "%%time\n",
    "# run work flow\n",
    "wf.run(n_jobs=-1,progress=tqdm)"
   ]
  },
  {
   "cell_type": "markdown",
   "id": "0c1dce4b",
   "metadata": {},
   "source": [
    "#### Run with AR spec order = 6"
   ]
  },
  {
   "cell_type": "code",
   "execution_count": null,
   "id": "ef25e3a5",
   "metadata": {},
   "outputs": [],
   "source": [
    "\n",
    "# AR PSD directory\n",
    "pickle_dir_ar_opt_o6 = \"/Users/blancamartin/Desktop/Voytek_Lab/timescales/organoid-tango/organoid-tango/arPSD_fits_pkl_opt_o6/\"\n",
    "\n",
    "\n",
    "# AR PSD directory\n",
    "pickle_dir_ar_opt_flip_o6 = \"/Users/blancamartin/Desktop/Voytek_Lab/timescales/organoid-tango/organoid-tango/arPSD_fits_pkl_opt_flip_o6/\"\n",
    "\n",
    "# Init workflow\n",
    "wf = WorkFlow()\n",
    "\n",
    "# Read .mat files\n",
    "wf.read_raw(reader, indices)\n",
    "\n",
    "# Bin spikes and window\n",
    "wf.transform(bin_spikes, bin_size, bins_per_window)\n",
    "\n",
    "\n",
    "fit_method = 'fooof' # fooof huber\n",
    "# AR spectrum calculation order\n",
    "ar_spec_order = [6]\n",
    "\n",
    "# # Set up workflow analyses with r^2 weighting \"sigma\" input\n",
    "# # Only works with \"huber\"/robustregression not spec param\n",
    "# # Just run this block in addition to the previous to add the extra workflow analyses to the previous ones\n",
    "n_pts_welch = 10\n",
    "n_pts_ar = 2047\n",
    "welch_sigma = np.linspace(1, 10, n_pts_welch) / 10\n",
    "ar_sigma = np.linspace(1, 10, n_pts_ar) / 10\n",
    "welch_sigma_flip = np.flip(welch_sigma)\n",
    "ar_sigma_flip = np.flip(ar_sigma)\n",
    "\n",
    "\n",
    "# # run for multiple AR spec orders - this time different weighting\n",
    "for this_ar_order in ar_spec_order:\n",
    "    \n",
    "#     # reset fork\n",
    "    wf.fork(0)\n",
    "#     # compute power spectra - ar\n",
    "    wf.transform(compute_ar_spectrum_, fs_bin, this_ar_order, axis=1, f_range=(.001, 200))\n",
    "    wf.transform(mean, axis=0)\n",
    "#     # spec param fit - ar\n",
    "    wf.fit(PSD(),sigma=ar_sigma,method=fit_method,  pickle=True, pickle_dir=pickle_dir_ar_opt_o6)\n",
    "\n",
    "\n",
    "\n",
    "# # run for multiple AR spec orders - this time different weighting FLIP\n",
    "for this_ar_order in ar_spec_order:\n",
    "#     # reset fork\n",
    "    wf.fork(0)\n",
    "#     # compute kernel averaged power spectra - ar\n",
    "    wf.transform(compute_ar_spectrum_, fs_bin, this_ar_order, axis=1, f_range=(.001, 200))\n",
    "    wf.transform(mean, axis=0)\n",
    "#     # spec param fit - ar\n",
    "    wf.fit(PSD(),sigma=ar_sigma_flip,method=fit_method,  pickle=True, pickle_dir=pickle_dir_ar_opt_flip_o6)\n",
    "    "
   ]
  },
  {
   "cell_type": "code",
   "execution_count": null,
   "id": "3d47d0b0",
   "metadata": {},
   "outputs": [],
   "source": [
    "%%time\n",
    "# run work flow\n",
    "wf.run(n_jobs=-1,progress=tqdm)"
   ]
  },
  {
   "cell_type": "markdown",
   "id": "a1e87c80",
   "metadata": {},
   "source": [
    "#### Run with AR spec order = 7"
   ]
  },
  {
   "cell_type": "code",
   "execution_count": null,
   "id": "a022b0a8",
   "metadata": {},
   "outputs": [],
   "source": [
    "\n",
    "# AR PSD directory\n",
    "pickle_dir_ar_opt_o7 = \"/Users/blancamartin/Desktop/Voytek_Lab/timescales/organoid-tango/organoid-tango/arPSD_fits_pkl_opt_o7/\"\n",
    "\n",
    "\n",
    "# AR PSD directory\n",
    "pickle_dir_ar_opt_flip_o7 = \"/Users/blancamartin/Desktop/Voytek_Lab/timescales/organoid-tango/organoid-tango/arPSD_fits_pkl_opt_flip_o7/\"\n",
    "\n",
    "# Init workflow\n",
    "wf = WorkFlow()\n",
    "\n",
    "# Read .mat files\n",
    "wf.read_raw(reader, indices)\n",
    "\n",
    "# Bin spikes and window\n",
    "wf.transform(bin_spikes, bin_size, bins_per_window)\n",
    "\n",
    "\n",
    "fit_method = 'fooof' # fooof huber\n",
    "# AR spectrum calculation order\n",
    "ar_spec_order = [7]\n",
    "\n",
    "# # Set up workflow analyses with r^2 weighting \"sigma\" input\n",
    "# # Only works with \"huber\"/robustregression not spec param\n",
    "# # Just run this block in addition to the previous to add the extra workflow analyses to the previous ones\n",
    "n_pts_welch = 10\n",
    "n_pts_ar = 2047\n",
    "welch_sigma = np.linspace(1, 10, n_pts_welch) / 10\n",
    "ar_sigma = np.linspace(1, 10, n_pts_ar) / 10\n",
    "welch_sigma_flip = np.flip(welch_sigma)\n",
    "ar_sigma_flip = np.flip(ar_sigma)\n",
    "\n",
    "\n",
    "# # run for multiple AR spec orders - this time different weighting\n",
    "for this_ar_order in ar_spec_order:\n",
    "    \n",
    "#     # reset fork\n",
    "    wf.fork(0)\n",
    "#     # compute power spectra - ar\n",
    "    wf.transform(compute_ar_spectrum_, fs_bin, this_ar_order, axis=1, f_range=(.001, 200))\n",
    "    wf.transform(mean, axis=0)\n",
    "#     # spec param fit - ar\n",
    "    wf.fit(PSD(),sigma=ar_sigma,method=fit_method,  pickle=True, pickle_dir=pickle_dir_ar_opt_o7)\n",
    "\n",
    "\n",
    "\n",
    "# # run for multiple AR spec orders - this time different weighting FLIP\n",
    "for this_ar_order in ar_spec_order:\n",
    "#     # reset fork\n",
    "    wf.fork(0)\n",
    "#     # compute kernel averaged power spectra - ar\n",
    "    wf.transform(compute_ar_spectrum_, fs_bin, this_ar_order, axis=1, f_range=(.001, 200))\n",
    "    wf.transform(mean, axis=0)\n",
    "#     # spec param fit - ar\n",
    "    wf.fit(PSD(),sigma=ar_sigma_flip,method=fit_method,  pickle=True, pickle_dir=pickle_dir_ar_opt_flip_o7)\n",
    "    "
   ]
  },
  {
   "cell_type": "code",
   "execution_count": null,
   "id": "78702b39",
   "metadata": {},
   "outputs": [],
   "source": [
    "%%time\n",
    "# run work flow\n",
    "wf.run(n_jobs=-1,progress=tqdm)"
   ]
  },
  {
   "cell_type": "markdown",
   "id": "4315ee5f",
   "metadata": {},
   "source": [
    "#### Run with AR spec order = 8"
   ]
  },
  {
   "cell_type": "code",
   "execution_count": null,
   "id": "57ec4cd1",
   "metadata": {},
   "outputs": [],
   "source": [
    "\n",
    "# AR PSD directory\n",
    "pickle_dir_ar_opt_o8 = \"/Users/blancamartin/Desktop/Voytek_Lab/timescales/organoid-tango/organoid-tango/arPSD_fits_pkl_opt_o8/\"\n",
    "\n",
    "\n",
    "# AR PSD directory\n",
    "pickle_dir_ar_opt_flip_o8 = \"/Users/blancamartin/Desktop/Voytek_Lab/timescales/organoid-tango/organoid-tango/arPSD_fits_pkl_opt_flip_o8/\"\n",
    "\n",
    "# Init workflow\n",
    "wf = WorkFlow()\n",
    "\n",
    "# Read .mat files\n",
    "wf.read_raw(reader, indices)\n",
    "\n",
    "# Bin spikes and window\n",
    "wf.transform(bin_spikes, bin_size, bins_per_window)\n",
    "\n",
    "\n",
    "fit_method = 'fooof' # fooof huber\n",
    "# AR spectrum calculation order\n",
    "ar_spec_order = [8]\n",
    "\n",
    "# # Set up workflow analyses with r^2 weighting \"sigma\" input\n",
    "# # Only works with \"huber\"/robustregression not spec param\n",
    "# # Just run this block in addition to the previous to add the extra workflow analyses to the previous ones\n",
    "n_pts_welch = 10\n",
    "n_pts_ar = 2047\n",
    "welch_sigma = np.linspace(1, 10, n_pts_welch) / 10\n",
    "ar_sigma = np.linspace(1, 10, n_pts_ar) / 10\n",
    "welch_sigma_flip = np.flip(welch_sigma)\n",
    "ar_sigma_flip = np.flip(ar_sigma)\n",
    "\n",
    "\n",
    "# # run for multiple AR spec orders - this time different weighting\n",
    "for this_ar_order in ar_spec_order:\n",
    "    \n",
    "#     # reset fork\n",
    "    wf.fork(0)\n",
    "#     # compute power spectra - ar\n",
    "    wf.transform(compute_ar_spectrum_, fs_bin, this_ar_order, axis=1, f_range=(.001, 200))\n",
    "    wf.transform(mean, axis=0)\n",
    "#     # spec param fit - ar\n",
    "    wf.fit(PSD(),sigma=ar_sigma,method=fit_method,  pickle=True, pickle_dir=pickle_dir_ar_opt_o8)\n",
    "\n",
    "\n",
    "\n",
    "# # run for multiple AR spec orders - this time different weighting FLIP\n",
    "for this_ar_order in ar_spec_order:\n",
    "#     # reset fork\n",
    "    wf.fork(0)\n",
    "#     # compute kernel averaged power spectra - ar\n",
    "    wf.transform(compute_ar_spectrum_, fs_bin, this_ar_order, axis=1, f_range=(.001, 200))\n",
    "    wf.transform(mean, axis=0)\n",
    "#     # spec param fit - ar\n",
    "    wf.fit(PSD(),sigma=ar_sigma_flip,method=fit_method,  pickle=True, pickle_dir=pickle_dir_ar_opt_flip_o8)\n",
    "    "
   ]
  },
  {
   "cell_type": "code",
   "execution_count": null,
   "id": "9cba3dcf",
   "metadata": {},
   "outputs": [],
   "source": [
    "%%time\n",
    "# run work flow\n",
    "wf.run(n_jobs=-1,progress=tqdm)"
   ]
  },
  {
   "cell_type": "markdown",
   "id": "24663b93",
   "metadata": {},
   "source": [
    "#### Run with AR spec order = 9"
   ]
  },
  {
   "cell_type": "code",
   "execution_count": null,
   "id": "9ad7f2a6",
   "metadata": {},
   "outputs": [],
   "source": [
    "\n",
    "# AR PSD directory\n",
    "pickle_dir_ar_opt_o9 = \"/Users/blancamartin/Desktop/Voytek_Lab/timescales/organoid-tango/organoid-tango/arPSD_fits_pkl_opt_o9/\"\n",
    "\n",
    "\n",
    "# AR PSD directory\n",
    "pickle_dir_ar_opt_flip_o9 = \"/Users/blancamartin/Desktop/Voytek_Lab/timescales/organoid-tango/organoid-tango/arPSD_fits_pkl_opt_flip_o9/\"\n",
    "\n",
    "# Init workflow\n",
    "wf = WorkFlow()\n",
    "\n",
    "# Read .mat files\n",
    "wf.read_raw(reader, indices)\n",
    "\n",
    "# Bin spikes and window\n",
    "wf.transform(bin_spikes, bin_size, bins_per_window)\n",
    "\n",
    "\n",
    "fit_method = 'fooof' # fooof huber\n",
    "# AR spectrum calculation order\n",
    "ar_spec_order = [9]\n",
    "\n",
    "# # Set up workflow analyses with r^2 weighting \"sigma\" input\n",
    "# # Only works with \"huber\"/robustregression not spec param\n",
    "# # Just run this block in addition to the previous to add the extra workflow analyses to the previous ones\n",
    "n_pts_welch = 10\n",
    "n_pts_ar = 2047\n",
    "welch_sigma = np.linspace(1, 10, n_pts_welch) / 10\n",
    "ar_sigma = np.linspace(1, 10, n_pts_ar) / 10\n",
    "welch_sigma_flip = np.flip(welch_sigma)\n",
    "ar_sigma_flip = np.flip(ar_sigma)\n",
    "\n",
    "\n",
    "# # run for multiple AR spec orders - this time different weighting\n",
    "for this_ar_order in ar_spec_order:\n",
    "    \n",
    "#     # reset fork\n",
    "    wf.fork(0)\n",
    "#     # compute power spectra - ar\n",
    "    wf.transform(compute_ar_spectrum_, fs_bin, this_ar_order, axis=1, f_range=(.001, 200))\n",
    "    wf.transform(mean, axis=0)\n",
    "#     # spec param fit - ar\n",
    "    wf.fit(PSD(),sigma=ar_sigma,method=fit_method,  pickle=True, pickle_dir=pickle_dir_ar_opt_o9)\n",
    "\n",
    "\n",
    "\n",
    "# # run for multiple AR spec orders - this time different weighting FLIP\n",
    "for this_ar_order in ar_spec_order:\n",
    "#     # reset fork\n",
    "    wf.fork(0)\n",
    "#     # compute kernel averaged power spectra - ar\n",
    "    wf.transform(compute_ar_spectrum_, fs_bin, this_ar_order, axis=1, f_range=(.001, 200))\n",
    "    wf.transform(mean, axis=0)\n",
    "#     # spec param fit - ar\n",
    "    wf.fit(PSD(),sigma=ar_sigma_flip,method=fit_method,  pickle=True, pickle_dir=pickle_dir_ar_opt_flip_o9)\n",
    "    "
   ]
  },
  {
   "cell_type": "code",
   "execution_count": null,
   "id": "924f4be9",
   "metadata": {},
   "outputs": [],
   "source": [
    "%%time\n",
    "# run work flow\n",
    "wf.run(n_jobs=-1,progress=tqdm)"
   ]
  },
  {
   "cell_type": "markdown",
   "id": "863e15f1",
   "metadata": {},
   "source": [
    "#### Run with AR spec order = 10"
   ]
  },
  {
   "cell_type": "code",
   "execution_count": null,
   "id": "f5353ca8",
   "metadata": {},
   "outputs": [],
   "source": [
    "\n",
    "# AR PSD directory\n",
    "pickle_dir_ar_opt_o10 = \"/Users/blancamartin/Desktop/Voytek_Lab/timescales/organoid-tango/organoid-tango/arPSD_fits_pkl_opt_o10/\"\n",
    "\n",
    "\n",
    "# AR PSD directory\n",
    "pickle_dir_ar_opt_flip_o10 = \"/Users/blancamartin/Desktop/Voytek_Lab/timescales/organoid-tango/organoid-tango/arPSD_fits_pkl_opt_flip_o10/\"\n",
    "\n",
    "# Init workflow\n",
    "wf = WorkFlow()\n",
    "\n",
    "# Read .mat files\n",
    "wf.read_raw(reader, indices)\n",
    "\n",
    "# Bin spikes and window\n",
    "wf.transform(bin_spikes, bin_size, bins_per_window)\n",
    "\n",
    "\n",
    "fit_method = 'fooof' # fooof huber\n",
    "# AR spectrum calculation order\n",
    "ar_spec_order = [10]\n",
    "\n",
    "# # Set up workflow analyses with r^2 weighting \"sigma\" input\n",
    "# # Only works with \"huber\"/robustregression not spec param\n",
    "# # Just run this block in addition to the previous to add the extra workflow analyses to the previous ones\n",
    "n_pts_welch = 10\n",
    "n_pts_ar = 2047\n",
    "welch_sigma = np.linspace(1, 10, n_pts_welch) / 10\n",
    "ar_sigma = np.linspace(1, 10, n_pts_ar) / 10\n",
    "welch_sigma_flip = np.flip(welch_sigma)\n",
    "ar_sigma_flip = np.flip(ar_sigma)\n",
    "\n",
    "\n",
    "# # run for multiple AR spec orders - this time different weighting\n",
    "for this_ar_order in ar_spec_order:\n",
    "    \n",
    "#     # reset fork\n",
    "    wf.fork(0)\n",
    "#     # compute power spectra - ar\n",
    "    wf.transform(compute_ar_spectrum_, fs_bin, this_ar_order, axis=1, f_range=(.001, 200))\n",
    "    wf.transform(mean, axis=0)\n",
    "#     # spec param fit - ar\n",
    "    wf.fit(PSD(),sigma=ar_sigma,method=fit_method,  pickle=True, pickle_dir=pickle_dir_ar_opt_o10)\n",
    "\n",
    "\n",
    "\n",
    "# # run for multiple AR spec orders - this time different weighting FLIP\n",
    "for this_ar_order in ar_spec_order:\n",
    "#     # reset fork\n",
    "    wf.fork(0)\n",
    "#     # compute kernel averaged power spectra - ar\n",
    "    wf.transform(compute_ar_spectrum_, fs_bin, this_ar_order, axis=1, f_range=(.001, 200))\n",
    "    wf.transform(mean, axis=0)\n",
    "#     # spec param fit - ar\n",
    "    wf.fit(PSD(),sigma=ar_sigma_flip,method=fit_method,  pickle=True, pickle_dir=pickle_dir_ar_opt_flip_o10)\n",
    "    "
   ]
  },
  {
   "cell_type": "code",
   "execution_count": null,
   "id": "3a3a667f",
   "metadata": {},
   "outputs": [],
   "source": [
    "%%time\n",
    "# run work flow\n",
    "wf.run(n_jobs=-1,progress=tqdm)"
   ]
  },
  {
   "cell_type": "markdown",
   "id": "6d7e837e",
   "metadata": {},
   "source": [
    "#### Run with AR spec order = 11"
   ]
  },
  {
   "cell_type": "code",
   "execution_count": null,
   "id": "dd7e5610",
   "metadata": {},
   "outputs": [],
   "source": [
    "\n",
    "# AR PSD directory\n",
    "pickle_dir_ar_opt_o11 = \"/Users/blancamartin/Desktop/Voytek_Lab/timescales/organoid-tango/organoid-tango/arPSD_fits_pkl_opt_o11/\"\n",
    "\n",
    "\n",
    "# AR PSD directory\n",
    "pickle_dir_ar_opt_flip_o11 = \"/Users/blancamartin/Desktop/Voytek_Lab/timescales/organoid-tango/organoid-tango/arPSD_fits_pkl_opt_flip_o11/\"\n",
    "\n",
    "# Init workflow\n",
    "wf = WorkFlow()\n",
    "\n",
    "# Read .mat files\n",
    "wf.read_raw(reader, indices)\n",
    "\n",
    "# Bin spikes and window\n",
    "wf.transform(bin_spikes, bin_size, bins_per_window)\n",
    "\n",
    "\n",
    "fit_method = 'fooof' # fooof huber\n",
    "# AR spectrum calculation order\n",
    "ar_spec_order = [11]\n",
    "\n",
    "# # Set up workflow analyses with r^2 weighting \"sigma\" input\n",
    "# # Only works with \"huber\"/robustregression not spec param\n",
    "# # Just run this block in addition to the previous to add the extra workflow analyses to the previous ones\n",
    "n_pts_welch = 10\n",
    "n_pts_ar = 2047\n",
    "welch_sigma = np.linspace(1, 10, n_pts_welch) / 10\n",
    "ar_sigma = np.linspace(1, 10, n_pts_ar) / 10\n",
    "welch_sigma_flip = np.flip(welch_sigma)\n",
    "ar_sigma_flip = np.flip(ar_sigma)\n",
    "\n",
    "\n",
    "# # run for multiple AR spec orders - this time different weighting\n",
    "for this_ar_order in ar_spec_order:\n",
    "    \n",
    "#     # reset fork\n",
    "    wf.fork(0)\n",
    "#     # compute power spectra - ar\n",
    "    wf.transform(compute_ar_spectrum_, fs_bin, this_ar_order, axis=1, f_range=(.001, 200))\n",
    "    wf.transform(mean, axis=0)\n",
    "#     # spec param fit - ar\n",
    "    wf.fit(PSD(),sigma=ar_sigma,method=fit_method,  pickle=True, pickle_dir=pickle_dir_ar_opt_o11)\n",
    "\n",
    "\n",
    "\n",
    "# # run for multiple AR spec orders - this time different weighting FLIP\n",
    "for this_ar_order in ar_spec_order:\n",
    "#     # reset fork\n",
    "    wf.fork(0)\n",
    "#     # compute kernel averaged power spectra - ar\n",
    "    wf.transform(compute_ar_spectrum_, fs_bin, this_ar_order, axis=1, f_range=(.001, 200))\n",
    "    wf.transform(mean, axis=0)\n",
    "#     # spec param fit - ar\n",
    "    wf.fit(PSD(),sigma=ar_sigma_flip,method=fit_method,  pickle=True, pickle_dir=pickle_dir_ar_opt_flip_o11)\n",
    "    "
   ]
  },
  {
   "cell_type": "code",
   "execution_count": null,
   "id": "dc664fa6",
   "metadata": {},
   "outputs": [],
   "source": [
    "%%time\n",
    "# run work flow\n",
    "wf.run(n_jobs=-1,progress=tqdm)"
   ]
  },
  {
   "cell_type": "markdown",
   "id": "845dcb11",
   "metadata": {},
   "source": [
    "#### Run with AR spec order = 12"
   ]
  },
  {
   "cell_type": "code",
   "execution_count": null,
   "id": "b411e6f0",
   "metadata": {},
   "outputs": [],
   "source": [
    "\n",
    "# AR PSD directory\n",
    "pickle_dir_ar_opt_o12 = \"/Users/blancamartin/Desktop/Voytek_Lab/timescales/organoid-tango/organoid-tango/arPSD_fits_pkl_opt_o12/\"\n",
    "\n",
    "\n",
    "# AR PSD directory\n",
    "pickle_dir_ar_opt_flip_o12 = \"/Users/blancamartin/Desktop/Voytek_Lab/timescales/organoid-tango/organoid-tango/arPSD_fits_pkl_opt_flip_o12/\"\n",
    "\n",
    "# Init workflow\n",
    "wf = WorkFlow()\n",
    "\n",
    "# Read .mat files\n",
    "wf.read_raw(reader, indices)\n",
    "\n",
    "# Bin spikes and window\n",
    "wf.transform(bin_spikes, bin_size, bins_per_window)\n",
    "\n",
    "\n",
    "fit_method = 'fooof' # fooof huber\n",
    "# AR spectrum calculation order\n",
    "ar_spec_order = [12]\n",
    "\n",
    "# # Set up workflow analyses with r^2 weighting \"sigma\" input\n",
    "# # Only works with \"huber\"/robustregression not spec param\n",
    "# # Just run this block in addition to the previous to add the extra workflow analyses to the previous ones\n",
    "n_pts_welch = 10\n",
    "n_pts_ar = 2047\n",
    "welch_sigma = np.linspace(1, 10, n_pts_welch) / 10\n",
    "ar_sigma = np.linspace(1, 10, n_pts_ar) / 10\n",
    "welch_sigma_flip = np.flip(welch_sigma)\n",
    "ar_sigma_flip = np.flip(ar_sigma)\n",
    "\n",
    "\n",
    "# # run for multiple AR spec orders - this time different weighting\n",
    "for this_ar_order in ar_spec_order:\n",
    "    \n",
    "#     # reset fork\n",
    "    wf.fork(0)\n",
    "#     # compute power spectra - ar\n",
    "    wf.transform(compute_ar_spectrum_, fs_bin, this_ar_order, axis=1, f_range=(.001, 200))\n",
    "    wf.transform(mean, axis=0)\n",
    "#     # spec param fit - ar\n",
    "    wf.fit(PSD(),sigma=ar_sigma,method=fit_method,  pickle=True, pickle_dir=pickle_dir_ar_opt_o12)\n",
    "\n",
    "\n",
    "\n",
    "# # run for multiple AR spec orders - this time different weighting FLIP\n",
    "for this_ar_order in ar_spec_order:\n",
    "#     # reset fork\n",
    "    wf.fork(0)\n",
    "#     # compute kernel averaged power spectra - ar\n",
    "    wf.transform(compute_ar_spectrum_, fs_bin, this_ar_order, axis=1, f_range=(.001, 200))\n",
    "    wf.transform(mean, axis=0)\n",
    "#     # spec param fit - ar\n",
    "    wf.fit(PSD(),sigma=ar_sigma_flip,method=fit_method,  pickle=True, pickle_dir=pickle_dir_ar_opt_flip_o12)\n",
    "    "
   ]
  },
  {
   "cell_type": "code",
   "execution_count": null,
   "id": "a83000b8",
   "metadata": {},
   "outputs": [],
   "source": [
    "%%time\n",
    "# run work flow\n",
    "wf.run(n_jobs=-1,progress=tqdm)"
   ]
  },
  {
   "cell_type": "markdown",
   "id": "f9bed158",
   "metadata": {},
   "source": [
    "#### Run with AR spec order = 13"
   ]
  },
  {
   "cell_type": "code",
   "execution_count": null,
   "id": "cf2baa7b",
   "metadata": {},
   "outputs": [],
   "source": [
    "\n",
    "# AR PSD directory\n",
    "pickle_dir_ar_opt_o13 = \"/Users/blancamartin/Desktop/Voytek_Lab/timescales/organoid-tango/organoid-tango/arPSD_fits_pkl_opt_o13/\"\n",
    "\n",
    "\n",
    "# AR PSD directory\n",
    "pickle_dir_ar_opt_flip_o13 = \"/Users/blancamartin/Desktop/Voytek_Lab/timescales/organoid-tango/organoid-tango/arPSD_fits_pkl_opt_flip_o13/\"\n",
    "\n",
    "# Init workflow\n",
    "wf = WorkFlow()\n",
    "\n",
    "# Read .mat files\n",
    "wf.read_raw(reader, indices)\n",
    "\n",
    "# Bin spikes and window\n",
    "wf.transform(bin_spikes, bin_size, bins_per_window)\n",
    "\n",
    "\n",
    "fit_method = 'fooof' # fooof huber\n",
    "# AR spectrum calculation order\n",
    "ar_spec_order = [13]\n",
    "\n",
    "# # Set up workflow analyses with r^2 weighting \"sigma\" input\n",
    "# # Only works with \"huber\"/robustregression not spec param\n",
    "# # Just run this block in addition to the previous to add the extra workflow analyses to the previous ones\n",
    "n_pts_welch = 10\n",
    "n_pts_ar = 2047\n",
    "welch_sigma = np.linspace(1, 10, n_pts_welch) / 10\n",
    "ar_sigma = np.linspace(1, 10, n_pts_ar) / 10\n",
    "welch_sigma_flip = np.flip(welch_sigma)\n",
    "ar_sigma_flip = np.flip(ar_sigma)\n",
    "\n",
    "\n",
    "# # run for multiple AR spec orders - this time different weighting\n",
    "for this_ar_order in ar_spec_order:\n",
    "    \n",
    "#     # reset fork\n",
    "    wf.fork(0)\n",
    "#     # compute power spectra - ar\n",
    "    wf.transform(compute_ar_spectrum_, fs_bin, this_ar_order, axis=1, f_range=(.001, 200))\n",
    "    wf.transform(mean, axis=0)\n",
    "#     # spec param fit - ar\n",
    "    wf.fit(PSD(),sigma=ar_sigma,method=fit_method,  pickle=True, pickle_dir=pickle_dir_ar_opt_o13)\n",
    "\n",
    "\n",
    "\n",
    "# # run for multiple AR spec orders - this time different weighting FLIP\n",
    "for this_ar_order in ar_spec_order:\n",
    "#     # reset fork\n",
    "    wf.fork(0)\n",
    "#     # compute kernel averaged power spectra - ar\n",
    "    wf.transform(compute_ar_spectrum_, fs_bin, this_ar_order, axis=1, f_range=(.001, 200))\n",
    "    wf.transform(mean, axis=0)\n",
    "#     # spec param fit - ar\n",
    "    wf.fit(PSD(),sigma=ar_sigma_flip,method=fit_method,  pickle=True, pickle_dir=pickle_dir_ar_opt_flip_o13)\n",
    "    "
   ]
  },
  {
   "cell_type": "code",
   "execution_count": null,
   "id": "3a6f41f1",
   "metadata": {},
   "outputs": [],
   "source": [
    "%%time\n",
    "# run work flow\n",
    "wf.run(n_jobs=-1,progress=tqdm)"
   ]
  },
  {
   "cell_type": "markdown",
   "id": "0a2e11c7",
   "metadata": {},
   "source": [
    "#### Run with AR spec order = 14"
   ]
  },
  {
   "cell_type": "code",
   "execution_count": null,
   "id": "672f7ebd",
   "metadata": {},
   "outputs": [],
   "source": [
    "\n",
    "# AR PSD directory\n",
    "pickle_dir_ar_opt_o14 = \"/Users/blancamartin/Desktop/Voytek_Lab/timescales/organoid-tango/organoid-tango/arPSD_fits_pkl_opt_o14/\"\n",
    "\n",
    "\n",
    "# AR PSD directory\n",
    "pickle_dir_ar_opt_flip_o14 = \"/Users/blancamartin/Desktop/Voytek_Lab/timescales/organoid-tango/organoid-tango/arPSD_fits_pkl_opt_flip_o14/\"\n",
    "\n",
    "# Init workflow\n",
    "wf = WorkFlow()\n",
    "\n",
    "# Read .mat files\n",
    "wf.read_raw(reader, indices)\n",
    "\n",
    "# Bin spikes and window\n",
    "wf.transform(bin_spikes, bin_size, bins_per_window)\n",
    "\n",
    "\n",
    "fit_method = 'fooof' # fooof huber\n",
    "# AR spectrum calculation order\n",
    "ar_spec_order = [14]\n",
    "\n",
    "# # Set up workflow analyses with r^2 weighting \"sigma\" input\n",
    "# # Only works with \"huber\"/robustregression not spec param\n",
    "# # Just run this block in addition to the previous to add the extra workflow analyses to the previous ones\n",
    "n_pts_welch = 10\n",
    "n_pts_ar = 2047\n",
    "welch_sigma = np.linspace(1, 10, n_pts_welch) / 10\n",
    "ar_sigma = np.linspace(1, 10, n_pts_ar) / 10\n",
    "welch_sigma_flip = np.flip(welch_sigma)\n",
    "ar_sigma_flip = np.flip(ar_sigma)\n",
    "\n",
    "\n",
    "# # run for multiple AR spec orders - this time different weighting\n",
    "for this_ar_order in ar_spec_order:\n",
    "    \n",
    "#     # reset fork\n",
    "    wf.fork(0)\n",
    "#     # compute power spectra - ar\n",
    "    wf.transform(compute_ar_spectrum_, fs_bin, this_ar_order, axis=1, f_range=(.001, 200))\n",
    "    wf.transform(mean, axis=0)\n",
    "#     # spec param fit - ar\n",
    "    wf.fit(PSD(),sigma=ar_sigma,method=fit_method,  pickle=True, pickle_dir=pickle_dir_ar_opt_o14)\n",
    "\n",
    "\n",
    "\n",
    "# # run for multiple AR spec orders - this time different weighting FLIP\n",
    "for this_ar_order in ar_spec_order:\n",
    "#     # reset fork\n",
    "    wf.fork(0)\n",
    "#     # compute kernel averaged power spectra - ar\n",
    "    wf.transform(compute_ar_spectrum_, fs_bin, this_ar_order, axis=1, f_range=(.001, 200))\n",
    "    wf.transform(mean, axis=0)\n",
    "#     # spec param fit - ar\n",
    "    wf.fit(PSD(),sigma=ar_sigma_flip,method=fit_method,  pickle=True, pickle_dir=pickle_dir_ar_opt_flip_o14)\n",
    "    "
   ]
  },
  {
   "cell_type": "code",
   "execution_count": null,
   "id": "78196f30",
   "metadata": {},
   "outputs": [],
   "source": [
    "%%time\n",
    "# run work flow\n",
    "wf.run(n_jobs=-1,progress=tqdm)"
   ]
  },
  {
   "cell_type": "markdown",
   "id": "afa2a71c",
   "metadata": {},
   "source": [
    "#### Run with AR spec order = 15"
   ]
  },
  {
   "cell_type": "code",
   "execution_count": null,
   "id": "113f5746",
   "metadata": {},
   "outputs": [],
   "source": [
    "\n",
    "# AR PSD directory\n",
    "pickle_dir_ar_opt_o15 = \"/Users/blancamartin/Desktop/Voytek_Lab/timescales/organoid-tango/organoid-tango/arPSD_fits_pkl_opt_o15/\"\n",
    "\n",
    "\n",
    "# AR PSD directory\n",
    "pickle_dir_ar_opt_flip_o15 = \"/Users/blancamartin/Desktop/Voytek_Lab/timescales/organoid-tango/organoid-tango/arPSD_fits_pkl_opt_flip_o15/\"\n",
    "\n",
    "# Init workflow\n",
    "wf = WorkFlow()\n",
    "\n",
    "# Read .mat files\n",
    "wf.read_raw(reader, indices)\n",
    "\n",
    "# Bin spikes and window\n",
    "wf.transform(bin_spikes, bin_size, bins_per_window)\n",
    "\n",
    "\n",
    "fit_method = 'fooof' # fooof huber\n",
    "# AR spectrum calculation order\n",
    "ar_spec_order = [15]\n",
    "\n",
    "# # Set up workflow analyses with r^2 weighting \"sigma\" input\n",
    "# # Only works with \"huber\"/robustregression not spec param\n",
    "# # Just run this block in addition to the previous to add the extra workflow analyses to the previous ones\n",
    "n_pts_welch = 10\n",
    "n_pts_ar = 2047\n",
    "welch_sigma = np.linspace(1, 10, n_pts_welch) / 10\n",
    "ar_sigma = np.linspace(1, 10, n_pts_ar) / 10\n",
    "welch_sigma_flip = np.flip(welch_sigma)\n",
    "ar_sigma_flip = np.flip(ar_sigma)\n",
    "\n",
    "\n",
    "# # run for multiple AR spec orders - this time different weighting\n",
    "for this_ar_order in ar_spec_order:\n",
    "    \n",
    "#     # reset fork\n",
    "    wf.fork(0)\n",
    "#     # compute power spectra - ar\n",
    "    wf.transform(compute_ar_spectrum_, fs_bin, this_ar_order, axis=1, f_range=(.001, 200))\n",
    "    wf.transform(mean, axis=0)\n",
    "#     # spec param fit - ar\n",
    "    wf.fit(PSD(),sigma=ar_sigma,method=fit_method,  pickle=True, pickle_dir=pickle_dir_ar_opt_o15)\n",
    "\n",
    "\n",
    "\n",
    "# # run for multiple AR spec orders - this time different weighting FLIP\n",
    "for this_ar_order in ar_spec_order:\n",
    "#     # reset fork\n",
    "    wf.fork(0)\n",
    "#     # compute kernel averaged power spectra - ar\n",
    "    wf.transform(compute_ar_spectrum_, fs_bin, this_ar_order, axis=1, f_range=(.001, 200))\n",
    "    wf.transform(mean, axis=0)\n",
    "#     # spec param fit - ar\n",
    "    wf.fit(PSD(),sigma=ar_sigma_flip,method=fit_method,  pickle=True, pickle_dir=pickle_dir_ar_opt_flip_o15)\n",
    "    "
   ]
  },
  {
   "cell_type": "code",
   "execution_count": null,
   "id": "0a3c4c3b",
   "metadata": {},
   "outputs": [],
   "source": [
    "%%time\n",
    "# run work flow\n",
    "wf.run(n_jobs=-1,progress=tqdm)"
   ]
  },
  {
   "cell_type": "markdown",
   "id": "7a51f6e2",
   "metadata": {},
   "source": [
    "### Read saved pickle files "
   ]
  },
  {
   "cell_type": "code",
   "execution_count": 10,
   "id": "76bac44b",
   "metadata": {},
   "outputs": [],
   "source": [
    "pickle_dir_ar_opt_o1 = \"/Users/blancamartin/Desktop/Voytek_Lab/timescales/organoid-tango/organoid-tango/arPSD_fits_pkl_opt_o1/\"\n",
    "\n",
    "pickle_dir_ar_opt_flip_o1 = \"/Users/blancamartin/Desktop/Voytek_Lab/timescales/organoid-tango/organoid-tango/arPSD_fits_pkl_opt_flip_o1/\"\n",
    "\n",
    "pickle_dir_ar_opt_o2 = \"/Users/blancamartin/Desktop/Voytek_Lab/timescales/organoid-tango/organoid-tango/arPSD_fits_pkl_opt_o2/\"\n",
    "\n",
    "pickle_dir_ar_opt_flip_o2 = \"/Users/blancamartin/Desktop/Voytek_Lab/timescales/organoid-tango/organoid-tango/arPSD_fits_pkl_opt_flip_o2/\"\n",
    "\n",
    "pickle_dir_ar_opt_o3 = \"/Users/blancamartin/Desktop/Voytek_Lab/timescales/organoid-tango/organoid-tango/arPSD_fits_pkl_opt_o3/\"\n",
    "\n",
    "pickle_dir_ar_opt_flip_o3 = \"/Users/blancamartin/Desktop/Voytek_Lab/timescales/organoid-tango/organoid-tango/arPSD_fits_pkl_opt_flip_o3/\"\n",
    "\n",
    "pickle_dir_ar_opt_o4 = \"/Users/blancamartin/Desktop/Voytek_Lab/timescales/organoid-tango/organoid-tango/arPSD_fits_pkl_opt_o4/\"\n",
    "\n",
    "pickle_dir_ar_opt_flip_o4 = \"/Users/blancamartin/Desktop/Voytek_Lab/timescales/organoid-tango/organoid-tango/arPSD_fits_pkl_opt_flip_o4/\"\n",
    "\n",
    "\n",
    "\n",
    "pickle_dir_ar_opt_o5 = \"/Users/blancamartin/Desktop/Voytek_Lab/timescales/organoid-tango/organoid-tango/arPSD_fits_pkl_opt_o5/\"\n",
    "\n",
    "pickle_dir_ar_opt_flip_o5 = \"/Users/blancamartin/Desktop/Voytek_Lab/timescales/organoid-tango/organoid-tango/arPSD_fits_pkl_opt_flip_o5/\"\n",
    "\n",
    "pickle_dir_ar_opt_o6 = \"/Users/blancamartin/Desktop/Voytek_Lab/timescales/organoid-tango/organoid-tango/arPSD_fits_pkl_opt_o6/\"\n",
    "\n",
    "pickle_dir_ar_opt_o7 = \"/Users/blancamartin/Desktop/Voytek_Lab/timescales/organoid-tango/organoid-tango/arPSD_fits_pkl_opt_o7/\"\n",
    "\n",
    "pickle_dir_ar_opt_o8 = \"/Users/blancamartin/Desktop/Voytek_Lab/timescales/organoid-tango/organoid-tango/arPSD_fits_pkl_opt_o8/\"\n",
    "\n",
    "pickle_dir_ar_opt_o9 = \"/Users/blancamartin/Desktop/Voytek_Lab/timescales/organoid-tango/organoid-tango/arPSD_fits_pkl_opt_o9/\"\n",
    "\n",
    "pickle_dir_ar_opt_o10 = \"/Users/blancamartin/Desktop/Voytek_Lab/timescales/organoid-tango/organoid-tango/arPSD_fits_pkl_opt_o10/\"\n",
    "\n",
    "pickle_dir_ar_opt_o11 = \"/Users/blancamartin/Desktop/Voytek_Lab/timescales/organoid-tango/organoid-tango/arPSD_fits_pkl_opt_o11/\"\n",
    "\n",
    "pickle_dir_ar_opt_o12 = \"/Users/blancamartin/Desktop/Voytek_Lab/timescales/organoid-tango/organoid-tango/arPSD_fits_pkl_opt_o12/\"\n",
    "\n",
    "pickle_dir_ar_opt_o13 = \"/Users/blancamartin/Desktop/Voytek_Lab/timescales/organoid-tango/organoid-tango/arPSD_fits_pkl_opt_o13/\"\n",
    "\n",
    "pickle_dir_ar_opt_o14 = \"/Users/blancamartin/Desktop/Voytek_Lab/timescales/organoid-tango/organoid-tango/arPSD_fits_pkl_opt_o14/\"\n",
    "\n",
    "pickle_dir_ar_opt_o15 = \"/Users/blancamartin/Desktop/Voytek_Lab/timescales/organoid-tango/organoid-tango/arPSD_fits_pkl_opt_o15/\"\n",
    "\n"
   ]
  },
  {
   "cell_type": "code",
   "execution_count": 11,
   "id": "953deff7",
   "metadata": {},
   "outputs": [],
   "source": [
    "#AR results\n",
    "\n",
    "wf_o1_tau = []\n",
    "wf_o1= []\n",
    "\n",
    "for filename in sorted(os.listdir(pickle_dir_ar_opt_o1)):\n",
    "    f = os.path.join(pickle_dir_ar_opt_o1, filename)\n",
    "    obj = pd.read_pickle(f)\n",
    "    wf_o1_tau.append(obj.tau)\n",
    "    wf_o1.append(obj)\n",
    "    \n",
    "wf_o2_tau = []\n",
    "wf_o2= []\n",
    "\n",
    "for filename in sorted(os.listdir(pickle_dir_ar_opt_o2)):\n",
    "    f = os.path.join(pickle_dir_ar_opt_o2, filename)\n",
    "    obj = pd.read_pickle(f)\n",
    "    wf_o2_tau.append(obj.tau)\n",
    "    wf_o2.append(obj)\n",
    "    \n",
    "wf_o3_tau = []\n",
    "wf_o3= []\n",
    "\n",
    "for filename in sorted(os.listdir(pickle_dir_ar_opt_o3)):\n",
    "    f = os.path.join(pickle_dir_ar_opt_o3, filename)\n",
    "    obj = pd.read_pickle(f)\n",
    "    wf_o3_tau.append(obj.tau)\n",
    "    wf_o3.append(obj)\n",
    "    \n",
    "wf_o4_tau = []\n",
    "wf_o4= []\n",
    "\n",
    "for filename in sorted(os.listdir(pickle_dir_ar_opt_o4)):\n",
    "    f = os.path.join(pickle_dir_ar_opt_o4, filename)\n",
    "    obj = pd.read_pickle(f)\n",
    "    wf_o4_tau.append(obj.tau)\n",
    "    wf_o4.append(obj)\n",
    "    \n",
    "wf_o5_tau = []\n",
    "wf_o5= []\n",
    "\n",
    "for filename in sorted(os.listdir(pickle_dir_ar_opt_o5)):\n",
    "    f = os.path.join(pickle_dir_ar_opt_o5, filename)\n",
    "    obj = pd.read_pickle(f)\n",
    "    wf_o5_tau.append(obj.tau)\n",
    "    wf_o5.append(obj)\n",
    "    \n"
   ]
  },
  {
   "cell_type": "code",
   "execution_count": 12,
   "id": "ab476622",
   "metadata": {},
   "outputs": [],
   "source": [
    "#AR results\n",
    "\n",
    "wf_o6_tau = []\n",
    "wf_o6= []\n",
    "\n",
    "for filename in sorted(os.listdir(pickle_dir_ar_opt_o6)):\n",
    "    f = os.path.join(pickle_dir_ar_opt_o6, filename)\n",
    "    obj = pd.read_pickle(f)\n",
    "    wf_o6_tau.append(obj.tau)\n",
    "    wf_o6.append(obj)\n",
    "    \n",
    "wf_o7_tau = []\n",
    "wf_o7= []\n",
    "\n",
    "for filename in sorted(os.listdir(pickle_dir_ar_opt_o7)):\n",
    "    f = os.path.join(pickle_dir_ar_opt_o7, filename)\n",
    "    obj = pd.read_pickle(f)\n",
    "    wf_o7_tau.append(obj.tau)\n",
    "    wf_o7.append(obj)\n",
    "    \n",
    "wf_o8_tau = []\n",
    "wf_o8= []\n",
    "\n",
    "for filename in sorted(os.listdir(pickle_dir_ar_opt_o8)):\n",
    "    f = os.path.join(pickle_dir_ar_opt_o8, filename)\n",
    "    obj = pd.read_pickle(f)\n",
    "    wf_o8_tau.append(obj.tau)\n",
    "    wf_o8.append(obj)\n",
    "    \n",
    "wf_o9_tau = []\n",
    "wf_o9= []\n",
    "\n",
    "for filename in sorted(os.listdir(pickle_dir_ar_opt_o9)):\n",
    "    f = os.path.join(pickle_dir_ar_opt_o9, filename)\n",
    "    obj = pd.read_pickle(f)\n",
    "    wf_o9_tau.append(obj.tau)\n",
    "    wf_o9.append(obj)\n",
    "    \n",
    "wf_o10_tau = []\n",
    "wf_o10= []\n",
    "\n",
    "for filename in sorted(os.listdir(pickle_dir_ar_opt_o10)):\n",
    "    f = os.path.join(pickle_dir_ar_opt_o10, filename)\n",
    "    obj = pd.read_pickle(f)\n",
    "    wf_o10_tau.append(obj.tau)\n",
    "    wf_o10.append(obj)\n",
    "    \n"
   ]
  },
  {
   "cell_type": "code",
   "execution_count": 13,
   "id": "043f9b71",
   "metadata": {},
   "outputs": [],
   "source": [
    "wf_o11_tau = []\n",
    "wf_o11= []\n",
    "\n",
    "for filename in sorted(os.listdir(pickle_dir_ar_opt_o11)):\n",
    "    f = os.path.join(pickle_dir_ar_opt_o11, filename)\n",
    "    obj = pd.read_pickle(f)\n",
    "    wf_o11_tau.append(obj.tau)\n",
    "    wf_o11.append(obj)\n",
    "    \n",
    "wf_o12_tau = []\n",
    "wf_o12= []\n",
    "\n",
    "for filename in sorted(os.listdir(pickle_dir_ar_opt_o12)):\n",
    "    f = os.path.join(pickle_dir_ar_opt_o12, filename)\n",
    "    obj = pd.read_pickle(f)\n",
    "    wf_o12_tau.append(obj.tau)\n",
    "    wf_o12.append(obj)\n",
    "    \n",
    "wf_o13_tau = []\n",
    "wf_o13= []\n",
    "\n",
    "for filename in sorted(os.listdir(pickle_dir_ar_opt_o13)):\n",
    "    f = os.path.join(pickle_dir_ar_opt_o13, filename)\n",
    "    obj = pd.read_pickle(f)\n",
    "    wf_o13_tau.append(obj.tau)\n",
    "    wf_o13.append(obj)\n",
    "    \n",
    "wf_o14_tau = []\n",
    "wf_o14= []\n",
    "\n",
    "for filename in sorted(os.listdir(pickle_dir_ar_opt_o14)):\n",
    "    f = os.path.join(pickle_dir_ar_opt_o14, filename)\n",
    "    obj = pd.read_pickle(f)\n",
    "    wf_o14_tau.append(obj.tau)\n",
    "    wf_o14.append(obj)\n",
    "    \n",
    "wf_o15_tau = []\n",
    "wf_o15= []\n",
    "\n",
    "for filename in sorted(os.listdir(pickle_dir_ar_opt_o15)):\n",
    "    f = os.path.join(pickle_dir_ar_opt_o15, filename)\n",
    "    obj = pd.read_pickle(f)\n",
    "    wf_o15_tau.append(obj.tau)\n",
    "    wf_o15.append(obj)\n",
    "    \n"
   ]
  },
  {
   "cell_type": "code",
   "execution_count": 14,
   "id": "a190d674",
   "metadata": {},
   "outputs": [],
   "source": [
    "#Welch results \n",
    "pickle_dir_w_opt = '/Users/blancamartin/Desktop/Voytek_Lab/timescales/organoid-tango/organoid-tango/wPSD_fits_pkl_opt'\n",
    "\n",
    "wf_w_tau = []\n",
    "wf_w= []\n",
    "\n",
    "for filename in sorted(os.listdir(pickle_dir_w_opt)):\n",
    "    f = os.path.join(pickle_dir_w_opt, filename)\n",
    "    obj = pd.read_pickle(f)\n",
    "    wf_w_tau.append(obj.tau)\n",
    "    wf_w.append(obj)\n",
    "    \n",
    "    \n",
    "pickle_dir_w_opt_flip = '/Users/blancamartin/Desktop/Voytek_Lab/timescales/organoid-tango/organoid-tango/wPSD_fits_pkl_opt_flip'\n",
    "wf_w_tau_flip  = []\n",
    "wf_w_flip = []\n",
    "\n",
    "for filename in sorted(os.listdir(pickle_dir_w_opt_flip )):\n",
    "    f = os.path.join(pickle_dir_w_opt_flip , filename)\n",
    "    obj = pd.read_pickle(f)\n",
    "    wf_w_tau_flip .append(obj.tau)\n",
    "    wf_w_flip .append(obj)"
   ]
  },
  {
   "cell_type": "markdown",
   "id": "26250eb5",
   "metadata": {},
   "source": [
    "### Analyze results "
   ]
  },
  {
   "cell_type": "markdown",
   "id": "dafc9d4a",
   "metadata": {},
   "source": [
    "#### Remove NaNs in Welch results"
   ]
  },
  {
   "cell_type": "code",
   "execution_count": 1,
   "id": "b287d4ec",
   "metadata": {},
   "outputs": [
    {
     "ename": "NameError",
     "evalue": "name 'remove_nans' is not defined",
     "output_type": "error",
     "traceback": [
      "\u001b[0;31m---------------------------------------------------------------------------\u001b[0m",
      "\u001b[0;31mNameError\u001b[0m                                 Traceback (most recent call last)",
      "\u001b[0;32m/var/folders/rr/tk8wmt7x4xlgzgmcy768y1rm0000gn/T/ipykernel_49105/2681924475.py\u001b[0m in \u001b[0;36m<module>\u001b[0;34m\u001b[0m\n\u001b[0;32m----> 1\u001b[0;31m \u001b[0mwf_w_tau\u001b[0m\u001b[0;34m,\u001b[0m \u001b[0mwdivs\u001b[0m\u001b[0;34m,\u001b[0m \u001b[0mwcultures\u001b[0m\u001b[0;34m,\u001b[0m\u001b[0mwf_w\u001b[0m \u001b[0;34m=\u001b[0m \u001b[0mremove_nans\u001b[0m\u001b[0;34m(\u001b[0m\u001b[0mnp\u001b[0m\u001b[0;34m.\u001b[0m\u001b[0masarray\u001b[0m\u001b[0;34m(\u001b[0m\u001b[0mwf_w_tau\u001b[0m\u001b[0;34m)\u001b[0m\u001b[0;34m,\u001b[0m \u001b[0mnp\u001b[0m\u001b[0;34m.\u001b[0m\u001b[0masarray\u001b[0m\u001b[0;34m(\u001b[0m\u001b[0mdivs\u001b[0m\u001b[0;34m)\u001b[0m\u001b[0;34m,\u001b[0m \u001b[0mnp\u001b[0m\u001b[0;34m.\u001b[0m\u001b[0masarray\u001b[0m\u001b[0;34m(\u001b[0m\u001b[0mcultures\u001b[0m\u001b[0;34m)\u001b[0m\u001b[0;34m,\u001b[0m \u001b[0mnp\u001b[0m\u001b[0;34m.\u001b[0m\u001b[0masarray\u001b[0m\u001b[0;34m(\u001b[0m\u001b[0mwf_w\u001b[0m\u001b[0;34m)\u001b[0m\u001b[0;34m)\u001b[0m\u001b[0;34m\u001b[0m\u001b[0;34m\u001b[0m\u001b[0m\n\u001b[0m\u001b[1;32m      2\u001b[0m \u001b[0;31m#wf_w_tau_flip, wdivs_flip, wcultures_flip,wf_w_flip = remove_nans(np.asarray(wf_w_tau_flip), np.asarray(divs), np.asarray(cultures), np.asarray(wf_w_flip))\u001b[0m\u001b[0;34m\u001b[0m\u001b[0;34m\u001b[0m\u001b[0m\n\u001b[1;32m      3\u001b[0m \u001b[0;34m\u001b[0m\u001b[0m\n",
      "\u001b[0;31mNameError\u001b[0m: name 'remove_nans' is not defined"
     ]
    }
   ],
   "source": [
    "wf_w_tau, wdivs, wcultures,wf_w = remove_nans(np.asarray(wf_w_tau), np.asarray(divs), np.asarray(cultures), np.asarray(wf_w))\n",
    "#wf_w_tau_flip, wdivs_flip, wcultures_flip,wf_w_flip = remove_nans(np.asarray(wf_w_tau_flip), np.asarray(divs), np.asarray(cultures), np.asarray(wf_w_flip))\n",
    "\n"
   ]
  },
  {
   "cell_type": "markdown",
   "id": "81cb8a4e",
   "metadata": {},
   "source": [
    "#### Remove NaNs in autoregressive results"
   ]
  },
  {
   "cell_type": "code",
   "execution_count": 27,
   "id": "c6a863c5",
   "metadata": {},
   "outputs": [],
   "source": [
    "wf_o1_tau, ardivs_o1, arcultures_o1,wf_o1 = remove_nans(np.asarray(wf_o1_tau), np.asarray(divs), np.asarray(cultures), np.asarray(wf_o1))\n",
    "#wf_o1_tau_flip, ardivs_o1_flip, arcultures_o1_flip,wf_o1_flip = remove_nans(np.asarray(wf_o1_tau_flip), np.asarray(divs), np.asarray(cultures), np.asarray(wf_o1_flip))\n"
   ]
  },
  {
   "cell_type": "code",
   "execution_count": 28,
   "id": "8b7eaf98",
   "metadata": {},
   "outputs": [],
   "source": [
    "\n",
    "wf_o2_tau, ardivs_o2, arcultures_o2,wf_o2 = remove_nans(np.asarray(wf_o2_tau), np.asarray(divs), np.asarray(cultures), np.asarray(wf_o2))\n",
    "#wf_o2_tau_flip, ardivs_o2_flip, arcultures_o2_flip,wf_o2_flip = remove_nans(np.asarray(wf_o2_tau_flip), np.asarray(divs), np.asarray(cultures), np.asarray(wf_o2_flip))\n"
   ]
  },
  {
   "cell_type": "code",
   "execution_count": 29,
   "id": "ee425056",
   "metadata": {},
   "outputs": [
    {
     "ename": "IndexError",
     "evalue": "boolean index did not match indexed array along dimension 0; dimension is 39529 but corresponding boolean dimension is 39409",
     "output_type": "error",
     "traceback": [
      "\u001b[0;31m---------------------------------------------------------------------------\u001b[0m",
      "\u001b[0;31mIndexError\u001b[0m                                Traceback (most recent call last)",
      "\u001b[0;32m/var/folders/rr/tk8wmt7x4xlgzgmcy768y1rm0000gn/T/ipykernel_41719/949180276.py\u001b[0m in \u001b[0;36m<module>\u001b[0;34m\u001b[0m\n\u001b[0;32m----> 1\u001b[0;31m \u001b[0mwf_o3_tau\u001b[0m\u001b[0;34m,\u001b[0m \u001b[0mardivs_o3\u001b[0m\u001b[0;34m,\u001b[0m \u001b[0marcultures_o3\u001b[0m\u001b[0;34m,\u001b[0m\u001b[0mwf_o3\u001b[0m \u001b[0;34m=\u001b[0m \u001b[0mremove_nans\u001b[0m\u001b[0;34m(\u001b[0m\u001b[0mnp\u001b[0m\u001b[0;34m.\u001b[0m\u001b[0masarray\u001b[0m\u001b[0;34m(\u001b[0m\u001b[0mwf_o3_tau\u001b[0m\u001b[0;34m)\u001b[0m\u001b[0;34m,\u001b[0m \u001b[0mnp\u001b[0m\u001b[0;34m.\u001b[0m\u001b[0masarray\u001b[0m\u001b[0;34m(\u001b[0m\u001b[0mdivs\u001b[0m\u001b[0;34m)\u001b[0m\u001b[0;34m,\u001b[0m \u001b[0mnp\u001b[0m\u001b[0;34m.\u001b[0m\u001b[0masarray\u001b[0m\u001b[0;34m(\u001b[0m\u001b[0mcultures\u001b[0m\u001b[0;34m)\u001b[0m\u001b[0;34m,\u001b[0m \u001b[0mnp\u001b[0m\u001b[0;34m.\u001b[0m\u001b[0masarray\u001b[0m\u001b[0;34m(\u001b[0m\u001b[0mwf_o3\u001b[0m\u001b[0;34m)\u001b[0m\u001b[0;34m)\u001b[0m\u001b[0;34m\u001b[0m\u001b[0;34m\u001b[0m\u001b[0m\n\u001b[0m\u001b[1;32m      2\u001b[0m \u001b[0;31m#wf_o3_tau_flip, ardivs_o3_flip, arcultures_o3_flip,wf_o3_flip = remove_nans(np.asarray(wf_o3_tau_flip), np.asarray(divs), np.asarray(cultures), np.asarray(wf_o3_flip))\u001b[0m\u001b[0;34m\u001b[0m\u001b[0;34m\u001b[0m\u001b[0m\n",
      "\u001b[0;32m/var/folders/rr/tk8wmt7x4xlgzgmcy768y1rm0000gn/T/ipykernel_41719/1551179243.py\u001b[0m in \u001b[0;36mremove_nans\u001b[0;34m(taus, divs, cultures, objs)\u001b[0m\n\u001b[1;32m      1\u001b[0m \u001b[0;32mdef\u001b[0m \u001b[0mremove_nans\u001b[0m\u001b[0;34m(\u001b[0m\u001b[0mtaus\u001b[0m\u001b[0;34m,\u001b[0m \u001b[0mdivs\u001b[0m\u001b[0;34m,\u001b[0m \u001b[0mcultures\u001b[0m\u001b[0;34m,\u001b[0m \u001b[0mobjs\u001b[0m\u001b[0;34m)\u001b[0m\u001b[0;34m:\u001b[0m\u001b[0;34m\u001b[0m\u001b[0;34m\u001b[0m\u001b[0m\n\u001b[1;32m      2\u001b[0m     \u001b[0;31m#remove NaNs\u001b[0m\u001b[0;34m\u001b[0m\u001b[0;34m\u001b[0m\u001b[0m\n\u001b[0;32m----> 3\u001b[0;31m     \u001b[0mdivs\u001b[0m \u001b[0;34m=\u001b[0m \u001b[0mdivs\u001b[0m\u001b[0;34m[\u001b[0m\u001b[0;34m~\u001b[0m\u001b[0mnp\u001b[0m\u001b[0;34m.\u001b[0m\u001b[0misnan\u001b[0m\u001b[0;34m(\u001b[0m\u001b[0mtaus\u001b[0m\u001b[0;34m)\u001b[0m\u001b[0;34m]\u001b[0m\u001b[0;34m\u001b[0m\u001b[0;34m\u001b[0m\u001b[0m\n\u001b[0m\u001b[1;32m      4\u001b[0m     \u001b[0mcultures\u001b[0m \u001b[0;34m=\u001b[0m \u001b[0mcultures\u001b[0m\u001b[0;34m[\u001b[0m\u001b[0;34m~\u001b[0m\u001b[0mnp\u001b[0m\u001b[0;34m.\u001b[0m\u001b[0misnan\u001b[0m\u001b[0;34m(\u001b[0m\u001b[0mtaus\u001b[0m\u001b[0;34m)\u001b[0m\u001b[0;34m]\u001b[0m\u001b[0;34m\u001b[0m\u001b[0;34m\u001b[0m\u001b[0m\n\u001b[1;32m      5\u001b[0m     \u001b[0mobjs\u001b[0m \u001b[0;34m=\u001b[0m \u001b[0mobjs\u001b[0m\u001b[0;34m[\u001b[0m\u001b[0;34m~\u001b[0m\u001b[0mnp\u001b[0m\u001b[0;34m.\u001b[0m\u001b[0misnan\u001b[0m\u001b[0;34m(\u001b[0m\u001b[0mtaus\u001b[0m\u001b[0;34m)\u001b[0m\u001b[0;34m]\u001b[0m\u001b[0;34m\u001b[0m\u001b[0;34m\u001b[0m\u001b[0m\n",
      "\u001b[0;31mIndexError\u001b[0m: boolean index did not match indexed array along dimension 0; dimension is 39529 but corresponding boolean dimension is 39409"
     ]
    }
   ],
   "source": [
    "wf_o3_tau, ardivs_o3, arcultures_o3,wf_o3 = remove_nans(np.asarray(wf_o3_tau), np.asarray(divs), np.asarray(cultures), np.asarray(wf_o3))\n",
    "#wf_o3_tau_flip, ardivs_o3_flip, arcultures_o3_flip,wf_o3_flip = remove_nans(np.asarray(wf_o3_tau_flip), np.asarray(divs), np.asarray(cultures), np.asarray(wf_o3_flip))\n"
   ]
  },
  {
   "cell_type": "code",
   "execution_count": 30,
   "id": "9c799718",
   "metadata": {},
   "outputs": [],
   "source": [
    "wf_o4_tau, ardivs_o4, arcultures_o4,wf_o4 = remove_nans(np.asarray(wf_o4_tau), np.asarray(divs), np.asarray(cultures), np.asarray(wf_o4))\n",
    "#wf_o4_tau_flip, ardivs_o4_flip, arcultures_o4_flip,wf_o4_flip = remove_nans(np.asarray(wf_o4_tau_flip), np.asarray(divs), np.asarray(cultures), np.asarray(wf_o4_flip))\n"
   ]
  },
  {
   "cell_type": "code",
   "execution_count": 31,
   "id": "c93a8ab1",
   "metadata": {},
   "outputs": [],
   "source": [
    "wf_o5_tau, ardivs_o5, arcultures_o5,wf_o5 = remove_nans(np.asarray(wf_o5_tau), np.asarray(divs), np.asarray(cultures), np.asarray(wf_o5))\n",
    "#wf_o5_tau_flip, ardivs_o5_flip, arcultures_o5_flip,wf_o5_flip = remove_nans(np.asarray(wf_o5_tau_flip), np.asarray(divs), np.asarray(cultures), np.asarray(wf_o5_flip))\n"
   ]
  },
  {
   "cell_type": "code",
   "execution_count": 32,
   "id": "40394e93",
   "metadata": {},
   "outputs": [],
   "source": [
    "wf_o6_tau, ardivs_o6, arcultures_o6,wf_o6 = remove_nans(np.asarray(wf_o6_tau), np.asarray(divs), np.asarray(cultures), np.asarray(wf_o6))\n",
    "#wf_o6_tau_flip, ardivs_o6_flip, arcultures_o6_flip,wf_o6_flip = remove_nans(np.asarray(wf_o6_tau_flip), np.asarray(divs), np.asarray(cultures), np.asarray(wf_o6_flip))\n"
   ]
  },
  {
   "cell_type": "code",
   "execution_count": 33,
   "id": "850487bd",
   "metadata": {},
   "outputs": [],
   "source": [
    "wf_o7_tau, ardivs_o7, arcultures_o7,wf_o7 = remove_nans(np.asarray(wf_o7_tau), np.asarray(divs), np.asarray(cultures), np.asarray(wf_o7))\n",
    "#wf_o7_tau_flip, ardivs_o7_flip, arcultures_o7_flip,wf_o7_flip = remove_nans(np.asarray(wf_o7_tau_flip), np.asarray(divs), np.asarray(cultures), np.asarray(wf_o7_flip))\n"
   ]
  },
  {
   "cell_type": "code",
   "execution_count": 34,
   "id": "c3076f37",
   "metadata": {},
   "outputs": [],
   "source": [
    "wf_o8_tau, ardivs_o8, arcultures_o8,wf_o8 = remove_nans(np.asarray(wf_o8_tau), np.asarray(divs), np.asarray(cultures), np.asarray(wf_o8))\n",
    "#wf_o8_tau_flip, ardivs_o8_flip, arcultures_o8_flip,wf_o8_flip = remove_nans(np.asarray(wf_o8_tau_flip), np.asarray(divs), np.asarray(cultures), np.asarray(wf_o8_flip))\n"
   ]
  },
  {
   "cell_type": "code",
   "execution_count": 35,
   "id": "94996958",
   "metadata": {},
   "outputs": [],
   "source": [
    "wf_o9_tau, ardivs_o9, arcultures_o9,wf_o9 = remove_nans(np.asarray(wf_o9_tau), np.asarray(divs), np.asarray(cultures), np.asarray(wf_o9))\n",
    "#wf_o9_tau_flip, ardivs_o9_flip, arcultures_o9_flip,wf_o9_flip = remove_nans(np.asarray(wf_o9_tau_flip), np.asarray(divs), np.asarray(cultures), np.asarray(wf_o9_flip))\n"
   ]
  },
  {
   "cell_type": "code",
   "execution_count": 36,
   "id": "af8af03d",
   "metadata": {},
   "outputs": [],
   "source": [
    "wf_o10_tau, ardivs_o10, arcultures_o10,wf_o10 = remove_nans(np.asarray(wf_o10_tau), np.asarray(divs), np.asarray(cultures), np.asarray(wf_o10))\n",
    "#wf_o10_tau_flip, ardivs_o10_flip, arcultures_o10_flip,wf_o10_flip = remove_nans(np.asarray(wf_o10_tau_flip), np.asarray(divs), np.asarray(cultures), np.asarray(wf_o10_flip))\n"
   ]
  },
  {
   "cell_type": "code",
   "execution_count": 49,
   "id": "68e0dde7",
   "metadata": {},
   "outputs": [],
   "source": [
    "wf_o11_tau, ardivs_o11, arcultures_o11,wf_o11 = remove_nans(np.asarray(wf_o11_tau), np.asarray(divs), np.asarray(cultures), np.asarray(wf_o11))\n",
    "#wf_o11_tau_flip, ardivs_o11_flip, arcultures_o11_flip,wf_o11_flip = remove_nans(np.asarray(wf_o11_tau_flip), np.asarray(divs), np.asarray(cultures), np.asarray(wf_o11_flip))\n"
   ]
  },
  {
   "cell_type": "code",
   "execution_count": 50,
   "id": "f9440d76",
   "metadata": {},
   "outputs": [],
   "source": [
    "wf_o12_tau, ardivs_o12, arcultures_o12,wf_o12 = remove_nans(np.asarray(wf_o12_tau), np.asarray(divs), np.asarray(cultures), np.asarray(wf_o12))\n",
    "#wf_o12_tau_flip, ardivs_o12_flip, arcultures_o12_flip,wf_o12_flip = remove_nans(np.asarray(wf_o12_tau_flip), np.asarray(divs), np.asarray(cultures), np.asarray(wf_o12_flip))\n"
   ]
  },
  {
   "cell_type": "code",
   "execution_count": 51,
   "id": "a78a1a70",
   "metadata": {},
   "outputs": [],
   "source": [
    "wf_o13_tau, ardivs_o13, arcultures_o13,wf_o13 = remove_nans(np.asarray(wf_o13_tau), np.asarray(divs), np.asarray(cultures), np.asarray(wf_o13))\n",
    "#wf_o13_tau_flip, ardivs_o13_flip, arcultures_o13_flip,wf_o13_flip = remove_nans(np.asarray(wf_o13_tau_flip), np.asarray(divs), np.asarray(cultures), np.asarray(wf_o13_flip))\n"
   ]
  },
  {
   "cell_type": "code",
   "execution_count": 52,
   "id": "b54554a1",
   "metadata": {},
   "outputs": [],
   "source": [
    "wf_o14_tau, ardivs_o14, arcultures_o14,wf_o14 = remove_nans(np.asarray(wf_o14_tau), np.asarray(divs), np.asarray(cultures), np.asarray(wf_o14))\n",
    "#wf_o14_tau_flip, ardivs_o14_flip, arcultures_o14_flip,wf_o14_flip = remove_nans(np.asarray(wf_o14_tau_flip), np.asarray(divs), np.asarray(cultures), np.asarray(wf_o14_flip))\n"
   ]
  },
  {
   "cell_type": "code",
   "execution_count": 53,
   "id": "d30edf30",
   "metadata": {},
   "outputs": [],
   "source": [
    "wf_o15_tau, ardivs_o15, arcultures_o15,wf_o15 = remove_nans(np.asarray(wf_o15_tau), np.asarray(divs), np.asarray(cultures), np.asarray(wf_o15))\n",
    "#wf_o15_tau_flip, ardivs_o15_flip, arcultures_o15_flip,wf_o15_flip = remove_nans(np.asarray(wf_o15_tau_flip), np.asarray(divs), np.asarray(cultures), np.asarray(wf_o15_flip))\n"
   ]
  },
  {
   "cell_type": "markdown",
   "id": "d04515ed",
   "metadata": {},
   "source": [
    "### Plot timescales over development "
   ]
  },
  {
   "cell_type": "markdown",
   "id": "ee5defd1",
   "metadata": {},
   "source": [
    "#### Before removing outliers"
   ]
  },
  {
   "cell_type": "code",
   "execution_count": 54,
   "id": "137e1efd",
   "metadata": {},
   "outputs": [
    {
     "data": {
      "image/png": "[encoded data removed]",
      "text/plain": [
       "<Figure size 432x288 with 1 Axes>"
      ]
     },
     "metadata": {
      "needs_background": "light"
     },
     "output_type": "display_data"
    },
    {
     "data": {
      "image/png": "[encoded data removed]",
      "text/plain": [
       "<Figure size 432x288 with 1 Axes>"
      ]
     },
     "metadata": {
      "needs_background": "light"
     },
     "output_type": "display_data"
    },
    {
     "data": {
      "image/png": "[encoded data removed]",
      "text/plain": [
       "<Figure size 432x288 with 1 Axes>"
      ]
     },
     "metadata": {
      "needs_background": "light"
     },
     "output_type": "display_data"
    },
    {
     "data": {
      "image/png": "[encoded data removed]",
      "text/plain": [
       "<Figure size 432x288 with 1 Axes>"
      ]
     },
     "metadata": {
      "needs_background": "light"
     },
     "output_type": "display_data"
    },
    {
     "data": {
      "image/png": "[encoded data removed]",
      "text/plain": [
       "<Figure size 432x288 with 1 Axes>"
      ]
     },
     "metadata": {
      "needs_background": "light"
     },
     "output_type": "display_data"
    },
    {
     "data": {
      "image/png": "[encoded data removed]",
      "text/plain": [
       "<Figure size 432x288 with 1 Axes>"
      ]
     },
     "metadata": {
      "needs_background": "light"
     },
     "output_type": "display_data"
    },
    {
     "data": {
      "image/png": "[encoded data removed]",
      "text/plain": [
       "<Figure size 432x288 with 1 Axes>"
      ]
     },
     "metadata": {
      "needs_background": "light"
     },
     "output_type": "display_data"
    },
    {
     "data": {
      "image/png": "[encoded data removed]",
      "text/plain": [
       "<Figure size 432x288 with 1 Axes>"
      ]
     },
     "metadata": {
      "needs_background": "light"
     },
     "output_type": "display_data"
    },
    {
     "data": {
      "image/png": "[encoded data removed]",
      "text/plain": [
       "<Figure size 432x288 with 1 Axes>"
      ]
     },
     "metadata": {
      "needs_background": "light"
     },
     "output_type": "display_data"
    },
    {
     "data": {
      "image/png": "[encoded data removed]",
      "text/plain": [
       "<Figure size 432x288 with 1 Axes>"
      ]
     },
     "metadata": {
      "needs_background": "light"
     },
     "output_type": "display_data"
    },
    {
     "data": {
      "image/png": "[encoded data removed]",
      "text/plain": [
       "<Figure size 432x288 with 1 Axes>"
      ]
     },
     "metadata": {
      "needs_background": "light"
     },
     "output_type": "display_data"
    },
    {
     "data": {
      "image/png": "[encoded data removed]",
      "text/plain": [
       "<Figure size 432x288 with 1 Axes>"
      ]
     },
     "metadata": {
      "needs_background": "light"
     },
     "output_type": "display_data"
    },
    {
     "data": {
      "image/png": "[encoded data removed]",
      "text/plain": [
       "<Figure size 432x288 with 1 Axes>"
      ]
     },
     "metadata": {
      "needs_background": "light"
     },
     "output_type": "display_data"
    }
   ],
   "source": [
    "#fliped AR results \n",
    "plt.plot(ardivs_o1, wf_o1_tau, '.')\n",
    "plt.ylabel('unit timescales', size=15)\n",
    "plt.xlabel('divs', size=15)\n",
    "plt.title(\"AR order 1\")\n",
    "plt.show()\n",
    "plt.plot(ardivs_o2, wf_o2_tau, '.')\n",
    "plt.ylabel('unit timescales', size=15)\n",
    "plt.xlabel('divs', size=15)\n",
    "plt.title(\"AR order 2\")\n",
    "plt.show()\n",
    "\"\"\"\n",
    "plt.plot(ardivs_o3_flip, wf_o3_tau_flip, '.')\n",
    "plt.ylabel('unit timescales', size=15)\n",
    "plt.xlabel('divs', size=15)\n",
    "plt.show()\"\"\"\n",
    "plt.plot(ardivs_o4, wf_o4_tau, '.')\n",
    "plt.ylabel('unit timescales', size=15)\n",
    "plt.xlabel('divs', size=15)\n",
    "plt.title(\"AR order 4\")\n",
    "plt.show()\n",
    "plt.plot(ardivs_o5, wf_o5_tau, '.')\n",
    "plt.ylabel('unit timescales', size=15)\n",
    "plt.xlabel('divs', size=15)\n",
    "plt.title(\"AR order 5\")\n",
    "plt.show()\n",
    "plt.plot(ardivs_o6, wf_o6_tau, '.')\n",
    "plt.ylabel('unit timescales', size=15)\n",
    "plt.xlabel('divs', size=15)\n",
    "plt.title(\"AR order 6\")\n",
    "plt.show()\n",
    "plt.plot(ardivs_o7, wf_o7_tau, '.')\n",
    "plt.ylabel('unit timescales', size=15)\n",
    "plt.xlabel('divs', size=15)\n",
    "plt.title(\"AR order 7\")\n",
    "plt.show()\n",
    "\n",
    "plt.plot(ardivs_o8, wf_o8_tau, '.')\n",
    "plt.ylabel('unit timescales', size=15)\n",
    "plt.xlabel('divs', size=15)\n",
    "plt.title(\"AR order 8\")\n",
    "plt.show()\n",
    "\n",
    "plt.plot(ardivs_o10, wf_o10_tau, '.')\n",
    "plt.ylabel('unit timescales', size=15)\n",
    "plt.xlabel('divs', size=15)\n",
    "plt.title(\"AR order 10\")\n",
    "plt.show()\n",
    "\n",
    "\n",
    "plt.plot(ardivs_o11, wf_o11_tau, '.')\n",
    "plt.ylabel('unit timescales', size=15)\n",
    "plt.xlabel('divs', size=15)\n",
    "plt.title(\"AR order 11\")\n",
    "plt.show()\n",
    "\n",
    "\n",
    "plt.plot(ardivs_o12, wf_o12_tau, '.')\n",
    "plt.ylabel('unit timescales', size=15)\n",
    "plt.xlabel('divs', size=15)\n",
    "plt.title(\"AR order 12\")\n",
    "plt.show()\n",
    "\n",
    "plt.plot(ardivs_o13, wf_o13_tau, '.')\n",
    "plt.ylabel('unit timescales', size=15)\n",
    "plt.xlabel('divs', size=15)\n",
    "plt.title(\"AR order 13\")\n",
    "plt.show()\n",
    "\n",
    "plt.plot(ardivs_o14, wf_o14_tau, '.')\n",
    "plt.ylabel('unit timescales', size=15)\n",
    "plt.xlabel('divs', size=15)\n",
    "plt.title(\"AR order 14\")\n",
    "plt.show()\n",
    "\n",
    "plt.plot(ardivs_o15, wf_o15_tau, '.')\n",
    "plt.ylabel('unit timescales', size=15)\n",
    "plt.xlabel('divs', size=15)\n",
    "plt.title(\"AR order 15\")\n",
    "plt.show()"
   ]
  },
  {
   "cell_type": "code",
   "execution_count": 55,
   "id": "6cd3e206",
   "metadata": {},
   "outputs": [
    {
     "data": {
      "image/png": "[encoded data removed]",
      "text/plain": [
       "<Figure size 432x288 with 1 Axes>"
      ]
     },
     "metadata": {
      "needs_background": "light"
     },
     "output_type": "display_data"
    }
   ],
   "source": [
    "#Welch results \n",
    "plt.plot(wdivs, wf_w_tau, '.')\n",
    "plt.ylabel('unit timescales', size=15)\n",
    "plt.xlabel('divs', size=15)\n",
    "plt.show()\n"
   ]
  },
  {
   "cell_type": "markdown",
   "id": "6647ea1b",
   "metadata": {},
   "source": [
    "### Get rsq values for the different fit conditions"
   ]
  },
  {
   "cell_type": "code",
   "execution_count": 59,
   "id": "682af6fd",
   "metadata": {},
   "outputs": [
    {
     "ename": "AttributeError",
     "evalue": "'numpy.ndarray' object has no attribute 'rsq'",
     "output_type": "error",
     "traceback": [
      "\u001b[0;31m---------------------------------------------------------------------------\u001b[0m",
      "\u001b[0;31mAttributeError\u001b[0m                            Traceback (most recent call last)",
      "\u001b[0;32m/var/folders/rr/tk8wmt7x4xlgzgmcy768y1rm0000gn/T/ipykernel_41719/628838367.py\u001b[0m in \u001b[0;36m<module>\u001b[0;34m\u001b[0m\n\u001b[0;32m----> 1\u001b[0;31m \u001b[0mwdivs\u001b[0m\u001b[0;34m.\u001b[0m\u001b[0mrsq\u001b[0m\u001b[0;34m\u001b[0m\u001b[0;34m\u001b[0m\u001b[0m\n\u001b[0m",
      "\u001b[0;31mAttributeError\u001b[0m: 'numpy.ndarray' object has no attribute 'rsq'"
     ]
    }
   ],
   "source": [
    "rsq_wPSD = []\n",
    "rsq_arPSD = []\n",
    "\n",
    "rsq_full_wPSD = []\n",
    "rsq_full_arPSD = []\n",
    "\n",
    "\n",
    "for w in wPSD:\n",
    "    rsq_wPSD.append(w.rsq)\n",
    "    rsq_full_wPSD.append(w.rsq_full)\n",
    "    \n",
    "for ar in arPSD:\n",
    "    rsq_arPSD.append(ar.rsq)\n",
    "    rsq_full_arPSD.append(ar.rsq_full)\n",
    "    \n",
    "\n",
    "    "
   ]
  },
  {
   "cell_type": "markdown",
   "id": "db7ba03c",
   "metadata": {},
   "source": [
    "### Look at spectra for different AR orders"
   ]
  },
  {
   "cell_type": "code",
   "execution_count": null,
   "id": "f6e607c5",
   "metadata": {},
   "outputs": [],
   "source": []
  },
  {
   "cell_type": "markdown",
   "id": "d897a523",
   "metadata": {},
   "source": [
    "### Look at spectra for Welch's method"
   ]
  },
  {
   "cell_type": "markdown",
   "id": "852d5c00",
   "metadata": {},
   "source": [
    "#### Look at outlier spectra"
   ]
  },
  {
   "cell_type": "code",
   "execution_count": null,
   "id": "0d71e444",
   "metadata": {},
   "outputs": [],
   "source": [
    "#Plot individual spectra\n",
    "\n",
    "for w in range(len(wf_o1_tau)):\n",
    "    \n",
    "    if wf_o1_tau[w] > 155:\n",
    "        #show fits for those indices\n",
    "        plt.loglog(wf_o1[w].freqs, wf_o1[w].powers, color='C0', alpha=.5)\n",
    "        plt.loglog(wf_o1[w].freqs, wf_o1[w].powers_fit, color='C1', alpha=.5)\n",
    "        plt.title(\"AR order 1, model \" +str(w))\n",
    "        plt.show()\n",
    "        \n",
    "for w in range(len(wf_o2_tau)):\n",
    "    \n",
    "    if wf_o2_tau[w] > 155:\n",
    "        #show fits for those indices\n",
    "        plt.loglog(wf_o2[w].freqs, wf_o2[w].powers, color='C0', alpha=.5)\n",
    "        \n",
    "        plt.loglog(wf_o2[w].freqs, wf_o2[w].powers_fit, color='C1', alpha=.5)\n",
    "        plt.title(\"AR order 2, model \" +str(w))\n",
    "        plt.show()\n",
    "        \n",
    "for w in range(len(wf_o3_tau)):\n",
    "    \n",
    "    if wf_o1_tau[w] > 155:\n",
    "        #show fits for those indices\n",
    "        plt.loglog(wf_o3[w].freqs, wf_o3[w].powers, color='C0', alpha=.5)\n",
    "        plt.loglog(wf_o3[w].freqs, wf_o3[w].powers_fit, color='C1', alpha=.5)\n",
    "        plt.title(\"AR order 3, model \" +str(w))\n",
    "        plt.show()\n",
    "        \n",
    "        \n",
    "for w in range(len(wf_o4_tau)):\n",
    "    \n",
    "    if wf_o4_tau[w] > 155:\n",
    "        #show fits for those indices\n",
    "        plt.loglog(wf_o4[w].freqs, wf_o4[w].powers, color='C0', alpha=.5)\n",
    "        plt.loglog(wf_o4[w].freqs, wf_o4[w].powers_fit, color='C1', alpha=.5)\n",
    "        plt.title(\"AR order 4, model \" +str(w))\n",
    "        plt.show()\n",
    "        \n",
    "\n",
    "for w in range(len(wf_o5_tau)):\n",
    "    \n",
    "    if wf_o5_tau[w] > 155:\n",
    "        #show fits for those indices\n",
    "        plt.loglog(wf_o5[w].freqs, wf_o5[w].powers, color='C0', alpha=.5)\n",
    "        plt.loglog(wf_o5[w].freqs, wf_o5[w].powers_fit, color='C1', alpha=.5)\n",
    "        plt.title(\"AR order 5, model \" +str(w))\n",
    "        plt.show()\n",
    "        \n",
    "        "
   ]
  },
  {
   "cell_type": "code",
   "execution_count": null,
   "id": "869bac9e",
   "metadata": {},
   "outputs": [],
   "source": [
    "# Welch's results - outliers\n",
    "\n",
    "for w in range(len(wf_w_tau)):\n",
    "    \n",
    "    if wf_w_tau[w] > 155:\n",
    "        #show fits for those indices\n",
    "        plt.loglog(wf_w[w].freqs, wf_w[w].powers, color='C0', alpha=.5)\n",
    "        plt.loglog(wf_w[w].freqs, wf_w[w].powers_fit, color='C1', alpha=.5)\n",
    "        plt.title(\"Welch's, model \" +str(w))\n",
    "        plt.show()\n",
    "        "
   ]
  },
  {
   "cell_type": "code",
   "execution_count": null,
   "id": "27cb6ab3",
   "metadata": {},
   "outputs": [],
   "source": [
    "#Plot all spectra for each condition on sample plot \n",
    "\n",
    "for w in range(len(wf_o1_tau)):\n",
    "    \n",
    "    if wf_o1_tau[w] > 155:\n",
    "        #show fits for those indices\n",
    "        plt.loglog(wf_o1[w].freqs, wf_o1[w].powers, color='C0', alpha=.5)\n",
    "        plt.loglog(wf_o1[w].freqs, wf_o1[w].powers_fit, color='C1', alpha=.5)\n",
    "plt.title(\"Outliers for AR order 1\")\n",
    "plt.show()\n",
    "        \n",
    "for w in range(len(wf_o2_tau)):\n",
    "    \n",
    "    if wf_o2_tau[w] > 155:\n",
    "        #show fits for those indices\n",
    "        plt.loglog(wf_o2[w].freqs, wf_o2[w].powers, color='C0', alpha=.5)\n",
    "        \n",
    "        plt.loglog(wf_o2[w].freqs, wf_o2[w].powers_fit, color='C1', alpha=.5)\n",
    "plt.title(\"Outliers for AR order 2\")\n",
    "plt.show()\n",
    "        \n",
    "for w in range(len(wf_o3_tau)):\n",
    "    \n",
    "    if wf_o1_tau[w] > 155:\n",
    "        #show fits for those indices\n",
    "        plt.loglog(wf_o3[w].freqs, wf_o3[w].powers, color='C0', alpha=.5)\n",
    "        plt.loglog(wf_o3[w].freqs, wf_o3[w].powers_fit, color='C1', alpha=.5)\n",
    "plt.title(\"Outliers for AR order 3\")\n",
    "plt.show()\n",
    "        \n",
    "        \n",
    "for w in range(len(wf_o4_tau)):\n",
    "    \n",
    "    if wf_o4_tau[w] > 155:\n",
    "        #show fits for those indices\n",
    "        plt.loglog(wf_o4[w].freqs, wf_o4[w].powers, color='C0', alpha=.5)\n",
    "        plt.loglog(wf_o4[w].freqs, wf_o4[w].powers_fit, color='C1', alpha=.5)\n",
    "plt.title(\"Outliers for AR order 4\")\n",
    "plt.show()\n",
    "        \n",
    "\n",
    "for w in range(len(wf_o5_tau)):\n",
    "    \n",
    "    if wf_o5_tau[w] > 155:\n",
    "        #show fits for those indices\n",
    "        plt.loglog(wf_o5[w].freqs, wf_o5[w].powers, color='C0', alpha=.5)\n",
    "        plt.loglog(wf_o5[w].freqs, wf_o5[w].powers_fit, color='C1', alpha=.5)\n",
    "plt.title(\"Outliers for AR order 5\")\n",
    "plt.show()\n",
    "\n",
    "\n",
    "for w in range(len(wf_w_tau)):\n",
    "    \n",
    "    if wf_w_tau[w] > 155:\n",
    "        #show fits for those indices\n",
    "        plt.loglog(wf_w[w].freqs, wf_w[w].powers, color='C0', alpha=.5)\n",
    "        plt.loglog(wf_w[w].freqs, wf_w[w].powers_fit, color='C1', alpha=.5)\n",
    "plt.title(\"Outliers for Welch's method\")\n",
    "plt.show()\n",
    "        \n",
    "        "
   ]
  },
  {
   "cell_type": "markdown",
   "id": "18878529",
   "metadata": {},
   "source": [
    "#### Look at non - outlier spectra of different AR orders - why are the timescales all the same????"
   ]
  },
  {
   "cell_type": "code",
   "execution_count": null,
   "id": "a7992505",
   "metadata": {},
   "outputs": [],
   "source": [
    "for w in range(len(wf_o1_tau)):\n",
    "    \n",
    "    if wf_o1_tau[w] > 155:\n",
    "        #show fits for those indices\n",
    "        plt.loglog(wf_o1[w].freqs, wf_o1[w].powers, color='C0', alpha=.5)\n",
    "        plt.loglog(wf_o1[w].freqs, wf_o1[w].powers_fit, color='C1', alpha=.5)\n",
    "        "
   ]
  },
  {
   "cell_type": "markdown",
   "id": "db58f738",
   "metadata": {},
   "source": [
    "#### Look at knee distributions"
   ]
  },
  {
   "cell_type": "code",
   "execution_count": null,
   "id": "af6ebedf",
   "metadata": {},
   "outputs": [],
   "source": [
    "wf_w[0].__dir__()"
   ]
  },
  {
   "cell_type": "code",
   "execution_count": null,
   "id": "9e54f18c",
   "metadata": {},
   "outputs": [],
   "source": [
    "plt.hist([i.knee_freq for i in wf_o1])"
   ]
  },
  {
   "cell_type": "code",
   "execution_count": null,
   "id": "8825df06",
   "metadata": {},
   "outputs": [],
   "source": [
    "plt.hist([i.knee_freq for i in wf_w])"
   ]
  },
  {
   "cell_type": "code",
   "execution_count": null,
   "id": "1cb8248a",
   "metadata": {},
   "outputs": [],
   "source": [
    "plt.hist([i.knee_freq for i in wf_w_flip])"
   ]
  },
  {
   "cell_type": "markdown",
   "id": "07f781ea",
   "metadata": {},
   "source": [
    "#### Afer removing outliers"
   ]
  },
  {
   "cell_type": "code",
   "execution_count": null,
   "id": "cfa0a907",
   "metadata": {},
   "outputs": [],
   "source": [
    "#remove outliers \n",
    "wPSD_tau_rem, wdivs_rem, wcultures_rem, wPSD_rem = remove_outliers(np.asarray(wdivs_flip), np.asarray(wdivs), np.asarray(wcultures), np.asarray(wf_w_tau_flip))\n",
    "\n",
    "plt.plot(wdivs_rem, wPSD_tau_rem, '.')\n",
    "plt.ylabel('unit timescales', size=15)\n",
    "plt.xlabel('divs', size=15)\n",
    "\n",
    "\n"
   ]
  },
  {
   "cell_type": "code",
   "execution_count": null,
   "id": "99f6d0e6",
   "metadata": {},
   "outputs": [],
   "source": [
    "#remove outliers \n",
    "arPSD_tau_rem, ardivs_rem, arcultures_rem, arPSD_rem = remove_outliers(np.asarray(arPSD_tau), np.asarray(ardivs), np.asarray(arcultures), np.asarray(arPSD))\n",
    "\n",
    "plt.plot(ardivs_rem, arPSD_tau_rem, '.')\n",
    "plt.ylabel('unit timescales', size=15)\n",
    "plt.xlabel('divs', size=15)\n",
    "\n"
   ]
  },
  {
   "cell_type": "markdown",
   "id": "6084a3ee",
   "metadata": {},
   "source": [
    "### Get mean and stds for each culture"
   ]
  },
  {
   "cell_type": "code",
   "execution_count": null,
   "id": "7f56076f",
   "metadata": {},
   "outputs": [],
   "source": [
    "meanstd_wPSD = get_mean_std_well(np.asarray(wPSD_tau_rem), np.asarray(wdivs_rem), np.asarray(wcultures_rem) \n",
    "                             )"
   ]
  },
  {
   "cell_type": "code",
   "execution_count": null,
   "id": "87fdac92",
   "metadata": {},
   "outputs": [],
   "source": [
    "meanstd_arPSD = get_mean_std_well(np.asarray(arPSD_tau_rem), np.asarray(ardivs_rem), np.asarray(arcultures_rem) )\n"
   ]
  },
  {
   "cell_type": "markdown",
   "id": "0fedf0e3",
   "metadata": {},
   "source": [
    "#### Plot mean culture timescales in linear scale "
   ]
  },
  {
   "cell_type": "code",
   "execution_count": null,
   "id": "5fe93cbe",
   "metadata": {},
   "outputs": [],
   "source": [
    "plt.plot(meanstd_wPSD[1], meanstd_wPSD[2], '.')\n",
    "plt.ylabel('culture timescales', size=15)\n",
    "plt.xlabel('divs', size=15)\n",
    "plt.title(\"Culture timescales Welch's PSD\")"
   ]
  },
  {
   "cell_type": "code",
   "execution_count": null,
   "id": "5499e685",
   "metadata": {},
   "outputs": [],
   "source": [
    "plt.plot(meanstd_arPSD[1], meanstd_arPSD[3], '.')\n",
    "\n",
    "plt.ylabel('culture timescales', size=15)\n",
    "plt.xlabel('divs', size=15)\n",
    "plt.ylim(0,0.3)\n",
    "plt.title(\"Culture timescales AR PSD\")"
   ]
  },
  {
   "cell_type": "markdown",
   "id": "fa531e41",
   "metadata": {},
   "source": [
    "#### Plot mean culture timescales in log scale"
   ]
  },
  {
   "cell_type": "code",
   "execution_count": null,
   "id": "c5e68c5d",
   "metadata": {},
   "outputs": [],
   "source": [
    "plt.plot(meanstd_wPSD[1], np.log10(meanstd_wPSD[2]), '.')\n",
    "plt.ylabel('log culture timescales', size=15)\n",
    "plt.xlabel('divs', size=15)\n",
    "plt.title(\"Log culture timescales Welch's PSD\")"
   ]
  },
  {
   "cell_type": "code",
   "execution_count": null,
   "id": "8076595f",
   "metadata": {},
   "outputs": [],
   "source": [
    "plt.plot(meanstd_arPSD[1], np.log10(meanstd_arPSD[2]), '.')\n",
    "plt.ylabel('log culture timescales', size=15)\n",
    "plt.xlabel('divs', size=15)\n",
    "plt.title(\"Log culture timescales AR PSD\")"
   ]
  },
  {
   "cell_type": "markdown",
   "id": "72a8cff7",
   "metadata": {},
   "source": [
    "#### Plot mean culture timescales with standard deviation error bars in linear scale"
   ]
  },
  {
   "cell_type": "code",
   "execution_count": null,
   "id": "8dffa4ec",
   "metadata": {},
   "outputs": [],
   "source": [
    "plt.errorbar(meanstd_wPSD[1],meanstd_wPSD[2], meanstd_wPSD[3], linestyle='None', marker='.')\n",
    "plt.ylabel('culture timescales', size=15)\n",
    "plt.xlabel('divs', size=15)\n",
    "plt.title(\"Linear culture timescales Welch's PSD\")\n"
   ]
  },
  {
   "cell_type": "code",
   "execution_count": null,
   "id": "bc245b4f",
   "metadata": {},
   "outputs": [],
   "source": [
    "plt.errorbar(meanstd_arPSD[1],meanstd_arPSD[2], meanstd_arPSD[3], linestyle='None', marker='.')\n",
    "plt.ylabel('culture timescales', size=15)\n",
    "plt.xlabel('divs', size=15)\n",
    "plt.title(\"Linear culture timescales AR PSD\")"
   ]
  },
  {
   "cell_type": "markdown",
   "id": "10f25c67",
   "metadata": {},
   "source": [
    "#### Plot mean culture timescales with standard deviation error bars in log scale"
   ]
  },
  {
   "cell_type": "code",
   "execution_count": null,
   "id": "31750223",
   "metadata": {},
   "outputs": [],
   "source": [
    "plt.errorbar(meanstd_wPSD[1],np.log10(meanstd_wPSD[2]), np.log10(meanstd_wPSD[3]), linestyle='None', marker='.')\n",
    "plt.ylabel('log culture timescales', size=15)\n",
    "plt.xlabel('divs', size=15)\n",
    "plt.title(\"Log  culture timescales Welch's PSD\")"
   ]
  },
  {
   "cell_type": "code",
   "execution_count": null,
   "id": "df613bb0",
   "metadata": {},
   "outputs": [],
   "source": [
    "plt.errorbar(meanstd_arPSD[1],np.log10(meanstd_arPSD[2]), np.log10(meanstd_arPSD[3]), linestyle='None', marker='.')\n",
    "plt.ylabel('log culture timescales', size=15)\n",
    "plt.xlabel('divs', size=15)\n",
    "plt.title(\"Log culture timescales AR PSD\")\n"
   ]
  },
  {
   "cell_type": "markdown",
   "id": "05bc20fb",
   "metadata": {},
   "source": [
    "### Look at fits "
   ]
  },
  {
   "cell_type": "code",
   "execution_count": null,
   "id": "2caee62a",
   "metadata": {},
   "outputs": [],
   "source": [
    "## show attributes\n",
    "wPSD[0].__dir__()"
   ]
  },
  {
   "cell_type": "markdown",
   "id": "cbd9d037",
   "metadata": {},
   "source": [
    "#### Look into 160s wPSD artifacts"
   ]
  },
  {
   "cell_type": "code",
   "execution_count": null,
   "id": "81c2b4f8",
   "metadata": {},
   "outputs": [],
   "source": [
    "for w in range(len(wPSD_tau)):\n",
    "    \n",
    "    if wPSD_tau[w] > 155:\n",
    "        #show fits for those indices\n",
    "        plt.loglog(wPSD[w].freqs, wPSD[w].powers, color='C0', alpha=.5)\n",
    "        plt.loglog(wPSD[w].freqs, wPSD[w].powers_fit, color='C1', alpha=.5)\n",
    "        "
   ]
  },
  {
   "cell_type": "markdown",
   "id": "539c74ef",
   "metadata": {},
   "source": [
    "#### Get r-squared values of fits"
   ]
  },
  {
   "cell_type": "code",
   "execution_count": null,
   "id": "e51f5529",
   "metadata": {},
   "outputs": [],
   "source": [
    "rsq_wPSD = []\n",
    "rsq_arPSD = []\n",
    "\n",
    "rsq_full_wPSD = []\n",
    "rsq_full_arPSD = []\n",
    "\n",
    "\n",
    "for w in wPSD:\n",
    "    rsq_wPSD.append(w.rsq)\n",
    "    rsq_full_wPSD.append(w.rsq_full)\n",
    "    \n",
    "for ar in arPSD:\n",
    "    rsq_arPSD.append(ar.rsq)\n",
    "    rsq_full_arPSD.append(ar.rsq_full)\n",
    "    \n",
    "\n",
    "    "
   ]
  },
  {
   "cell_type": "markdown",
   "id": "b0d2bb35",
   "metadata": {},
   "source": [
    "#### plot distribution of r-squared values "
   ]
  },
  {
   "cell_type": "code",
   "execution_count": null,
   "id": "f3069c97",
   "metadata": {},
   "outputs": [],
   "source": [
    "#Welch's PSD\n",
    "plt.hist(rsq_wPSD)"
   ]
  },
  {
   "cell_type": "code",
   "execution_count": null,
   "id": "dc895641",
   "metadata": {},
   "outputs": [],
   "source": [
    "#AR PSD\n",
    "\n",
    "plt.hist(rsq_arPSD)"
   ]
  },
  {
   "cell_type": "markdown",
   "id": "bb2f2309",
   "metadata": {},
   "source": [
    "#### Look at bad fits (rsq < 0.8)"
   ]
  },
  {
   "cell_type": "code",
   "execution_count": null,
   "id": "cbf79587",
   "metadata": {},
   "outputs": [],
   "source": [
    "\"\"\"\n",
    "# Welch's PSD\n",
    "\n",
    "#plot in sets of 20 \n",
    "\n",
    "num = 0 \n",
    "\n",
    "for r in range(len(rsq_wPSD)):\n",
    "    \n",
    "    if rsq_wPSD[r] < 0.8:\n",
    "        #show fits for those indices\n",
    "        \"\"\"\n",
    "        plt.loglog(wPSD[r].freqs, wPSD[r].powers, color='C0', alpha=.5)\n",
    "        plt.loglog(wPSD[r].freqs, wPSD[r].powers_fit, color='C1', alpha=.5)\"\"\"\n",
    "        \n",
    "        if num == 20:\n",
    "            plt.show()\n",
    "            num = -1\n",
    "        \n",
    "        num = num + 1\"\"\"\n",
    "        "
   ]
  },
  {
   "cell_type": "code",
   "execution_count": null,
   "id": "6c78bdb1",
   "metadata": {},
   "outputs": [],
   "source": [
    "\"\"\"\n",
    "# AR PSD\n",
    "\n",
    "#plot in sets of 20 \n",
    "\n",
    "num = 0 \n",
    "\n",
    "for r in range(len(rsq_arPSD)):\n",
    "    \n",
    "    if rsq_arPSD[r] < 0.8:\n",
    "        #show fits for those indices\n",
    "        plt.loglog(arPSD[r].freqs, arPSD[r].powers, color='C0', alpha=.5)\n",
    "        plt.loglog(arPSD[r].freqs, arPSD[r].powers_fit, color='C1', alpha=.5)\n",
    "        \n",
    "        if num == 20:\n",
    "            plt.show()\n",
    "            num = -1\n",
    "        \n",
    "        num = num + 1\n",
    "        \"\"\""
   ]
  },
  {
   "cell_type": "markdown",
   "id": "08e9f8ad",
   "metadata": {},
   "source": [
    "#### Look at good fits (rsq >= 0.8)"
   ]
  },
  {
   "cell_type": "code",
   "execution_count": null,
   "id": "c436f358",
   "metadata": {},
   "outputs": [],
   "source": [
    "\"\"\" # Welch's PSD\n",
    "\n",
    "#plot in sets of 20 \n",
    "wdivs_gfits = []\n",
    "wcultures_gfits = []\n",
    "wPSD_gfits = []\n",
    "wtau_gfits = []\n",
    "wrsq_gfits = []\n",
    "\n",
    "num = 0 \n",
    "\n",
    "for r in range(len(rsq_wPSD)):\n",
    "    \n",
    "    if rsq_wPSD[r] >= 0.8:\n",
    "        \n",
    "        wdivs_gfits.append(wdivs[r])\n",
    "        wcultures_gfits.append(wcultures[r])\n",
    "        wPSD_gfits.append(wPSD[r])\n",
    "        wrsq_gfits.append(rsq_wPSD[r])\n",
    "        wtau_gfits.append(wPSD_tau[r])\n",
    "        \n",
    "\n",
    "        #show fits for those indices\n",
    "        plt.loglog(wPSD[r].freqs, wPSD[r].powers, color='C0', alpha=.5)\n",
    "        plt.loglog(wPSD[r].freqs, wPSD[r].powers_fit, color='C1', alpha=.5)\n",
    "        \n",
    "        if num == 20:\n",
    "            plt.show()\n",
    "            num = -1\n",
    "        \n",
    "        num = num + 1\"\"\"\n",
    "        \n",
    "        "
   ]
  },
  {
   "cell_type": "code",
   "execution_count": null,
   "id": "d9d829da",
   "metadata": {},
   "outputs": [],
   "source": [
    "\"\"\"# AR PSD\n",
    "ardivs_gfits = []\n",
    "arcultures_gfits = []\n",
    "arPSD_gfits = []\n",
    "artau_gfits = []\n",
    "arrsq_gfits = []\n",
    "\n",
    "#plot in sets of 20 \n",
    "\n",
    "num = 0 \n",
    "\n",
    "for r in range(len(rsq_arPSD)):\n",
    "    \n",
    "    if rsq_arPSD[r] >= 0.8:\n",
    "        #show fits for those indices\n",
    "        plt.loglog(arPSD[r].freqs, arPSD[r].powers, color='C0', alpha=.5)\n",
    "        plt.loglog(arPSD[r].freqs, arPSD[r].powers_fit, color='C1', alpha=.5)\n",
    "        \n",
    "        ardivs_gfits.append(ardivs[r])\n",
    "        arcultures_gfits.append(arcultures[r])\n",
    "        arPSD_gfits.append(arPSD[r])\n",
    "        arrsq_gfits.append(rsq_arPSD[r])\n",
    "        artau_gfits.append(arPSD_tau[r])\n",
    "        \n",
    "        \n",
    "        if num == 20:\n",
    "            plt.show()\n",
    "            num = -1\n",
    "        \n",
    "        num = num + 1\"\"\"\n",
    "        \n",
    "        \n",
    "        "
   ]
  },
  {
   "cell_type": "markdown",
   "id": "6d53fb80",
   "metadata": {},
   "source": [
    "#### Look at 20 worst fits for each method, and the corresponding fits in other method"
   ]
  },
  {
   "cell_type": "code",
   "execution_count": null,
   "id": "b0cfd3b2",
   "metadata": {},
   "outputs": [],
   "source": [
    "\"\"\"# worst fits Welch's PSD\n",
    "\n",
    "worst_fits_wPSD_idx = np.argpartition(rsq_wPSD, 20)[:20]\n",
    "\n",
    "worstf_wPSD = np.asarray(rsq_wPSD)[worst_fits_wPSD_idx]\n",
    "worstf_wPSD_corr_arPSD = np.asarray(rsq_arPSD)[worst_fits_wPSD_idx]\n",
    "\n",
    "#plot 20 worst Welch PSD fits and correspoding AR PSD fits\n",
    "\n",
    "for i in worst_fits_wPSD_idx:\n",
    "    plt.loglog(wPSD[i].freqs, wPSD[i].powers, color='C0', alpha=.5)\n",
    "    plt.loglog(wPSD[i].freqs, wPSD[i].powers_fit, color='C1', alpha=.5)\n",
    "    plt.title(\"Welch's PSD for index \" + str(i))\n",
    "    plt.show()\n",
    "    \n",
    "    plt.loglog(arPSD[i].freqs, arPSD[i].powers, color='C0', alpha=.5)\n",
    "    plt.loglog(arPSD[i].freqs, arPSD[i].powers_fit, color='C1', alpha=.5)\n",
    "    plt.title(\"AR PSD for index \" + str(i))\n",
    "    plt.show()\n",
    "    \n",
    "\"\"\"\n"
   ]
  },
  {
   "cell_type": "code",
   "execution_count": null,
   "id": "bb5d9572",
   "metadata": {},
   "outputs": [],
   "source": [
    "\"\"\"# worst fits AR PSD\n",
    "\n",
    "worst_fits_arPSD_idx = np.argpartition(rsq_arPSD, 20)[:20]\n",
    "\n",
    "worstf_arPSD = np.asarray(rsq_arPSD)[worst_fits_arPSD_idx]\n",
    "worstf_arPSD_corr_wPSD = np.asarray(rsq_wPSD)[worst_fits_arPSD_idx]\n",
    "\n",
    "#plot 20 worst Welch PSD fits and correspoding AR PSD fits\n",
    "\n",
    "for i in worst_fits_arPSD_idx:\n",
    "    plt.loglog(arPSD[i].freqs, arPSD[i].powers, color='C0', alpha=.5)\n",
    "    plt.loglog(arPSD[i].freqs, arPSD[i].powers_fit, color='C1', alpha=.5)\n",
    "    plt.title(\"AR PSD for index \" + str(i))\n",
    "    plt.show()\n",
    "    \n",
    "    plt.loglog(wPSD[i].freqs, wPSD[i].powers, color='C0', alpha=.5)\n",
    "    plt.loglog(wPSD[i].freqs, wPSD[i].powers_fit, color='C1', alpha=.5)\n",
    "    plt.title(\"Corresponding Welch's PSD for index \" + str(i))\n",
    "    plt.show()\n",
    "    \n",
    "\"\"\""
   ]
  },
  {
   "cell_type": "markdown",
   "id": "704cc653",
   "metadata": {},
   "source": [
    "#### Look at 20 best fits for each method, and the corresponding fits in other method - FIXXX "
   ]
  },
  {
   "cell_type": "code",
   "execution_count": null,
   "id": "e4336657",
   "metadata": {},
   "outputs": [],
   "source": [
    "~np.isnan(rsq_wPSD)"
   ]
  },
  {
   "cell_type": "code",
   "execution_count": null,
   "id": "58c42468",
   "metadata": {},
   "outputs": [],
   "source": [
    "np.argpartition(~np.isnan(rsq_wPSD), -20)[-20:]\n"
   ]
  },
  {
   "cell_type": "code",
   "execution_count": null,
   "id": "de268aba",
   "metadata": {},
   "outputs": [],
   "source": [
    "#get indices of 20 best fits\n",
    "\n",
    "not_nan_wPSD_idx = ~np.isnan(rsq_wPSD)\n",
    "\n",
    "best_fits_wPSD_idx = np.argpartition(rsq_wPSD, 40)\n",
    "\n",
    "best_fits_wPSD_idx_notnan = []\n",
    "\n",
    "for i in range(len(best_fits_wPSD_idx)):\n",
    "    if not_nan_wPSD_idx[best_fits_wPSD_idx[i]]:\n",
    "        \n",
    "        best_fits_wPSD_idx_notnan.append(best_fits_wPSD_idx[i])"
   ]
  },
  {
   "cell_type": "code",
   "execution_count": null,
   "id": "6bf6e2db",
   "metadata": {},
   "outputs": [],
   "source": [
    "wPSD_tau[best_fits_wPSD_idx_notnan[-20:]]"
   ]
  },
  {
   "cell_type": "code",
   "execution_count": null,
   "id": "620c537f",
   "metadata": {},
   "outputs": [],
   "source": [
    "# best fits Welch's PSD\n",
    "\"\"\"\n",
    "\n",
    "#plot 20 best Welch PSD fits and correspoding AR PSD fits\n",
    "\n",
    "for i in best_fits_wPSD_idx_notnan[-20:]:\n",
    "    \n",
    "    plt.loglog(wPSD[i].freqs, wPSD[i].powers, color='C0', alpha=.5)\n",
    "    plt.loglog(wPSD[i].freqs, wPSD[i].powers_fit, color='C1', alpha=.5)\n",
    "    plt.title(\"Welch's PSD for index \" + str(i))\n",
    "    plt.show()\n",
    "    \n",
    "    plt.loglog(arPSD[i].freqs, arPSD[i].powers, color='C0', alpha=.5)\n",
    "    plt.loglog(arPSD[i].freqs, arPSD[i].powers_fit, color='C1', alpha=.5)\n",
    "    plt.title(\"AR PSD for index \" + str(i))\n",
    "    plt.show()\n",
    "  \"\"\"  \n"
   ]
  },
  {
   "cell_type": "markdown",
   "id": "42604134",
   "metadata": {},
   "source": [
    "### Show results over development only with good fits (rsq > = 0.8)"
   ]
  },
  {
   "cell_type": "markdown",
   "id": "d01d5237",
   "metadata": {},
   "source": [
    "#### Before removing outliers "
   ]
  },
  {
   "cell_type": "code",
   "execution_count": null,
   "id": "606e1a32",
   "metadata": {},
   "outputs": [],
   "source": [
    "plt.plot(wdivs_gfits, wtau_gfits, '.')\n",
    "plt.ylabel('unit timescales', size=15)\n",
    "plt.xlabel('divs', size=15)\n",
    "plt.title(\"Welch's PSD good fits before removing outliers \")"
   ]
  },
  {
   "cell_type": "code",
   "execution_count": null,
   "id": "cc7aa3cd",
   "metadata": {},
   "outputs": [],
   "source": [
    "plt.plot(ardivs_gfits, artau_gfits, '.')\n",
    "plt.ylabel('unit timescales', size=15)\n",
    "plt.xlabel('divs', size=15)\n",
    "plt.title(\"AR PSD good fits before removing outliers \")"
   ]
  },
  {
   "cell_type": "markdown",
   "id": "ce3ad9f3",
   "metadata": {},
   "source": [
    "#### After removing outliers "
   ]
  },
  {
   "cell_type": "code",
   "execution_count": null,
   "id": "0fa00dff",
   "metadata": {},
   "outputs": [],
   "source": [
    "#remove outliers \n",
    "wtau_rem_gf, wdivs_rem_gf, wcultures_rem_gf, wPSD_rem_gf = remove_outliers(np.asarray(wtau_gfits), np.asarray(wdivs_gfits), np.asarray(wcultures_gfits), np.asarray(wPSD_gfits))\n",
    "\n",
    "plt.plot(wdivs_rem_gf, wtau_rem_gf, '.')\n",
    "plt.ylabel('unit timescales', size=15)\n",
    "plt.xlabel('divs', size=15)\n",
    "plt.title(\"Welch's PSD good fits after removing outliers \")\n"
   ]
  },
  {
   "cell_type": "code",
   "execution_count": null,
   "id": "4723db7e",
   "metadata": {},
   "outputs": [],
   "source": [
    "#remove outliers \n",
    "artau_rem_gf, ardivs_rem_gf, arcultures_rem_gf, arPSD_rem_gf = remove_outliers(np.asarray(artau_gfits), np.asarray(ardivs_gfits), np.asarray(arcultures_gfits), np.asarray(arPSD_gfits))\n",
    "\n",
    "plt.plot(ardivs_rem_gf, artau_rem_gf, '.')\n",
    "plt.ylabel('unit timescales', size=15)\n",
    "plt.xlabel('divs', size=15)\n",
    "plt.title(\"AR PSD good fits after removing outliers \")\n"
   ]
  },
  {
   "cell_type": "code",
   "execution_count": null,
   "id": "06ae608a",
   "metadata": {},
   "outputs": [],
   "source": [
    "# get rsq values after removing outliers \n",
    "\n",
    "rsq_wPSD_rem_gf = []\n",
    "rsq_arPSD_rem_gf = []\n",
    "\n",
    "\n",
    "for w in wPSD_rem_gf:\n",
    "    rsq_wPSD_rem_gf.append(w.rsq)\n",
    "    \n",
    "for ar in arPSD_rem_gf:\n",
    "    rsq_arPSD_rem_gf.append(ar.rsq)\n",
    "    \n"
   ]
  },
  {
   "cell_type": "markdown",
   "id": "06493a0d",
   "metadata": {},
   "source": [
    "#### Calculated mean for each culture "
   ]
  },
  {
   "cell_type": "code",
   "execution_count": null,
   "id": "66693175",
   "metadata": {},
   "outputs": [],
   "source": [
    "meanstd_wPSD_gf = get_mean_std_well(np.asarray(wtau_rem_gf), np.asarray(wdivs_rem_gf), np.asarray(wcultures_rem_gf) )"
   ]
  },
  {
   "cell_type": "code",
   "execution_count": null,
   "id": "a7d54851",
   "metadata": {},
   "outputs": [],
   "source": [
    "meanstd_arPSD_gf = get_mean_std_well(np.asarray(artau_rem_gf), np.asarray(ardivs_rem_gf), np.asarray(arcultures_rem_gf) )\n",
    "                                     "
   ]
  },
  {
   "cell_type": "markdown",
   "id": "ebb8258c",
   "metadata": {},
   "source": [
    "##### Plot in linear scale"
   ]
  },
  {
   "cell_type": "code",
   "execution_count": null,
   "id": "dd16ade9",
   "metadata": {},
   "outputs": [],
   "source": [
    "plt.plot(meanstd_wPSD_gf[1], meanstd_wPSD_gf[2], '.')\n",
    "plt.ylabel('culture timescales', size=15)\n",
    "plt.xlabel('divs', size=15)\n",
    "plt.title(\"Culture timescales Welch's PSD good fits\")"
   ]
  },
  {
   "cell_type": "code",
   "execution_count": null,
   "id": "62aa9637",
   "metadata": {},
   "outputs": [],
   "source": [
    "plt.plot(meanstd_arPSD_gf[1], meanstd_arPSD_gf[2], '.')\n",
    "plt.ylabel('culture timescales', size=15)\n",
    "plt.xlabel('divs', size=15)\n",
    "plt.title(\"Culture timescales AR PSD good fits\")"
   ]
  },
  {
   "cell_type": "markdown",
   "id": "a9ae54c7",
   "metadata": {},
   "source": [
    "##### Plot in log scale"
   ]
  },
  {
   "cell_type": "code",
   "execution_count": null,
   "id": "770771d6",
   "metadata": {},
   "outputs": [],
   "source": [
    "plt.plot(meanstd_wPSD_gf[1], np.log10(meanstd_wPSD_gf[2]), '.')\n",
    "plt.ylabel('log culture timescales', size=15)\n",
    "plt.xlabel('divs', size=15)\n",
    "plt.title(\"Log culture timescales Welch's PSD good fits\")"
   ]
  },
  {
   "cell_type": "code",
   "execution_count": null,
   "id": "693c7957",
   "metadata": {},
   "outputs": [],
   "source": [
    "plt.plot(meanstd_arPSD_gf[1], np.log10(meanstd_arPSD_gf[2]), '.')\n",
    "plt.ylabel('log culture timescales', size=15)\n",
    "plt.xlabel('divs', size=15)\n",
    "plt.title(\"Log culture timescales AR PSD good fits\")"
   ]
  },
  {
   "cell_type": "markdown",
   "id": "09d795bd",
   "metadata": {},
   "source": [
    "#### Mean and std for each culture "
   ]
  },
  {
   "cell_type": "markdown",
   "id": "dc17e28a",
   "metadata": {},
   "source": [
    "##### Plot in linear scale"
   ]
  },
  {
   "cell_type": "code",
   "execution_count": null,
   "id": "40f9e0bb",
   "metadata": {},
   "outputs": [],
   "source": [
    "plt.errorbar(meanstd_wPSD_gf[1],meanstd_wPSD_gf[2], meanstd_wPSD_gf[3], linestyle='None', marker='.')\n",
    "plt.ylabel('culture timescales', size=15)\n",
    "plt.xlabel('divs', size=15)\n",
    "plt.title(\"Linear culture timescales Welch's PSD good fits\")\n"
   ]
  },
  {
   "cell_type": "code",
   "execution_count": null,
   "id": "c42551cd",
   "metadata": {},
   "outputs": [],
   "source": [
    "plt.errorbar(meanstd_arPSD_gf[1],meanstd_arPSD_gf[2], meanstd_arPSD_gf[3], linestyle='None', marker='.')\n",
    "plt.ylabel('culture timescales', size=15)\n",
    "plt.xlabel('divs', size=15)\n",
    "plt.title(\"Linear culture timescales AR PSD good fits\")\n"
   ]
  },
  {
   "cell_type": "markdown",
   "id": "3d0dd98d",
   "metadata": {},
   "source": [
    "##### Plot in log scale"
   ]
  },
  {
   "cell_type": "code",
   "execution_count": null,
   "id": "6b954826",
   "metadata": {},
   "outputs": [],
   "source": [
    "plt.errorbar(meanstd_wPSD_gf[1],np.log10(meanstd_wPSD_gf[2]), np.log10(meanstd_wPSD_gf[3]), linestyle='None', marker='.')\n",
    "plt.ylabel('log culture timescales', size=15)\n",
    "plt.xlabel('divs', size=15)\n",
    "plt.title(\"Log culture timescales Welch's PSD good fits\")"
   ]
  },
  {
   "cell_type": "code",
   "execution_count": null,
   "id": "9d3a69b9",
   "metadata": {},
   "outputs": [],
   "source": [
    "plt.errorbar(meanstd_arPSD_gf[1],np.log10(meanstd_arPSD_gf[2]), np.log10(meanstd_arPSD_gf[3]), linestyle='None', marker='.')\n",
    "plt.ylabel('log culture timescales', size=15)\n",
    "plt.xlabel('divs', size=15)\n",
    "plt.title(\"Log culture timescales AR PSD good fits\")"
   ]
  },
  {
   "cell_type": "markdown",
   "id": "095f3026",
   "metadata": {},
   "source": [
    "### Look at 7-20 divs time range in more detail"
   ]
  },
  {
   "cell_type": "code",
   "execution_count": null,
   "id": "c77077eb",
   "metadata": {},
   "outputs": [],
   "source": [
    "#get indices for 7-20 divs \n",
    "windices_720 = [i for i, x in enumerate(wdivs_rem_gf) if 7<x<20]\n",
    "\n",
    "wcultures_720 = wcultures_rem_gf[indices_720]\n",
    "wPSD_720 = wPSD_rem_gf[indices_720]\n",
    "wtau_720 = wtau_rem_gf[indices_720]\n",
    "wrsq_720 = np.asarray(rsq_wPSD_rem_gf)[indices_720]\n",
    "wdivs_720 = wdivs_rem_gf[indices_720]\n",
    "\n",
    "arindices_720 = [i for i, x in enumerate(ardivs_rem_gf) if 7<x<20]\n",
    "\n",
    "arcultures_720 = arcultures_rem_gf[indices_720]\n",
    "arPSD_720 = arPSD_rem_gf[indices_720]\n",
    "artau_720 = artau_rem_gf[indices_720]\n",
    "arrsq_720 = np.asarray(rsq_arPSD_rem_gf)[indices_720]\n",
    "ardivs_720 = ardivs_rem_gf[indices_720]"
   ]
  },
  {
   "cell_type": "code",
   "execution_count": null,
   "id": "0212dd4b",
   "metadata": {},
   "outputs": [],
   "source": [
    "plt.plot(wdivs_720, wtau_720, '.')"
   ]
  },
  {
   "cell_type": "code",
   "execution_count": null,
   "id": "158dd1bd",
   "metadata": {},
   "outputs": [],
   "source": [
    "plt.plot(ardivs_720, artau_720, '.')"
   ]
  },
  {
   "cell_type": "markdown",
   "id": "32a7223a",
   "metadata": {},
   "source": [
    "#### Plot r-squared values for this time range"
   ]
  },
  {
   "cell_type": "code",
   "execution_count": null,
   "id": "bea1519d",
   "metadata": {},
   "outputs": [],
   "source": [
    "plt.hist(wrsq_720)\n",
    "plt.xlim(0,1)\n",
    "plt.title('Histogram of Welch PSD good (> 0.8) r-squared values in divs 7-20 after removing outliers')"
   ]
  },
  {
   "cell_type": "code",
   "execution_count": null,
   "id": "d48bef7c",
   "metadata": {},
   "outputs": [],
   "source": [
    "#plot rsq over divs\n",
    "plt.plot(wdivs_720, wrsq_720, '.')\n",
    "plt.ylim(0,1.01)"
   ]
  },
  {
   "cell_type": "code",
   "execution_count": null,
   "id": "fa2d7594",
   "metadata": {},
   "outputs": [],
   "source": [
    "plt.hist(arrsq_720)\n",
    "plt.xlim(0,1)\n",
    "plt.title('Histogram of AR PSD good (> 0.8) r-squared values in divs 7-20 after removing outliers')"
   ]
  },
  {
   "cell_type": "code",
   "execution_count": null,
   "id": "76037ece",
   "metadata": {},
   "outputs": [],
   "source": [
    "#plot rsq over divs\n",
    "plt.plot(ardivs_720, arrsq_720, '.')\n",
    "plt.ylim(0,1.01)"
   ]
  },
  {
   "cell_type": "markdown",
   "id": "c2c99948",
   "metadata": {},
   "source": [
    "#### Plot PSDs for this time range"
   ]
  },
  {
   "cell_type": "code",
   "execution_count": null,
   "id": "e10abbf0",
   "metadata": {},
   "outputs": [],
   "source": []
  }
 ],
 "metadata": {
  "kernelspec": {
   "display_name": "Python 3 (ipykernel)",
   "language": "python",
   "name": "python3"
  },
  "language_info": {
   "codemirror_mode": {
    "name": "ipython",
    "version": 3
   },
   "file_extension": ".py",
   "mimetype": "text/x-python",
   "name": "python",
   "nbconvert_exporter": "python",
   "pygments_lexer": "ipython3",
   "version": "3.9.7"
  },
  "vscode": {
   "interpreter": {
    "hash": "2c464c225fdcc9707dbfe5f8601ecdb4fece2817f3535537e7ef0601ec8664ee"
   }
  }
 },
 "nbformat": 4,
 "nbformat_minor": 5
}
