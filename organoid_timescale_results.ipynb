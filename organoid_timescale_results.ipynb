{
 "cells": [
  {
   "cell_type": "code",
   "execution_count": 1,
   "id": "6b514cf2",
   "metadata": {},
   "outputs": [
    {
     "name": "stderr",
     "output_type": "stream",
     "text": [
      "/Users/blancamartin/opt/anaconda3/lib/python3.9/site-packages/statsmodels/tsa/base/tsa_model.py:7: FutureWarning: pandas.Int64Index is deprecated and will be removed from pandas in a future version. Use pandas.Index with the appropriate dtype instead.\n",
      "  from pandas import (to_datetime, Int64Index, DatetimeIndex, Period,\n",
      "/Users/blancamartin/opt/anaconda3/lib/python3.9/site-packages/statsmodels/tsa/base/tsa_model.py:7: FutureWarning: pandas.Float64Index is deprecated and will be removed from pandas in a future version. Use pandas.Index with the appropriate dtype instead.\n",
      "  from pandas import (to_datetime, Int64Index, DatetimeIndex, Period,\n"
     ]
    }
   ],
   "source": [
    "%load_ext autoreload\n",
    "%autoreload 2\n",
    "import warnings\n",
    "warnings.filterwarnings('once')\n",
    "warnings.filterwarnings(\"ignore\", category=DeprecationWarning)\n",
    "import os\n",
    "import numpy as np\n",
    "import pandas as pd\n",
    "import matplotlib.pyplot as plt\n",
    "from datetime import datetime\n",
    "import pickle\n",
    "import hdf5storage\n",
    "from tqdm.notebook import tqdm\n",
    "from neurodsp.spectral import compute_spectrum\n",
    "from timescales.autoreg import compute_ar_spectrum\n",
    "from timescales.fit import PSD, ACF\n",
    "from ndspflow.workflows import WorkFlow\n",
    "import timescale_development_hf as hf"
   ]
  },
  {
   "cell_type": "markdown",
   "id": "e0da83e9",
   "metadata": {},
   "source": [
    "### Read metadata and result pickles"
   ]
  },
  {
   "cell_type": "code",
   "execution_count": 5,
   "id": "83fb70c4",
   "metadata": {},
   "outputs": [],
   "source": [
    "metadata_file = '/Users/blancamartin/Downloads/organoid_metadata.pkl'"
   ]
  },
  {
   "cell_type": "code",
   "execution_count": 6,
   "id": "74630697",
   "metadata": {},
   "outputs": [],
   "source": [
    "with open(metadata_file, 'rb') as f:\n",
    "    organoid_metadata = pickle.load(f)"
   ]
  },
  {
   "cell_type": "code",
   "execution_count": null,
   "id": "5531a58e",
   "metadata": {},
   "outputs": [],
   "source": [
    "workflow_file = '/Users/trevormcpherson/Desktop/Voytek/Organoids/work_flow_analysis/workflow_run.pkl'"
   ]
  },
  {
   "cell_type": "code",
   "execution_count": null,
   "id": "7f224931",
   "metadata": {},
   "outputs": [],
   "source": [
    "with open(workflow_file, 'rb') as f:\n",
    "    wf = pickle.load(f)"
   ]
  }
 ],
 "metadata": {
  "kernelspec": {
   "display_name": "Python 3 (ipykernel)",
   "language": "python",
   "name": "python3"
  },
  "language_info": {
   "codemirror_mode": {
    "name": "ipython",
    "version": 3
   },
   "file_extension": ".py",
   "mimetype": "text/x-python",
   "name": "python",
   "nbconvert_exporter": "python",
   "pygments_lexer": "ipython3",
   "version": "3.9.7"
  }
 },
 "nbformat": 4,
 "nbformat_minor": 5
}
