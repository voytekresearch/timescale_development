{
 "cells": [
  {
   "cell_type": "code",
   "execution_count": 1,
   "id": "aa86ec3b",
   "metadata": {},
   "outputs": [],
   "source": [
    "# OPTIONAL: Load the \"autoreload\" extension so that code can change\n",
    "%load_ext autoreload\n",
    "\n",
    "# OPTIONAL: always reload modules so that as you change code in src, it gets loaded\n",
    "%autoreload 2"
   ]
  },
  {
   "cell_type": "code",
   "execution_count": 28,
   "id": "e7b54386",
   "metadata": {},
   "outputs": [],
   "source": [
    "\"\"\" %matplotlib inline\n",
    "%config InlineBackend.figure_format = 'retina'\"\"\"\n",
    "\n",
    "import warnings\n",
    "\n",
    "from tqdm.notebook import tqdm\n",
    "from multiprocessing import Pool, cpu_count\n",
    "from functools import partial\n",
    "\n",
    "import numpy as np\n",
    "import pandas as pd\n",
    "import scipy.stats as ss\n",
    "import os\n",
    "import pickle\n",
    "\n",
    "from scipy.optimize import curve_fit\n",
    "\n",
    "\n",
    "import statsmodels.formula.api as smf\n",
    "from scipy.stats import zscore, pearsonr, spearmanr\n",
    "\n",
    "from neurodsp.spectral import compute_spectrum\n",
    "from fooof import FOOOF\n",
    "\n",
    "\"\"\" import seaborn as sns\n",
    "sns.set_style('whitegrid')\"\"\"\n",
    "\n",
    "import matplotlib.pyplot as plt\n",
    "#from matplotlib import cm, rc\n",
    "\n"
   ]
  },
  {
   "cell_type": "markdown",
   "id": "8c9b52d9",
   "metadata": {},
   "source": [
    "### Read pickle files  - organoid foof results and metadata"
   ]
  },
  {
   "cell_type": "code",
   "execution_count": 3,
   "id": "e53779c1",
   "metadata": {},
   "outputs": [],
   "source": [
    "#get pickle results in folder\n",
    "\n",
    "pickle_org_metadata= '/Users/blancamartin/Desktop/Voytek_Lab/timescales/organoid_pickle_files/organoid_metadata_clean.pkl'\n",
    "pickle_org_fooof  = '/Users/blancamartin/Desktop/Voytek_Lab/timescales/organoid_pickle_files/workflow_run_fooof_2023-08-14_1423.pkl'\n"
   ]
  },
  {
   "cell_type": "code",
   "execution_count": 22,
   "id": "ae1b3c01",
   "metadata": {},
   "outputs": [],
   "source": [
    "#load pickle files\n",
    "with open(pickle_org_metadata, 'rb') as f:\n",
    "    organoid_metadata_clean = pickle.load(f)\n",
    "    \n",
    "with open(pickle_org_fooof, 'rb') as f:\n",
    "    wf = pickle.load(f)"
   ]
  },
  {
   "cell_type": "code",
   "execution_count": 25,
   "id": "208ec73d",
   "metadata": {},
   "outputs": [],
   "source": [
    "knee_freq_range = (0.01,9.99)\n",
    "zscore_thresh = 4\n",
    "spec_type =  'Welch' # 'Welch' or 'AR_3'\n",
    "spec_type_i = 0 # parallels spec_types to index the data\n",
    "knee_no_2 = False # for summary plots, if single knee leave false, if double use false/true for knee 1/2"
   ]
  },
  {
   "cell_type": "code",
   "execution_count": 79,
   "id": "fb087933",
   "metadata": {},
   "outputs": [],
   "source": [
    "n_fits,n_spec_types = wf.results.shape\n",
    "days = [organoid_metadata_clean['day_postdiff'].iloc[i] for i in range(n_fits)]\n",
    "if knee_no_2:\n",
    "    taus = [wf.results[i][spec_type_i].tau_double for i in range(n_fits)]\n",
    "    knee_freqs = [wf.results[i][spec_type_i].knee_freq_double for i in range(n_fits)]\n",
    "    rsqs = [wf.results[i][spec_type_i].rsq for i in range(n_fits)]\n",
    "else:\n",
    "    taus = [wf.results[i][spec_type_i].tau for i in range(n_fits)]\n",
    "    knee_freqs = [wf.results[i][spec_type_i].knee_freq for i in range(n_fits)]\n",
    "    rsqs = [wf.results[i][spec_type_i].rsq for i in range(n_fits)]\n",
    "\n",
    "unique_recordings = np.unique(organoid_metadata_clean['day_postdiff'])\n",
    "unique_wells = np.unique(organoid_metadata_clean['well'].values)\n",
    "unique_channels = np.unique(organoid_metadata_clean['channel'])\n",
    "n_recordings = len(unique_recordings); n_wells = len(unique_wells); n_channels = len(unique_channels)\n",
    "compiled_data_taus = np.full((n_recordings,n_wells,n_channels),np.nan)\n",
    "compiled_data_knee_freqs = np.full((n_recordings,n_wells,n_channels),np.nan)\n",
    "compiled_data_days = np.full((n_recordings,n_wells,n_channels),np.nan)\n",
    "compiled_data_rsqs = np.full((n_recordings,n_wells,n_channels),np.nan)\n",
    "for rec_i,recording in enumerate(unique_recordings):\n",
    "    for well_i,well in enumerate(unique_wells):\n",
    "        for channel_i,channel in enumerate(unique_channels):\n",
    "            this_idx_np = np.where((organoid_metadata_clean['day_postdiff'] == recording) & (organoid_metadata_clean['well'].values == well) & (organoid_metadata_clean['channel'].values == channel))[0]\n",
    "            if np.size(this_idx_np) > 0:\n",
    "                if len(this_idx_np) > 1:\n",
    "                    breakme\n",
    "                this_idx = this_idx_np[0]\n",
    "                compiled_data_taus[rec_i,well_i,channel_i] = taus[this_idx]\n",
    "                compiled_data_knee_freqs[rec_i,well_i,channel_i] = knee_freqs[this_idx]\n",
    "                compiled_data_days[rec_i,well_i,channel_i] = days[this_idx]\n",
    "                compiled_data_rsqs[rec_i,well_i,channel_i] = rsqs[this_idx]\n",
    "\n",
    "knee_freq_mask = (compiled_data_knee_freqs < knee_freq_range[0]) | (compiled_data_knee_freqs > knee_freq_range[1])\n",
    "compiled_data_taus_kfm = np.copy(compiled_data_taus); compiled_data_taus_kfm[knee_freq_mask] = np.nan\n",
    "compiled_data_knee_freqs_kfm = np.copy(compiled_data_knee_freqs); compiled_data_knee_freqs_kfm[knee_freq_mask] = np.nan\n",
    "compiled_data_days_kfm = np.copy(compiled_data_days); compiled_data_days_kfm[knee_freq_mask] = np.nan\n",
    "compiled_data_rsqs_kfm = np.copy(compiled_data_rsqs); compiled_data_rsqs_kfm[knee_freq_mask] = np.nan\n",
    "\n",
    "rsq_mask = compiled_data_rsqs < 0.9\n",
    "compiled_data_taus_kfm_rsq = np.copy(compiled_data_taus_kfm); compiled_data_taus_kfm_rsq[rsq_mask] = np.nan\n",
    "compiled_data_rsqs_kfm_rsq = np.copy(compiled_data_rsqs_kfm); compiled_data_rsqs_kfm_rsq[rsq_mask] = np.nan\n",
    "\n",
    "dims_compiled = compiled_data_taus_kfm_rsq.shape\n",
    "compiled_data_taus_kfm_rsq_vec = np.reshape(compiled_data_taus_kfm_rsq, (dims_compiled[0], np.product(dims_compiled[1:])))\n",
    "\n",
    "compiled_data_taus_kfm_rsq_vec[np.abs(zscore(compiled_data_taus_kfm_rsq_vec,axis=1,nan_policy='omit')) >= zscore_thresh] = np.nan"
   ]
  },
  {
   "cell_type": "code",
   "execution_count": 82,
   "id": "2eea5818",
   "metadata": {},
   "outputs": [],
   "source": [
    "days_in = compiled_data_days_kfm.ravel()\n",
    "data_in = np.log10(compiled_data_taus_kfm_rsq_vec.ravel())\n",
    "\n",
    "\n",
    "\n",
    "# remove nans\n",
    "days_in = days_in[~np.isnan(data_in)]\n",
    "data_in = data_in[~np.isnan(data_in)]\n",
    "\n",
    "# normalize days\n",
    "days_np = np.array(days_in)\n",
    "days_in = (days_np - days_np.min()) / (days_np - days_np.min()).max()\n",
    "\n",
    "# Create a mask based on the condition (time >= 0.2)\n",
    "\n",
    "mask = [t >= 0.2 for t in days_in]\n",
    "\n",
    "# Use the mask to filter both time and data\n",
    "days_in = np.asarray([t for i, t in enumerate(days_in) if mask[i]])\n",
    "data_in = np.asarray([d for i, d in enumerate(data_in) if mask[i]])\n",
    "\n",
    "\n",
    "\n"
   ]
  },
  {
   "cell_type": "code",
   "execution_count": 83,
   "id": "4fbc3f71",
   "metadata": {},
   "outputs": [
    {
     "data": {
      "text/plain": [
       "[<matplotlib.lines.Line2D at 0x7f8071a53ca0>]"
      ]
     },
     "execution_count": 83,
     "metadata": {},
     "output_type": "execute_result"
    },
    {
     "data": {
      "image/png": "[encoded data removed]",
      "text/plain": [
       "<Figure size 432x288 with 1 Axes>"
      ]
     },
     "metadata": {
      "needs_background": "light"
     },
     "output_type": "display_data"
    }
   ],
   "source": [
    "plt.plot(days_in, data_in, '.')"
   ]
  },
  {
   "cell_type": "markdown",
   "id": "cb5c87ad",
   "metadata": {},
   "source": [
    "## Hypotheses fitting (for figure 2 for timescale dev paper)"
   ]
  },
  {
   "cell_type": "code",
   "execution_count": 84,
   "id": "9d92d9bd",
   "metadata": {},
   "outputs": [],
   "source": [
    "def rsq(xdata, ydata, popt, f):\n",
    "    \n",
    "    #residual sum of squares\n",
    "    residuals = ydata- f(xdata, *popt)\n",
    "    ss_res = np.sum(residuals**2)\n",
    "    #total sum of squares\n",
    "    ss_tot = np.sum((ydata-np.mean(ydata))**2)\n",
    "    \n",
    "    r_squared = 1 - (ss_res / ss_tot)\n",
    "    \n",
    "    return r_squared\n",
    "    "
   ]
  },
  {
   "cell_type": "code",
   "execution_count": 114,
   "id": "96af8b7b",
   "metadata": {},
   "outputs": [],
   "source": [
    "def f_test(xdata, ydata, model0, model1, popt0, popt1, p0, p1):\n",
    "\n",
    "    yfit0 = model0(xdata, *popt0)\n",
    "    yfit1 = model1(xdata, *popt1)\n",
    "\n",
    "    ssq0 = ((yfit0-ydata)**2).sum()\n",
    "    ssq1 = ((yfit1-ydata)**2).sum()\n",
    "    \n",
    "    param_diff = p1 - p0\n",
    "    print(param_diff)\n",
    "    \n",
    "    if param_diff == 0:\n",
    "        df_0 = len(xdata) - p0\n",
    "        print(\"df0\",df_0)\n",
    "        df_1 = len(xdata) - p1\n",
    "        print(\"df1\", df_1)\n",
    "        f_ratio = ssq1/ssq0\n",
    "        p = 1 - ss.f.cdf(f_ratio, df_0, df_1)\n",
    "    else:\n",
    "        df = len(xdata) - p1\n",
    "        print(\"df\", df)\n",
    "        f_ratio = ((ssq0 - ssq1) / param_diff) / (ssq1 / df)\n",
    "        p = 1 - ss.f.cdf(f_ratio, param_diff, df)\n",
    "\n",
    "    return f_ratio, p"
   ]
  },
  {
   "cell_type": "code",
   "execution_count": 99,
   "id": "8edd4d8f",
   "metadata": {},
   "outputs": [],
   "source": [
    "# Define the Gaussian function\n",
    "def gaussian(x,a,x0,sigma, c):\n",
    "    return a*np.exp(-(x-x0)**2/(2*sigma**2))  + c\n",
    "# Define the sigmoid function\n",
    "def sigmoid(x, A, B, C, D):\n",
    "    return A / (1 + np.exp(-C * (x - B))) + D\n",
    "\n",
    "# Define the horizontal line function (constant)\n",
    "def horizontal_line(x, A):\n",
    "    return A"
   ]
  },
  {
   "cell_type": "code",
   "execution_count": 87,
   "id": "067d2bf1",
   "metadata": {},
   "outputs": [],
   "source": [
    "def fit_hyp(divs, taus, guess_gaussian, bounds_gaussian, guess_sigmoid, bounds_sigmoid):\n",
    "    \n",
    "    \n",
    "    # Fit the Gaussian function to your data\n",
    "    params_gaussian, _ = curve_fit(gaussian, divs, taus, p0=guess_gaussian, bounds=bounds_gaussian, maxfev=2000)\n",
    "\n",
    "    # Fit the sigmoid function to your data\n",
    "    params_sigmoid, _ = curve_fit(sigmoid, divs, taus, p0=guess_sigmoid,method='dogbox', maxfev=2000)\n",
    "\n",
    "    # Fit the horizontal line to your data\n",
    "    params_horizontal_line, _ = curve_fit(horizontal_line, divs, taus)\n",
    "\n",
    "\n",
    "    return params_horizontal_line, params_sigmoid, params_gaussian"
   ]
  },
  {
   "cell_type": "code",
   "execution_count": 88,
   "id": "687eed41",
   "metadata": {},
   "outputs": [],
   "source": [
    "def plt_hyp(divs, taus, params_horizontal_line, params_sigmoid, params_gaussian, ylim=None ):\n",
    "    \n",
    "    # Create a range of x values for plotting\n",
    "    x_fit = np.linspace(min(divs), max(divs), 100)\n",
    "\n",
    "    # Calculate the corresponding y values using the fitted parameters for each function\n",
    "    y_fit_gaussian = gaussian(x_fit, *params_gaussian)\n",
    "    y_fit_sigmoid = sigmoid(x_fit, *params_sigmoid)\n",
    "    y_fit_horizontal_line = horizontal_line(x_fit, params_horizontal_line[0])\n",
    "\n",
    "    # Plot the data and the fitted functions\n",
    "    plt.figure(figsize =  (6,5))\n",
    "    # Create the scatter plot of the data\n",
    "    plt.plot(divs, taus, '.', color = \"dimgrey\")\n",
    "    #plt.ylabel(\"Log(timescales)\", size = 18)\n",
    "    #plt.xlabel(\"Days \", size = 18)\n",
    "    plt.xticks(size = 13)\n",
    "    plt.yticks(size = 13)\n",
    "\n",
    "    plt.axhline(y=params_horizontal_line[0], xmin = 0.04, xmax = 0.98, color='#FDAE61', linestyle='-.', linewidth=5,dashes=(5,2))\n",
    "    plt.plot(x_fit, y_fit_sigmoid, '-.', color='#2D7BB6', linewidth=5, dashes=(4,2))\n",
    "    plt.plot(x_fit, y_fit_gaussian, '-.',color='#D7191D', linewidth=5, dashes=(2, 2))\n",
    "    \n",
    "    if ylim:\n",
    "        plt.ylim(ylim[0],ylim[1])\n",
    "\n",
    "    \n",
    "    \"\"\"\n",
    "    days_pn = ['6', '11', '16', '21','26','31']\n",
    "    \n",
    "    locs, labels = plt.xticks()\n",
    "    print(locs)\n",
    "    labels = days_pn\n",
    "    plt.xticks(locs[1:-1], labels)\"\"\"\n",
    "    plt.show()"
   ]
  },
  {
   "cell_type": "markdown",
   "id": "196840cb",
   "metadata": {},
   "source": [
    "### Log version"
   ]
  },
  {
   "cell_type": "code",
   "execution_count": 100,
   "id": "341257d3",
   "metadata": {},
   "outputs": [
    {
     "data": {
      "image/png": "[encoded data removed]",
      "text/plain": [
       "<Figure size 432x360 with 1 Axes>"
      ]
     },
     "metadata": {
      "needs_background": "light"
     },
     "output_type": "display_data"
    }
   ],
   "source": [
    "# guesses\n",
    "guess_sigmoid = [\n",
    "    0.3, # amplitude\n",
    "    np.max(days_in), # mean\n",
    "    np.max(days_in)/10, # standard deviation\n",
    "    -1.4 # offset\n",
    "]\n",
    "guess_gaussian = [\n",
    "    np.max(data_in), # amplitude\n",
    "    np.max(days_in), # mean\n",
    "    np.max(days_in)/10, # standard deviation\n",
    "    np.min(data_in) # offset\n",
    "]\n",
    "\n",
    "bounds_gaussian = ([-np.inf, -np.inf, -np.inf], [np.inf, np.inf, np.inf])\n",
    "\n",
    "bounds_sigmoid = ([-np.inf, -np.inf, -np.inf, -np.inf], [np.inf, np.inf, np.inf, np.inf])\n",
    "\n",
    "#fit_method = 'trf' # 'lm', 'trf', 'dogbox'\n",
    "params_horizontal_line, params_sigmoid, params_gaussian = fit_hyp(days_in, data_in, guess_gaussian, bounds_gaussian, guess_sigmoid, bounds_sigmoid)\n",
    "\n",
    "#plot\n",
    "plt_hyp(days_in, data_in, params_horizontal_line, params_sigmoid, params_gaussian, ylim=None )\n"
   ]
  },
  {
   "cell_type": "markdown",
   "id": "13d99351",
   "metadata": {},
   "source": [
    "### Compute rsqs for fits - log version"
   ]
  },
  {
   "cell_type": "code",
   "execution_count": 101,
   "id": "908ec90e",
   "metadata": {},
   "outputs": [
    {
     "name": "stdout",
     "output_type": "stream",
     "text": [
      "rsq rat h0: 0.0\n",
      "rsq rat h1: 0.045134394541365475\n",
      "rsq rat h2: 0.0512061495133832\n"
     ]
    }
   ],
   "source": [
    "#get r-squared values\n",
    "\n",
    "rsqs_rat_h0 = rsq(days_in,  data_in, params_horizontal_line, horizontal_line) \n",
    "rsqs_rat_h1 = rsq(days_in,  data_in, params_sigmoid, sigmoid) \n",
    "rsqs_rat_h2 = rsq(days_in,  data_in, params_gaussian, gaussian) \n",
    "\n",
    "print(\"rsq rat h0:\", rsqs_rat_h0)\n",
    "print(\"rsq rat h1:\", rsqs_rat_h1)\n",
    "print(\"rsq rat h2:\", rsqs_rat_h2)"
   ]
  },
  {
   "cell_type": "markdown",
   "id": "55857e75",
   "metadata": {},
   "source": [
    "### f-tests"
   ]
  },
  {
   "cell_type": "code",
   "execution_count": 115,
   "id": "b03c7bdf",
   "metadata": {},
   "outputs": [
    {
     "name": "stdout",
     "output_type": "stream",
     "text": [
      "3\n",
      "df 2367\n",
      "3\n",
      "df 2367\n",
      "0\n",
      "df0 2367\n",
      "df1 2367\n",
      "f_test rat h0 vs h1: (37.29429260993528, 1.1102230246251565e-16)\n",
      "f_test rat h0 vs h2: (42.582118281371834, 1.1102230246251565e-16)\n",
      "f_test rat h1 vs h2: (1.0063994459585754, 0.4383476514623941)\n"
     ]
    }
   ],
   "source": [
    "\n",
    "#f-tests\n",
    "f_test_h0_h1 = f_test(days_in, data_in, horizontal_line, sigmoid,\n",
    "                      params_horizontal_line, params_sigmoid, 1, 4)\n",
    "f_test_h0_h2 = f_test(days_in, data_in, horizontal_line, gaussian, \n",
    "                      params_horizontal_line, params_gaussian,1,4)\n",
    "f_test_h2_h1 = f_test(days_in, data_in, gaussian, sigmoid, \n",
    "                      params_gaussian, params_sigmoid,4,4)\n",
    "\n",
    "print(\"f_test rat h0 vs h1:\", f_test_h0_h1)\n",
    "print(\"f_test rat h0 vs h2:\", f_test_h0_h2)\n",
    "print(\"f_test rat h1 vs h2:\", f_test_h2_h1)"
   ]
  },
  {
   "cell_type": "markdown",
   "id": "236ddf8b",
   "metadata": {},
   "source": [
    "## Mean analysis"
   ]
  },
  {
   "cell_type": "markdown",
   "id": "dc4eea20",
   "metadata": {},
   "source": [
    "### Get mean days and timescales"
   ]
  },
  {
   "cell_type": "code",
   "execution_count": 103,
   "id": "a63dc6e3",
   "metadata": {},
   "outputs": [],
   "source": [
    "def get_mean_std_recday (taus, divs):\n",
    "    days = sorted(set(divs))\n",
    "    all_indices = []\n",
    "    days_taus = []\n",
    "    mean_taus = []\n",
    "    std_taus = []\n",
    "\n",
    "    #get indices for each day\n",
    "\n",
    "    for d in days:\n",
    "   \n",
    "        indices = [i for i, x in enumerate(divs) if x == d]\n",
    "\n",
    "        \n",
    "        all_indices.append(indices)\n",
    "        #get taus for those indices\n",
    "        day_taus = taus[indices]\n",
    "        days_taus.append(day_taus)\n",
    "        #get means and stds\n",
    "        mean_taus.append(np.mean(day_taus))\n",
    "        std_taus.append(np.std(day_taus))\n",
    "        \n",
    "    return [days, all_indices, days_taus, mean_taus, std_taus]"
   ]
  },
  {
   "cell_type": "code",
   "execution_count": 104,
   "id": "2763d78a",
   "metadata": {},
   "outputs": [],
   "source": [
    "days, all_indices,days_taus_filt, mean_taus_filt, std_filt = get_mean_std_recday(data_in, days_in)"
   ]
  },
  {
   "cell_type": "code",
   "execution_count": 105,
   "id": "08014c05",
   "metadata": {},
   "outputs": [
    {
     "data": {
      "text/plain": [
       "Text(0.5, 1.0, 'Mean day taus')"
      ]
     },
     "execution_count": 105,
     "metadata": {},
     "output_type": "execute_result"
    },
    {
     "data": {
      "image/png": "[encoded data removed]",
      "text/plain": [
       "<Figure size 432x288 with 1 Axes>"
      ]
     },
     "metadata": {
      "needs_background": "light"
     },
     "output_type": "display_data"
    }
   ],
   "source": [
    "#plot the mean\n",
    "plt.plot(days, mean_taus_filt, '.')\n",
    "plt.title(\"Mean day taus\")"
   ]
  },
  {
   "cell_type": "markdown",
   "id": "86121ace",
   "metadata": {},
   "source": [
    "### Fit the mean "
   ]
  },
  {
   "cell_type": "code",
   "execution_count": 106,
   "id": "ad4a7796",
   "metadata": {},
   "outputs": [
    {
     "data": {
      "image/png": "[encoded data removed]",
      "text/plain": [
       "<Figure size 432x360 with 1 Axes>"
      ]
     },
     "metadata": {
      "needs_background": "light"
     },
     "output_type": "display_data"
    }
   ],
   "source": [
    "#Linear\n",
    "\n",
    "# Guess and bounds for Gaussian fit\n",
    "# guesses\n",
    "guess_sigmoid = [\n",
    "    np.max(data_in), # amplitude\n",
    "    np.min(data_in), # offset\n",
    "    np.max(days_in)/10, # gain\n",
    "    np.max(days_in) # midpoint\n",
    "]\n",
    "guess_gaussian = [\n",
    "    np.max(data_in), # amplitude\n",
    "    np.max(days_in), # mean\n",
    "    np.max(days_in)/10, # standard deviation\n",
    "    np.min(data_in) # offset\n",
    "]\n",
    "\n",
    "bounds_gaussian = ([-np.inf, -np.inf, -np.inf], [np.inf, np.inf, np.inf])\n",
    "\n",
    "bounds_sigmoid = ([-np.inf, -np.inf, -np.inf, -np.inf], [np.inf, np.inf, np.inf, np.inf])\n",
    "\n",
    "params_horizontal_line_mean, params_sigmoid_mean, params_gaussian_mean = fit_hyp(days, mean_taus_filt, guess_gaussian, bounds_gaussian, guess_sigmoid, bounds_sigmoid)\n",
    "\n",
    "#plot\n",
    "plt_hyp(days,  mean_taus_filt, params_horizontal_line_mean, params_sigmoid_mean, params_gaussian_mean, ylim=None )\n"
   ]
  },
  {
   "cell_type": "markdown",
   "id": "3084409c",
   "metadata": {},
   "source": [
    "### Calculate rsq for mean"
   ]
  },
  {
   "cell_type": "code",
   "execution_count": 109,
   "id": "05b8dac8",
   "metadata": {},
   "outputs": [
    {
     "name": "stdout",
     "output_type": "stream",
     "text": [
      "rsq rat h0: 0.0\n",
      "rsq rat h1: 0.13503763922065937\n",
      "rsq rat h2: 0.15022234506734944\n"
     ]
    }
   ],
   "source": [
    "#get r-squared values\n",
    "\n",
    "rsqs_rat_h0 = rsq(days,  mean_taus_filt,params_horizontal_line_mean, horizontal_line) \n",
    "rsqs_rat_h1 = rsq(days,  mean_taus_filt,  params_sigmoid_mean, sigmoid) \n",
    "rsqs_rat_h2 = rsq(days,  mean_taus_filt, params_gaussian_mean, gaussian) \n",
    "\n",
    "print(\"rsq rat h0:\", rsqs_rat_h0)\n",
    "print(\"rsq rat h1:\", rsqs_rat_h1)\n",
    "print(\"rsq rat h2:\", rsqs_rat_h2)"
   ]
  },
  {
   "cell_type": "markdown",
   "id": "19e55496",
   "metadata": {},
   "source": [
    "### f-tests for mean"
   ]
  },
  {
   "cell_type": "code",
   "execution_count": 111,
   "id": "2847206a",
   "metadata": {},
   "outputs": [
    {
     "name": "stdout",
     "output_type": "stream",
     "text": [
      "f_test rat h0 vs h1: (1.4571169296398405, 0.2475034633207953)\n",
      "f_test rat h0 vs h2: (1.6499318527500189, 0.20039489634531682)\n",
      "f_test rat h1 vs h2: (1.0178690340450214, 0.4814786425240152)\n"
     ]
    }
   ],
   "source": [
    "\n",
    "#f-tests\n",
    "f_test_h0_h1 = f_test(days, mean_taus_filt, horizontal_line, sigmoid,\n",
    "                      params_horizontal_line_mean, params_sigmoid_mean, 1, 4)\n",
    "f_test_h0_h2 = f_test(days, mean_taus_filt, horizontal_line, gaussian, \n",
    "                      params_horizontal_line_mean, params_gaussian_mean,1,4)\n",
    "f_test_h2_h1 = f_test(days, mean_taus_filt, gaussian, sigmoid, \n",
    "                      params_gaussian_mean, params_sigmoid_mean,4,4)\n",
    "\n",
    "print(\"f_test rat h0 vs h1:\", f_test_h0_h1)\n",
    "print(\"f_test rat h0 vs h2:\", f_test_h0_h2)\n",
    "print(\"f_test rat h1 vs h2:\", f_test_h2_h1)"
   ]
  },
  {
   "cell_type": "code",
   "execution_count": null,
   "id": "12aaaec7",
   "metadata": {},
   "outputs": [],
   "source": []
  },
  {
   "cell_type": "code",
   "execution_count": null,
   "id": "214797fa",
   "metadata": {},
   "outputs": [],
   "source": []
  },
  {
   "cell_type": "code",
   "execution_count": null,
   "id": "49941ef6",
   "metadata": {},
   "outputs": [],
   "source": []
  },
  {
   "cell_type": "code",
   "execution_count": null,
   "id": "6582ab07",
   "metadata": {},
   "outputs": [],
   "source": []
  }
 ],
 "metadata": {
  "kernelspec": {
   "display_name": "Python 3 (ipykernel)",
   "language": "python",
   "name": "python3"
  },
  "language_info": {
   "codemirror_mode": {
    "name": "ipython",
    "version": 3
   },
   "file_extension": ".py",
   "mimetype": "text/x-python",
   "name": "python",
   "nbconvert_exporter": "python",
   "pygments_lexer": "ipython3",
   "version": "3.9.7"
  }
 },
 "nbformat": 4,
 "nbformat_minor": 5
}
