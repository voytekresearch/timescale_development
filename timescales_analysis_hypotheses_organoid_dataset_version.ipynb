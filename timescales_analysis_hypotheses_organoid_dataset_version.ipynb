{
 "cells": [
  {
   "cell_type": "code",
   "execution_count": 1,
   "id": "aa86ec3b",
   "metadata": {},
   "outputs": [],
   "source": [
    "# OPTIONAL: Load the \"autoreload\" extension so that code can change\n",
    "%load_ext autoreload\n",
    "\n",
    "# OPTIONAL: always reload modules so that as you change code in src, it gets loaded\n",
    "%autoreload 2"
   ]
  },
  {
   "cell_type": "code",
   "execution_count": 47,
   "id": "e7b54386",
   "metadata": {},
   "outputs": [],
   "source": [
    "\"\"\" %matplotlib inline\n",
    "%config InlineBackend.figure_format = 'retina'\"\"\"\n",
    "\n",
    "import warnings\n",
    "\n",
    "from tqdm.notebook import tqdm\n",
    "from multiprocessing import Pool, cpu_count\n",
    "from functools import partial\n",
    "\n",
    "import numpy as np\n",
    "import pandas as pd\n",
    "import scipy.stats as ss\n",
    "import os\n",
    "import pickle\n",
    "\n",
    "from scipy.optimize import curve_fit\n",
    "\n",
    "\n",
    "#import statsmodels.formula.api as smf\n",
    "from scipy.stats import zscore, pearsonr, spearmanr\n",
    "from scipy.stats import ttest_ind\n",
    "\n",
    "\n",
    "#from neurodsp.spectral import compute_spectrum\n",
    "#from fooof import FOOOF\n",
    "\n",
    "\"\"\" import seaborn as sns\n",
    "sns.set_style('whitegrid')\"\"\"\n",
    "\n",
    "import matplotlib.pyplot as plt\n",
    "#from matplotlib import cm, rc\n",
    "\n"
   ]
  },
  {
   "cell_type": "code",
   "execution_count": 3,
   "id": "c35ad0c2",
   "metadata": {},
   "outputs": [
    {
     "name": "stdout",
     "output_type": "stream",
     "text": [
      "0.59.0\n"
     ]
    }
   ],
   "source": [
    "import numba\n",
    "print(numba.__version__)\n"
   ]
  },
  {
   "cell_type": "markdown",
   "id": "8c9b52d9",
   "metadata": {},
   "source": [
    "### Read pickle files  - organoid foof results and metadata"
   ]
  },
  {
   "cell_type": "code",
   "execution_count": 4,
   "id": "e53779c1",
   "metadata": {},
   "outputs": [],
   "source": [
    "#get pickle results in folder\n",
    "\n",
    "pickle_org_metadata= '/Users/blancamartin/Desktop/Voytek_Lab/timescales/organoid_pickle_files/organoid_metadata_clean.pkl'\n",
    "pickle_org_fooof  = '/Users/blancamartin/Desktop/Voytek_Lab/timescales/organoid_pickle_files/workflow_run_fooof_2023-08-14_1423.pkl'\n"
   ]
  },
  {
   "cell_type": "code",
   "execution_count": 5,
   "id": "d70d21c6-3322-4058-a5fd-7fb0297e01fd",
   "metadata": {},
   "outputs": [],
   "source": [
    "#load pickle files\n",
    "\n",
    "organoid_metadata_clean = pd.read_pickle(pickle_org_metadata)\n",
    "\n",
    "\n",
    "wf = pd.read_pickle(pickle_org_fooof)"
   ]
  },
  {
   "cell_type": "code",
   "execution_count": 6,
   "id": "208ec73d",
   "metadata": {},
   "outputs": [],
   "source": [
    "knee_freq_range = (0.01,9.99)\n",
    "zscore_thresh = 4\n",
    "spec_type =  'Welch' # 'Welch' or 'AR_3'\n",
    "spec_type_i = 0 # parallels spec_types to index the data\n",
    "knee_no_2 = False # for summary plots, if single knee leave false, if double use false/true for knee 1/2"
   ]
  },
  {
   "cell_type": "code",
   "execution_count": 7,
   "id": "fb087933",
   "metadata": {},
   "outputs": [],
   "source": [
    "n_fits,n_spec_types = wf.results.shape\n",
    "days = [organoid_metadata_clean['day_postdiff'].iloc[i] for i in range(n_fits)]\n",
    "if knee_no_2:\n",
    "    taus = [wf.results[i][spec_type_i].tau_double for i in range(n_fits)]\n",
    "    knee_freqs = [wf.results[i][spec_type_i].knee_freq_double for i in range(n_fits)]\n",
    "    rsqs = [wf.results[i][spec_type_i].rsq for i in range(n_fits)]\n",
    "else:\n",
    "    taus = [wf.results[i][spec_type_i].tau for i in range(n_fits)]\n",
    "    knee_freqs = [wf.results[i][spec_type_i].knee_freq for i in range(n_fits)]\n",
    "    rsqs = [wf.results[i][spec_type_i].rsq for i in range(n_fits)]\n",
    "\n",
    "unique_recordings = np.unique(organoid_metadata_clean['day_postdiff'])\n",
    "unique_wells = np.unique(organoid_metadata_clean['well'].values)\n",
    "unique_channels = np.unique(organoid_metadata_clean['channel'])\n",
    "n_recordings = len(unique_recordings); n_wells = len(unique_wells); n_channels = len(unique_channels)\n",
    "compiled_data_taus = np.full((n_recordings,n_wells,n_channels),np.nan)\n",
    "compiled_data_knee_freqs = np.full((n_recordings,n_wells,n_channels),np.nan)\n",
    "compiled_data_days = np.full((n_recordings,n_wells,n_channels),np.nan)\n",
    "compiled_data_rsqs = np.full((n_recordings,n_wells,n_channels),np.nan)\n",
    "for rec_i,recording in enumerate(unique_recordings):\n",
    "    for well_i,well in enumerate(unique_wells):\n",
    "        for channel_i,channel in enumerate(unique_channels):\n",
    "            this_idx_np = np.where((organoid_metadata_clean['day_postdiff'] == recording) & (organoid_metadata_clean['well'].values == well) & (organoid_metadata_clean['channel'].values == channel))[0]\n",
    "            if np.size(this_idx_np) > 0:\n",
    "                if len(this_idx_np) > 1:\n",
    "                    breakme\n",
    "                this_idx = this_idx_np[0]\n",
    "                compiled_data_taus[rec_i,well_i,channel_i] = taus[this_idx]\n",
    "                compiled_data_knee_freqs[rec_i,well_i,channel_i] = knee_freqs[this_idx]\n",
    "                compiled_data_days[rec_i,well_i,channel_i] = days[this_idx]\n",
    "                compiled_data_rsqs[rec_i,well_i,channel_i] = rsqs[this_idx]\n",
    "\n",
    "knee_freq_mask = (compiled_data_knee_freqs < knee_freq_range[0]) | (compiled_data_knee_freqs > knee_freq_range[1])\n",
    "compiled_data_taus_kfm = np.copy(compiled_data_taus); compiled_data_taus_kfm[knee_freq_mask] = np.nan\n",
    "compiled_data_knee_freqs_kfm = np.copy(compiled_data_knee_freqs); compiled_data_knee_freqs_kfm[knee_freq_mask] = np.nan\n",
    "compiled_data_days_kfm = np.copy(compiled_data_days); compiled_data_days_kfm[knee_freq_mask] = np.nan\n",
    "compiled_data_rsqs_kfm = np.copy(compiled_data_rsqs); compiled_data_rsqs_kfm[knee_freq_mask] = np.nan\n",
    "\n",
    "rsq_mask = compiled_data_rsqs < 0.9\n",
    "compiled_data_taus_kfm_rsq = np.copy(compiled_data_taus_kfm); compiled_data_taus_kfm_rsq[rsq_mask] = np.nan\n",
    "compiled_data_rsqs_kfm_rsq = np.copy(compiled_data_rsqs_kfm); compiled_data_rsqs_kfm_rsq[rsq_mask] = np.nan\n",
    "\n",
    "dims_compiled = compiled_data_taus_kfm_rsq.shape\n",
    "compiled_data_taus_kfm_rsq_vec = np.reshape(compiled_data_taus_kfm_rsq, (dims_compiled[0], np.product(dims_compiled[1:])))\n",
    "\n",
    "compiled_data_taus_kfm_rsq_vec[np.abs(zscore(compiled_data_taus_kfm_rsq_vec,axis=1,nan_policy='omit')) >= zscore_thresh] = np.nan"
   ]
  },
  {
   "cell_type": "code",
   "execution_count": 8,
   "id": "2eea5818",
   "metadata": {},
   "outputs": [],
   "source": [
    "days_in = compiled_data_days_kfm.ravel()\n",
    "data_in = np.log10(compiled_data_taus_kfm_rsq_vec.ravel())\n",
    "\n",
    "\n",
    "\n",
    "# remove nans\n",
    "days_in = days_in[~np.isnan(data_in)]\n",
    "data_in = data_in[~np.isnan(data_in)]\n",
    "\n",
    "# normalize days\n",
    "days_np = np.array(days_in)\n",
    "days_in = (days_np - days_np.min()) / (days_np - days_np.min()).max()\n",
    "\n",
    "# Create a mask based on the condition (time >= 0.2)\n",
    "\n",
    "mask = [t >= 0.2 for t in days_in]\n",
    "\n",
    "# Use the mask to filter both time and data\n",
    "days_in = np.asarray([t for i, t in enumerate(days_in) if mask[i]])\n",
    "data_in = np.asarray([d for i, d in enumerate(data_in) if mask[i]])\n",
    "\n",
    "\n",
    "\n"
   ]
  },
  {
   "cell_type": "code",
   "execution_count": 9,
   "id": "4fbc3f71",
   "metadata": {},
   "outputs": [
    {
     "data": {
      "text/plain": [
       "[<matplotlib.lines.Line2D at 0x7f96521f38b0>]"
      ]
     },
     "execution_count": 9,
     "metadata": {},
     "output_type": "execute_result"
    },
    {
     "data": {
      "image/png": "[encoded data removed]",
      "text/plain": [
       "<Figure size 640x480 with 1 Axes>"
      ]
     },
     "metadata": {},
     "output_type": "display_data"
    }
   ],
   "source": [
    "plt.plot(days_in, data_in, '.')"
   ]
  },
  {
   "cell_type": "markdown",
   "id": "cb5c87ad",
   "metadata": {},
   "source": [
    "## Hypotheses fitting (for figure 2 for timescale dev paper)"
   ]
  },
  {
   "cell_type": "code",
   "execution_count": 10,
   "id": "9d92d9bd",
   "metadata": {},
   "outputs": [],
   "source": [
    "def rsq(xdata, ydata, popt, f):\n",
    "    \n",
    "    #residual sum of squares\n",
    "    residuals = ydata- f(xdata, *popt)\n",
    "    ss_res = np.sum(residuals**2)\n",
    "    #total sum of squares\n",
    "    ss_tot = np.sum((ydata-np.mean(ydata))**2)\n",
    "    \n",
    "    r_squared = 1 - (ss_res / ss_tot)\n",
    "    \n",
    "    return r_squared\n",
    "    "
   ]
  },
  {
   "cell_type": "code",
   "execution_count": 11,
   "id": "96af8b7b",
   "metadata": {},
   "outputs": [],
   "source": [
    "def f_test(xdata, ydata, model0, model1, popt0, popt1, p0, p1):\n",
    "\n",
    "    yfit0 = model0(xdata, *popt0)\n",
    "    yfit1 = model1(xdata, *popt1)\n",
    "\n",
    "    ssq0 = ((yfit0-ydata)**2).sum()\n",
    "    ssq1 = ((yfit1-ydata)**2).sum()\n",
    "    \n",
    "    param_diff = p1 - p0\n",
    "\n",
    "    \n",
    "    if param_diff == 0:\n",
    "        df_0 = len(xdata) - p0\n",
    "    \n",
    "        df_1 = len(xdata) - p1\n",
    "    \n",
    "        f_orgio = ssq1/ssq0\n",
    "        p = 1 - ss.f.cdf(f_orgio, df_0, df_1)\n",
    "    else:\n",
    "        df = len(xdata) - p1\n",
    "\n",
    "        f_orgio = ((ssq0 - ssq1) / param_diff) / (ssq1 / df)\n",
    "        p = 1 - ss.f.cdf(f_orgio, param_diff, df)\n",
    "\n",
    "    return f_orgio, p"
   ]
  },
  {
   "cell_type": "code",
   "execution_count": 12,
   "id": "8edd4d8f",
   "metadata": {},
   "outputs": [],
   "source": [
    "# Define the Gaussian function\n",
    "def gaussian(x,a,x0,sigma, c):\n",
    "    return a*np.exp(-(x-x0)**2/(2*sigma**2))  + c\n",
    "# Define the sigmoid function\n",
    "def sigmoid(x, A, B, C, D):\n",
    "    return A / (1 + np.exp(-C * (x - B))) + D\n",
    "\n",
    "# Define the horizontal line function (constant)\n",
    "def horizontal_line(x, A):\n",
    "    return A"
   ]
  },
  {
   "cell_type": "code",
   "execution_count": 13,
   "id": "067d2bf1",
   "metadata": {},
   "outputs": [],
   "source": [
    "def fit_hyp(divs, taus, guess_gaussian, bounds_gaussian, guess_sigmoid, bounds_sigmoid):\n",
    "    \n",
    "    \n",
    "    # Fit the Gaussian function to your data\n",
    "    params_gaussian, _ = curve_fit(gaussian, divs, taus, p0=guess_gaussian, bounds=bounds_gaussian, maxfev=2000)\n",
    "\n",
    "    # Fit the sigmoid function to your data\n",
    "    params_sigmoid, _ = curve_fit(sigmoid, divs, taus, p0=guess_sigmoid,method='dogbox', maxfev=2000)\n",
    "\n",
    "    # Fit the horizontal line to your data\n",
    "    params_horizontal_line, _ = curve_fit(horizontal_line, divs, taus)\n",
    "\n",
    "\n",
    "    return params_horizontal_line, params_sigmoid, params_gaussian"
   ]
  },
  {
   "cell_type": "code",
   "execution_count": 14,
   "id": "687eed41",
   "metadata": {},
   "outputs": [],
   "source": [
    "def plt_hyp(divs, taus, params_horizontal_line, params_sigmoid, params_gaussian, ylim=None ):\n",
    "    \n",
    "    # Create a range of x values for plotting\n",
    "    x_fit = np.linspace(min(divs), max(divs), 100)\n",
    "\n",
    "    # Calculate the corresponding y values using the fitted parameters for each function\n",
    "    y_fit_gaussian = gaussian(x_fit, *params_gaussian)\n",
    "    y_fit_sigmoid = sigmoid(x_fit, *params_sigmoid)\n",
    "    y_fit_horizontal_line = horizontal_line(x_fit, params_horizontal_line[0])\n",
    "\n",
    "    # Plot the data and the fitted functions\n",
    "    plt.figure(figsize =  (6,5))\n",
    "    # Create the scatter plot of the data\n",
    "    plt.plot(divs, taus, '.', color = \"dimgrey\")\n",
    "    #plt.ylabel(\"Log(timescales)\", size = 18)\n",
    "    #plt.xlabel(\"Days \", size = 18)\n",
    "    plt.xticks(size = 13)\n",
    "    plt.yticks(size = 13)\n",
    "\n",
    "    plt.axhline(y=params_horizontal_line[0], xmin = 0.04, xmax = 0.98, color='#FDAE61', linestyle='-.', linewidth=5,dashes=(5,2))\n",
    "    plt.plot(x_fit, y_fit_sigmoid, '-.', color='#2D7BB6', linewidth=5, dashes=(4,2))\n",
    "    plt.plot(x_fit, y_fit_gaussian, '-.',color='#D7191D', linewidth=5, dashes=(2, 2))\n",
    "    \n",
    "    if ylim:\n",
    "        plt.ylim(ylim[0],ylim[1])\n",
    "\n",
    "    \n",
    "    \"\"\"\n",
    "    days_pn = ['6', '11', '16', '21','26','31']\n",
    "    \n",
    "    locs, labels = plt.xticks()\n",
    "    print(locs)\n",
    "    labels = days_pn\n",
    "    plt.xticks(locs[1:-1], labels)\"\"\"\n",
    "    plt.show()"
   ]
  },
  {
   "cell_type": "markdown",
   "id": "196840cb",
   "metadata": {},
   "source": [
    "### Log version"
   ]
  },
  {
   "cell_type": "code",
   "execution_count": 15,
   "id": "341257d3",
   "metadata": {},
   "outputs": [
    {
     "name": "stdout",
     "output_type": "stream",
     "text": [
      "Intel MKL WARNING: Support of Intel(R) Streaming SIMD Extensions 4.2 (Intel(R) SSE4.2) enabled only processors has been deprecated. Intel oneAPI Math Kernel Library 2025.0 will require Intel(R) Advanced Vector Extensions (Intel(R) AVX) instructions.\n"
     ]
    },
    {
     "data": {
      "image/png": "[encoded data removed]",
      "text/plain": [
       "<Figure size 600x500 with 1 Axes>"
      ]
     },
     "metadata": {},
     "output_type": "display_data"
    }
   ],
   "source": [
    "# guesses\n",
    "guess_sigmoid = [\n",
    "    0.3, # amplitude\n",
    "    np.max(days_in), # mean\n",
    "    np.max(days_in)/10, # standard deviation\n",
    "    -1.4 # offset\n",
    "]\n",
    "guess_gaussian = [\n",
    "    np.max(data_in), # amplitude\n",
    "    np.max(days_in), # mean\n",
    "    np.max(days_in)/10, # standard deviation\n",
    "    np.min(data_in) # offset\n",
    "]\n",
    "\n",
    "bounds_gaussian = ([-np.inf, -np.inf, -np.inf], [np.inf, np.inf, np.inf])\n",
    "\n",
    "bounds_sigmoid = ([-np.inf, -np.inf, -np.inf, -np.inf], [np.inf, np.inf, np.inf, np.inf])\n",
    "\n",
    "#fit_method = 'trf' # 'lm', 'trf', 'dogbox'\n",
    "params_horizontal_line, params_sigmoid, params_gaussian = fit_hyp(days_in, data_in, guess_gaussian, bounds_gaussian, guess_sigmoid, bounds_sigmoid)\n",
    "\n",
    "#plot\n",
    "plt_hyp(days_in, data_in, params_horizontal_line, params_sigmoid, params_gaussian, ylim=None )\n"
   ]
  },
  {
   "cell_type": "markdown",
   "id": "13d99351",
   "metadata": {},
   "source": [
    "### Compute rsqs for fits - log version"
   ]
  },
  {
   "cell_type": "code",
   "execution_count": 16,
   "id": "908ec90e",
   "metadata": {},
   "outputs": [
    {
     "name": "stdout",
     "output_type": "stream",
     "text": [
      "rsq org h0: 0.0\n",
      "rsq org h1: 0.045134394541365475\n",
      "rsq org h2: 0.0512061495133832\n"
     ]
    }
   ],
   "source": [
    "#get r-squared values\n",
    "\n",
    "rsqs_org_h0 = rsq(days_in,  data_in, params_horizontal_line, horizontal_line) \n",
    "rsqs_org_h1 = rsq(days_in,  data_in, params_sigmoid, sigmoid) \n",
    "rsqs_org_h2 = rsq(days_in,  data_in, params_gaussian, gaussian) \n",
    "\n",
    "print(\"rsq org h0:\", rsqs_org_h0)\n",
    "print(\"rsq org h1:\", rsqs_org_h1)\n",
    "print(\"rsq org h2:\", rsqs_org_h2)"
   ]
  },
  {
   "cell_type": "markdown",
   "id": "55857e75",
   "metadata": {},
   "source": [
    "### f-tests"
   ]
  },
  {
   "cell_type": "code",
   "execution_count": 17,
   "id": "b03c7bdf",
   "metadata": {},
   "outputs": [
    {
     "name": "stdout",
     "output_type": "stream",
     "text": [
      "f_test org h0 vs h1: (37.29429260993528, 1.1102230246251565e-16)\n",
      "f_test org h0 vs h2: (42.582118281371834, 1.1102230246251565e-16)\n",
      "f_test org h1 vs h2: (1.0063994459585754, 0.4383476514623941)\n"
     ]
    }
   ],
   "source": [
    "\n",
    "#f-tests\n",
    "f_test_h0_h1 = f_test(days_in, data_in, horizontal_line, sigmoid,\n",
    "                      params_horizontal_line, params_sigmoid, 1, 4)\n",
    "f_test_h0_h2 = f_test(days_in, data_in, horizontal_line, gaussian, \n",
    "                      params_horizontal_line, params_gaussian,1,4)\n",
    "f_test_h2_h1 = f_test(days_in, data_in, gaussian, sigmoid, \n",
    "                      params_gaussian, params_sigmoid,4,4)\n",
    "\n",
    "print(\"f_test org h0 vs h1:\", f_test_h0_h1)\n",
    "print(\"f_test org h0 vs h2:\", f_test_h0_h2)\n",
    "print(\"f_test org h1 vs h2:\", f_test_h2_h1)"
   ]
  },
  {
   "cell_type": "markdown",
   "id": "d84fb06b-a9bb-4aac-95d3-3ebbe457fd5f",
   "metadata": {},
   "source": [
    "#### Run t test to compare data around gaussian peak and end - compare ALL the datapoints at the timepoint closes to the gaussian peak to all the datapoints for the final timepoint "
   ]
  },
  {
   "cell_type": "code",
   "execution_count": 18,
   "id": "9dd42a7a-e38e-4fef-bf9d-c3ffea59387f",
   "metadata": {},
   "outputs": [],
   "source": [
    "gaussian_peak = params_gaussian[1]"
   ]
  },
  {
   "cell_type": "code",
   "execution_count": 19,
   "id": "1e824bc7-2ee6-40c0-998e-14fd679b63e1",
   "metadata": {},
   "outputs": [
    {
     "data": {
      "text/plain": [
       "0.8990702452660996"
      ]
     },
     "execution_count": 19,
     "metadata": {},
     "output_type": "execute_result"
    }
   ],
   "source": [
    "gaussian_peak"
   ]
  },
  {
   "cell_type": "code",
   "execution_count": 20,
   "id": "0edfba80-6a07-47e3-8e2d-298ef7296ff5",
   "metadata": {},
   "outputs": [
    {
     "name": "stdout",
     "output_type": "stream",
     "text": [
      "Closest Time Point: 0.9122807017543859\n"
     ]
    }
   ],
   "source": [
    "#get timepoint closest to gaussian peak\n",
    "# Calculate absolute differences between each time point and the given time point\n",
    "differences = np.abs(np.array(days_in) - gaussian_peak)\n",
    "\n",
    "# Find the index corresponding to the minimum difference\n",
    "closest_index = np.argmin(differences)\n",
    "\n",
    "# Get the time point closest to the given time point\n",
    "closest_timepoint = days_in[closest_index]\n",
    "\n",
    "print(\"Closest Time Point:\", closest_timepoint)"
   ]
  },
  {
   "cell_type": "code",
   "execution_count": 21,
   "id": "6116b6b8-ef7b-43bb-9a72-0d0620407c93",
   "metadata": {},
   "outputs": [
    {
     "name": "stdout",
     "output_type": "stream",
     "text": [
      "Mean of Data Associated with Closest Time Point  0.8990702452660996 : -1.1409336248327175\n"
     ]
    }
   ],
   "source": [
    "# Calculate the mean of data associated with the closest time point\n",
    "data_at_closest_timepoint = [data_in[i] for i, t in enumerate(days_in) if t == closest_timepoint]\n",
    "mean_data_at_closest_timepoint = np.mean(data_at_closest_timepoint)\n",
    "\n",
    "print(\"Mean of Data Associated with Closest Time Point \", gaussian_peak, \":\", mean_data_at_closest_timepoint)\n"
   ]
  },
  {
   "cell_type": "code",
   "execution_count": 22,
   "id": "0988b24f-030f-4e4a-8af7-afff47602154",
   "metadata": {},
   "outputs": [
    {
     "name": "stdout",
     "output_type": "stream",
     "text": [
      "Closest Time Point before 0.8990702452660996 : 0.881578947368421\n"
     ]
    }
   ],
   "source": [
    "# Filter time points that occur before the given time point\n",
    "filtered_timepoints = [time_point for time_point in days_in  if time_point < gaussian_peak]\n",
    "\n",
    "# If there are filtered time points, find the one closest to the given time point\n",
    "if filtered_timepoints:\n",
    "    closest_timepoint_before = max(filtered_timepoints)\n",
    "else:\n",
    "    closest_timepoint_before = None\n",
    "\n",
    "print(\"Closest Time Point before\", gaussian_peak, \":\", closest_timepoint_before)\n"
   ]
  },
  {
   "cell_type": "code",
   "execution_count": 23,
   "id": "da0bbec0-0a13-47d1-a5ef-72b0ca12109c",
   "metadata": {},
   "outputs": [
    {
     "name": "stdout",
     "output_type": "stream",
     "text": [
      "Mean of Data Associated with Closest Time Point before 0.8990702452660996 : -0.9875796736173439\n"
     ]
    }
   ],
   "source": [
    "# Calculate the mean of data associated with the closest time point\n",
    "data_at_closest_timepoint_before = [data_in[i] for i, t in enumerate(days_in) if t == closest_timepoint_before]\n",
    "\n",
    "mean_data_at_closest_timepoint_before = np.mean(data_at_closest_timepoint_before)\n",
    "\n",
    "\n",
    "print(\"Mean of Data Associated with Closest Time Point before\", gaussian_peak, \":\", mean_data_at_closest_timepoint_before)\n"
   ]
  },
  {
   "cell_type": "code",
   "execution_count": 24,
   "id": "f05021a4-6105-4221-8aeb-b90feb537854",
   "metadata": {},
   "outputs": [
    {
     "name": "stdout",
     "output_type": "stream",
     "text": [
      "Last Time Point: 1.0\n",
      "Mean of Data at Last Time Point: -1.2530159225356254\n"
     ]
    }
   ],
   "source": [
    "# Get the last time point\n",
    "last_timepoint = max(days_in)\n",
    "print(\"Last Time Point:\", last_timepoint)\n",
    "\n",
    "# Find the indices where the time array equals the last time point\n",
    "last_timepoint_indices = np.where(days_in == last_timepoint)[0]\n",
    "\n",
    "# Get the data associated with the last time point\n",
    "data_at_last_timepoint = data_in[last_timepoint_indices]\n",
    "\n",
    "# Calculate the mean of the data associated with the last time point\n",
    "mean_data_at_last_timepoint = np.mean(data_at_last_timepoint)\n",
    "\n",
    "\n",
    "print(\"Mean of Data at Last Time Point:\", mean_data_at_last_timepoint)\n"
   ]
  },
  {
   "cell_type": "markdown",
   "id": "3b6b4d99-76d3-4222-8984-f1fa7f50d050",
   "metadata": {},
   "source": [
    "#### Run t-tests - independent although we have a mix of independent and paired samples and a mixed-effects model or anova might be more appropiate?"
   ]
  },
  {
   "cell_type": "code",
   "execution_count": 46,
   "id": "629fc040-aa06-4ae3-a520-c8404814c99f",
   "metadata": {},
   "outputs": [
    {
     "name": "stdout",
     "output_type": "stream",
     "text": [
      "T-statistic: 2.2891078394996116\n",
      "P-value: 0.022683879609404996\n",
      "Degrees of Freedom after point: 341\n",
      "Reject the null hypothesis: There is a significant difference between the means of the two arrays.\n"
     ]
    },
    {
     "data": {
      "image/png": "[encoded data removed]",
      "text/plain": [
       "<Figure size 1000x600 with 1 Axes>"
      ]
     },
     "metadata": {},
     "output_type": "display_data"
    }
   ],
   "source": [
    "#after gausssian timepoint\n",
    "# Perform t-test\n",
    "t_statistic, p_value = ttest_ind(data_at_closest_timepoint, data_at_last_timepoint)\n",
    "\n",
    "# Print the results\n",
    "print(\"T-statistic:\", t_statistic)\n",
    "print(\"P-value:\", p_value)\n",
    "\n",
    "# Calculate degrees of freedom\n",
    "degrees_of_freedom = len(data_at_closest_timepoint) + len(data_at_last_timepoint) - 2\n",
    "\n",
    "# Print the result\n",
    "print(\"Degrees of Freedom after point:\", degrees_of_freedom)\n",
    "\n",
    "# Interpret the p-value\n",
    "alpha = 0.05  # significance level\n",
    "if p_value < alpha:\n",
    "    print(\"Reject the null hypothesis: There is a significant difference between the means of the two arrays.\")\n",
    "else:\n",
    "    print(\"Fail to reject the null hypothesis: There is no significant difference between the means of the two arrays.\")\n",
    "\n",
    "\n",
    "# Create box plot\n",
    "plt.figure(figsize=(10, 6))\n",
    "\n",
    "plt.boxplot([data_at_closest_timepoint, data_at_last_timepoint], labels=['After gaussian peak', 'End data'])\n",
    "\n",
    "plt.xlabel('Timepoints')\n",
    "plt.ylabel('Timescales')\n",
    "\n",
    "\n",
    "plt.show()"
   ]
  },
  {
   "cell_type": "code",
   "execution_count": 42,
   "id": "adf15bb9-d072-4fda-811e-8bd2a051b32b",
   "metadata": {},
   "outputs": [
    {
     "name": "stdout",
     "output_type": "stream",
     "text": [
      "T-statistic: 5.685644947791122\n",
      "P-value: 2.6056669692540153e-08\n",
      "Reject the null hypothesis: There is a significant difference between the means of the two arrays (before timepoint).\n",
      "Degrees of Freedom before point: 379\n"
     ]
    },
    {
     "data": {
      "image/png": "[encoded data removed]",
      "text/plain": [
       "<Figure size 1000x600 with 1 Axes>"
      ]
     },
     "metadata": {},
     "output_type": "display_data"
    }
   ],
   "source": [
    "#before gausssian timepoint\n",
    "# Perform t-test\n",
    "t_statistic, p_value = ttest_ind(data_at_closest_timepoint_before, data_at_last_timepoint)\n",
    "\n",
    "# Print the results\n",
    "print(\"T-statistic:\", t_statistic)\n",
    "print(\"P-value:\", p_value)\n",
    "\n",
    "# Interpret the p-value\n",
    "alpha = 0.05  # significance level\n",
    "if p_value < alpha:\n",
    "    print(\"Reject the null hypothesis: There is a significant difference between the means of the two arrays (before timepoint).\")\n",
    "else:\n",
    "    print(\"Fail to reject the null hypothesis: There is no significant difference between the means of the two arrays.\")\n",
    "\n",
    "# Calculate degrees of freedom\n",
    "degrees_of_freedom = len(data_at_closest_timepoint_before) + len(data_at_last_timepoint) - 2\n",
    "\n",
    "# Print the result\n",
    "print(\"Degrees of Freedom before point:\", degrees_of_freedom)\n",
    "\n",
    "# Create box plot\n",
    "plt.figure(figsize=(10, 6))\n",
    "\n",
    "plt.boxplot([data_at_closest_timepoint_before, data_at_last_timepoint], labels=['Before gaussian peak', 'End data'])\n",
    "\n",
    "plt.xlabel('Timepoints')\n",
    "plt.ylabel('Timescales')\n",
    "\n",
    "\n",
    "plt.show()"
   ]
  },
  {
   "cell_type": "markdown",
   "id": "236ddf8b",
   "metadata": {},
   "source": [
    "## Mean analysis"
   ]
  },
  {
   "cell_type": "markdown",
   "id": "dc4eea20",
   "metadata": {},
   "source": [
    "### Get mean days and timescales"
   ]
  },
  {
   "cell_type": "code",
   "execution_count": 25,
   "id": "a63dc6e3",
   "metadata": {},
   "outputs": [],
   "source": [
    "def get_mean_std_recday (taus, divs):\n",
    "    days = sorted(set(divs))\n",
    "    all_indices = []\n",
    "    days_taus = []\n",
    "    mean_taus = []\n",
    "    std_taus = []\n",
    "\n",
    "    #get indices for each day\n",
    "\n",
    "    for d in days:\n",
    "   \n",
    "        indices = [i for i, x in enumerate(divs) if x == d]\n",
    "\n",
    "        \n",
    "        all_indices.append(indices)\n",
    "        #get taus for those indices\n",
    "        day_taus = taus[indices]\n",
    "        days_taus.append(day_taus)\n",
    "        #get means and stds\n",
    "        mean_taus.append(np.mean(day_taus))\n",
    "        std_taus.append(np.std(day_taus))\n",
    "        \n",
    "    return [days, all_indices, days_taus, mean_taus, std_taus]"
   ]
  },
  {
   "cell_type": "code",
   "execution_count": 26,
   "id": "2763d78a",
   "metadata": {},
   "outputs": [],
   "source": [
    "days, all_indices,days_taus_filt, mean_taus_filt, std_filt = get_mean_std_recday(data_in, days_in)"
   ]
  },
  {
   "cell_type": "code",
   "execution_count": 27,
   "id": "08014c05",
   "metadata": {},
   "outputs": [
    {
     "data": {
      "text/plain": [
       "Text(0.5, 1.0, 'Mean day taus')"
      ]
     },
     "execution_count": 27,
     "metadata": {},
     "output_type": "execute_result"
    },
    {
     "data": {
      "image/png": "[encoded data removed]",
      "text/plain": [
       "<Figure size 640x480 with 1 Axes>"
      ]
     },
     "metadata": {},
     "output_type": "display_data"
    }
   ],
   "source": [
    "#plot the mean\n",
    "plt.plot(days, mean_taus_filt, '.')\n",
    "plt.title(\"Mean day taus\")"
   ]
  },
  {
   "cell_type": "markdown",
   "id": "86121ace",
   "metadata": {},
   "source": [
    "### Fit the mean "
   ]
  },
  {
   "cell_type": "code",
   "execution_count": 28,
   "id": "ad4a7796",
   "metadata": {},
   "outputs": [
    {
     "name": "stdout",
     "output_type": "stream",
     "text": [
      "Intel MKL WARNING: Support of Intel(R) Streaming SIMD Extensions 4.2 (Intel(R) SSE4.2) enabled only processors has been deprecated. Intel oneAPI Math Kernel Library 2025.0 will require Intel(R) Advanced Vector Extensions (Intel(R) AVX) instructions.\n"
     ]
    },
    {
     "data": {
      "image/png": "[encoded data removed]",
      "text/plain": [
       "<Figure size 600x500 with 1 Axes>"
      ]
     },
     "metadata": {},
     "output_type": "display_data"
    }
   ],
   "source": [
    "#Linear\n",
    "\n",
    "# Guess and bounds for Gaussian fit\n",
    "# guesses\n",
    "guess_sigmoid = [\n",
    "    np.max(data_in), # amplitude\n",
    "    np.min(data_in), # offset\n",
    "    np.max(days_in)/10, # gain\n",
    "    np.max(days_in) # midpoint\n",
    "]\n",
    "guess_gaussian = [\n",
    "    np.max(data_in), # amplitude\n",
    "    np.max(days_in), # mean\n",
    "    np.max(days_in)/10, # standard deviation\n",
    "    np.min(data_in) # offset\n",
    "]\n",
    "\n",
    "bounds_gaussian = ([-np.inf, -np.inf, -np.inf], [np.inf, np.inf, np.inf])\n",
    "\n",
    "bounds_sigmoid = ([-np.inf, -np.inf, -np.inf, -np.inf], [np.inf, np.inf, np.inf, np.inf])\n",
    "\n",
    "params_horizontal_line_mean, params_sigmoid_mean, params_gaussian_mean = fit_hyp(days, mean_taus_filt, guess_gaussian, bounds_gaussian, guess_sigmoid, bounds_sigmoid)\n",
    "\n",
    "#plot\n",
    "plt_hyp(days,  mean_taus_filt, params_horizontal_line_mean, params_sigmoid_mean, params_gaussian_mean, ylim=None )\n"
   ]
  },
  {
   "cell_type": "markdown",
   "id": "3084409c",
   "metadata": {},
   "source": [
    "### Calculate rsq for mean"
   ]
  },
  {
   "cell_type": "code",
   "execution_count": 29,
   "id": "05b8dac8",
   "metadata": {},
   "outputs": [
    {
     "name": "stdout",
     "output_type": "stream",
     "text": [
      "rsq org h0: 0.0\n",
      "rsq org h1: 0.13503763922065937\n",
      "rsq org h2: 0.15022234506734944\n"
     ]
    }
   ],
   "source": [
    "#get r-squared values\n",
    "\n",
    "rsqs_org_h0 = rsq(days,  mean_taus_filt,params_horizontal_line_mean, horizontal_line) \n",
    "rsqs_org_h1 = rsq(days,  mean_taus_filt,  params_sigmoid_mean, sigmoid) \n",
    "rsqs_org_h2 = rsq(days,  mean_taus_filt, params_gaussian_mean, gaussian) \n",
    "\n",
    "print(\"rsq org h0:\", rsqs_org_h0)\n",
    "print(\"rsq org h1:\", rsqs_org_h1)\n",
    "print(\"rsq org h2:\", rsqs_org_h2)"
   ]
  },
  {
   "cell_type": "markdown",
   "id": "19e55496",
   "metadata": {},
   "source": [
    "### f-tests for mean"
   ]
  },
  {
   "cell_type": "code",
   "execution_count": 30,
   "id": "2847206a",
   "metadata": {},
   "outputs": [
    {
     "name": "stdout",
     "output_type": "stream",
     "text": [
      "f_test org h0 vs h1: (1.4571169296398405, 0.2475034633207953)\n",
      "f_test org h0 vs h2: (1.6499318527500189, 0.20039489634531682)\n",
      "f_test org h1 vs h2: (1.0178690340450214, 0.4814786425240152)\n"
     ]
    }
   ],
   "source": [
    "\n",
    "#f-tests\n",
    "f_test_h0_h1 = f_test(days, mean_taus_filt, horizontal_line, sigmoid,\n",
    "                      params_horizontal_line_mean, params_sigmoid_mean, 1, 4)\n",
    "f_test_h0_h2 = f_test(days, mean_taus_filt, horizontal_line, gaussian, \n",
    "                      params_horizontal_line_mean, params_gaussian_mean,1,4)\n",
    "f_test_h2_h1 = f_test(days, mean_taus_filt, gaussian, sigmoid, \n",
    "                      params_gaussian_mean, params_sigmoid_mean,4,4)\n",
    "\n",
    "print(\"f_test org h0 vs h1:\", f_test_h0_h1)\n",
    "print(\"f_test org h0 vs h2:\", f_test_h0_h2)\n",
    "print(\"f_test org h1 vs h2:\", f_test_h2_h1)"
   ]
  },
  {
   "cell_type": "code",
   "execution_count": null,
   "id": "12aaaec7",
   "metadata": {},
   "outputs": [],
   "source": []
  },
  {
   "cell_type": "code",
   "execution_count": null,
   "id": "214797fa",
   "metadata": {},
   "outputs": [],
   "source": []
  },
  {
   "cell_type": "code",
   "execution_count": null,
   "id": "49941ef6",
   "metadata": {},
   "outputs": [],
   "source": []
  },
  {
   "cell_type": "code",
   "execution_count": null,
   "id": "6582ab07",
   "metadata": {},
   "outputs": [],
   "source": []
  },
  {
   "cell_type": "code",
   "execution_count": null,
   "id": "2b351775",
   "metadata": {},
   "outputs": [],
   "source": []
  },
  {
   "cell_type": "code",
   "execution_count": null,
   "id": "dac4236b",
   "metadata": {},
   "outputs": [],
   "source": []
  },
  {
   "cell_type": "code",
   "execution_count": null,
   "id": "1f017123",
   "metadata": {},
   "outputs": [],
   "source": []
  }
 ],
 "metadata": {
  "kernelspec": {
   "display_name": "Python 3 (ipykernel)",
   "language": "python",
   "name": "python3"
  },
  "language_info": {
   "codemirror_mode": {
    "name": "ipython",
    "version": 3
   },
   "file_extension": ".py",
   "mimetype": "text/x-python",
   "name": "python",
   "nbconvert_exporter": "python",
   "pygments_lexer": "ipython3",
   "version": "3.9.7"
  }
 },
 "nbformat": 4,
 "nbformat_minor": 5
}
